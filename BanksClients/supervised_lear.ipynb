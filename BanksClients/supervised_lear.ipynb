{
 "cells": [
  {
   "cell_type": "markdown",
   "id": "23a6de9c",
   "metadata": {},
   "source": [
    "#  Проект: Прогнозирование оттока клиентов Банка"
   ]
  },
  {
   "cell_type": "markdown",
   "id": "d0a42b14",
   "metadata": {},
   "source": [
    "## Задача\n",
    "\n",
    "Из «Бета-Банка» стали уходить клиенты.\n",
    "Моя задача - сохранить текущих клиентов, потому что это дешевле, чем привлекать новых. Я должен спрогнозировать, уйдёт клиент из банка в ближайшее время или нет. Мне предоставлены исторические данные о поведении клиентов и расторжении договоров с банком. "
   ]
  },
  {
   "cell_type": "markdown",
   "id": "4882f245",
   "metadata": {},
   "source": [
    "## План\n",
    "1. Загрузим и подготовим данные.\n",
    "2. Исследуем баланс классов, обучим модель без учёта дисбаланса.\n",
    "3. Улучшим качество модели, учитывая дисбаланс классов. Обучим разные модели и найдём лучшую.\n",
    "4. Проведем финальное тестирование.\n",
    "\n"
   ]
  },
  {
   "cell_type": "markdown",
   "id": "0801553b",
   "metadata": {},
   "source": [
    "## Описание данных\n",
    "\n",
    "Признаки\n",
    "\n",
    "* RowNumber — индекс строки в данных\n",
    "\n",
    "* CustomerId — уникальный идентификатор клиента\n",
    "\n",
    "* Surname — фамилия\n",
    "\n",
    "* CreditScore — кредитный рейтинг\n",
    "\n",
    "* Geography — страна проживания\n",
    "\n",
    "* Gender — пол\n",
    "\n",
    "* Age — возраст\n",
    "\n",
    "* Tenure — сколько лет человек является клиентом банка\n",
    "\n",
    "* Balance — баланс на счёте\n",
    "\n",
    "* NumOfProducts — количество продуктов банка, используемых клиентом\n",
    "\n",
    "* HasCrCard — наличие кредитной карты\n",
    "\n",
    "* IsActiveMember — активность клиента\n",
    "\n",
    "* EstimatedSalary — предполагаемая зарплата\n",
    "\n",
    "Целевой признак\n",
    "\n",
    "* Exited — факт ухода клиента"
   ]
  },
  {
   "cell_type": "markdown",
   "id": "341deb0a",
   "metadata": {},
   "source": [
    "# 1. Подготовка данных"
   ]
  },
  {
   "cell_type": "markdown",
   "id": "8c074bcf",
   "metadata": {},
   "source": [
    "### 1.1 Смотрим данные"
   ]
  },
  {
   "cell_type": "code",
   "execution_count": 1,
   "id": "b23ededf",
   "metadata": {},
   "outputs": [],
   "source": [
    "import pandas as pd\n",
    "import numpy as np\n",
    "import matplotlib.pyplot as plt\n",
    "\n",
    "from sklearn.model_selection import train_test_split\n",
    "from sklearn.preprocessing import StandardScaler\n",
    "from sklearn.preprocessing import OneHotEncoder\n",
    "from sklearn.tree import DecisionTreeClassifier\n",
    "from sklearn.ensemble import RandomForestClassifier\n",
    "from sklearn.linear_model import LinearRegression, LogisticRegression\n",
    "from sklearn.metrics import f1_score, accuracy_score, roc_auc_score\n",
    "from sklearn.utils import shuffle\n",
    "from sklearn.metrics import roc_curve"
   ]
  },
  {
   "cell_type": "code",
   "execution_count": 2,
   "id": "49c8d99a",
   "metadata": {},
   "outputs": [],
   "source": [
    "pd.set_option('display.max_columns', None)"
   ]
  },
  {
   "cell_type": "code",
   "execution_count": 3,
   "id": "f1cec373",
   "metadata": {},
   "outputs": [],
   "source": [
    "rnd_state = 12345 #Значение Random_state, которое мы будет использваоть "
   ]
  },
  {
   "cell_type": "code",
   "execution_count": 4,
   "id": "4d304476",
   "metadata": {},
   "outputs": [],
   "source": [
    "try:\n",
    "    data = pd.read_csv('/datasets/Churn.csv')\n",
    "except:\n",
    "    data = pd.read_csv(\"C:/Users/gorok/Desktop/Churn.csv\")"
   ]
  },
  {
   "cell_type": "code",
   "execution_count": 5,
   "id": "7b669880",
   "metadata": {},
   "outputs": [
    {
     "name": "stdout",
     "output_type": "stream",
     "text": [
      "(10000, 14)\n"
     ]
    },
    {
     "data": {
      "text/html": [
       "<div>\n",
       "<style scoped>\n",
       "    .dataframe tbody tr th:only-of-type {\n",
       "        vertical-align: middle;\n",
       "    }\n",
       "\n",
       "    .dataframe tbody tr th {\n",
       "        vertical-align: top;\n",
       "    }\n",
       "\n",
       "    .dataframe thead th {\n",
       "        text-align: right;\n",
       "    }\n",
       "</style>\n",
       "<table border=\"1\" class=\"dataframe\">\n",
       "  <thead>\n",
       "    <tr style=\"text-align: right;\">\n",
       "      <th></th>\n",
       "      <th>RowNumber</th>\n",
       "      <th>CustomerId</th>\n",
       "      <th>Surname</th>\n",
       "      <th>CreditScore</th>\n",
       "      <th>Geography</th>\n",
       "      <th>Gender</th>\n",
       "      <th>Age</th>\n",
       "      <th>Tenure</th>\n",
       "      <th>Balance</th>\n",
       "      <th>NumOfProducts</th>\n",
       "      <th>HasCrCard</th>\n",
       "      <th>IsActiveMember</th>\n",
       "      <th>EstimatedSalary</th>\n",
       "      <th>Exited</th>\n",
       "    </tr>\n",
       "  </thead>\n",
       "  <tbody>\n",
       "    <tr>\n",
       "      <th>0</th>\n",
       "      <td>1</td>\n",
       "      <td>15634602</td>\n",
       "      <td>Hargrave</td>\n",
       "      <td>619</td>\n",
       "      <td>France</td>\n",
       "      <td>Female</td>\n",
       "      <td>42</td>\n",
       "      <td>2.0</td>\n",
       "      <td>0.00</td>\n",
       "      <td>1</td>\n",
       "      <td>1</td>\n",
       "      <td>1</td>\n",
       "      <td>101348.88</td>\n",
       "      <td>1</td>\n",
       "    </tr>\n",
       "    <tr>\n",
       "      <th>1</th>\n",
       "      <td>2</td>\n",
       "      <td>15647311</td>\n",
       "      <td>Hill</td>\n",
       "      <td>608</td>\n",
       "      <td>Spain</td>\n",
       "      <td>Female</td>\n",
       "      <td>41</td>\n",
       "      <td>1.0</td>\n",
       "      <td>83807.86</td>\n",
       "      <td>1</td>\n",
       "      <td>0</td>\n",
       "      <td>1</td>\n",
       "      <td>112542.58</td>\n",
       "      <td>0</td>\n",
       "    </tr>\n",
       "    <tr>\n",
       "      <th>2</th>\n",
       "      <td>3</td>\n",
       "      <td>15619304</td>\n",
       "      <td>Onio</td>\n",
       "      <td>502</td>\n",
       "      <td>France</td>\n",
       "      <td>Female</td>\n",
       "      <td>42</td>\n",
       "      <td>8.0</td>\n",
       "      <td>159660.80</td>\n",
       "      <td>3</td>\n",
       "      <td>1</td>\n",
       "      <td>0</td>\n",
       "      <td>113931.57</td>\n",
       "      <td>1</td>\n",
       "    </tr>\n",
       "    <tr>\n",
       "      <th>3</th>\n",
       "      <td>4</td>\n",
       "      <td>15701354</td>\n",
       "      <td>Boni</td>\n",
       "      <td>699</td>\n",
       "      <td>France</td>\n",
       "      <td>Female</td>\n",
       "      <td>39</td>\n",
       "      <td>1.0</td>\n",
       "      <td>0.00</td>\n",
       "      <td>2</td>\n",
       "      <td>0</td>\n",
       "      <td>0</td>\n",
       "      <td>93826.63</td>\n",
       "      <td>0</td>\n",
       "    </tr>\n",
       "    <tr>\n",
       "      <th>4</th>\n",
       "      <td>5</td>\n",
       "      <td>15737888</td>\n",
       "      <td>Mitchell</td>\n",
       "      <td>850</td>\n",
       "      <td>Spain</td>\n",
       "      <td>Female</td>\n",
       "      <td>43</td>\n",
       "      <td>2.0</td>\n",
       "      <td>125510.82</td>\n",
       "      <td>1</td>\n",
       "      <td>1</td>\n",
       "      <td>1</td>\n",
       "      <td>79084.10</td>\n",
       "      <td>0</td>\n",
       "    </tr>\n",
       "    <tr>\n",
       "      <th>5</th>\n",
       "      <td>6</td>\n",
       "      <td>15574012</td>\n",
       "      <td>Chu</td>\n",
       "      <td>645</td>\n",
       "      <td>Spain</td>\n",
       "      <td>Male</td>\n",
       "      <td>44</td>\n",
       "      <td>8.0</td>\n",
       "      <td>113755.78</td>\n",
       "      <td>2</td>\n",
       "      <td>1</td>\n",
       "      <td>0</td>\n",
       "      <td>149756.71</td>\n",
       "      <td>1</td>\n",
       "    </tr>\n",
       "    <tr>\n",
       "      <th>6</th>\n",
       "      <td>7</td>\n",
       "      <td>15592531</td>\n",
       "      <td>Bartlett</td>\n",
       "      <td>822</td>\n",
       "      <td>France</td>\n",
       "      <td>Male</td>\n",
       "      <td>50</td>\n",
       "      <td>7.0</td>\n",
       "      <td>0.00</td>\n",
       "      <td>2</td>\n",
       "      <td>1</td>\n",
       "      <td>1</td>\n",
       "      <td>10062.80</td>\n",
       "      <td>0</td>\n",
       "    </tr>\n",
       "    <tr>\n",
       "      <th>7</th>\n",
       "      <td>8</td>\n",
       "      <td>15656148</td>\n",
       "      <td>Obinna</td>\n",
       "      <td>376</td>\n",
       "      <td>Germany</td>\n",
       "      <td>Female</td>\n",
       "      <td>29</td>\n",
       "      <td>4.0</td>\n",
       "      <td>115046.74</td>\n",
       "      <td>4</td>\n",
       "      <td>1</td>\n",
       "      <td>0</td>\n",
       "      <td>119346.88</td>\n",
       "      <td>1</td>\n",
       "    </tr>\n",
       "    <tr>\n",
       "      <th>8</th>\n",
       "      <td>9</td>\n",
       "      <td>15792365</td>\n",
       "      <td>He</td>\n",
       "      <td>501</td>\n",
       "      <td>France</td>\n",
       "      <td>Male</td>\n",
       "      <td>44</td>\n",
       "      <td>4.0</td>\n",
       "      <td>142051.07</td>\n",
       "      <td>2</td>\n",
       "      <td>0</td>\n",
       "      <td>1</td>\n",
       "      <td>74940.50</td>\n",
       "      <td>0</td>\n",
       "    </tr>\n",
       "    <tr>\n",
       "      <th>9</th>\n",
       "      <td>10</td>\n",
       "      <td>15592389</td>\n",
       "      <td>H?</td>\n",
       "      <td>684</td>\n",
       "      <td>France</td>\n",
       "      <td>Male</td>\n",
       "      <td>27</td>\n",
       "      <td>2.0</td>\n",
       "      <td>134603.88</td>\n",
       "      <td>1</td>\n",
       "      <td>1</td>\n",
       "      <td>1</td>\n",
       "      <td>71725.73</td>\n",
       "      <td>0</td>\n",
       "    </tr>\n",
       "    <tr>\n",
       "      <th>10</th>\n",
       "      <td>11</td>\n",
       "      <td>15767821</td>\n",
       "      <td>Bearce</td>\n",
       "      <td>528</td>\n",
       "      <td>France</td>\n",
       "      <td>Male</td>\n",
       "      <td>31</td>\n",
       "      <td>6.0</td>\n",
       "      <td>102016.72</td>\n",
       "      <td>2</td>\n",
       "      <td>0</td>\n",
       "      <td>0</td>\n",
       "      <td>80181.12</td>\n",
       "      <td>0</td>\n",
       "    </tr>\n",
       "    <tr>\n",
       "      <th>11</th>\n",
       "      <td>12</td>\n",
       "      <td>15737173</td>\n",
       "      <td>Andrews</td>\n",
       "      <td>497</td>\n",
       "      <td>Spain</td>\n",
       "      <td>Male</td>\n",
       "      <td>24</td>\n",
       "      <td>3.0</td>\n",
       "      <td>0.00</td>\n",
       "      <td>2</td>\n",
       "      <td>1</td>\n",
       "      <td>0</td>\n",
       "      <td>76390.01</td>\n",
       "      <td>0</td>\n",
       "    </tr>\n",
       "    <tr>\n",
       "      <th>12</th>\n",
       "      <td>13</td>\n",
       "      <td>15632264</td>\n",
       "      <td>Kay</td>\n",
       "      <td>476</td>\n",
       "      <td>France</td>\n",
       "      <td>Female</td>\n",
       "      <td>34</td>\n",
       "      <td>10.0</td>\n",
       "      <td>0.00</td>\n",
       "      <td>2</td>\n",
       "      <td>1</td>\n",
       "      <td>0</td>\n",
       "      <td>26260.98</td>\n",
       "      <td>0</td>\n",
       "    </tr>\n",
       "    <tr>\n",
       "      <th>13</th>\n",
       "      <td>14</td>\n",
       "      <td>15691483</td>\n",
       "      <td>Chin</td>\n",
       "      <td>549</td>\n",
       "      <td>France</td>\n",
       "      <td>Female</td>\n",
       "      <td>25</td>\n",
       "      <td>5.0</td>\n",
       "      <td>0.00</td>\n",
       "      <td>2</td>\n",
       "      <td>0</td>\n",
       "      <td>0</td>\n",
       "      <td>190857.79</td>\n",
       "      <td>0</td>\n",
       "    </tr>\n",
       "    <tr>\n",
       "      <th>14</th>\n",
       "      <td>15</td>\n",
       "      <td>15600882</td>\n",
       "      <td>Scott</td>\n",
       "      <td>635</td>\n",
       "      <td>Spain</td>\n",
       "      <td>Female</td>\n",
       "      <td>35</td>\n",
       "      <td>7.0</td>\n",
       "      <td>0.00</td>\n",
       "      <td>2</td>\n",
       "      <td>1</td>\n",
       "      <td>1</td>\n",
       "      <td>65951.65</td>\n",
       "      <td>0</td>\n",
       "    </tr>\n",
       "    <tr>\n",
       "      <th>15</th>\n",
       "      <td>16</td>\n",
       "      <td>15643966</td>\n",
       "      <td>Goforth</td>\n",
       "      <td>616</td>\n",
       "      <td>Germany</td>\n",
       "      <td>Male</td>\n",
       "      <td>45</td>\n",
       "      <td>3.0</td>\n",
       "      <td>143129.41</td>\n",
       "      <td>2</td>\n",
       "      <td>0</td>\n",
       "      <td>1</td>\n",
       "      <td>64327.26</td>\n",
       "      <td>0</td>\n",
       "    </tr>\n",
       "    <tr>\n",
       "      <th>16</th>\n",
       "      <td>17</td>\n",
       "      <td>15737452</td>\n",
       "      <td>Romeo</td>\n",
       "      <td>653</td>\n",
       "      <td>Germany</td>\n",
       "      <td>Male</td>\n",
       "      <td>58</td>\n",
       "      <td>1.0</td>\n",
       "      <td>132602.88</td>\n",
       "      <td>1</td>\n",
       "      <td>1</td>\n",
       "      <td>0</td>\n",
       "      <td>5097.67</td>\n",
       "      <td>1</td>\n",
       "    </tr>\n",
       "    <tr>\n",
       "      <th>17</th>\n",
       "      <td>18</td>\n",
       "      <td>15788218</td>\n",
       "      <td>Henderson</td>\n",
       "      <td>549</td>\n",
       "      <td>Spain</td>\n",
       "      <td>Female</td>\n",
       "      <td>24</td>\n",
       "      <td>9.0</td>\n",
       "      <td>0.00</td>\n",
       "      <td>2</td>\n",
       "      <td>1</td>\n",
       "      <td>1</td>\n",
       "      <td>14406.41</td>\n",
       "      <td>0</td>\n",
       "    </tr>\n",
       "    <tr>\n",
       "      <th>18</th>\n",
       "      <td>19</td>\n",
       "      <td>15661507</td>\n",
       "      <td>Muldrow</td>\n",
       "      <td>587</td>\n",
       "      <td>Spain</td>\n",
       "      <td>Male</td>\n",
       "      <td>45</td>\n",
       "      <td>6.0</td>\n",
       "      <td>0.00</td>\n",
       "      <td>1</td>\n",
       "      <td>0</td>\n",
       "      <td>0</td>\n",
       "      <td>158684.81</td>\n",
       "      <td>0</td>\n",
       "    </tr>\n",
       "    <tr>\n",
       "      <th>19</th>\n",
       "      <td>20</td>\n",
       "      <td>15568982</td>\n",
       "      <td>Hao</td>\n",
       "      <td>726</td>\n",
       "      <td>France</td>\n",
       "      <td>Female</td>\n",
       "      <td>24</td>\n",
       "      <td>6.0</td>\n",
       "      <td>0.00</td>\n",
       "      <td>2</td>\n",
       "      <td>1</td>\n",
       "      <td>1</td>\n",
       "      <td>54724.03</td>\n",
       "      <td>0</td>\n",
       "    </tr>\n",
       "    <tr>\n",
       "      <th>20</th>\n",
       "      <td>21</td>\n",
       "      <td>15577657</td>\n",
       "      <td>McDonald</td>\n",
       "      <td>732</td>\n",
       "      <td>France</td>\n",
       "      <td>Male</td>\n",
       "      <td>41</td>\n",
       "      <td>8.0</td>\n",
       "      <td>0.00</td>\n",
       "      <td>2</td>\n",
       "      <td>1</td>\n",
       "      <td>1</td>\n",
       "      <td>170886.17</td>\n",
       "      <td>0</td>\n",
       "    </tr>\n",
       "    <tr>\n",
       "      <th>21</th>\n",
       "      <td>22</td>\n",
       "      <td>15597945</td>\n",
       "      <td>Dellucci</td>\n",
       "      <td>636</td>\n",
       "      <td>Spain</td>\n",
       "      <td>Female</td>\n",
       "      <td>32</td>\n",
       "      <td>8.0</td>\n",
       "      <td>0.00</td>\n",
       "      <td>2</td>\n",
       "      <td>1</td>\n",
       "      <td>0</td>\n",
       "      <td>138555.46</td>\n",
       "      <td>0</td>\n",
       "    </tr>\n",
       "    <tr>\n",
       "      <th>22</th>\n",
       "      <td>23</td>\n",
       "      <td>15699309</td>\n",
       "      <td>Gerasimov</td>\n",
       "      <td>510</td>\n",
       "      <td>Spain</td>\n",
       "      <td>Female</td>\n",
       "      <td>38</td>\n",
       "      <td>4.0</td>\n",
       "      <td>0.00</td>\n",
       "      <td>1</td>\n",
       "      <td>1</td>\n",
       "      <td>0</td>\n",
       "      <td>118913.53</td>\n",
       "      <td>1</td>\n",
       "    </tr>\n",
       "    <tr>\n",
       "      <th>23</th>\n",
       "      <td>24</td>\n",
       "      <td>15725737</td>\n",
       "      <td>Mosman</td>\n",
       "      <td>669</td>\n",
       "      <td>France</td>\n",
       "      <td>Male</td>\n",
       "      <td>46</td>\n",
       "      <td>3.0</td>\n",
       "      <td>0.00</td>\n",
       "      <td>2</td>\n",
       "      <td>0</td>\n",
       "      <td>1</td>\n",
       "      <td>8487.75</td>\n",
       "      <td>0</td>\n",
       "    </tr>\n",
       "    <tr>\n",
       "      <th>24</th>\n",
       "      <td>25</td>\n",
       "      <td>15625047</td>\n",
       "      <td>Yen</td>\n",
       "      <td>846</td>\n",
       "      <td>France</td>\n",
       "      <td>Female</td>\n",
       "      <td>38</td>\n",
       "      <td>5.0</td>\n",
       "      <td>0.00</td>\n",
       "      <td>1</td>\n",
       "      <td>1</td>\n",
       "      <td>1</td>\n",
       "      <td>187616.16</td>\n",
       "      <td>0</td>\n",
       "    </tr>\n",
       "  </tbody>\n",
       "</table>\n",
       "</div>"
      ],
      "text/plain": [
       "    RowNumber  CustomerId    Surname  CreditScore Geography  Gender  Age  \\\n",
       "0           1    15634602   Hargrave          619    France  Female   42   \n",
       "1           2    15647311       Hill          608     Spain  Female   41   \n",
       "2           3    15619304       Onio          502    France  Female   42   \n",
       "3           4    15701354       Boni          699    France  Female   39   \n",
       "4           5    15737888   Mitchell          850     Spain  Female   43   \n",
       "5           6    15574012        Chu          645     Spain    Male   44   \n",
       "6           7    15592531   Bartlett          822    France    Male   50   \n",
       "7           8    15656148     Obinna          376   Germany  Female   29   \n",
       "8           9    15792365         He          501    France    Male   44   \n",
       "9          10    15592389         H?          684    France    Male   27   \n",
       "10         11    15767821     Bearce          528    France    Male   31   \n",
       "11         12    15737173    Andrews          497     Spain    Male   24   \n",
       "12         13    15632264        Kay          476    France  Female   34   \n",
       "13         14    15691483       Chin          549    France  Female   25   \n",
       "14         15    15600882      Scott          635     Spain  Female   35   \n",
       "15         16    15643966    Goforth          616   Germany    Male   45   \n",
       "16         17    15737452      Romeo          653   Germany    Male   58   \n",
       "17         18    15788218  Henderson          549     Spain  Female   24   \n",
       "18         19    15661507    Muldrow          587     Spain    Male   45   \n",
       "19         20    15568982        Hao          726    France  Female   24   \n",
       "20         21    15577657   McDonald          732    France    Male   41   \n",
       "21         22    15597945   Dellucci          636     Spain  Female   32   \n",
       "22         23    15699309  Gerasimov          510     Spain  Female   38   \n",
       "23         24    15725737     Mosman          669    France    Male   46   \n",
       "24         25    15625047        Yen          846    France  Female   38   \n",
       "\n",
       "    Tenure    Balance  NumOfProducts  HasCrCard  IsActiveMember  \\\n",
       "0      2.0       0.00              1          1               1   \n",
       "1      1.0   83807.86              1          0               1   \n",
       "2      8.0  159660.80              3          1               0   \n",
       "3      1.0       0.00              2          0               0   \n",
       "4      2.0  125510.82              1          1               1   \n",
       "5      8.0  113755.78              2          1               0   \n",
       "6      7.0       0.00              2          1               1   \n",
       "7      4.0  115046.74              4          1               0   \n",
       "8      4.0  142051.07              2          0               1   \n",
       "9      2.0  134603.88              1          1               1   \n",
       "10     6.0  102016.72              2          0               0   \n",
       "11     3.0       0.00              2          1               0   \n",
       "12    10.0       0.00              2          1               0   \n",
       "13     5.0       0.00              2          0               0   \n",
       "14     7.0       0.00              2          1               1   \n",
       "15     3.0  143129.41              2          0               1   \n",
       "16     1.0  132602.88              1          1               0   \n",
       "17     9.0       0.00              2          1               1   \n",
       "18     6.0       0.00              1          0               0   \n",
       "19     6.0       0.00              2          1               1   \n",
       "20     8.0       0.00              2          1               1   \n",
       "21     8.0       0.00              2          1               0   \n",
       "22     4.0       0.00              1          1               0   \n",
       "23     3.0       0.00              2          0               1   \n",
       "24     5.0       0.00              1          1               1   \n",
       "\n",
       "    EstimatedSalary  Exited  \n",
       "0         101348.88       1  \n",
       "1         112542.58       0  \n",
       "2         113931.57       1  \n",
       "3          93826.63       0  \n",
       "4          79084.10       0  \n",
       "5         149756.71       1  \n",
       "6          10062.80       0  \n",
       "7         119346.88       1  \n",
       "8          74940.50       0  \n",
       "9          71725.73       0  \n",
       "10         80181.12       0  \n",
       "11         76390.01       0  \n",
       "12         26260.98       0  \n",
       "13        190857.79       0  \n",
       "14         65951.65       0  \n",
       "15         64327.26       0  \n",
       "16          5097.67       1  \n",
       "17         14406.41       0  \n",
       "18        158684.81       0  \n",
       "19         54724.03       0  \n",
       "20        170886.17       0  \n",
       "21        138555.46       0  \n",
       "22        118913.53       1  \n",
       "23          8487.75       0  \n",
       "24        187616.16       0  "
      ]
     },
     "execution_count": 5,
     "metadata": {},
     "output_type": "execute_result"
    }
   ],
   "source": [
    "print(data.shape)\n",
    "data.head(25)"
   ]
  },
  {
   "cell_type": "code",
   "execution_count": 6,
   "id": "b50b58c1",
   "metadata": {},
   "outputs": [
    {
     "name": "stdout",
     "output_type": "stream",
     "text": [
      "<class 'pandas.core.frame.DataFrame'>\n",
      "RangeIndex: 10000 entries, 0 to 9999\n",
      "Data columns (total 14 columns):\n",
      " #   Column           Non-Null Count  Dtype  \n",
      "---  ------           --------------  -----  \n",
      " 0   RowNumber        10000 non-null  int64  \n",
      " 1   CustomerId       10000 non-null  int64  \n",
      " 2   Surname          10000 non-null  object \n",
      " 3   CreditScore      10000 non-null  int64  \n",
      " 4   Geography        10000 non-null  object \n",
      " 5   Gender           10000 non-null  object \n",
      " 6   Age              10000 non-null  int64  \n",
      " 7   Tenure           9091 non-null   float64\n",
      " 8   Balance          10000 non-null  float64\n",
      " 9   NumOfProducts    10000 non-null  int64  \n",
      " 10  HasCrCard        10000 non-null  int64  \n",
      " 11  IsActiveMember   10000 non-null  int64  \n",
      " 12  EstimatedSalary  10000 non-null  float64\n",
      " 13  Exited           10000 non-null  int64  \n",
      "dtypes: float64(3), int64(8), object(3)\n",
      "memory usage: 1.1+ MB\n"
     ]
    }
   ],
   "source": [
    "data.info()"
   ]
  },
  {
   "cell_type": "markdown",
   "id": "c02d49d2",
   "metadata": {},
   "source": [
    "В нашем датасете 10.000 строк и 14 столбцов, в столбце Tenure есть пропуски, далее выясним, что они могут означать\n",
    "\n",
    "В следующем шаге изменим названия, поменяем типы данных, попробуем заполнить пропуски"
   ]
  },
  {
   "cell_type": "markdown",
   "id": "ec31d9a8",
   "metadata": {},
   "source": [
    "### 1.2 Предобработка"
   ]
  },
  {
   "cell_type": "markdown",
   "id": "2e1859cb",
   "metadata": {},
   "source": [
    "Изменим названия стобцов"
   ]
  },
  {
   "cell_type": "code",
   "execution_count": 7,
   "id": "9192d542",
   "metadata": {},
   "outputs": [
    {
     "data": {
      "text/html": [
       "<div>\n",
       "<style scoped>\n",
       "    .dataframe tbody tr th:only-of-type {\n",
       "        vertical-align: middle;\n",
       "    }\n",
       "\n",
       "    .dataframe tbody tr th {\n",
       "        vertical-align: top;\n",
       "    }\n",
       "\n",
       "    .dataframe thead th {\n",
       "        text-align: right;\n",
       "    }\n",
       "</style>\n",
       "<table border=\"1\" class=\"dataframe\">\n",
       "  <thead>\n",
       "    <tr style=\"text-align: right;\">\n",
       "      <th></th>\n",
       "      <th>row_number</th>\n",
       "      <th>customer_id</th>\n",
       "      <th>surname</th>\n",
       "      <th>credit_score</th>\n",
       "      <th>geography</th>\n",
       "      <th>gender</th>\n",
       "      <th>age</th>\n",
       "      <th>tenure</th>\n",
       "      <th>balance</th>\n",
       "      <th>num_of_products</th>\n",
       "      <th>has_cr_card</th>\n",
       "      <th>is_active_member</th>\n",
       "      <th>estimated_salary</th>\n",
       "      <th>exited</th>\n",
       "    </tr>\n",
       "  </thead>\n",
       "  <tbody>\n",
       "    <tr>\n",
       "      <th>0</th>\n",
       "      <td>1</td>\n",
       "      <td>15634602</td>\n",
       "      <td>Hargrave</td>\n",
       "      <td>619</td>\n",
       "      <td>France</td>\n",
       "      <td>Female</td>\n",
       "      <td>42</td>\n",
       "      <td>2.0</td>\n",
       "      <td>0.00</td>\n",
       "      <td>1</td>\n",
       "      <td>1</td>\n",
       "      <td>1</td>\n",
       "      <td>101348.88</td>\n",
       "      <td>1</td>\n",
       "    </tr>\n",
       "    <tr>\n",
       "      <th>1</th>\n",
       "      <td>2</td>\n",
       "      <td>15647311</td>\n",
       "      <td>Hill</td>\n",
       "      <td>608</td>\n",
       "      <td>Spain</td>\n",
       "      <td>Female</td>\n",
       "      <td>41</td>\n",
       "      <td>1.0</td>\n",
       "      <td>83807.86</td>\n",
       "      <td>1</td>\n",
       "      <td>0</td>\n",
       "      <td>1</td>\n",
       "      <td>112542.58</td>\n",
       "      <td>0</td>\n",
       "    </tr>\n",
       "    <tr>\n",
       "      <th>2</th>\n",
       "      <td>3</td>\n",
       "      <td>15619304</td>\n",
       "      <td>Onio</td>\n",
       "      <td>502</td>\n",
       "      <td>France</td>\n",
       "      <td>Female</td>\n",
       "      <td>42</td>\n",
       "      <td>8.0</td>\n",
       "      <td>159660.80</td>\n",
       "      <td>3</td>\n",
       "      <td>1</td>\n",
       "      <td>0</td>\n",
       "      <td>113931.57</td>\n",
       "      <td>1</td>\n",
       "    </tr>\n",
       "    <tr>\n",
       "      <th>3</th>\n",
       "      <td>4</td>\n",
       "      <td>15701354</td>\n",
       "      <td>Boni</td>\n",
       "      <td>699</td>\n",
       "      <td>France</td>\n",
       "      <td>Female</td>\n",
       "      <td>39</td>\n",
       "      <td>1.0</td>\n",
       "      <td>0.00</td>\n",
       "      <td>2</td>\n",
       "      <td>0</td>\n",
       "      <td>0</td>\n",
       "      <td>93826.63</td>\n",
       "      <td>0</td>\n",
       "    </tr>\n",
       "    <tr>\n",
       "      <th>4</th>\n",
       "      <td>5</td>\n",
       "      <td>15737888</td>\n",
       "      <td>Mitchell</td>\n",
       "      <td>850</td>\n",
       "      <td>Spain</td>\n",
       "      <td>Female</td>\n",
       "      <td>43</td>\n",
       "      <td>2.0</td>\n",
       "      <td>125510.82</td>\n",
       "      <td>1</td>\n",
       "      <td>1</td>\n",
       "      <td>1</td>\n",
       "      <td>79084.10</td>\n",
       "      <td>0</td>\n",
       "    </tr>\n",
       "  </tbody>\n",
       "</table>\n",
       "</div>"
      ],
      "text/plain": [
       "   row_number  customer_id   surname  credit_score geography  gender  age  \\\n",
       "0           1     15634602  Hargrave           619    France  Female   42   \n",
       "1           2     15647311      Hill           608     Spain  Female   41   \n",
       "2           3     15619304      Onio           502    France  Female   42   \n",
       "3           4     15701354      Boni           699    France  Female   39   \n",
       "4           5     15737888  Mitchell           850     Spain  Female   43   \n",
       "\n",
       "   tenure    balance  num_of_products  has_cr_card  is_active_member  \\\n",
       "0     2.0       0.00                1            1                 1   \n",
       "1     1.0   83807.86                1            0                 1   \n",
       "2     8.0  159660.80                3            1                 0   \n",
       "3     1.0       0.00                2            0                 0   \n",
       "4     2.0  125510.82                1            1                 1   \n",
       "\n",
       "   estimated_salary  exited  \n",
       "0         101348.88       1  \n",
       "1         112542.58       0  \n",
       "2         113931.57       1  \n",
       "3          93826.63       0  \n",
       "4          79084.10       0  "
      ]
     },
     "execution_count": 7,
     "metadata": {},
     "output_type": "execute_result"
    }
   ],
   "source": [
    "data.columns = data.columns.str.lower()\n",
    "data.rename(columns={\n",
    "    'rownumber':'row_number', \n",
    "    'customerid':'customer_id', \n",
    "    'creditscore':'credit_score', \n",
    "    'numofproducts':'num_of_products', \n",
    "    'hascrcard':'has_cr_card', \n",
    "    'isactivemember':'is_active_member', \n",
    "    'estimatedsalary':'estimated_salary'\n",
    "    \n",
    "}, inplace=True)\n",
    "data.head()"
   ]
  },
  {
   "cell_type": "markdown",
   "id": "9c4794f5",
   "metadata": {},
   "source": [
    "Посмотрим на пропуски"
   ]
  },
  {
   "cell_type": "code",
   "execution_count": 8,
   "id": "75b42a0d",
   "metadata": {},
   "outputs": [
    {
     "data": {
      "text/plain": [
       "1.0     952\n",
       "2.0     950\n",
       "8.0     933\n",
       "3.0     928\n",
       "5.0     927\n",
       "7.0     925\n",
       "NaN     909\n",
       "4.0     885\n",
       "9.0     882\n",
       "6.0     881\n",
       "10.0    446\n",
       "0.0     382\n",
       "Name: tenure, dtype: int64"
      ]
     },
     "execution_count": 8,
     "metadata": {},
     "output_type": "execute_result"
    }
   ],
   "source": [
    "data['tenure'].value_counts(dropna=False)"
   ]
  },
  {
   "cell_type": "markdown",
   "id": "611023f4",
   "metadata": {},
   "source": [
    "Вполне возможно, что пропуски - это какой-то особый статус пользователей, которые либо совсем недавно пришли в банк, либо наоборот долго пользуются им, возможно для них есть особое обозначение(нечисловое) \n",
    "\n",
    "Замена типов данных, нигде не пригодилась "
   ]
  },
  {
   "cell_type": "markdown",
   "id": "4aec8581",
   "metadata": {},
   "source": [
    "### 1.3 Отберем признаки"
   ]
  },
  {
   "cell_type": "markdown",
   "id": "6879e8e3",
   "metadata": {},
   "source": [
    "После освновной предобработки, приступим к подготовке признаков для последующего обучения"
   ]
  },
  {
   "cell_type": "code",
   "execution_count": 9,
   "id": "62953de7",
   "metadata": {},
   "outputs": [
    {
     "data": {
      "text/html": [
       "<div>\n",
       "<style scoped>\n",
       "    .dataframe tbody tr th:only-of-type {\n",
       "        vertical-align: middle;\n",
       "    }\n",
       "\n",
       "    .dataframe tbody tr th {\n",
       "        vertical-align: top;\n",
       "    }\n",
       "\n",
       "    .dataframe thead th {\n",
       "        text-align: right;\n",
       "    }\n",
       "</style>\n",
       "<table border=\"1\" class=\"dataframe\">\n",
       "  <thead>\n",
       "    <tr style=\"text-align: right;\">\n",
       "      <th></th>\n",
       "      <th>row_number</th>\n",
       "      <th>customer_id</th>\n",
       "      <th>surname</th>\n",
       "      <th>credit_score</th>\n",
       "      <th>geography</th>\n",
       "      <th>gender</th>\n",
       "      <th>age</th>\n",
       "      <th>tenure</th>\n",
       "      <th>balance</th>\n",
       "      <th>num_of_products</th>\n",
       "      <th>has_cr_card</th>\n",
       "      <th>is_active_member</th>\n",
       "      <th>estimated_salary</th>\n",
       "      <th>exited</th>\n",
       "    </tr>\n",
       "  </thead>\n",
       "  <tbody>\n",
       "    <tr>\n",
       "      <th>0</th>\n",
       "      <td>1</td>\n",
       "      <td>15634602</td>\n",
       "      <td>Hargrave</td>\n",
       "      <td>619</td>\n",
       "      <td>France</td>\n",
       "      <td>Female</td>\n",
       "      <td>42</td>\n",
       "      <td>2.0</td>\n",
       "      <td>0.00</td>\n",
       "      <td>1</td>\n",
       "      <td>1</td>\n",
       "      <td>1</td>\n",
       "      <td>101348.88</td>\n",
       "      <td>1</td>\n",
       "    </tr>\n",
       "    <tr>\n",
       "      <th>1</th>\n",
       "      <td>2</td>\n",
       "      <td>15647311</td>\n",
       "      <td>Hill</td>\n",
       "      <td>608</td>\n",
       "      <td>Spain</td>\n",
       "      <td>Female</td>\n",
       "      <td>41</td>\n",
       "      <td>1.0</td>\n",
       "      <td>83807.86</td>\n",
       "      <td>1</td>\n",
       "      <td>0</td>\n",
       "      <td>1</td>\n",
       "      <td>112542.58</td>\n",
       "      <td>0</td>\n",
       "    </tr>\n",
       "    <tr>\n",
       "      <th>2</th>\n",
       "      <td>3</td>\n",
       "      <td>15619304</td>\n",
       "      <td>Onio</td>\n",
       "      <td>502</td>\n",
       "      <td>France</td>\n",
       "      <td>Female</td>\n",
       "      <td>42</td>\n",
       "      <td>8.0</td>\n",
       "      <td>159660.80</td>\n",
       "      <td>3</td>\n",
       "      <td>1</td>\n",
       "      <td>0</td>\n",
       "      <td>113931.57</td>\n",
       "      <td>1</td>\n",
       "    </tr>\n",
       "    <tr>\n",
       "      <th>3</th>\n",
       "      <td>4</td>\n",
       "      <td>15701354</td>\n",
       "      <td>Boni</td>\n",
       "      <td>699</td>\n",
       "      <td>France</td>\n",
       "      <td>Female</td>\n",
       "      <td>39</td>\n",
       "      <td>1.0</td>\n",
       "      <td>0.00</td>\n",
       "      <td>2</td>\n",
       "      <td>0</td>\n",
       "      <td>0</td>\n",
       "      <td>93826.63</td>\n",
       "      <td>0</td>\n",
       "    </tr>\n",
       "    <tr>\n",
       "      <th>4</th>\n",
       "      <td>5</td>\n",
       "      <td>15737888</td>\n",
       "      <td>Mitchell</td>\n",
       "      <td>850</td>\n",
       "      <td>Spain</td>\n",
       "      <td>Female</td>\n",
       "      <td>43</td>\n",
       "      <td>2.0</td>\n",
       "      <td>125510.82</td>\n",
       "      <td>1</td>\n",
       "      <td>1</td>\n",
       "      <td>1</td>\n",
       "      <td>79084.10</td>\n",
       "      <td>0</td>\n",
       "    </tr>\n",
       "  </tbody>\n",
       "</table>\n",
       "</div>"
      ],
      "text/plain": [
       "   row_number  customer_id   surname  credit_score geography  gender  age  \\\n",
       "0           1     15634602  Hargrave           619    France  Female   42   \n",
       "1           2     15647311      Hill           608     Spain  Female   41   \n",
       "2           3     15619304      Onio           502    France  Female   42   \n",
       "3           4     15701354      Boni           699    France  Female   39   \n",
       "4           5     15737888  Mitchell           850     Spain  Female   43   \n",
       "\n",
       "   tenure    balance  num_of_products  has_cr_card  is_active_member  \\\n",
       "0     2.0       0.00                1            1                 1   \n",
       "1     1.0   83807.86                1            0                 1   \n",
       "2     8.0  159660.80                3            1                 0   \n",
       "3     1.0       0.00                2            0                 0   \n",
       "4     2.0  125510.82                1            1                 1   \n",
       "\n",
       "   estimated_salary  exited  \n",
       "0         101348.88       1  \n",
       "1         112542.58       0  \n",
       "2         113931.57       1  \n",
       "3          93826.63       0  \n",
       "4          79084.10       0  "
      ]
     },
     "execution_count": 9,
     "metadata": {},
     "output_type": "execute_result"
    }
   ],
   "source": [
    "data.head()"
   ]
  },
  {
   "cell_type": "markdown",
   "id": "3fa68b6a",
   "metadata": {},
   "source": [
    "В наши признаки нет никакого смысла добавлять номер строки, айди покупателя, фамилию - они не несут никакой нагрузки для выявления клиентов, которые потенциально могут уйти, ко всему прочему при помощи ohe нужно будет преобразовать признаки: местоположение, пол\n",
    "\n",
    "Далее стандартизируем данные, у нас будет много признаком значение, которым будет 0 или 1, нужно будет все оставшиеся признаки привести к виду среднее значение которых будет 0, а дисперсия 1, чтобы все было одного масштаба"
   ]
  },
  {
   "cell_type": "code",
   "execution_count": 10,
   "id": "8a262b6c",
   "metadata": {},
   "outputs": [],
   "source": [
    "features = data.drop(['row_number', 'customer_id', 'surname', 'exited'], axis=1)\n",
    "target = data['exited']"
   ]
  },
  {
   "cell_type": "markdown",
   "id": "9567c326",
   "metadata": {},
   "source": [
    "### 1.4 Подготовим признаки"
   ]
  },
  {
   "cell_type": "markdown",
   "id": "2ee554e8",
   "metadata": {},
   "source": [
    "Воспользуемся методом get_dummies и разделим наши категории принципом OHE\n",
    "\n",
    "Сделал столбец 'tenure' и 'num_of_products' типа object, чтобы его можно было разделить методом get_dummies, это категориальные признаки, хотя и выражены числами"
   ]
  },
  {
   "cell_type": "code",
   "execution_count": 11,
   "id": "1600f820",
   "metadata": {},
   "outputs": [],
   "source": [
    "features['tenure'] = features['tenure'].astype(object)"
   ]
  },
  {
   "cell_type": "code",
   "execution_count": 12,
   "id": "5b13befa",
   "metadata": {
    "scrolled": true
   },
   "outputs": [
    {
     "data": {
      "text/html": [
       "<div>\n",
       "<style scoped>\n",
       "    .dataframe tbody tr th:only-of-type {\n",
       "        vertical-align: middle;\n",
       "    }\n",
       "\n",
       "    .dataframe tbody tr th {\n",
       "        vertical-align: top;\n",
       "    }\n",
       "\n",
       "    .dataframe thead th {\n",
       "        text-align: right;\n",
       "    }\n",
       "</style>\n",
       "<table border=\"1\" class=\"dataframe\">\n",
       "  <thead>\n",
       "    <tr style=\"text-align: right;\">\n",
       "      <th></th>\n",
       "      <th>credit_score</th>\n",
       "      <th>geography</th>\n",
       "      <th>gender</th>\n",
       "      <th>age</th>\n",
       "      <th>tenure</th>\n",
       "      <th>balance</th>\n",
       "      <th>num_of_products</th>\n",
       "      <th>has_cr_card</th>\n",
       "      <th>is_active_member</th>\n",
       "      <th>estimated_salary</th>\n",
       "    </tr>\n",
       "  </thead>\n",
       "  <tbody>\n",
       "    <tr>\n",
       "      <th>0</th>\n",
       "      <td>619</td>\n",
       "      <td>France</td>\n",
       "      <td>Female</td>\n",
       "      <td>42</td>\n",
       "      <td>2.0</td>\n",
       "      <td>0.00</td>\n",
       "      <td>1</td>\n",
       "      <td>1</td>\n",
       "      <td>1</td>\n",
       "      <td>101348.88</td>\n",
       "    </tr>\n",
       "    <tr>\n",
       "      <th>1</th>\n",
       "      <td>608</td>\n",
       "      <td>Spain</td>\n",
       "      <td>Female</td>\n",
       "      <td>41</td>\n",
       "      <td>1.0</td>\n",
       "      <td>83807.86</td>\n",
       "      <td>1</td>\n",
       "      <td>0</td>\n",
       "      <td>1</td>\n",
       "      <td>112542.58</td>\n",
       "    </tr>\n",
       "    <tr>\n",
       "      <th>2</th>\n",
       "      <td>502</td>\n",
       "      <td>France</td>\n",
       "      <td>Female</td>\n",
       "      <td>42</td>\n",
       "      <td>8.0</td>\n",
       "      <td>159660.80</td>\n",
       "      <td>3</td>\n",
       "      <td>1</td>\n",
       "      <td>0</td>\n",
       "      <td>113931.57</td>\n",
       "    </tr>\n",
       "    <tr>\n",
       "      <th>3</th>\n",
       "      <td>699</td>\n",
       "      <td>France</td>\n",
       "      <td>Female</td>\n",
       "      <td>39</td>\n",
       "      <td>1.0</td>\n",
       "      <td>0.00</td>\n",
       "      <td>2</td>\n",
       "      <td>0</td>\n",
       "      <td>0</td>\n",
       "      <td>93826.63</td>\n",
       "    </tr>\n",
       "    <tr>\n",
       "      <th>4</th>\n",
       "      <td>850</td>\n",
       "      <td>Spain</td>\n",
       "      <td>Female</td>\n",
       "      <td>43</td>\n",
       "      <td>2.0</td>\n",
       "      <td>125510.82</td>\n",
       "      <td>1</td>\n",
       "      <td>1</td>\n",
       "      <td>1</td>\n",
       "      <td>79084.10</td>\n",
       "    </tr>\n",
       "  </tbody>\n",
       "</table>\n",
       "</div>"
      ],
      "text/plain": [
       "   credit_score geography  gender  age tenure    balance  num_of_products  \\\n",
       "0           619    France  Female   42    2.0       0.00                1   \n",
       "1           608     Spain  Female   41    1.0   83807.86                1   \n",
       "2           502    France  Female   42    8.0  159660.80                3   \n",
       "3           699    France  Female   39    1.0       0.00                2   \n",
       "4           850     Spain  Female   43    2.0  125510.82                1   \n",
       "\n",
       "   has_cr_card  is_active_member  estimated_salary  \n",
       "0            1                 1         101348.88  \n",
       "1            0                 1         112542.58  \n",
       "2            1                 0         113931.57  \n",
       "3            0                 0          93826.63  \n",
       "4            1                 1          79084.10  "
      ]
     },
     "execution_count": 12,
     "metadata": {},
     "output_type": "execute_result"
    }
   ],
   "source": [
    "features_train, features_valid, target_train, target_valid = train_test_split(\n",
    "    features, target, test_size=0.2, random_state=rnd_state\n",
    ")\n",
    "\n",
    "features_train, features_test, target_train, target_test = train_test_split(\n",
    "    features_train, target_train, test_size=0.15, random_state=rnd_state\n",
    ")\n",
    "\n",
    "features.head()"
   ]
  },
  {
   "cell_type": "code",
   "execution_count": 13,
   "id": "2eb78bad",
   "metadata": {},
   "outputs": [],
   "source": [
    "cat_features = ['geography', 'gender', 'tenure']"
   ]
  },
  {
   "cell_type": "code",
   "execution_count": 14,
   "id": "ed39fbbb",
   "metadata": {
    "scrolled": true
   },
   "outputs": [
    {
     "name": "stderr",
     "output_type": "stream",
     "text": [
      "C:\\Users\\gorok\\anaconda3\\lib\\site-packages\\sklearn\\preprocessing\\_encoders.py:975: FutureWarning: `sparse` was renamed to `sparse_output` in version 1.2 and will be removed in 1.4. `sparse_output` is ignored unless you leave `sparse` to its default value.\n",
      "  warnings.warn(\n"
     ]
    }
   ],
   "source": [
    "ohe_encoder = OneHotEncoder(drop='first', sparse=False)\n",
    "\n",
    "train_temp = ohe_encoder.fit_transform(features_train[cat_features]) # Обучил ОНЕ инкодер\n",
    "features_train[ohe_encoder.get_feature_names_out()] = train_temp # дал имена столбца, передал значения новым столбцам\n",
    "features_train.drop(cat_features, axis=1, inplace=True) # Удалил категории, на основании которых делал ОНЕ\n",
    "\n",
    "valid_temp = ohe_encoder.transform(features_valid[cat_features])\n",
    "features_valid[ohe_encoder.get_feature_names_out()] = valid_temp \n",
    "features_valid.drop(cat_features, axis=1, inplace=True)\n",
    "\n",
    "test_temp = ohe_encoder.transform(features_test[cat_features])\n",
    "features_test[ohe_encoder.get_feature_names_out()] = test_temp \n",
    "features_test.drop(cat_features, axis=1, inplace=True)"
   ]
  },
  {
   "cell_type": "markdown",
   "id": "df84957b",
   "metadata": {},
   "source": [
    "Распределение наших признаков с трудом можно назвать \"нормальным\", но стандартизацией я все таки воспользуюсь"
   ]
  },
  {
   "cell_type": "code",
   "execution_count": 15,
   "id": "883c0b5a",
   "metadata": {},
   "outputs": [],
   "source": [
    "cat_to_scale = ['credit_score', 'balance', 'estimated_salary', 'num_of_products', 'age']"
   ]
  },
  {
   "cell_type": "code",
   "execution_count": 16,
   "id": "7d9018eb",
   "metadata": {},
   "outputs": [],
   "source": [
    "scaler = StandardScaler()\n",
    "\n",
    "features_train[cat_to_scale] = scaler.fit_transform(features_train[cat_to_scale])\n",
    "features_valid[cat_to_scale] = scaler.transform(features_valid[cat_to_scale])\n",
    "features_test[cat_to_scale] = scaler.transform(features_test[cat_to_scale])"
   ]
  },
  {
   "cell_type": "markdown",
   "id": "c65771f3",
   "metadata": {},
   "source": [
    "### 1.5 Итоги подготовки данных\n",
    "\n",
    "Изучили данные, привели в порядок названия столбцов, выбрали признаки, подготовили признаки, стандартизировали их, готовы двигаться дальше"
   ]
  },
  {
   "cell_type": "markdown",
   "id": "9a57ac25",
   "metadata": {},
   "source": [
    "## 2. Обучаем модель без учета дисбаланса, узучим баланс"
   ]
  },
  {
   "cell_type": "markdown",
   "id": "780bfb4a",
   "metadata": {},
   "source": [
    "### 2.1 Изучаем баланс"
   ]
  },
  {
   "cell_type": "code",
   "execution_count": 17,
   "id": "b9db6272",
   "metadata": {},
   "outputs": [
    {
     "data": {
      "text/plain": [
       "0    7963\n",
       "1    2037\n",
       "Name: exited, dtype: int64"
      ]
     },
     "execution_count": 17,
     "metadata": {},
     "output_type": "execute_result"
    }
   ],
   "source": [
    "data['exited'].value_counts()"
   ]
  },
  {
   "cell_type": "markdown",
   "id": "e521aa0a",
   "metadata": {},
   "source": [
    "Дисбаланс очень хорошо виден в расположении пользователей, во владении кредитной карты, количество продуктов у одного пользователя, хотя с этим признаком нужно быть поаккуратнее, в возрастной категории тоже виден яркий дисбаланс"
   ]
  },
  {
   "cell_type": "markdown",
   "id": "0fc78a44",
   "metadata": {},
   "source": [
    "### 2.2 Обучаем модель "
   ]
  },
  {
   "cell_type": "code",
   "execution_count": 18,
   "id": "b0065695",
   "metadata": {},
   "outputs": [
    {
     "name": "stdout",
     "output_type": "stream",
     "text": [
      "depth = 4 auc_roc = 0.8378960830525659 f1 = 0.5953237410071942\n"
     ]
    }
   ],
   "source": [
    "best_depth = 0\n",
    "best_auc = 0\n",
    "best_f1 = 0\n",
    "\n",
    "for depth in range(1,20):\n",
    "    model = DecisionTreeClassifier(class_weight='balanced', max_depth=depth, random_state=rnd_state) # Создаем модель\n",
    "    model.fit(features_train, target_train) # Обучаем на тренировочной выборке\n",
    "    result = model.predict(features_valid) # Предсказываем\n",
    "    \n",
    "    if f1_score(target_valid, result) > best_f1:\n",
    "        best_depth = depth\n",
    "        best_f1 = f1_score(target_valid, result)\n",
    "        best_auc = roc_auc_score(target_valid, model.predict_proba(features_valid)[:,1])\n",
    "        \n",
    "print(\n",
    "      'depth =', best_depth, \n",
    "      'auc_roc =', best_auc, \n",
    "      'f1 =', best_f1\n",
    "         )"
   ]
  },
  {
   "cell_type": "markdown",
   "id": "bd226eba",
   "metadata": {},
   "source": [
    "Проверим модель на адекватность, сравним ее с моделью, которая будет предсказывать только положительный класс или только отрицательный"
   ]
  },
  {
   "cell_type": "code",
   "execution_count": 19,
   "id": "f5b7d6d9",
   "metadata": {},
   "outputs": [
    {
     "name": "stdout",
     "output_type": "stream",
     "text": [
      "auc_roc = 0.5 f1 = 0.3518747424804285\n"
     ]
    }
   ],
   "source": [
    "res = pd.Series(1, index=target_valid.index)\n",
    "print('auc_roc =', roc_auc_score(target_valid, res), \n",
    "      'f1 =', f1_score(target_valid, res))"
   ]
  },
  {
   "cell_type": "markdown",
   "id": "06b5cdde",
   "metadata": {},
   "source": [
    "Можно предположить, что решающее дерево неплохо себя показыват с глубиной - 5, все остальные результаты не сильно то и уходят от моделей, которые предсказывают только положительный класс\n",
    "\n",
    "Посмотрим, что покажет случайный лес"
   ]
  },
  {
   "cell_type": "code",
   "execution_count": 20,
   "id": "829d0686",
   "metadata": {
    "scrolled": true
   },
   "outputs": [
    {
     "name": "stdout",
     "output_type": "stream",
     "text": [
      "CPU times: total: 36.5 s\n",
      "Wall time: 38 s\n"
     ]
    }
   ],
   "source": [
    "%%time\n",
    "best_depth = 0\n",
    "best_auc = 0\n",
    "best_f1 = 0\n",
    "best_est = 0\n",
    "\n",
    "for depth in range(1,80): # Ищем лучшую глубину\n",
    "    model = RandomForestClassifier(max_depth=depth, random_state=rnd_state, n_estimators=20)\n",
    "    model.fit(features_train, target_train)\n",
    "    result = model.predict(features_valid)\n",
    "    \n",
    "    if f1_score(target_valid, result) > best_f1: # Промежуточный результат\n",
    "        best_depth = depth\n",
    "        best_f1 = f1_score(target_valid, result)\n",
    "        best_auc = roc_auc_score(target_valid, model.predict_proba(features_valid)[:,1])"
   ]
  },
  {
   "cell_type": "code",
   "execution_count": 21,
   "id": "b9f07f85",
   "metadata": {},
   "outputs": [
    {
     "name": "stdout",
     "output_type": "stream",
     "text": [
      "CPU times: total: 1min 17s\n",
      "Wall time: 1min 18s\n"
     ]
    }
   ],
   "source": [
    "%%time\n",
    "for est in range(10,80): # Находим оптимальное количество ветвей \n",
    "    model = RandomForestClassifier(max_depth=best_depth, random_state=rnd_state, n_estimators=est)\n",
    "    model.fit(features_train, target_train)\n",
    "    result = model.predict(features_valid)\n",
    "    \n",
    "    if f1_score(target_valid, result) > best_f1: # Финальный результат\n",
    "        best_est = est\n",
    "        best_f1 = f1_score(target_valid, result)\n",
    "        best_auc = roc_auc_score(target_valid, model.predict_proba(features_valid)[:,1])"
   ]
  },
  {
   "cell_type": "code",
   "execution_count": 22,
   "id": "472dadb0",
   "metadata": {},
   "outputs": [
    {
     "name": "stdout",
     "output_type": "stream",
     "text": [
      "est = 57 depth = 23 auc_roc = 0.8561669329180506 f1 = 0.5671641791044776\n"
     ]
    }
   ],
   "source": [
    "print(\n",
    "    'est =', best_est,\n",
    "    'depth =', best_depth, \n",
    "    'auc_roc =', best_auc, \n",
    "    'f1 =', best_f1\n",
    "    )"
   ]
  },
  {
   "cell_type": "markdown",
   "id": "62c61417",
   "metadata": {},
   "source": [
    "оптимальная глубина дерева - 20"
   ]
  },
  {
   "cell_type": "markdown",
   "id": "cb6e7756",
   "metadata": {},
   "source": [
    "Решающее дерево показало результат совсем немногим хуже случайного леса\n",
    "\n",
    "посмотри на логистическую регрессию"
   ]
  },
  {
   "cell_type": "code",
   "execution_count": 23,
   "id": "4889e6e6",
   "metadata": {},
   "outputs": [
    {
     "name": "stdout",
     "output_type": "stream",
     "text": [
      "auc_roc = 0.7578665745580798 f1 = 0.3020833333333333\n"
     ]
    }
   ],
   "source": [
    "model = LogisticRegression(random_state=rnd_state, solver='liblinear')\n",
    "model.fit(features_train, target_train)\n",
    "result = model.predict(features_valid)\n",
    "print('auc_roc =', roc_auc_score(target_valid, model.predict_proba(features_valid)[:,1]), \n",
    "      'f1 =', f1_score(target_valid, result))"
   ]
  },
  {
   "cell_type": "markdown",
   "id": "6d9d0dde",
   "metadata": {},
   "source": [
    "Результаты не сильно радуют, возможно, решив проблему с балансом классов, мы сможем поменять картину, сейчас же наши метркии не сильно ушли от значений, которые можно получить предсказанием константы "
   ]
  },
  {
   "cell_type": "markdown",
   "id": "24ff784e",
   "metadata": {},
   "source": [
    "## 3 Балансируем классы"
   ]
  },
  {
   "cell_type": "markdown",
   "id": "1e1314cd",
   "metadata": {},
   "source": [
    "налаживаем баланс классов при помощи увеличения выборки "
   ]
  },
  {
   "cell_type": "code",
   "execution_count": 24,
   "id": "3ee38555",
   "metadata": {},
   "outputs": [],
   "source": [
    "features_zeros = features_train[target_train==0]\n",
    "features_ones = features_train[target_train==1]\n",
    "\n",
    "target_zeros = target_train[target_train==0]\n",
    "target_ones = target_train[target_train==1]\n",
    "\n",
    "features_upsampled = pd.concat([features_zeros]+[features_ones]*4)\n",
    "target_upsampled = pd.concat([target_zeros]+[target_ones]*4)\n",
    "\n",
    "features_upsampled, target_upsampled = shuffle(features_upsampled, target_upsampled, random_state=12345)"
   ]
  },
  {
   "cell_type": "markdown",
   "id": "72c993e7",
   "metadata": {},
   "source": [
    "* На новых сбалансированных данных обучаем модель логистической регрессии "
   ]
  },
  {
   "cell_type": "code",
   "execution_count": 25,
   "id": "dd56d388",
   "metadata": {},
   "outputs": [
    {
     "name": "stdout",
     "output_type": "stream",
     "text": [
      "auc_roc = 0.7636461898756981 f1 = 0.497883149872989\n"
     ]
    }
   ],
   "source": [
    "model = LogisticRegression(class_weight='balanced', random_state=12345, solver='liblinear')\n",
    "model.fit(features_upsampled, target_upsampled)\n",
    "result = model.predict(features_valid)\n",
    "\n",
    "print('auc_roc =', roc_auc_score(target_valid, model.predict_proba(features_valid)[:,1]), \n",
    "      'f1 =', f1_score(target_valid, result))"
   ]
  },
  {
   "cell_type": "markdown",
   "id": "8bf70006",
   "metadata": {},
   "source": [
    "Пробуем подвинуть порог вхождения"
   ]
  },
  {
   "cell_type": "code",
   "execution_count": 26,
   "id": "4f48f3df",
   "metadata": {},
   "outputs": [],
   "source": [
    "probabilities_valid = model.predict_proba(features_valid) # Тут мы сохраняем вероятности вхождения жлементов в какой-либо класс\n",
    "probabilities_one_valid = probabilities_valid[:,1] # Конкретезируем, что нам интересен положительный"
   ]
  },
  {
   "cell_type": "code",
   "execution_count": 27,
   "id": "29b32c40",
   "metadata": {},
   "outputs": [
    {
     "name": "stdout",
     "output_type": "stream",
     "text": [
      "0.5 auc_roc = 0.6980448761372756 f1 = 0.497883149872989\n",
      "0.51 auc_roc = 0.6983299859603883 f1 = 0.5\n",
      "0.52 auc_roc = 0.7023453446702328 f1 = 0.5061946902654867\n",
      "0.53 auc_roc = 0.701793735325777 f1 = 0.5067385444743936\n",
      "0.54 auc_roc = 0.7005900210073087 f1 = 0.507380073800738\n",
      "0.55 auc_roc = 0.7012093718502065 f1 = 0.5093632958801497\n",
      "0.56 auc_roc = 0.704371634326925 f1 = 0.5153256704980843\n"
     ]
    }
   ],
   "source": [
    "for rng in np.arange(0.5, 0.57, 0.01):  # Смотрим, чтобы элементы были меньше \"порога\"\n",
    "    predicted_valid = probabilities_one_valid > rng\n",
    "    \n",
    "    print(\n",
    "         rng,\n",
    "        'auc_roc =', roc_auc_score(target_valid, predicted_valid), \n",
    "        'f1 =', f1_score(target_valid, predicted_valid)\n",
    "    )"
   ]
  },
  {
   "cell_type": "markdown",
   "id": "3c955ea8",
   "metadata": {},
   "source": [
    "* Проделаем все то же самое для случайного леса"
   ]
  },
  {
   "cell_type": "code",
   "execution_count": 28,
   "id": "532952ad",
   "metadata": {},
   "outputs": [
    {
     "name": "stdout",
     "output_type": "stream",
     "text": [
      "10 0.6460905349794239\n",
      "CPU times: total: 23.3 s\n",
      "Wall time: 23.7 s\n"
     ]
    }
   ],
   "source": [
    "%%time\n",
    "best_depth = 0  # сохраним лучшие результаты\n",
    "best_auc = 0\n",
    "best_f1 = 0\n",
    "best_est = 20\n",
    "\n",
    "for depth in range(1,20): # Найдем лучшую глубину при 20 ветвях и возьмем ее за эталонную\n",
    "    model = RandomForestClassifier(max_depth=depth, random_state=rnd_state, n_estimators=60)\n",
    "    model.fit(features_upsampled, target_upsampled)\n",
    "    result = model.predict(features_valid)\n",
    "    \n",
    "    if f1_score(target_valid, result) > best_f1: # Определяем лучшие показатели на этом этапе \n",
    "        best_depth = depth\n",
    "        best_f1 = f1_score(target_valid, result)\n",
    "        best_auc = roc_auc_score(target_valid, model.predict_proba(features_valid)[:,1])\n",
    "print(best_depth, best_f1)\n"
   ]
  },
  {
   "cell_type": "code",
   "execution_count": 29,
   "id": "5f206228",
   "metadata": {},
   "outputs": [
    {
     "name": "stdout",
     "output_type": "stream",
     "text": [
      "CPU times: total: 16.3 s\n",
      "Wall time: 16.4 s\n"
     ]
    }
   ],
   "source": [
    "%%time\n",
    "for est in range(1,40): # Находим оптимальное количество ветвей\n",
    "    model = RandomForestClassifier( max_depth=best_depth, random_state=rnd_state, n_estimators=est)\n",
    "    model.fit(features_upsampled, target_upsampled)\n",
    "    result = model.predict(features_valid)\n",
    "    \n",
    "    if f1_score(target_valid, result) > best_f1: # Финальный результат \n",
    "        best_est = est\n",
    "        best_f1 = f1_score(target_valid, result)\n",
    "        best_auc = roc_auc_score(target_valid, model.predict_proba(features_valid)[:,1])"
   ]
  },
  {
   "cell_type": "code",
   "execution_count": 30,
   "id": "01b58db6",
   "metadata": {},
   "outputs": [
    {
     "name": "stdout",
     "output_type": "stream",
     "text": [
      "est = 20 depth = 10 auc_roc = 0.862035133272093 f1 = 0.6460905349794239\n"
     ]
    }
   ],
   "source": [
    "print(\n",
    "    'est =', best_est,\n",
    "    'depth =', best_depth, \n",
    "    'auc_roc =', best_auc, \n",
    "    'f1 =', best_f1\n",
    "    )"
   ]
  },
  {
   "cell_type": "markdown",
   "id": "73dab571",
   "metadata": {},
   "source": [
    "* А теперь посмотрим на решающее дерево"
   ]
  },
  {
   "cell_type": "code",
   "execution_count": 31,
   "id": "57184955",
   "metadata": {},
   "outputs": [
    {
     "name": "stdout",
     "output_type": "stream",
     "text": [
      "depth = 4 auc_roc = 0.8378960830525659 f1 = 0.5953237410071942\n"
     ]
    }
   ],
   "source": [
    "best_depth = 0\n",
    "best_auc = 0\n",
    "best_f1 = 0\n",
    "\n",
    "for depth in range(1,20):\n",
    "    model = DecisionTreeClassifier(max_depth=depth, random_state=rnd_state) # Создаем модель\n",
    "    model.fit(features_upsampled, target_upsampled) # Обучаем на тренировочной выборке\n",
    "    result = model.predict(features_valid) # Предсказываем\n",
    "    \n",
    "    if f1_score(target_valid, result) > best_f1:\n",
    "        best_depth = depth\n",
    "        best_f1 = f1_score(target_valid, result)\n",
    "        best_auc = roc_auc_score(target_valid, model.predict_proba(features_valid)[:,1])\n",
    "        \n",
    "print(\n",
    "      'depth =', best_depth, \n",
    "      'auc_roc =', best_auc, \n",
    "      'f1 =', best_f1\n",
    "         )"
   ]
  },
  {
   "cell_type": "markdown",
   "id": "decbea8d",
   "metadata": {},
   "source": [
    "### Выводы"
   ]
  },
  {
   "cell_type": "markdown",
   "id": "b8a1a8e7",
   "metadata": {},
   "source": [
    "На валидационной выборке лучше всего себя проявил случайный лес, с параметрами глубины дерева 10 и количества ветвей 20"
   ]
  },
  {
   "cell_type": "markdown",
   "id": "96eb8e4d",
   "metadata": {},
   "source": [
    "## 4 Финальное тестирование "
   ]
  },
  {
   "cell_type": "code",
   "execution_count": 32,
   "id": "9b6739b3",
   "metadata": {},
   "outputs": [
    {
     "name": "stdout",
     "output_type": "stream",
     "text": [
      "auc_roc = 0.8430959089578454 f1 = 0.5900990099009901\n"
     ]
    }
   ],
   "source": [
    "model = RandomForestClassifier(random_state=rnd_state, max_depth=10, n_estimators=20)\n",
    "model.fit(features_upsampled, target_upsampled)\n",
    "result = model.predict(features_test)\n",
    "\n",
    "print(\n",
    "     'auc_roc =', roc_auc_score(target_test, model.predict_proba(features_test)[:,1]), \n",
    "     'f1 =', f1_score(target_test, result)\n",
    ")"
   ]
  },
  {
   "cell_type": "markdown",
   "id": "c1e27480",
   "metadata": {},
   "source": [
    "Модель для проверки на адекватность"
   ]
  },
  {
   "cell_type": "code",
   "execution_count": 33,
   "id": "30fe10d4",
   "metadata": {},
   "outputs": [
    {
     "name": "stdout",
     "output_type": "stream",
     "text": [
      "auc_roc = 0.5 f1 = 0.3518747424804285\n"
     ]
    }
   ],
   "source": [
    "res = pd.Series(1, index=target_valid.index)\n",
    "print('auc_roc =', roc_auc_score(target_valid, res), \n",
    "      'f1 =', f1_score(target_valid, res))"
   ]
  },
  {
   "cell_type": "markdown",
   "id": "68629bfc",
   "metadata": {},
   "source": [
    "Наша модель предсказывает положительный класс сильно лучше чем константная модель, а показатель аук-рок показыет, что общее число ошибок на тестовой выборке не превышает 20%"
   ]
  },
  {
   "cell_type": "markdown",
   "id": "2423eed6",
   "metadata": {},
   "source": [
    "Используя данную модель можно предсказывать уход клинта с 59% точностью, эту информацию можно использовать для того, чтобы выявить \"группу риска\" и предпринять меры для их удержания"
   ]
  }
 ],
 "metadata": {
  "ExecuteTimeLog": [
   {
    "duration": 1537,
    "start_time": "2023-07-03T10:10:23.767Z"
   },
   {
    "duration": 98,
    "start_time": "2023-07-03T10:10:25.306Z"
   },
   {
    "duration": 26,
    "start_time": "2023-07-03T10:10:25.406Z"
   },
   {
    "duration": 13,
    "start_time": "2023-07-03T10:10:25.434Z"
   },
   {
    "duration": 15,
    "start_time": "2023-07-03T10:10:26.868Z"
   },
   {
    "duration": 6,
    "start_time": "2023-07-03T10:10:27.371Z"
   },
   {
    "duration": 13,
    "start_time": "2023-07-03T10:10:29.097Z"
   },
   {
    "duration": 4,
    "start_time": "2023-07-03T10:10:30.475Z"
   },
   {
    "duration": 5,
    "start_time": "2023-07-03T10:10:31.311Z"
   },
   {
    "duration": 33,
    "start_time": "2023-07-03T10:10:32.304Z"
   },
   {
    "duration": 26,
    "start_time": "2023-07-03T10:10:38.509Z"
   },
   {
    "duration": 6,
    "start_time": "2023-07-03T10:10:40.439Z"
   },
   {
    "duration": 11,
    "start_time": "2023-07-03T10:10:42.105Z"
   },
   {
    "duration": 619,
    "start_time": "2023-07-03T10:10:45.516Z"
   },
   {
    "duration": 120,
    "start_time": "2023-07-03T10:14:33.353Z"
   },
   {
    "duration": 22,
    "start_time": "2023-07-03T10:15:07.807Z"
   },
   {
    "duration": 51,
    "start_time": "2023-07-03T10:15:27.318Z"
   },
   {
    "duration": 1385,
    "start_time": "2023-07-04T20:46:28.598Z"
   },
   {
    "duration": 137,
    "start_time": "2023-07-04T20:46:29.985Z"
   },
   {
    "duration": 41,
    "start_time": "2023-07-04T20:46:30.123Z"
   },
   {
    "duration": 43,
    "start_time": "2023-07-04T20:46:30.166Z"
   },
   {
    "duration": 75,
    "start_time": "2023-07-04T20:46:30.211Z"
   },
   {
    "duration": 59,
    "start_time": "2023-07-04T20:46:30.287Z"
   },
   {
    "duration": 67,
    "start_time": "2023-07-04T20:46:30.348Z"
   },
   {
    "duration": 77,
    "start_time": "2023-07-04T20:46:30.416Z"
   },
   {
    "duration": 93,
    "start_time": "2023-07-04T20:46:30.495Z"
   },
   {
    "duration": 156,
    "start_time": "2023-07-04T20:46:30.590Z"
   },
   {
    "duration": 102,
    "start_time": "2023-07-04T20:46:30.748Z"
   },
   {
    "duration": 81,
    "start_time": "2023-07-04T20:46:30.851Z"
   },
   {
    "duration": 72,
    "start_time": "2023-07-04T20:46:30.934Z"
   },
   {
    "duration": 125,
    "start_time": "2023-07-04T20:46:31.008Z"
   },
   {
    "duration": 895,
    "start_time": "2023-07-04T20:46:31.136Z"
   },
   {
    "duration": 17,
    "start_time": "2023-07-04T20:46:32.033Z"
   },
   {
    "duration": 1235,
    "start_time": "2023-07-04T20:46:32.052Z"
   },
   {
    "duration": 290,
    "start_time": "2023-07-04T20:46:33.289Z"
   },
   {
    "duration": 151,
    "start_time": "2023-07-04T20:46:33.582Z"
   },
   {
    "duration": 39,
    "start_time": "2023-07-04T20:46:33.745Z"
   },
   {
    "duration": 131,
    "start_time": "2023-07-04T20:46:33.785Z"
   },
   {
    "duration": 36,
    "start_time": "2023-07-04T20:46:33.918Z"
   },
   {
    "duration": 162,
    "start_time": "2023-07-04T20:46:33.960Z"
   },
   {
    "duration": 362,
    "start_time": "2023-07-04T20:46:34.124Z"
   },
   {
    "duration": 46,
    "start_time": "2023-07-04T20:46:34.488Z"
   },
   {
    "duration": 454,
    "start_time": "2023-07-04T20:46:34.535Z"
   },
   {
    "duration": 26,
    "start_time": "2023-07-04T20:46:34.991Z"
   },
   {
    "duration": 4,
    "start_time": "2023-07-04T20:49:30.639Z"
   },
   {
    "duration": 11,
    "start_time": "2023-07-04T20:52:54.472Z"
   },
   {
    "duration": 23,
    "start_time": "2023-07-04T20:54:39.656Z"
   },
   {
    "duration": 9,
    "start_time": "2023-07-04T20:54:51.564Z"
   },
   {
    "duration": 116,
    "start_time": "2023-07-04T20:54:51.576Z"
   },
   {
    "duration": 42,
    "start_time": "2023-07-04T20:54:51.693Z"
   },
   {
    "duration": 52,
    "start_time": "2023-07-04T20:54:51.737Z"
   },
   {
    "duration": 53,
    "start_time": "2023-07-04T20:54:51.791Z"
   },
   {
    "duration": 23,
    "start_time": "2023-07-04T20:54:51.853Z"
   },
   {
    "duration": 48,
    "start_time": "2023-07-04T20:54:51.878Z"
   },
   {
    "duration": 54,
    "start_time": "2023-07-04T20:54:51.930Z"
   },
   {
    "duration": 5,
    "start_time": "2023-07-04T20:54:51.985Z"
   },
   {
    "duration": 36,
    "start_time": "2023-07-04T20:54:54.221Z"
   },
   {
    "duration": 3,
    "start_time": "2023-07-04T20:56:38.073Z"
   },
   {
    "duration": 2,
    "start_time": "2023-07-04T20:56:42.165Z"
   },
   {
    "duration": 154,
    "start_time": "2023-07-04T21:00:13.169Z"
   },
   {
    "duration": 40,
    "start_time": "2023-07-04T21:00:22.953Z"
   },
   {
    "duration": 50,
    "start_time": "2023-07-04T21:00:33.117Z"
   },
   {
    "duration": 35,
    "start_time": "2023-07-04T21:00:39.959Z"
   },
   {
    "duration": 48,
    "start_time": "2023-07-04T21:00:48.567Z"
   },
   {
    "duration": 129,
    "start_time": "2023-07-04T21:03:31.051Z"
   },
   {
    "duration": 196,
    "start_time": "2023-07-04T21:03:59.268Z"
   },
   {
    "duration": 148,
    "start_time": "2023-07-04T21:04:40.027Z"
   },
   {
    "duration": 95,
    "start_time": "2023-07-04T21:07:27.542Z"
   },
   {
    "duration": 22,
    "start_time": "2023-07-04T21:10:34.327Z"
   },
   {
    "duration": 4,
    "start_time": "2023-07-04T21:11:00.316Z"
   },
   {
    "duration": 64,
    "start_time": "2023-07-04T21:11:00.321Z"
   },
   {
    "duration": 56,
    "start_time": "2023-07-04T21:11:00.387Z"
   },
   {
    "duration": 36,
    "start_time": "2023-07-04T21:11:00.445Z"
   },
   {
    "duration": 40,
    "start_time": "2023-07-04T21:11:00.483Z"
   },
   {
    "duration": 55,
    "start_time": "2023-07-04T21:11:00.527Z"
   },
   {
    "duration": 82,
    "start_time": "2023-07-04T21:11:00.583Z"
   },
   {
    "duration": 22,
    "start_time": "2023-07-04T21:11:00.666Z"
   },
   {
    "duration": 83,
    "start_time": "2023-07-04T21:11:00.689Z"
   },
   {
    "duration": 87,
    "start_time": "2023-07-04T21:11:00.774Z"
   },
   {
    "duration": 33,
    "start_time": "2023-07-04T21:11:00.863Z"
   },
   {
    "duration": 119,
    "start_time": "2023-07-04T21:11:04.226Z"
   },
   {
    "duration": 29,
    "start_time": "2023-07-04T21:12:09.723Z"
   },
   {
    "duration": 23,
    "start_time": "2023-07-04T21:12:36.518Z"
   },
   {
    "duration": 13,
    "start_time": "2023-07-04T21:14:11.381Z"
   },
   {
    "duration": 4,
    "start_time": "2023-07-04T21:14:14.968Z"
   },
   {
    "duration": 85,
    "start_time": "2023-07-04T21:14:14.973Z"
   },
   {
    "duration": 19,
    "start_time": "2023-07-04T21:14:15.060Z"
   },
   {
    "duration": 16,
    "start_time": "2023-07-04T21:14:15.080Z"
   },
   {
    "duration": 56,
    "start_time": "2023-07-04T21:14:15.098Z"
   },
   {
    "duration": 11,
    "start_time": "2023-07-04T21:14:15.156Z"
   },
   {
    "duration": 14,
    "start_time": "2023-07-04T21:14:15.168Z"
   },
   {
    "duration": 5,
    "start_time": "2023-07-04T21:14:15.183Z"
   },
   {
    "duration": 6,
    "start_time": "2023-07-04T21:14:15.190Z"
   },
   {
    "duration": 61,
    "start_time": "2023-07-04T21:14:15.197Z"
   },
   {
    "duration": 17,
    "start_time": "2023-07-04T21:14:15.260Z"
   },
   {
    "duration": 89,
    "start_time": "2023-07-04T21:14:15.278Z"
   },
   {
    "duration": 12,
    "start_time": "2023-07-04T21:14:18.338Z"
   },
   {
    "duration": 4,
    "start_time": "2023-07-04T21:14:28.152Z"
   },
   {
    "duration": 107,
    "start_time": "2023-07-04T21:14:28.158Z"
   },
   {
    "duration": 16,
    "start_time": "2023-07-04T21:14:28.266Z"
   },
   {
    "duration": 21,
    "start_time": "2023-07-04T21:14:28.284Z"
   },
   {
    "duration": 34,
    "start_time": "2023-07-04T21:14:28.309Z"
   },
   {
    "duration": 15,
    "start_time": "2023-07-04T21:14:28.345Z"
   },
   {
    "duration": 15,
    "start_time": "2023-07-04T21:14:28.362Z"
   },
   {
    "duration": 6,
    "start_time": "2023-07-04T21:14:28.379Z"
   },
   {
    "duration": 9,
    "start_time": "2023-07-04T21:14:28.387Z"
   },
   {
    "duration": 53,
    "start_time": "2023-07-04T21:14:28.397Z"
   },
   {
    "duration": 3,
    "start_time": "2023-07-04T21:14:28.451Z"
   },
   {
    "duration": 59,
    "start_time": "2023-07-04T21:14:30.739Z"
   },
   {
    "duration": 16,
    "start_time": "2023-07-04T21:14:48.221Z"
   },
   {
    "duration": 42,
    "start_time": "2023-07-04T21:14:48.239Z"
   },
   {
    "duration": 16,
    "start_time": "2023-07-04T21:14:48.282Z"
   },
   {
    "duration": 48,
    "start_time": "2023-07-04T21:14:48.299Z"
   },
   {
    "duration": 12,
    "start_time": "2023-07-04T21:14:48.348Z"
   },
   {
    "duration": 7,
    "start_time": "2023-07-04T21:14:48.361Z"
   },
   {
    "duration": 11,
    "start_time": "2023-07-04T21:14:48.369Z"
   },
   {
    "duration": 6,
    "start_time": "2023-07-04T21:14:48.381Z"
   },
   {
    "duration": 6,
    "start_time": "2023-07-04T21:14:48.388Z"
   },
   {
    "duration": 43,
    "start_time": "2023-07-04T21:14:48.395Z"
   },
   {
    "duration": 4,
    "start_time": "2023-07-04T21:14:48.439Z"
   },
   {
    "duration": 9,
    "start_time": "2023-07-04T21:14:51.029Z"
   },
   {
    "duration": 84,
    "start_time": "2023-07-04T21:14:51.729Z"
   },
   {
    "duration": 14,
    "start_time": "2023-07-04T21:15:27.738Z"
   },
   {
    "duration": 4,
    "start_time": "2023-07-04T21:16:01.325Z"
   },
   {
    "duration": 103,
    "start_time": "2023-07-04T21:16:01.330Z"
   },
   {
    "duration": 23,
    "start_time": "2023-07-04T21:16:01.435Z"
   },
   {
    "duration": 24,
    "start_time": "2023-07-04T21:16:01.460Z"
   },
   {
    "duration": 79,
    "start_time": "2023-07-04T21:16:01.486Z"
   },
   {
    "duration": 71,
    "start_time": "2023-07-04T21:16:01.566Z"
   },
   {
    "duration": 46,
    "start_time": "2023-07-04T21:16:01.639Z"
   },
   {
    "duration": 93,
    "start_time": "2023-07-04T21:16:01.686Z"
   },
   {
    "duration": 89,
    "start_time": "2023-07-04T21:16:01.780Z"
   },
   {
    "duration": 95,
    "start_time": "2023-07-04T21:16:01.871Z"
   },
   {
    "duration": 41,
    "start_time": "2023-07-04T21:16:01.968Z"
   },
   {
    "duration": 7,
    "start_time": "2023-07-04T21:16:04.338Z"
   },
   {
    "duration": 101,
    "start_time": "2023-07-04T21:16:05.048Z"
   },
   {
    "duration": 22,
    "start_time": "2023-07-04T21:16:14.218Z"
   },
   {
    "duration": 3,
    "start_time": "2023-07-04T21:16:25.063Z"
   },
   {
    "duration": 101,
    "start_time": "2023-07-04T21:16:25.068Z"
   },
   {
    "duration": 18,
    "start_time": "2023-07-04T21:16:25.171Z"
   },
   {
    "duration": 27,
    "start_time": "2023-07-04T21:16:25.191Z"
   },
   {
    "duration": 46,
    "start_time": "2023-07-04T21:16:25.219Z"
   },
   {
    "duration": 6,
    "start_time": "2023-07-04T21:16:25.267Z"
   },
   {
    "duration": 12,
    "start_time": "2023-07-04T21:16:25.274Z"
   },
   {
    "duration": 4,
    "start_time": "2023-07-04T21:16:25.287Z"
   },
   {
    "duration": 4,
    "start_time": "2023-07-04T21:16:25.293Z"
   },
   {
    "duration": 64,
    "start_time": "2023-07-04T21:16:25.299Z"
   },
   {
    "duration": 2,
    "start_time": "2023-07-04T21:16:25.365Z"
   },
   {
    "duration": 97,
    "start_time": "2023-07-04T21:16:28.232Z"
   },
   {
    "duration": 26,
    "start_time": "2023-07-04T21:17:14.618Z"
   },
   {
    "duration": 2,
    "start_time": "2023-07-04T21:23:43.164Z"
   },
   {
    "duration": 3,
    "start_time": "2023-07-04T21:25:30.417Z"
   },
   {
    "duration": 15,
    "start_time": "2023-07-04T21:27:11.751Z"
   },
   {
    "duration": 38,
    "start_time": "2023-07-04T21:27:18.123Z"
   },
   {
    "duration": 29,
    "start_time": "2023-07-04T21:27:47.234Z"
   },
   {
    "duration": 14,
    "start_time": "2023-07-04T21:29:55.229Z"
   },
   {
    "duration": 4,
    "start_time": "2023-07-04T21:30:00.534Z"
   },
   {
    "duration": 24,
    "start_time": "2023-07-04T21:30:02.454Z"
   },
   {
    "duration": 21,
    "start_time": "2023-07-04T21:30:17.354Z"
   },
   {
    "duration": 46,
    "start_time": "2023-07-04T21:30:53.822Z"
   },
   {
    "duration": 40,
    "start_time": "2023-07-04T21:31:31.036Z"
   },
   {
    "duration": 4,
    "start_time": "2023-07-04T21:31:39.831Z"
   },
   {
    "duration": 5,
    "start_time": "2023-07-04T21:31:39.838Z"
   },
   {
    "duration": 4,
    "start_time": "2023-07-04T21:31:39.844Z"
   },
   {
    "duration": 40,
    "start_time": "2023-07-04T21:31:39.849Z"
   },
   {
    "duration": 46,
    "start_time": "2023-07-04T21:31:39.892Z"
   },
   {
    "duration": 11,
    "start_time": "2023-07-04T21:31:39.940Z"
   },
   {
    "duration": 16,
    "start_time": "2023-07-04T21:31:39.952Z"
   },
   {
    "duration": 6,
    "start_time": "2023-07-04T21:31:39.969Z"
   },
   {
    "duration": 13,
    "start_time": "2023-07-04T21:31:39.976Z"
   },
   {
    "duration": 4,
    "start_time": "2023-07-04T21:31:39.990Z"
   },
   {
    "duration": 38,
    "start_time": "2023-07-04T21:31:39.995Z"
   },
   {
    "duration": 30,
    "start_time": "2023-07-04T21:31:40.034Z"
   },
   {
    "duration": 2,
    "start_time": "2023-07-04T21:31:40.066Z"
   },
   {
    "duration": 103,
    "start_time": "2023-07-04T21:31:40.070Z"
   },
   {
    "duration": 2,
    "start_time": "2023-07-04T21:31:40.174Z"
   },
   {
    "duration": 43,
    "start_time": "2023-07-04T21:31:44.929Z"
   },
   {
    "duration": 23,
    "start_time": "2023-07-04T21:32:01.926Z"
   },
   {
    "duration": 3,
    "start_time": "2023-07-04T21:32:06.947Z"
   },
   {
    "duration": 4,
    "start_time": "2023-07-04T21:32:06.952Z"
   },
   {
    "duration": 9,
    "start_time": "2023-07-04T21:32:06.957Z"
   },
   {
    "duration": 66,
    "start_time": "2023-07-04T21:32:06.968Z"
   },
   {
    "duration": 17,
    "start_time": "2023-07-04T21:32:07.038Z"
   },
   {
    "duration": 14,
    "start_time": "2023-07-04T21:32:07.057Z"
   },
   {
    "duration": 17,
    "start_time": "2023-07-04T21:32:07.073Z"
   },
   {
    "duration": 6,
    "start_time": "2023-07-04T21:32:07.092Z"
   },
   {
    "duration": 50,
    "start_time": "2023-07-04T21:32:07.101Z"
   },
   {
    "duration": 4,
    "start_time": "2023-07-04T21:32:07.153Z"
   },
   {
    "duration": 13,
    "start_time": "2023-07-04T21:32:07.158Z"
   },
   {
    "duration": 14,
    "start_time": "2023-07-04T21:32:07.172Z"
   },
   {
    "duration": 2,
    "start_time": "2023-07-04T21:32:07.188Z"
   },
   {
    "duration": 105,
    "start_time": "2023-07-04T21:32:07.191Z"
   },
   {
    "duration": 6,
    "start_time": "2023-07-04T21:32:07.297Z"
   },
   {
    "duration": 20,
    "start_time": "2023-07-04T21:32:12.667Z"
   },
   {
    "duration": 4,
    "start_time": "2023-07-04T21:32:21.860Z"
   },
   {
    "duration": 24,
    "start_time": "2023-07-04T21:32:21.866Z"
   },
   {
    "duration": 3,
    "start_time": "2023-07-04T21:32:21.892Z"
   },
   {
    "duration": 85,
    "start_time": "2023-07-04T21:32:21.897Z"
   },
   {
    "duration": 26,
    "start_time": "2023-07-04T21:32:21.983Z"
   },
   {
    "duration": 50,
    "start_time": "2023-07-04T21:32:22.010Z"
   },
   {
    "duration": 20,
    "start_time": "2023-07-04T21:32:22.062Z"
   },
   {
    "duration": 54,
    "start_time": "2023-07-04T21:32:22.083Z"
   },
   {
    "duration": 28,
    "start_time": "2023-07-04T21:32:22.140Z"
   },
   {
    "duration": 36,
    "start_time": "2023-07-04T21:32:22.169Z"
   },
   {
    "duration": 78,
    "start_time": "2023-07-04T21:32:22.208Z"
   },
   {
    "duration": 61,
    "start_time": "2023-07-04T21:32:22.288Z"
   },
   {
    "duration": 2,
    "start_time": "2023-07-04T21:32:22.351Z"
   },
   {
    "duration": 127,
    "start_time": "2023-07-04T21:32:22.355Z"
   },
   {
    "duration": 3,
    "start_time": "2023-07-04T21:32:22.483Z"
   },
   {
    "duration": 85,
    "start_time": "2023-07-04T21:32:22.487Z"
   },
   {
    "duration": 32,
    "start_time": "2023-07-04T21:34:38.118Z"
   },
   {
    "duration": 83,
    "start_time": "2023-07-04T21:37:34.726Z"
   },
   {
    "duration": 20,
    "start_time": "2023-07-04T21:42:03.968Z"
   },
   {
    "duration": 22,
    "start_time": "2023-07-04T21:42:51.545Z"
   },
   {
    "duration": 4,
    "start_time": "2023-07-04T21:42:58.162Z"
   },
   {
    "duration": 25,
    "start_time": "2023-07-04T21:42:58.168Z"
   },
   {
    "duration": 57,
    "start_time": "2023-07-04T21:42:58.194Z"
   },
   {
    "duration": 70,
    "start_time": "2023-07-04T21:42:58.253Z"
   },
   {
    "duration": 26,
    "start_time": "2023-07-04T21:42:58.334Z"
   },
   {
    "duration": 10,
    "start_time": "2023-07-04T21:42:58.361Z"
   },
   {
    "duration": 11,
    "start_time": "2023-07-04T21:42:58.372Z"
   },
   {
    "duration": 49,
    "start_time": "2023-07-04T21:42:58.384Z"
   },
   {
    "duration": 24,
    "start_time": "2023-07-04T21:42:58.446Z"
   },
   {
    "duration": 12,
    "start_time": "2023-07-04T21:42:58.471Z"
   },
   {
    "duration": 6,
    "start_time": "2023-07-04T21:42:58.484Z"
   },
   {
    "duration": 58,
    "start_time": "2023-07-04T21:42:58.491Z"
   },
   {
    "duration": 6,
    "start_time": "2023-07-04T21:42:58.551Z"
   },
   {
    "duration": 117,
    "start_time": "2023-07-04T21:42:58.559Z"
   },
   {
    "duration": 2,
    "start_time": "2023-07-04T21:42:58.678Z"
   },
   {
    "duration": 38,
    "start_time": "2023-07-04T21:42:58.681Z"
   },
   {
    "duration": 18,
    "start_time": "2023-07-04T21:42:58.731Z"
   },
   {
    "duration": 647,
    "start_time": "2023-07-04T21:43:02.043Z"
   },
   {
    "duration": 584,
    "start_time": "2023-07-04T21:43:08.375Z"
   },
   {
    "duration": 19,
    "start_time": "2023-07-04T21:43:24.446Z"
   },
   {
    "duration": 14,
    "start_time": "2023-07-04T21:44:55.634Z"
   },
   {
    "duration": 26,
    "start_time": "2023-07-04T21:44:55.653Z"
   },
   {
    "duration": 11,
    "start_time": "2023-07-04T21:44:55.680Z"
   },
   {
    "duration": 72,
    "start_time": "2023-07-04T21:44:55.692Z"
   },
   {
    "duration": 17,
    "start_time": "2023-07-04T21:44:55.767Z"
   },
   {
    "duration": 11,
    "start_time": "2023-07-04T21:44:55.786Z"
   },
   {
    "duration": 50,
    "start_time": "2023-07-04T21:44:55.799Z"
   },
   {
    "duration": 8,
    "start_time": "2023-07-04T21:44:55.851Z"
   },
   {
    "duration": 11,
    "start_time": "2023-07-04T21:44:55.860Z"
   },
   {
    "duration": 5,
    "start_time": "2023-07-04T21:44:55.872Z"
   },
   {
    "duration": 10,
    "start_time": "2023-07-04T21:44:55.878Z"
   },
   {
    "duration": 56,
    "start_time": "2023-07-04T21:44:55.889Z"
   },
   {
    "duration": 4,
    "start_time": "2023-07-04T21:44:55.951Z"
   },
   {
    "duration": 125,
    "start_time": "2023-07-04T21:44:55.957Z"
   },
   {
    "duration": 3,
    "start_time": "2023-07-04T21:44:56.084Z"
   },
   {
    "duration": 71,
    "start_time": "2023-07-04T21:44:56.088Z"
   },
   {
    "duration": 5,
    "start_time": "2023-07-04T21:44:56.162Z"
   },
   {
    "duration": 17,
    "start_time": "2023-07-04T21:45:00.646Z"
   },
   {
    "duration": 15,
    "start_time": "2023-07-04T21:45:22.375Z"
   },
   {
    "duration": 714,
    "start_time": "2023-07-04T21:48:09.968Z"
   },
   {
    "duration": 636,
    "start_time": "2023-07-04T21:54:12.473Z"
   },
   {
    "duration": 6,
    "start_time": "2023-07-04T21:54:36.727Z"
   },
   {
    "duration": 26,
    "start_time": "2023-07-04T21:55:24.132Z"
   },
   {
    "duration": 1462,
    "start_time": "2023-07-04T21:55:49.059Z"
   },
   {
    "duration": 155,
    "start_time": "2023-07-04T21:55:58.330Z"
   },
   {
    "duration": 155,
    "start_time": "2023-07-04T21:56:32.277Z"
   },
   {
    "duration": 29,
    "start_time": "2023-07-04T22:02:39.833Z"
   },
   {
    "duration": 14,
    "start_time": "2023-07-04T22:02:46.343Z"
   },
   {
    "duration": 115,
    "start_time": "2023-07-04T22:03:06.041Z"
   },
   {
    "duration": 134,
    "start_time": "2023-07-04T22:03:13.130Z"
   },
   {
    "duration": 24,
    "start_time": "2023-07-04T22:09:31.849Z"
   },
   {
    "duration": 765,
    "start_time": "2023-07-04T22:10:02.630Z"
   },
   {
    "duration": 629,
    "start_time": "2023-07-04T22:16:16.343Z"
   },
   {
    "duration": 23822,
    "start_time": "2023-07-04T22:28:27.168Z"
   },
   {
    "duration": 14,
    "start_time": "2023-07-04T22:29:02.719Z"
   },
   {
    "duration": 13,
    "start_time": "2023-07-04T22:29:02.735Z"
   },
   {
    "duration": 23,
    "start_time": "2023-07-04T22:29:02.749Z"
   },
   {
    "duration": 82,
    "start_time": "2023-07-04T22:29:02.775Z"
   },
   {
    "duration": 24,
    "start_time": "2023-07-04T22:29:02.858Z"
   },
   {
    "duration": 70,
    "start_time": "2023-07-04T22:29:02.885Z"
   },
   {
    "duration": 14,
    "start_time": "2023-07-04T22:29:02.957Z"
   },
   {
    "duration": 56,
    "start_time": "2023-07-04T22:29:02.973Z"
   },
   {
    "duration": 17,
    "start_time": "2023-07-04T22:29:03.034Z"
   },
   {
    "duration": 20,
    "start_time": "2023-07-04T22:29:03.053Z"
   },
   {
    "duration": 18,
    "start_time": "2023-07-04T22:29:03.074Z"
   },
   {
    "duration": 52,
    "start_time": "2023-07-04T22:29:03.094Z"
   },
   {
    "duration": 9,
    "start_time": "2023-07-04T22:29:03.148Z"
   },
   {
    "duration": 104,
    "start_time": "2023-07-04T22:29:03.158Z"
   },
   {
    "duration": 2,
    "start_time": "2023-07-04T22:29:03.264Z"
   },
   {
    "duration": 24,
    "start_time": "2023-07-04T22:29:03.268Z"
   },
   {
    "duration": 34,
    "start_time": "2023-07-04T22:29:03.294Z"
   },
   {
    "duration": 586,
    "start_time": "2023-07-04T22:29:03.330Z"
   },
   {
    "duration": 17,
    "start_time": "2023-07-04T22:29:03.924Z"
   },
   {
    "duration": 1492,
    "start_time": "2023-07-04T22:29:09.079Z"
   },
   {
    "duration": 3,
    "start_time": "2023-07-04T22:29:10.573Z"
   },
   {
    "duration": 5,
    "start_time": "2023-07-04T22:29:10.577Z"
   },
   {
    "duration": 63,
    "start_time": "2023-07-04T22:29:10.584Z"
   },
   {
    "duration": 23,
    "start_time": "2023-07-04T22:29:10.648Z"
   },
   {
    "duration": 11,
    "start_time": "2023-07-04T22:29:10.672Z"
   },
   {
    "duration": 14,
    "start_time": "2023-07-04T22:29:10.684Z"
   },
   {
    "duration": 39,
    "start_time": "2023-07-04T22:29:10.707Z"
   },
   {
    "duration": 14,
    "start_time": "2023-07-04T22:29:10.747Z"
   },
   {
    "duration": 8,
    "start_time": "2023-07-04T22:29:10.764Z"
   },
   {
    "duration": 8,
    "start_time": "2023-07-04T22:29:10.773Z"
   },
   {
    "duration": 46,
    "start_time": "2023-07-04T22:29:10.782Z"
   },
   {
    "duration": 3,
    "start_time": "2023-07-04T22:29:10.829Z"
   },
   {
    "duration": 92,
    "start_time": "2023-07-04T22:29:10.833Z"
   },
   {
    "duration": 6,
    "start_time": "2023-07-04T22:29:10.927Z"
   },
   {
    "duration": 29,
    "start_time": "2023-07-04T22:29:10.934Z"
   },
   {
    "duration": 8,
    "start_time": "2023-07-04T22:29:10.965Z"
   },
   {
    "duration": 620,
    "start_time": "2023-07-04T22:29:10.975Z"
   },
   {
    "duration": 33,
    "start_time": "2023-07-04T22:29:11.596Z"
   },
   {
    "duration": 11501,
    "start_time": "2023-07-04T22:29:11.636Z"
   },
   {
    "duration": 24135,
    "start_time": "2023-07-04T22:29:23.138Z"
   },
   {
    "duration": 4,
    "start_time": "2023-07-04T22:29:47.274Z"
   },
   {
    "duration": 236,
    "start_time": "2023-07-04T22:29:47.279Z"
   },
   {
    "duration": 90,
    "start_time": "2023-07-04T22:29:47.525Z"
   },
   {
    "duration": 97,
    "start_time": "2023-07-04T22:29:47.624Z"
   },
   {
    "duration": 83,
    "start_time": "2023-07-04T22:29:47.723Z"
   },
   {
    "duration": 12,
    "start_time": "2023-07-04T22:29:47.807Z"
   },
   {
    "duration": 209,
    "start_time": "2023-07-04T22:29:47.832Z"
   },
   {
    "duration": 308,
    "start_time": "2023-07-04T22:29:48.045Z"
   },
   {
    "duration": 28,
    "start_time": "2023-07-04T22:29:48.354Z"
   },
   {
    "duration": 329,
    "start_time": "2023-07-04T22:29:48.384Z"
   },
   {
    "duration": 19,
    "start_time": "2023-07-04T22:29:48.723Z"
   },
   {
    "duration": 228,
    "start_time": "2023-07-04T22:32:29.861Z"
   },
   {
    "duration": 23,
    "start_time": "2023-07-04T22:32:34.773Z"
   },
   {
    "duration": 52,
    "start_time": "2023-07-04T22:32:43.107Z"
   },
   {
    "duration": 81,
    "start_time": "2023-07-04T22:33:59.929Z"
   },
   {
    "duration": 88,
    "start_time": "2023-07-04T22:34:26.127Z"
   },
   {
    "duration": 40,
    "start_time": "2023-07-04T22:34:39.929Z"
   },
   {
    "duration": 716,
    "start_time": "2023-07-04T22:36:41.534Z"
   },
   {
    "duration": 7631,
    "start_time": "2023-07-04T22:40:44.510Z"
   },
   {
    "duration": 24345,
    "start_time": "2023-07-04T22:41:00.228Z"
   },
   {
    "duration": 7,
    "start_time": "2023-07-04T22:41:27.924Z"
   },
   {
    "duration": 101,
    "start_time": "2023-07-04T22:42:15.546Z"
   },
   {
    "duration": 20,
    "start_time": "2023-07-04T22:42:35.442Z"
   },
   {
    "duration": 31,
    "start_time": "2023-07-04T22:42:47.044Z"
   },
   {
    "duration": 38,
    "start_time": "2023-07-04T22:42:57.919Z"
   },
   {
    "duration": 45,
    "start_time": "2023-07-04T22:44:57.693Z"
   },
   {
    "duration": 200,
    "start_time": "2023-07-04T22:54:46.625Z"
   },
   {
    "duration": 373,
    "start_time": "2023-07-04T22:55:42.276Z"
   },
   {
    "duration": 200,
    "start_time": "2023-07-04T22:55:52.426Z"
   },
   {
    "duration": 7654,
    "start_time": "2023-07-04T22:57:57.791Z"
   },
   {
    "duration": 4714,
    "start_time": "2023-07-04T22:58:12.124Z"
   },
   {
    "duration": 4,
    "start_time": "2023-07-04T22:58:27.172Z"
   },
   {
    "duration": 4735,
    "start_time": "2023-07-04T22:59:06.020Z"
   },
   {
    "duration": 11792,
    "start_time": "2023-07-04T22:59:13.349Z"
   },
   {
    "duration": 6,
    "start_time": "2023-07-04T22:59:35.890Z"
   },
   {
    "duration": 1613,
    "start_time": "2023-07-04T23:00:05.798Z"
   },
   {
    "duration": 8,
    "start_time": "2023-07-04T23:00:07.422Z"
   },
   {
    "duration": 24,
    "start_time": "2023-07-04T23:00:07.435Z"
   },
   {
    "duration": 57,
    "start_time": "2023-07-04T23:00:07.460Z"
   },
   {
    "duration": 30,
    "start_time": "2023-07-04T23:00:07.519Z"
   },
   {
    "duration": 13,
    "start_time": "2023-07-04T23:00:07.550Z"
   },
   {
    "duration": 13,
    "start_time": "2023-07-04T23:00:07.566Z"
   },
   {
    "duration": 58,
    "start_time": "2023-07-04T23:00:07.580Z"
   },
   {
    "duration": 17,
    "start_time": "2023-07-04T23:00:07.640Z"
   },
   {
    "duration": 14,
    "start_time": "2023-07-04T23:00:07.659Z"
   },
   {
    "duration": 43,
    "start_time": "2023-07-04T23:00:07.674Z"
   },
   {
    "duration": 57,
    "start_time": "2023-07-04T23:00:07.718Z"
   },
   {
    "duration": 7,
    "start_time": "2023-07-04T23:00:07.776Z"
   },
   {
    "duration": 106,
    "start_time": "2023-07-04T23:00:07.785Z"
   },
   {
    "duration": 3,
    "start_time": "2023-07-04T23:00:07.892Z"
   },
   {
    "duration": 68,
    "start_time": "2023-07-04T23:00:07.896Z"
   },
   {
    "duration": 8,
    "start_time": "2023-07-04T23:00:07.966Z"
   },
   {
    "duration": 606,
    "start_time": "2023-07-04T23:00:07.976Z"
   },
   {
    "duration": 27,
    "start_time": "2023-07-04T23:00:08.584Z"
   },
   {
    "duration": 12126,
    "start_time": "2023-07-04T23:00:08.613Z"
   },
   {
    "duration": 24317,
    "start_time": "2023-07-04T23:00:20.742Z"
   },
   {
    "duration": 4,
    "start_time": "2023-07-04T23:00:45.060Z"
   },
   {
    "duration": 58,
    "start_time": "2023-07-04T23:00:45.065Z"
   },
   {
    "duration": 126,
    "start_time": "2023-07-04T23:00:45.127Z"
   },
   {
    "duration": 79,
    "start_time": "2023-07-04T23:00:45.254Z"
   },
   {
    "duration": 75,
    "start_time": "2023-07-04T23:00:45.338Z"
   },
   {
    "duration": 139,
    "start_time": "2023-07-04T23:00:45.414Z"
   },
   {
    "duration": 7200,
    "start_time": "2023-07-04T23:00:45.554Z"
   },
   {
    "duration": 11369,
    "start_time": "2023-07-04T23:00:52.756Z"
   },
   {
    "duration": 15,
    "start_time": "2023-07-04T23:01:04.138Z"
   },
   {
    "duration": 769,
    "start_time": "2023-07-04T23:01:04.155Z"
   },
   {
    "duration": 172,
    "start_time": "2023-07-04T23:01:04.941Z"
   },
   {
    "duration": 18,
    "start_time": "2023-07-04T23:01:05.114Z"
   },
   {
    "duration": 174,
    "start_time": "2023-07-04T23:04:25.603Z"
   },
   {
    "duration": 16121,
    "start_time": "2023-07-04T23:06:17.430Z"
   },
   {
    "duration": 12798,
    "start_time": "2023-07-04T23:06:35.623Z"
   },
   {
    "duration": 15,
    "start_time": "2023-07-04T23:06:51.230Z"
   },
   {
    "duration": 187,
    "start_time": "2023-07-04T23:07:03.238Z"
   },
   {
    "duration": 17623,
    "start_time": "2023-07-04T23:12:55.830Z"
   },
   {
    "duration": 9661,
    "start_time": "2023-07-04T23:13:15.731Z"
   },
   {
    "duration": 4,
    "start_time": "2023-07-04T23:13:27.853Z"
   },
   {
    "duration": 257,
    "start_time": "2023-07-04T23:13:55.984Z"
   },
   {
    "duration": 16259,
    "start_time": "2023-07-04T23:14:46.220Z"
   },
   {
    "duration": 26258,
    "start_time": "2023-07-04T23:15:04.633Z"
   },
   {
    "duration": 5,
    "start_time": "2023-07-04T23:15:47.573Z"
   },
   {
    "duration": 253,
    "start_time": "2023-07-04T23:15:59.079Z"
   },
   {
    "duration": 324,
    "start_time": "2023-07-04T23:16:08.418Z"
   },
   {
    "duration": 337,
    "start_time": "2023-07-04T23:16:11.332Z"
   },
   {
    "duration": 317,
    "start_time": "2023-07-04T23:16:14.530Z"
   },
   {
    "duration": 838,
    "start_time": "2023-07-04T23:16:36.125Z"
   },
   {
    "duration": 19,
    "start_time": "2023-07-04T23:16:49.122Z"
   },
   {
    "duration": 135,
    "start_time": "2023-07-04T23:17:39.330Z"
   },
   {
    "duration": 276,
    "start_time": "2023-07-04T23:17:48.133Z"
   },
   {
    "duration": 184,
    "start_time": "2023-07-04T23:18:08.756Z"
   },
   {
    "duration": 180,
    "start_time": "2023-07-04T23:18:14.678Z"
   },
   {
    "duration": 15914,
    "start_time": "2023-07-04T23:20:50.442Z"
   },
   {
    "duration": 23465,
    "start_time": "2023-07-04T23:21:15.922Z"
   },
   {
    "duration": 22,
    "start_time": "2023-07-04T23:21:41.329Z"
   },
   {
    "duration": 169,
    "start_time": "2023-07-04T23:21:53.536Z"
   },
   {
    "duration": 155,
    "start_time": "2023-07-04T23:23:34.339Z"
   },
   {
    "duration": 166,
    "start_time": "2023-07-04T23:23:41.013Z"
   },
   {
    "duration": 208,
    "start_time": "2023-07-04T23:23:48.556Z"
   },
   {
    "duration": 340,
    "start_time": "2023-07-04T23:23:58.220Z"
   },
   {
    "duration": 627,
    "start_time": "2023-07-04T23:25:02.624Z"
   },
   {
    "duration": 11578,
    "start_time": "2023-07-04T23:25:56.251Z"
   },
   {
    "duration": 15160,
    "start_time": "2023-07-04T23:26:29.118Z"
   },
   {
    "duration": 11,
    "start_time": "2023-07-04T23:26:51.738Z"
   },
   {
    "duration": 73,
    "start_time": "2023-07-04T23:27:34.423Z"
   },
   {
    "duration": 24279,
    "start_time": "2023-07-04T23:29:40.842Z"
   },
   {
    "duration": 27654,
    "start_time": "2023-07-04T23:30:12.955Z"
   },
   {
    "duration": 9,
    "start_time": "2023-07-04T23:30:58.024Z"
   },
   {
    "duration": 7985,
    "start_time": "2023-07-04T23:31:18.625Z"
   },
   {
    "duration": 20852,
    "start_time": "2023-07-04T23:31:32.438Z"
   },
   {
    "duration": 3,
    "start_time": "2023-07-04T23:32:00.344Z"
   },
   {
    "duration": 31053,
    "start_time": "2023-07-04T23:32:11.235Z"
   },
   {
    "duration": 26464,
    "start_time": "2023-07-04T23:32:44.479Z"
   },
   {
    "duration": 4,
    "start_time": "2023-07-04T23:33:13.087Z"
   },
   {
    "duration": 38531,
    "start_time": "2023-07-04T23:33:19.168Z"
   },
   {
    "duration": 28815,
    "start_time": "2023-07-04T23:34:00.632Z"
   },
   {
    "duration": 9,
    "start_time": "2023-07-04T23:34:33.228Z"
   },
   {
    "duration": 26932,
    "start_time": "2023-07-04T23:35:05.832Z"
   },
   {
    "duration": 24071,
    "start_time": "2023-07-04T23:35:35.388Z"
   },
   {
    "duration": 5,
    "start_time": "2023-07-04T23:36:02.881Z"
   },
   {
    "duration": 23013,
    "start_time": "2023-07-04T23:36:13.396Z"
   },
   {
    "duration": 26192,
    "start_time": "2023-07-04T23:36:38.538Z"
   },
   {
    "duration": 4,
    "start_time": "2023-07-04T23:37:08.486Z"
   },
   {
    "duration": 254,
    "start_time": "2023-07-04T23:37:44.038Z"
   },
   {
    "duration": 7710,
    "start_time": "2023-07-04T23:38:21.359Z"
   },
   {
    "duration": 1237,
    "start_time": "2023-07-04T23:38:34.924Z"
   },
   {
    "duration": 2005,
    "start_time": "2023-07-04T23:38:40.624Z"
   },
   {
    "duration": 2689,
    "start_time": "2023-07-04T23:38:45.651Z"
   },
   {
    "duration": 2781,
    "start_time": "2023-07-04T23:39:02.759Z"
   },
   {
    "duration": 3394,
    "start_time": "2023-07-04T23:39:09.865Z"
   },
   {
    "duration": 4022,
    "start_time": "2023-07-04T23:39:18.661Z"
   },
   {
    "duration": 22405,
    "start_time": "2023-07-04T23:43:37.185Z"
   },
   {
    "duration": 30822,
    "start_time": "2023-07-04T23:44:09.051Z"
   },
   {
    "duration": 45707,
    "start_time": "2023-07-04T23:44:46.149Z"
   },
   {
    "duration": 74086,
    "start_time": "2023-07-04T23:45:53.139Z"
   },
   {
    "duration": 58584,
    "start_time": "2023-07-04T23:47:47.268Z"
   },
   {
    "duration": 50746,
    "start_time": "2023-07-04T23:49:07.675Z"
   },
   {
    "duration": 43350,
    "start_time": "2023-07-04T23:50:19.567Z"
   },
   {
    "duration": 36155,
    "start_time": "2023-07-04T23:51:19.036Z"
   },
   {
    "duration": 40974,
    "start_time": "2023-07-04T23:52:05.090Z"
   },
   {
    "duration": 45500,
    "start_time": "2023-07-04T23:52:56.487Z"
   },
   {
    "duration": 22298,
    "start_time": "2023-07-04T23:53:50.327Z"
   },
   {
    "duration": 29860,
    "start_time": "2023-07-04T23:54:45.170Z"
   },
   {
    "duration": 14697,
    "start_time": "2023-07-04T23:55:32.718Z"
   },
   {
    "duration": 7731,
    "start_time": "2023-07-04T23:55:58.751Z"
   },
   {
    "duration": 18301,
    "start_time": "2023-07-04T23:56:20.767Z"
   },
   {
    "duration": 15483,
    "start_time": "2023-07-04T23:56:47.596Z"
   },
   {
    "duration": 16027,
    "start_time": "2023-07-04T23:57:19.490Z"
   },
   {
    "duration": 17448,
    "start_time": "2023-07-04T23:58:01.565Z"
   },
   {
    "duration": 17478,
    "start_time": "2023-07-04T23:58:26.556Z"
   },
   {
    "duration": 18396,
    "start_time": "2023-07-04T23:58:52.276Z"
   },
   {
    "duration": 6654,
    "start_time": "2023-07-04T23:59:14.834Z"
   },
   {
    "duration": 3707,
    "start_time": "2023-07-04T23:59:33.322Z"
   },
   {
    "duration": 3789,
    "start_time": "2023-07-04T23:59:48.828Z"
   },
   {
    "duration": 3907,
    "start_time": "2023-07-05T00:00:06.529Z"
   },
   {
    "duration": 4103,
    "start_time": "2023-07-05T00:00:16.677Z"
   },
   {
    "duration": 4140,
    "start_time": "2023-07-05T00:00:24.877Z"
   },
   {
    "duration": 3950,
    "start_time": "2023-07-05T00:00:39.046Z"
   },
   {
    "duration": 25237,
    "start_time": "2023-07-05T00:00:45.733Z"
   },
   {
    "duration": 26047,
    "start_time": "2023-07-05T00:01:13.925Z"
   },
   {
    "duration": 4,
    "start_time": "2023-07-05T00:01:39.974Z"
   },
   {
    "duration": 4,
    "start_time": "2023-07-05T00:01:44.477Z"
   },
   {
    "duration": 187,
    "start_time": "2023-07-05T00:01:58.759Z"
   },
   {
    "duration": 271,
    "start_time": "2023-07-05T00:02:04.317Z"
   },
   {
    "duration": 4653,
    "start_time": "2023-07-05T00:02:15.630Z"
   },
   {
    "duration": 6718,
    "start_time": "2023-07-05T00:02:27.154Z"
   },
   {
    "duration": 4,
    "start_time": "2023-07-05T00:02:44.227Z"
   },
   {
    "duration": 8543,
    "start_time": "2023-07-05T00:03:05.479Z"
   },
   {
    "duration": 6453,
    "start_time": "2023-07-05T00:03:19.825Z"
   },
   {
    "duration": 4,
    "start_time": "2023-07-05T00:03:28.932Z"
   },
   {
    "duration": 158,
    "start_time": "2023-07-05T00:03:44.791Z"
   },
   {
    "duration": 1467,
    "start_time": "2023-07-05T00:08:37.680Z"
   },
   {
    "duration": 3,
    "start_time": "2023-07-05T00:08:39.149Z"
   },
   {
    "duration": 7,
    "start_time": "2023-07-05T00:08:39.153Z"
   },
   {
    "duration": 52,
    "start_time": "2023-07-05T00:08:39.162Z"
   },
   {
    "duration": 24,
    "start_time": "2023-07-05T00:08:39.218Z"
   },
   {
    "duration": 10,
    "start_time": "2023-07-05T00:08:39.244Z"
   },
   {
    "duration": 11,
    "start_time": "2023-07-05T00:08:39.256Z"
   },
   {
    "duration": 8,
    "start_time": "2023-07-05T00:08:39.268Z"
   },
   {
    "duration": 48,
    "start_time": "2023-07-05T00:08:39.277Z"
   },
   {
    "duration": 7,
    "start_time": "2023-07-05T00:08:39.329Z"
   },
   {
    "duration": 8,
    "start_time": "2023-07-05T00:08:39.337Z"
   },
   {
    "duration": 17,
    "start_time": "2023-07-05T00:08:39.346Z"
   },
   {
    "duration": 3,
    "start_time": "2023-07-05T00:08:39.364Z"
   },
   {
    "duration": 93,
    "start_time": "2023-07-05T00:08:39.369Z"
   },
   {
    "duration": 3,
    "start_time": "2023-07-05T00:08:39.463Z"
   },
   {
    "duration": 67,
    "start_time": "2023-07-05T00:08:39.467Z"
   },
   {
    "duration": 5,
    "start_time": "2023-07-05T00:08:39.535Z"
   },
   {
    "duration": 579,
    "start_time": "2023-07-05T00:08:39.542Z"
   },
   {
    "duration": 10,
    "start_time": "2023-07-05T00:08:40.126Z"
   },
   {
    "duration": 11112,
    "start_time": "2023-07-05T00:08:40.138Z"
   },
   {
    "duration": 23001,
    "start_time": "2023-07-05T00:08:51.251Z"
   },
   {
    "duration": 3,
    "start_time": "2023-07-05T00:09:14.253Z"
   },
   {
    "duration": 84,
    "start_time": "2023-07-05T00:09:14.258Z"
   },
   {
    "duration": 31,
    "start_time": "2023-07-05T00:09:14.401Z"
   },
   {
    "duration": 115,
    "start_time": "2023-07-05T00:09:14.502Z"
   },
   {
    "duration": 13,
    "start_time": "2023-07-05T00:09:14.618Z"
   },
   {
    "duration": 201,
    "start_time": "2023-07-05T00:09:14.639Z"
   },
   {
    "duration": 8706,
    "start_time": "2023-07-05T00:09:14.841Z"
   },
   {
    "duration": 5949,
    "start_time": "2023-07-05T00:09:23.549Z"
   },
   {
    "duration": 8,
    "start_time": "2023-07-05T00:09:29.512Z"
   },
   {
    "duration": 714,
    "start_time": "2023-07-05T00:09:29.530Z"
   },
   {
    "duration": 184,
    "start_time": "2023-07-05T00:09:30.245Z"
   },
   {
    "duration": 11,
    "start_time": "2023-07-05T00:09:30.431Z"
   }
  ],
  "kernelspec": {
   "display_name": "Python 3 (ipykernel)",
   "language": "python",
   "name": "python3"
  },
  "language_info": {
   "codemirror_mode": {
    "name": "ipython",
    "version": 3
   },
   "file_extension": ".py",
   "mimetype": "text/x-python",
   "name": "python",
   "nbconvert_exporter": "python",
   "pygments_lexer": "ipython3",
   "version": "3.10.9"
  },
  "toc": {
   "base_numbering": 1,
   "nav_menu": {},
   "number_sections": true,
   "sideBar": true,
   "skip_h1_title": true,
   "title_cell": "Table of Contents",
   "title_sidebar": "Contents",
   "toc_cell": false,
   "toc_position": {},
   "toc_section_display": true,
   "toc_window_display": false
  }
 },
 "nbformat": 4,
 "nbformat_minor": 5
}
