{
 "cells": [
  {
   "cell_type": "markdown",
   "metadata": {},
   "source": [
    "# Проект: Защита персональных данных клиентов"
   ]
  },
  {
   "cell_type": "markdown",
   "metadata": {},
   "source": [
    "# Задача\n",
    "Мне нужно защитить данные клиентов страховой компании. В ходе проекта мною будет разработан такой метод преобразования данных, что по ним будет сложно восстановить персональную информацию.\n",
    "\n",
    "# Условие\n",
    "Нужно защитить данные, чтобы при преобразовании качество моделей машинного обучения не ухудшилось."
   ]
  },
  {
   "cell_type": "markdown",
   "metadata": {},
   "source": [
    "# Стек\n",
    "Pandas, Numpy, Sklearn"
   ]
  },
  {
   "cell_type": "markdown",
   "metadata": {},
   "source": [
    "## Загрузка данных"
   ]
  },
  {
   "cell_type": "code",
   "execution_count": 1,
   "metadata": {},
   "outputs": [],
   "source": [
    "import pandas as pd\n",
    "import numpy as np\n",
    "\n",
    "from sklearn.linear_model import LinearRegression\n",
    "from sklearn.model_selection import train_test_split\n",
    "from sklearn.metrics import r2_score"
   ]
  },
  {
   "cell_type": "code",
   "execution_count": 2,
   "metadata": {},
   "outputs": [],
   "source": [
    "state = 12345"
   ]
  },
  {
   "cell_type": "code",
   "execution_count": 3,
   "metadata": {},
   "outputs": [],
   "source": [
    "try:\n",
    "    data = pd.read_csv('/datasets/insurance.csv')\n",
    "except: \n",
    "    data = pd.read_csv(\"C:/Users/gorok/Desktop/datasets/insurance.csv\")"
   ]
  },
  {
   "cell_type": "code",
   "execution_count": 4,
   "metadata": {},
   "outputs": [
    {
     "data": {
      "text/html": [
       "<div>\n",
       "<style scoped>\n",
       "    .dataframe tbody tr th:only-of-type {\n",
       "        vertical-align: middle;\n",
       "    }\n",
       "\n",
       "    .dataframe tbody tr th {\n",
       "        vertical-align: top;\n",
       "    }\n",
       "\n",
       "    .dataframe thead th {\n",
       "        text-align: right;\n",
       "    }\n",
       "</style>\n",
       "<table border=\"1\" class=\"dataframe\">\n",
       "  <thead>\n",
       "    <tr style=\"text-align: right;\">\n",
       "      <th></th>\n",
       "      <th>Пол</th>\n",
       "      <th>Возраст</th>\n",
       "      <th>Зарплата</th>\n",
       "      <th>Члены семьи</th>\n",
       "      <th>Страховые выплаты</th>\n",
       "    </tr>\n",
       "  </thead>\n",
       "  <tbody>\n",
       "    <tr>\n",
       "      <th>0</th>\n",
       "      <td>1</td>\n",
       "      <td>41.0</td>\n",
       "      <td>49600.0</td>\n",
       "      <td>1</td>\n",
       "      <td>0</td>\n",
       "    </tr>\n",
       "    <tr>\n",
       "      <th>1</th>\n",
       "      <td>0</td>\n",
       "      <td>46.0</td>\n",
       "      <td>38000.0</td>\n",
       "      <td>1</td>\n",
       "      <td>1</td>\n",
       "    </tr>\n",
       "    <tr>\n",
       "      <th>2</th>\n",
       "      <td>0</td>\n",
       "      <td>29.0</td>\n",
       "      <td>21000.0</td>\n",
       "      <td>0</td>\n",
       "      <td>0</td>\n",
       "    </tr>\n",
       "    <tr>\n",
       "      <th>3</th>\n",
       "      <td>0</td>\n",
       "      <td>21.0</td>\n",
       "      <td>41700.0</td>\n",
       "      <td>2</td>\n",
       "      <td>0</td>\n",
       "    </tr>\n",
       "    <tr>\n",
       "      <th>4</th>\n",
       "      <td>1</td>\n",
       "      <td>28.0</td>\n",
       "      <td>26100.0</td>\n",
       "      <td>0</td>\n",
       "      <td>0</td>\n",
       "    </tr>\n",
       "  </tbody>\n",
       "</table>\n",
       "</div>"
      ],
      "text/plain": [
       "   Пол  Возраст  Зарплата  Члены семьи  Страховые выплаты\n",
       "0    1     41.0   49600.0            1                  0\n",
       "1    0     46.0   38000.0            1                  1\n",
       "2    0     29.0   21000.0            0                  0\n",
       "3    0     21.0   41700.0            2                  0\n",
       "4    1     28.0   26100.0            0                  0"
      ]
     },
     "execution_count": 4,
     "metadata": {},
     "output_type": "execute_result"
    }
   ],
   "source": [
    "data.head()"
   ]
  },
  {
   "cell_type": "code",
   "execution_count": 5,
   "metadata": {},
   "outputs": [
    {
     "name": "stdout",
     "output_type": "stream",
     "text": [
      "<class 'pandas.core.frame.DataFrame'>\n",
      "RangeIndex: 5000 entries, 0 to 4999\n",
      "Data columns (total 5 columns):\n",
      " #   Column             Non-Null Count  Dtype  \n",
      "---  ------             --------------  -----  \n",
      " 0   Пол                5000 non-null   int64  \n",
      " 1   Возраст            5000 non-null   float64\n",
      " 2   Зарплата           5000 non-null   float64\n",
      " 3   Члены семьи        5000 non-null   int64  \n",
      " 4   Страховые выплаты  5000 non-null   int64  \n",
      "dtypes: float64(2), int64(3)\n",
      "memory usage: 195.4 KB\n"
     ]
    }
   ],
   "source": [
    "data.info()"
   ]
  },
  {
   "cell_type": "markdown",
   "metadata": {},
   "source": [
    "## Умножение матриц"
   ]
  },
  {
   "cell_type": "markdown",
   "metadata": {},
   "source": [
    "Обозначения:\n",
    "\n",
    "- $X$ — матрица признаков (нулевой столбец состоит из единиц)\n",
    "\n",
    "- $y$ — вектор целевого признака\n",
    "\n",
    "- $P$ — матрица, на которую умножаются признаки\n",
    "\n",
    "- $w$ — вектор весов линейной регрессии (нулевой элемент равен сдвигу)"
   ]
  },
  {
   "cell_type": "markdown",
   "metadata": {},
   "source": [
    "Предсказания:\n",
    "\n",
    "$$\n",
    "a = Xw\n",
    "$$\n",
    "\n",
    "Задача обучения:\n",
    "\n",
    "$$\n",
    "w = \\arg\\min_w MSE(Xw, y)\n",
    "$$\n",
    "\n",
    "Формула обучения:\n",
    "\n",
    "$$\n",
    "w = (X^T X)^{-1} X^T y\n",
    "$$"
   ]
  },
  {
   "cell_type": "code",
   "execution_count": 6,
   "metadata": {},
   "outputs": [],
   "source": [
    "features = data.drop('Страховые выплаты', axis=1).values\n",
    "target = data['Страховые выплаты'].values"
   ]
  },
  {
   "cell_type": "code",
   "execution_count": 7,
   "metadata": {},
   "outputs": [],
   "source": [
    "features_train, features_test, target_train, target_test = train_test_split(\n",
    "    features, target, test_size=0.15, random_state=state)"
   ]
  },
  {
   "cell_type": "code",
   "execution_count": 8,
   "metadata": {},
   "outputs": [
    {
     "data": {
      "text/plain": [
       "0.41021696040877087"
      ]
     },
     "execution_count": 8,
     "metadata": {},
     "output_type": "execute_result"
    }
   ],
   "source": [
    "model = LinearRegression()\n",
    "model.fit(features_train, target_train)\n",
    "res = model.predict(features_test)\n",
    "r2_score(target_test, res)"
   ]
  },
  {
   "cell_type": "markdown",
   "metadata": {},
   "source": [
    "Создали обратимую матрицу, ее определитель(детерминатор) не равен нулю: проверил в онлайн калькуляторе, можно было бы проверить при помощи linalg inv"
   ]
  },
  {
   "cell_type": "code",
   "execution_count": 9,
   "metadata": {},
   "outputs": [],
   "source": [
    "inv_matrix = [[57,74,7,79],[68,94,10,40],[72,54,27,54],[24,8,98,43]]"
   ]
  },
  {
   "cell_type": "code",
   "execution_count": 10,
   "metadata": {},
   "outputs": [
    {
     "data": {
      "text/plain": [
       "array([[57, 74,  7, 79],\n",
       "       [68, 94, 10, 40],\n",
       "       [72, 54, 27, 54],\n",
       "       [24,  8, 98, 43]])"
      ]
     },
     "execution_count": 10,
     "metadata": {},
     "output_type": "execute_result"
    }
   ],
   "source": [
    "inv_matrix = np.array(inv_matrix)\n",
    "inv_matrix"
   ]
  },
  {
   "cell_type": "code",
   "execution_count": 11,
   "metadata": {},
   "outputs": [
    {
     "data": {
      "text/plain": [
       "11913570.000000013"
      ]
     },
     "execution_count": 11,
     "metadata": {},
     "output_type": "execute_result"
    }
   ],
   "source": [
    "np.linalg.det(inv_matrix)"
   ]
  },
  {
   "cell_type": "code",
   "execution_count": 12,
   "metadata": {},
   "outputs": [],
   "source": [
    "features_train, features_test, target_train, target_test = train_test_split(\n",
    "    features@inv_matrix, target, test_size=0.15, random_state=state)"
   ]
  },
  {
   "cell_type": "code",
   "execution_count": 13,
   "metadata": {},
   "outputs": [
    {
     "data": {
      "text/plain": [
       "0.4102169604087207"
      ]
     },
     "execution_count": 13,
     "metadata": {},
     "output_type": "execute_result"
    }
   ],
   "source": [
    "model = LinearRegression()\n",
    "model.fit(features_train, target_train)\n",
    "res = model.predict(features_test)\n",
    "r2_score(target_test, res)"
   ]
  },
  {
   "cell_type": "markdown",
   "metadata": {},
   "source": [
    "**Ответ:** Результат не изменился \n",
    "\n",
    "**Обоснование:** $$\n",
    "$$\n",
    "w = (X^T X)^{-1} X^T y\n",
    "$$\n",
    "\n",
    "$$ \n",
    "w' = ((XP)^T XP)^{-1} (XP)^T y\n",
    "$$\n",
    "где P - обратимая матрица\n",
    "$$ \n",
    "w' = (P^T (X^T X)P)^{-1} P^T X^T y\n",
    "$$\n",
    "В минус -1 степень возводятся квадратные матрицы\n",
    "$$ \n",
    "w' = P^{-1} (X^T X)^{-1} (P^T)^{-1} P^T X^T y\n",
    "$$\n",
    "$$\n",
    "PP^{-1}=E\n",
    "$$\n",
    "Подсавляем самое первое выражение\n",
    "$$\n",
    "w' = P^{-1} w $$"
   ]
  },
  {
   "cell_type": "markdown",
   "metadata": {},
   "source": [
    "## Алгоритм преобразования"
   ]
  },
  {
   "cell_type": "markdown",
   "metadata": {},
   "source": [
    "**Алгоритм**"
   ]
  },
  {
   "cell_type": "markdown",
   "metadata": {},
   "source": [
    "Мой алгоритм заключается в последовательном умножении заранее выбранной матрицы на матрицу признак и траспонировании матриц и результатов\n",
    "1. Транспонируем выбранную матрицу \n",
    "2. Транспонируем матрицу признаков, чтобы размерность матриц совпала\n",
    "3. Перемножаем получившиеся матрицы в соответсвующем порядке\n",
    "4. Транспонируем результат, чтобы вернуть матрицу в исходное состояние и далее умножить \n",
    "5. Умножаем матрицу из 4 пункта на матрицу, которую мы транспонировали в пункте 1\n",
    "** Выбранная матрица должна быть обратимой\n",
    "\n",
    "Результат: Качество линейной регрессии не изменилось, исходные данные изменены до неузнаваемости "
   ]
  },
  {
   "cell_type": "markdown",
   "metadata": {},
   "source": [
    "Основываясь на ранее полученных результатах, получаем обоснование правдоподобности нашего алгоритма. Наша матрица признаков несколько раз умножается на обратимую матрицу, что в свою очередь означает:\n",
    "\n",
    "$$\n",
    "w = (X^T X)^{-1} X^T y\n",
    "$$\n",
    "\n",
    "$$ \n",
    "w' = ((XP)^T XP)^{-1} (XP)^T y\n",
    "$$\n",
    "где P - обратимая матрица\n",
    "$$ \n",
    "w' = (P^T (X^T X)P)^{-1} P^T X^T y\n",
    "$$\n",
    "В минус -1 степень возводятся квадратные матрицы\n",
    "$$ \n",
    "w' = P^{-1} (X^T X)^{-1} (P^T)^{-1} P^T X^T y\n",
    "$$\n",
    "$$\n",
    "PP^{-1}=E\n",
    "$$\n",
    "Подсавляем самое первое выражение\n",
    "$$\n",
    "w' = P^{-1} w $$"
   ]
  },
  {
   "cell_type": "markdown",
   "metadata": {},
   "source": [
    "**Обоснование:**\n",
    "\n",
    "Используемые свойства:\n",
    "$$\n",
    "(AB)^T=B^T A^T\n",
    "$$\n",
    "$$\n",
    "(AB)^{-1} = B^{-1} A^{-1}\n",
    "$$\n",
    "$$\n",
    "A A^{-1} = A^{-1} A = E\n",
    "$$\n",
    "$$\n",
    "AE = EA = A\n",
    "$$\n",
    "Доказательство:\n",
    "$$\n",
    "a = Xw = XEw = XPP^{-1}w = (XP)P^{-1}w = (XP)w'\n",
    "$$\n",
    "\\\n",
    "Требуется доказать, что предсказания не изменятся, имеем  $a =  Xw$,   $a' = X'w'$\n",
    "\\\n",
    "\\\n",
    "$$\n",
    "    w = (X^T X)^{-1} X^T y\n",
    "$$\n",
    "\\\n",
    "$$\n",
    "w' = ((XP)^T XP)^{-1} (XP)^T y\n",
    "$$\n",
    "$$\n",
    "w' = (P^T (X^T X) P)^{-1} (XP)^T y\n",
    "$$\n",
    "$$\n",
    "w' = (P^T (X^T X) P)^{-1} P^T X^T y\n",
    "$$\n",
    "\n"
   ]
  },
  {
   "cell_type": "markdown",
   "metadata": {},
   "source": [
    "## Проверка алгоритма"
   ]
  },
  {
   "cell_type": "markdown",
   "metadata": {},
   "source": [
    "### Исходная модель "
   ]
  },
  {
   "cell_type": "code",
   "execution_count": 14,
   "metadata": {},
   "outputs": [],
   "source": [
    "features = data.drop('Страховые выплаты', axis=1).values\n",
    "target = data['Страховые выплаты'].values"
   ]
  },
  {
   "cell_type": "code",
   "execution_count": 15,
   "metadata": {},
   "outputs": [],
   "source": [
    "features_train, features_test, target_train, target_test = train_test_split(\n",
    "    features, target, test_size=0.15, random_state=state)"
   ]
  },
  {
   "cell_type": "code",
   "execution_count": 16,
   "metadata": {},
   "outputs": [
    {
     "data": {
      "text/plain": [
       "0.41021696040877087"
      ]
     },
     "execution_count": 16,
     "metadata": {},
     "output_type": "execute_result"
    }
   ],
   "source": [
    "model = LinearRegression()\n",
    "model.fit(features_train, target_train)\n",
    "res = model.predict(features_test)\n",
    "r2_score(target_test, res)"
   ]
  },
  {
   "cell_type": "markdown",
   "metadata": {},
   "source": [
    "### Модель с использованием алгоритма скрытия персональных данных"
   ]
  },
  {
   "cell_type": "code",
   "execution_count": 17,
   "metadata": {},
   "outputs": [],
   "source": [
    "our_inv_matrix = [[17,20,4,11],[4,9,11,23],[22,40,49,33],[34,16,25,43]]\n",
    "our_inv_matrix = np.array(our_inv_matrix)"
   ]
  },
  {
   "cell_type": "code",
   "execution_count": 18,
   "metadata": {},
   "outputs": [
    {
     "data": {
      "text/plain": [
       "364429.9999999998"
      ]
     },
     "execution_count": 18,
     "metadata": {},
     "output_type": "execute_result"
    }
   ],
   "source": [
    "np.linalg.det(our_inv_matrix)"
   ]
  },
  {
   "cell_type": "code",
   "execution_count": 19,
   "metadata": {},
   "outputs": [],
   "source": [
    "new_features = (our_inv_matrix.T @ features.T).T @ our_inv_matrix\n",
    "new_target = data['Страховые выплаты'].values"
   ]
  },
  {
   "cell_type": "code",
   "execution_count": 20,
   "metadata": {},
   "outputs": [],
   "source": [
    "features_train_A, features_test_A, target_train_A, target_test_A = train_test_split(\n",
    "new_features, new_target, random_state=state, test_size=0.15)"
   ]
  },
  {
   "cell_type": "code",
   "execution_count": 21,
   "metadata": {},
   "outputs": [
    {
     "data": {
      "text/plain": [
       "0.41021696040866973"
      ]
     },
     "execution_count": 21,
     "metadata": {},
     "output_type": "execute_result"
    }
   ],
   "source": [
    "model = LinearRegression()\n",
    "model.fit(features_train_A, target_train_A)\n",
    "res = model.predict(features_test_A)\n",
    "r2_score(target_test_A, res)"
   ]
  },
  {
   "cell_type": "markdown",
   "metadata": {},
   "source": [
    "### Обратный алгоритм"
   ]
  },
  {
   "cell_type": "code",
   "execution_count": 22,
   "metadata": {},
   "outputs": [
    {
     "data": {
      "text/html": [
       "<div>\n",
       "<style scoped>\n",
       "    .dataframe tbody tr th:only-of-type {\n",
       "        vertical-align: middle;\n",
       "    }\n",
       "\n",
       "    .dataframe tbody tr th {\n",
       "        vertical-align: top;\n",
       "    }\n",
       "\n",
       "    .dataframe thead th {\n",
       "        text-align: right;\n",
       "    }\n",
       "</style>\n",
       "<table border=\"1\" class=\"dataframe\">\n",
       "  <thead>\n",
       "    <tr style=\"text-align: right;\">\n",
       "      <th></th>\n",
       "      <th>Пол</th>\n",
       "      <th>Возраст</th>\n",
       "      <th>Зарплата</th>\n",
       "      <th>Члены семьи</th>\n",
       "      <th>Страховые выплаты</th>\n",
       "    </tr>\n",
       "  </thead>\n",
       "  <tbody>\n",
       "    <tr>\n",
       "      <th>0</th>\n",
       "      <td>1</td>\n",
       "      <td>41.0</td>\n",
       "      <td>49600.0</td>\n",
       "      <td>1</td>\n",
       "      <td>0</td>\n",
       "    </tr>\n",
       "    <tr>\n",
       "      <th>1</th>\n",
       "      <td>0</td>\n",
       "      <td>46.0</td>\n",
       "      <td>38000.0</td>\n",
       "      <td>1</td>\n",
       "      <td>1</td>\n",
       "    </tr>\n",
       "    <tr>\n",
       "      <th>2</th>\n",
       "      <td>0</td>\n",
       "      <td>29.0</td>\n",
       "      <td>21000.0</td>\n",
       "      <td>0</td>\n",
       "      <td>0</td>\n",
       "    </tr>\n",
       "    <tr>\n",
       "      <th>3</th>\n",
       "      <td>0</td>\n",
       "      <td>21.0</td>\n",
       "      <td>41700.0</td>\n",
       "      <td>2</td>\n",
       "      <td>0</td>\n",
       "    </tr>\n",
       "    <tr>\n",
       "      <th>4</th>\n",
       "      <td>1</td>\n",
       "      <td>28.0</td>\n",
       "      <td>26100.0</td>\n",
       "      <td>0</td>\n",
       "      <td>0</td>\n",
       "    </tr>\n",
       "  </tbody>\n",
       "</table>\n",
       "</div>"
      ],
      "text/plain": [
       "   Пол  Возраст  Зарплата  Члены семьи  Страховые выплаты\n",
       "0    1     41.0   49600.0            1                  0\n",
       "1    0     46.0   38000.0            1                  1\n",
       "2    0     29.0   21000.0            0                  0\n",
       "3    0     21.0   41700.0            2                  0\n",
       "4    1     28.0   26100.0            0                  0"
      ]
     },
     "execution_count": 22,
     "metadata": {},
     "output_type": "execute_result"
    }
   ],
   "source": [
    "data.head()"
   ]
  },
  {
   "cell_type": "code",
   "execution_count": 23,
   "metadata": {},
   "outputs": [
    {
     "data": {
      "text/plain": [
       "array([[1.35656133e+08, 1.63127897e+08, 1.86252160e+08, 2.08291191e+08],\n",
       "       [1.03946542e+08, 1.24991086e+08, 1.42711146e+08, 1.59601154e+08],\n",
       "       [5.74467120e+07, 6.90761010e+07, 7.88696410e+07, 8.82044870e+07],\n",
       "       ...,\n",
       "       [9.27104680e+07, 1.11487604e+08, 1.27290404e+08, 1.42351092e+08],\n",
       "       [8.94354090e+07, 1.07547310e+08, 1.22791433e+08, 1.37321366e+08],\n",
       "       [1.11035469e+08, 1.33523300e+08, 1.52450183e+08, 1.70488352e+08]])"
      ]
     },
     "execution_count": 23,
     "metadata": {},
     "output_type": "execute_result"
    }
   ],
   "source": [
    "new_features"
   ]
  },
  {
   "cell_type": "code",
   "execution_count": 24,
   "metadata": {},
   "outputs": [
    {
     "data": {
      "text/plain": [
       "array([[ 1.00000000e+00,  4.10000000e+01,  4.96000000e+04,\n",
       "         1.00000000e+00],\n",
       "       [ 5.29401312e-11,  4.60000000e+01,  3.80000000e+04,\n",
       "         1.00000000e+00],\n",
       "       [ 2.84255929e-11,  2.90000000e+01,  2.10000000e+04,\n",
       "        -2.20537882e-11],\n",
       "       ...,\n",
       "       [ 3.38470323e-12,  2.00000000e+01,  3.39000000e+04,\n",
       "         2.00000000e+00],\n",
       "       [ 1.00000000e+00,  2.20000000e+01,  3.27000000e+04,\n",
       "         3.00000000e+00],\n",
       "       [ 1.00000000e+00,  2.80000000e+01,  4.06000000e+04,\n",
       "         1.00000000e+00]])"
      ]
     },
     "execution_count": 24,
     "metadata": {},
     "output_type": "execute_result"
    }
   ],
   "source": [
    "new_features = (np.linalg.inv(our_inv_matrix.T) @ new_features.T).T @ np.linalg.inv(our_inv_matrix)\n",
    "new_features"
   ]
  },
  {
   "cell_type": "markdown",
   "metadata": {},
   "source": [
    "## Вывод "
   ]
  },
  {
   "cell_type": "markdown",
   "metadata": {},
   "source": [
    "В данном проекте, мною был представлен метод сокрытия личных данных путем алгоритма с использоваем матриц и матричных операций. Был предоставлен обратный алгоритм. Качество линейной регрессии не искажается после преобразования\n",
    "\n",
    "Заказчик может отправлять данные заранее их преобразовав. Это может понадобиться при передаче данных между филиалами компании. Ко всему прочему, так как качество линейной регрессии не пострадало, заказчик может давать такие преобразованные данных специалистам по машинному обучени, если в этом есть необходимость "
   ]
  }
 ],
 "metadata": {
  "ExecuteTimeLog": [
   {
    "duration": 55,
    "start_time": "2023-08-07T17:14:11.886Z"
   },
   {
    "duration": 443,
    "start_time": "2023-08-07T17:14:14.643Z"
   },
   {
    "duration": 91,
    "start_time": "2023-08-07T17:14:15.088Z"
   },
   {
    "duration": 12,
    "start_time": "2023-08-07T17:14:34.199Z"
   },
   {
    "duration": 38,
    "start_time": "2023-08-07T17:14:54.094Z"
   },
   {
    "duration": 36,
    "start_time": "2023-08-07T17:15:06.144Z"
   },
   {
    "duration": 13,
    "start_time": "2023-08-07T17:15:09.129Z"
   },
   {
    "duration": 747,
    "start_time": "2023-08-07T17:25:52.754Z"
   },
   {
    "duration": 2,
    "start_time": "2023-08-07T17:26:45.795Z"
   },
   {
    "duration": 77,
    "start_time": "2023-08-07T17:27:13.395Z"
   },
   {
    "duration": 8,
    "start_time": "2023-08-07T17:27:19.637Z"
   },
   {
    "duration": 8,
    "start_time": "2023-08-07T17:27:23.875Z"
   },
   {
    "duration": 2,
    "start_time": "2023-08-07T17:27:48.650Z"
   },
   {
    "duration": 16,
    "start_time": "2023-08-07T17:28:48.485Z"
   },
   {
    "duration": 5,
    "start_time": "2023-08-07T17:29:16.449Z"
   },
   {
    "duration": 3,
    "start_time": "2023-08-07T17:30:01.381Z"
   },
   {
    "duration": 3,
    "start_time": "2023-08-07T17:33:46.696Z"
   },
   {
    "duration": 3,
    "start_time": "2023-08-07T17:33:50.653Z"
   },
   {
    "duration": 4,
    "start_time": "2023-08-07T17:34:08.035Z"
   },
   {
    "duration": 9,
    "start_time": "2023-08-07T17:34:28.604Z"
   },
   {
    "duration": 8,
    "start_time": "2023-08-07T17:34:43.455Z"
   },
   {
    "duration": 5,
    "start_time": "2023-08-07T17:34:49.333Z"
   },
   {
    "duration": 7,
    "start_time": "2023-08-07T17:34:51.289Z"
   },
   {
    "duration": 2,
    "start_time": "2023-08-07T17:35:58.576Z"
   },
   {
    "duration": 6,
    "start_time": "2023-08-07T17:36:06.880Z"
   },
   {
    "duration": 11,
    "start_time": "2023-08-07T17:37:02.321Z"
   },
   {
    "duration": 10,
    "start_time": "2023-08-07T17:37:09.329Z"
   },
   {
    "duration": 6,
    "start_time": "2023-08-07T17:37:15.268Z"
   },
   {
    "duration": 12,
    "start_time": "2023-08-07T17:42:33.866Z"
   },
   {
    "duration": 8,
    "start_time": "2023-08-07T17:43:07.251Z"
   },
   {
    "duration": 3,
    "start_time": "2023-08-07T17:44:43.527Z"
   },
   {
    "duration": 7,
    "start_time": "2023-08-07T17:44:48.402Z"
   },
   {
    "duration": 8,
    "start_time": "2023-08-07T17:49:05.236Z"
   },
   {
    "duration": 11,
    "start_time": "2023-08-07T17:49:08.060Z"
   },
   {
    "duration": 9,
    "start_time": "2023-08-07T17:49:25.837Z"
   },
   {
    "duration": 4,
    "start_time": "2023-08-07T17:49:38.375Z"
   },
   {
    "duration": 2,
    "start_time": "2023-08-07T17:49:41.978Z"
   },
   {
    "duration": 5,
    "start_time": "2023-08-07T17:49:49.045Z"
   },
   {
    "duration": 3,
    "start_time": "2023-08-07T17:50:52.142Z"
   },
   {
    "duration": 4,
    "start_time": "2023-08-07T17:52:04.273Z"
   },
   {
    "duration": 7,
    "start_time": "2023-08-07T17:52:11.461Z"
   },
   {
    "duration": 11,
    "start_time": "2023-08-07T18:20:26.260Z"
   },
   {
    "duration": 265,
    "start_time": "2023-08-07T18:20:39.761Z"
   },
   {
    "duration": 309,
    "start_time": "2023-08-07T18:20:58.284Z"
   },
   {
    "duration": 309,
    "start_time": "2023-08-07T18:21:22.371Z"
   },
   {
    "duration": 11,
    "start_time": "2023-08-07T18:22:07.908Z"
   },
   {
    "duration": 5,
    "start_time": "2023-08-07T18:22:19.340Z"
   },
   {
    "duration": 259,
    "start_time": "2023-08-07T18:22:20.799Z"
   },
   {
    "duration": 259,
    "start_time": "2023-08-07T18:22:23.102Z"
   },
   {
    "duration": 772353,
    "start_time": "2023-08-07T18:22:45.513Z"
   },
   {
    "duration": 8,
    "start_time": "2023-08-07T19:54:13.132Z"
   },
   {
    "duration": 9,
    "start_time": "2023-08-07T19:54:40.726Z"
   },
   {
    "duration": 3,
    "start_time": "2023-08-07T19:54:50.599Z"
   },
   {
    "duration": 7,
    "start_time": "2023-08-07T19:54:54.318Z"
   },
   {
    "duration": 2,
    "start_time": "2023-08-07T19:55:07.190Z"
   },
   {
    "duration": 6,
    "start_time": "2023-08-07T19:55:07.725Z"
   },
   {
    "duration": 8,
    "start_time": "2023-08-07T19:56:49.531Z"
   },
   {
    "duration": 6,
    "start_time": "2023-08-07T19:56:57.206Z"
   },
   {
    "duration": 7,
    "start_time": "2023-08-07T20:21:41.306Z"
   },
   {
    "duration": 6,
    "start_time": "2023-08-07T20:21:46.023Z"
   },
   {
    "duration": 6,
    "start_time": "2023-08-07T20:21:55.283Z"
   },
   {
    "duration": 6,
    "start_time": "2023-08-07T20:22:10.667Z"
   },
   {
    "duration": 6,
    "start_time": "2023-08-07T20:22:20.451Z"
   },
   {
    "duration": 6,
    "start_time": "2023-08-07T20:22:27.733Z"
   },
   {
    "duration": 7,
    "start_time": "2023-08-07T20:22:39.860Z"
   },
   {
    "duration": 8,
    "start_time": "2023-08-07T20:22:57.106Z"
   },
   {
    "duration": 6,
    "start_time": "2023-08-07T20:23:01.655Z"
   },
   {
    "duration": 3,
    "start_time": "2023-08-07T20:23:17.831Z"
   },
   {
    "duration": 4,
    "start_time": "2023-08-07T20:23:18.398Z"
   },
   {
    "duration": 3,
    "start_time": "2023-08-07T20:23:19.803Z"
   },
   {
    "duration": 7,
    "start_time": "2023-08-07T20:23:20.316Z"
   },
   {
    "duration": 3,
    "start_time": "2023-08-07T20:23:30.070Z"
   },
   {
    "duration": 4,
    "start_time": "2023-08-07T20:23:30.461Z"
   },
   {
    "duration": 3,
    "start_time": "2023-08-07T20:23:31.087Z"
   },
   {
    "duration": 8,
    "start_time": "2023-08-07T20:23:31.535Z"
   },
   {
    "duration": 3,
    "start_time": "2023-08-07T20:23:52.643Z"
   },
   {
    "duration": 5,
    "start_time": "2023-08-07T20:23:53.049Z"
   },
   {
    "duration": 3,
    "start_time": "2023-08-07T20:23:53.893Z"
   },
   {
    "duration": 7,
    "start_time": "2023-08-07T20:23:54.413Z"
   },
   {
    "duration": 100,
    "start_time": "2023-08-07T20:24:01.108Z"
   },
   {
    "duration": 3,
    "start_time": "2023-08-07T20:24:05.059Z"
   },
   {
    "duration": 4,
    "start_time": "2023-08-07T20:24:05.817Z"
   },
   {
    "duration": 3,
    "start_time": "2023-08-07T20:24:06.597Z"
   },
   {
    "duration": 7,
    "start_time": "2023-08-07T20:24:07.018Z"
   },
   {
    "duration": 8,
    "start_time": "2023-08-07T20:27:29.612Z"
   },
   {
    "duration": 3,
    "start_time": "2023-08-07T20:32:01.715Z"
   },
   {
    "duration": 7,
    "start_time": "2023-08-07T20:32:11.855Z"
   },
   {
    "duration": 6,
    "start_time": "2023-08-07T20:32:19.837Z"
   },
   {
    "duration": 5,
    "start_time": "2023-08-07T20:33:52.023Z"
   },
   {
    "duration": 7,
    "start_time": "2023-08-07T20:33:54.263Z"
   },
   {
    "duration": 4,
    "start_time": "2023-08-07T20:46:27.957Z"
   },
   {
    "duration": 8,
    "start_time": "2023-08-07T20:46:28.418Z"
   },
   {
    "duration": 7,
    "start_time": "2023-08-07T20:46:59.119Z"
   },
   {
    "duration": 4,
    "start_time": "2023-08-07T20:47:05.452Z"
   },
   {
    "duration": 48,
    "start_time": "2023-08-07T20:47:05.458Z"
   },
   {
    "duration": 68,
    "start_time": "2023-08-07T20:47:05.508Z"
   },
   {
    "duration": 13,
    "start_time": "2023-08-07T20:47:05.578Z"
   },
   {
    "duration": 37,
    "start_time": "2023-08-07T20:47:05.593Z"
   },
   {
    "duration": 56,
    "start_time": "2023-08-07T20:47:05.632Z"
   },
   {
    "duration": 42,
    "start_time": "2023-08-07T20:47:05.689Z"
   },
   {
    "duration": 21,
    "start_time": "2023-08-07T20:47:05.733Z"
   },
   {
    "duration": 43,
    "start_time": "2023-08-07T20:47:05.755Z"
   },
   {
    "duration": 33,
    "start_time": "2023-08-07T20:47:05.800Z"
   },
   {
    "duration": 4,
    "start_time": "2023-08-07T20:47:08.306Z"
   },
   {
    "duration": 7,
    "start_time": "2023-08-07T20:47:08.917Z"
   },
   {
    "duration": 4,
    "start_time": "2023-08-07T20:47:32.317Z"
   },
   {
    "duration": 7,
    "start_time": "2023-08-07T20:47:32.849Z"
   },
   {
    "duration": 5,
    "start_time": "2023-08-07T20:47:42.513Z"
   },
   {
    "duration": 7,
    "start_time": "2023-08-07T20:47:43.221Z"
   },
   {
    "duration": 6,
    "start_time": "2023-08-07T20:49:16.121Z"
   },
   {
    "duration": 6,
    "start_time": "2023-08-07T20:49:33.593Z"
   },
   {
    "duration": 54,
    "start_time": "2023-08-09T18:22:02.635Z"
   },
   {
    "duration": 1260,
    "start_time": "2023-08-09T18:22:06.978Z"
   },
   {
    "duration": 8,
    "start_time": "2023-08-09T18:22:08.241Z"
   },
   {
    "duration": 130,
    "start_time": "2023-08-09T18:22:08.252Z"
   },
   {
    "duration": 16,
    "start_time": "2023-08-09T18:22:08.385Z"
   },
   {
    "duration": 5,
    "start_time": "2023-08-09T18:22:08.404Z"
   },
   {
    "duration": 38,
    "start_time": "2023-08-09T18:22:08.412Z"
   },
   {
    "duration": 16,
    "start_time": "2023-08-09T18:22:08.453Z"
   },
   {
    "duration": 4,
    "start_time": "2023-08-09T18:22:08.472Z"
   },
   {
    "duration": 19,
    "start_time": "2023-08-09T18:22:08.478Z"
   },
   {
    "duration": 14,
    "start_time": "2023-08-09T18:22:08.499Z"
   },
   {
    "duration": 4,
    "start_time": "2023-08-09T18:22:11.653Z"
   },
   {
    "duration": 9,
    "start_time": "2023-08-09T18:22:11.978Z"
   },
   {
    "duration": 5,
    "start_time": "2023-08-09T18:35:12.795Z"
   },
   {
    "duration": 17,
    "start_time": "2023-08-09T18:35:13.808Z"
   },
   {
    "duration": 7,
    "start_time": "2023-08-09T18:35:22.893Z"
   },
   {
    "duration": 21,
    "start_time": "2023-08-09T18:35:39.061Z"
   },
   {
    "duration": 7,
    "start_time": "2023-08-09T18:36:30.427Z"
   },
   {
    "duration": 9,
    "start_time": "2023-08-09T18:36:31.031Z"
   },
   {
    "duration": 7,
    "start_time": "2023-08-09T18:37:47.201Z"
   },
   {
    "duration": 4,
    "start_time": "2023-08-09T18:38:09.903Z"
   },
   {
    "duration": 7,
    "start_time": "2023-08-09T18:38:42.899Z"
   },
   {
    "duration": 65,
    "start_time": "2023-08-09T18:39:41.130Z"
   },
   {
    "duration": 6,
    "start_time": "2023-08-09T18:39:55.888Z"
   },
   {
    "duration": 8,
    "start_time": "2023-08-09T18:40:12.457Z"
   },
   {
    "duration": 4,
    "start_time": "2023-08-09T18:40:58.799Z"
   },
   {
    "duration": 11,
    "start_time": "2023-08-09T18:42:31.910Z"
   },
   {
    "duration": 19,
    "start_time": "2023-08-09T18:42:34.409Z"
   },
   {
    "duration": 9,
    "start_time": "2023-08-09T18:42:47.883Z"
   },
   {
    "duration": 5,
    "start_time": "2023-08-09T18:56:30.271Z"
   },
   {
    "duration": 9,
    "start_time": "2023-08-09T18:57:02.677Z"
   },
   {
    "duration": 3,
    "start_time": "2023-08-09T18:57:21.817Z"
   },
   {
    "duration": 5,
    "start_time": "2023-08-09T19:00:38.574Z"
   },
   {
    "duration": 8,
    "start_time": "2023-08-09T19:00:53.983Z"
   },
   {
    "duration": 3,
    "start_time": "2023-08-09T19:01:06.326Z"
   },
   {
    "duration": 17,
    "start_time": "2023-08-09T19:01:59.002Z"
   },
   {
    "duration": 4,
    "start_time": "2023-08-09T19:02:05.588Z"
   },
   {
    "duration": 129,
    "start_time": "2023-08-09T19:02:05.968Z"
   },
   {
    "duration": 3,
    "start_time": "2023-08-09T19:02:06.341Z"
   },
   {
    "duration": 99,
    "start_time": "2023-08-09T19:02:21.506Z"
   },
   {
    "duration": 93,
    "start_time": "2023-08-09T19:02:42.337Z"
   },
   {
    "duration": 82,
    "start_time": "2023-08-09T19:02:54.763Z"
   },
   {
    "duration": 3,
    "start_time": "2023-08-09T19:02:59.125Z"
   },
   {
    "duration": 7,
    "start_time": "2023-08-09T19:03:00.397Z"
   },
   {
    "duration": 6,
    "start_time": "2023-08-09T19:03:03.993Z"
   },
   {
    "duration": 4,
    "start_time": "2023-08-09T19:03:15.902Z"
   },
   {
    "duration": 9,
    "start_time": "2023-08-09T19:03:22.904Z"
   },
   {
    "duration": 4,
    "start_time": "2023-08-09T19:03:30.657Z"
   },
   {
    "duration": 5,
    "start_time": "2023-08-09T19:03:39.845Z"
   },
   {
    "duration": 5,
    "start_time": "2023-08-09T19:03:43.746Z"
   },
   {
    "duration": 3,
    "start_time": "2023-08-09T19:03:45.669Z"
   },
   {
    "duration": 7,
    "start_time": "2023-08-09T19:03:47.895Z"
   },
   {
    "duration": 4,
    "start_time": "2023-08-09T19:04:48.795Z"
   },
   {
    "duration": 9,
    "start_time": "2023-08-09T19:05:05.059Z"
   },
   {
    "duration": 5,
    "start_time": "2023-08-09T19:05:14.461Z"
   },
   {
    "duration": 4,
    "start_time": "2023-08-09T19:08:55.693Z"
   },
   {
    "duration": 7,
    "start_time": "2023-08-09T19:09:00.937Z"
   },
   {
    "duration": 6,
    "start_time": "2023-08-09T19:09:32.090Z"
   },
   {
    "duration": 10,
    "start_time": "2023-08-09T19:09:41.339Z"
   },
   {
    "duration": 6,
    "start_time": "2023-08-09T19:09:46.298Z"
   },
   {
    "duration": 3,
    "start_time": "2023-08-09T19:10:29.526Z"
   },
   {
    "duration": 7,
    "start_time": "2023-08-09T19:10:30.037Z"
   },
   {
    "duration": 6,
    "start_time": "2023-08-09T19:10:35.730Z"
   },
   {
    "duration": 6,
    "start_time": "2023-08-09T19:10:39.264Z"
   },
   {
    "duration": 6,
    "start_time": "2023-08-09T19:10:44.501Z"
   },
   {
    "duration": 6,
    "start_time": "2023-08-09T19:14:44.229Z"
   },
   {
    "duration": 4,
    "start_time": "2023-08-09T19:16:18.442Z"
   },
   {
    "duration": 6,
    "start_time": "2023-08-09T19:16:44.457Z"
   },
   {
    "duration": 6,
    "start_time": "2023-08-09T19:18:09.070Z"
   },
   {
    "duration": 11,
    "start_time": "2023-08-09T19:20:02.448Z"
   },
   {
    "duration": 11,
    "start_time": "2023-08-09T19:20:08.598Z"
   },
   {
    "duration": 10,
    "start_time": "2023-08-09T19:20:13.583Z"
   },
   {
    "duration": 7,
    "start_time": "2023-08-09T19:20:19.993Z"
   },
   {
    "duration": 5,
    "start_time": "2023-08-09T19:20:44.691Z"
   },
   {
    "duration": 7,
    "start_time": "2023-08-09T19:20:49.653Z"
   },
   {
    "duration": 6,
    "start_time": "2023-08-09T19:20:58.702Z"
   },
   {
    "duration": 8,
    "start_time": "2023-08-09T19:21:09.565Z"
   },
   {
    "duration": 7,
    "start_time": "2023-08-09T19:22:25.227Z"
   },
   {
    "duration": 6,
    "start_time": "2023-08-09T19:23:08.894Z"
   },
   {
    "duration": 4,
    "start_time": "2023-08-09T19:27:55.120Z"
   },
   {
    "duration": 3,
    "start_time": "2023-08-09T19:27:55.712Z"
   },
   {
    "duration": 8,
    "start_time": "2023-08-09T19:27:56.206Z"
   },
   {
    "duration": 9,
    "start_time": "2023-08-09T19:28:01.257Z"
   },
   {
    "duration": 4,
    "start_time": "2023-08-09T19:28:02.098Z"
   },
   {
    "duration": 10,
    "start_time": "2023-08-09T19:28:02.514Z"
   },
   {
    "duration": 9,
    "start_time": "2023-08-09T19:28:20.195Z"
   },
   {
    "duration": 5,
    "start_time": "2023-08-09T19:28:32.810Z"
   },
   {
    "duration": 6,
    "start_time": "2023-08-09T19:28:38.413Z"
   },
   {
    "duration": 8,
    "start_time": "2023-08-09T19:28:52.897Z"
   },
   {
    "duration": 6,
    "start_time": "2023-08-09T19:29:02.523Z"
   },
   {
    "duration": 6,
    "start_time": "2023-08-09T19:29:24.698Z"
   },
   {
    "duration": 4,
    "start_time": "2023-08-09T19:29:48.190Z"
   },
   {
    "duration": 4,
    "start_time": "2023-08-09T19:29:48.588Z"
   },
   {
    "duration": 7,
    "start_time": "2023-08-09T19:29:48.929Z"
   },
   {
    "duration": 11,
    "start_time": "2023-08-09T19:29:50.403Z"
   },
   {
    "duration": 5,
    "start_time": "2023-08-09T19:29:51.898Z"
   },
   {
    "duration": 6,
    "start_time": "2023-08-09T19:29:54.779Z"
   },
   {
    "duration": 1174,
    "start_time": "2023-08-09T19:36:49.407Z"
   },
   {
    "duration": 3,
    "start_time": "2023-08-09T19:36:50.584Z"
   },
   {
    "duration": 50,
    "start_time": "2023-08-09T19:36:50.588Z"
   },
   {
    "duration": 12,
    "start_time": "2023-08-09T19:36:50.640Z"
   },
   {
    "duration": 6,
    "start_time": "2023-08-09T19:36:50.655Z"
   },
   {
    "duration": 6,
    "start_time": "2023-08-09T19:36:50.663Z"
   },
   {
    "duration": 13,
    "start_time": "2023-08-09T19:36:50.671Z"
   },
   {
    "duration": 8,
    "start_time": "2023-08-09T19:36:50.686Z"
   },
   {
    "duration": 14,
    "start_time": "2023-08-09T19:36:50.695Z"
   },
   {
    "duration": 12,
    "start_time": "2023-08-09T19:36:50.711Z"
   },
   {
    "duration": 8,
    "start_time": "2023-08-09T19:36:50.724Z"
   },
   {
    "duration": 5,
    "start_time": "2023-08-09T19:36:50.734Z"
   },
   {
    "duration": 11,
    "start_time": "2023-08-09T19:36:50.740Z"
   },
   {
    "duration": 4,
    "start_time": "2023-08-09T19:36:50.753Z"
   },
   {
    "duration": 6,
    "start_time": "2023-08-09T19:36:50.759Z"
   },
   {
    "duration": 12,
    "start_time": "2023-08-09T19:36:50.766Z"
   },
   {
    "duration": 30,
    "start_time": "2023-08-09T19:36:50.779Z"
   },
   {
    "duration": 6,
    "start_time": "2023-08-09T19:36:50.811Z"
   },
   {
    "duration": 8,
    "start_time": "2023-08-09T19:36:50.818Z"
   },
   {
    "duration": 8,
    "start_time": "2023-08-09T19:36:50.827Z"
   },
   {
    "duration": 10,
    "start_time": "2023-08-09T19:36:50.837Z"
   },
   {
    "duration": 13,
    "start_time": "2023-08-09T19:36:50.849Z"
   },
   {
    "duration": 12,
    "start_time": "2023-08-09T19:36:50.864Z"
   },
   {
    "duration": 1145,
    "start_time": "2023-08-09T19:37:21.195Z"
   },
   {
    "duration": 3,
    "start_time": "2023-08-09T19:37:22.342Z"
   },
   {
    "duration": 135,
    "start_time": "2023-08-09T19:37:22.347Z"
   },
   {
    "duration": 20,
    "start_time": "2023-08-09T19:37:22.483Z"
   },
   {
    "duration": 23,
    "start_time": "2023-08-09T19:37:22.505Z"
   },
   {
    "duration": 40,
    "start_time": "2023-08-09T19:37:22.530Z"
   },
   {
    "duration": 34,
    "start_time": "2023-08-09T19:37:22.572Z"
   },
   {
    "duration": 24,
    "start_time": "2023-08-09T19:37:22.608Z"
   },
   {
    "duration": 18,
    "start_time": "2023-08-09T19:37:22.634Z"
   },
   {
    "duration": 35,
    "start_time": "2023-08-09T19:37:22.654Z"
   },
   {
    "duration": 23,
    "start_time": "2023-08-09T19:37:22.691Z"
   },
   {
    "duration": 49,
    "start_time": "2023-08-09T19:37:22.716Z"
   },
   {
    "duration": 56,
    "start_time": "2023-08-09T19:37:22.766Z"
   },
   {
    "duration": 33,
    "start_time": "2023-08-09T19:37:22.824Z"
   },
   {
    "duration": 24,
    "start_time": "2023-08-09T19:37:22.858Z"
   },
   {
    "duration": 19,
    "start_time": "2023-08-09T19:37:22.884Z"
   },
   {
    "duration": 60,
    "start_time": "2023-08-09T19:37:22.904Z"
   },
   {
    "duration": 19,
    "start_time": "2023-08-09T19:37:22.967Z"
   },
   {
    "duration": 29,
    "start_time": "2023-08-09T19:37:22.987Z"
   },
   {
    "duration": 75,
    "start_time": "2023-08-09T19:37:23.018Z"
   },
   {
    "duration": 68,
    "start_time": "2023-08-09T19:37:23.094Z"
   },
   {
    "duration": 30,
    "start_time": "2023-08-09T19:39:29.827Z"
   },
   {
    "duration": 1224,
    "start_time": "2023-08-09T19:39:38.495Z"
   },
   {
    "duration": 3,
    "start_time": "2023-08-09T19:39:39.721Z"
   },
   {
    "duration": 49,
    "start_time": "2023-08-09T19:39:39.726Z"
   },
   {
    "duration": 17,
    "start_time": "2023-08-09T19:39:39.777Z"
   },
   {
    "duration": 11,
    "start_time": "2023-08-09T19:39:39.796Z"
   },
   {
    "duration": 6,
    "start_time": "2023-08-09T19:39:39.809Z"
   },
   {
    "duration": 5,
    "start_time": "2023-08-09T19:39:39.817Z"
   },
   {
    "duration": 10,
    "start_time": "2023-08-09T19:39:39.823Z"
   },
   {
    "duration": 3,
    "start_time": "2023-08-09T19:39:39.835Z"
   },
   {
    "duration": 6,
    "start_time": "2023-08-09T19:39:39.840Z"
   },
   {
    "duration": 7,
    "start_time": "2023-08-09T19:39:39.847Z"
   },
   {
    "duration": 8,
    "start_time": "2023-08-09T19:39:39.855Z"
   },
   {
    "duration": 4,
    "start_time": "2023-08-09T19:39:39.865Z"
   },
   {
    "duration": 37,
    "start_time": "2023-08-09T19:39:39.872Z"
   },
   {
    "duration": 10,
    "start_time": "2023-08-09T19:39:39.911Z"
   },
   {
    "duration": 4,
    "start_time": "2023-08-09T19:39:39.922Z"
   },
   {
    "duration": 7,
    "start_time": "2023-08-09T19:39:39.927Z"
   },
   {
    "duration": 9,
    "start_time": "2023-08-09T19:39:39.935Z"
   },
   {
    "duration": 19,
    "start_time": "2023-08-09T19:39:39.945Z"
   },
   {
    "duration": 15,
    "start_time": "2023-08-09T19:39:39.966Z"
   },
   {
    "duration": 14,
    "start_time": "2023-08-09T19:39:39.983Z"
   },
   {
    "duration": 13,
    "start_time": "2023-08-09T19:39:39.999Z"
   },
   {
    "duration": 3438,
    "start_time": "2023-08-10T06:08:41.889Z"
   },
   {
    "duration": 2,
    "start_time": "2023-08-10T06:08:45.329Z"
   },
   {
    "duration": 93,
    "start_time": "2023-08-10T06:08:45.333Z"
   },
   {
    "duration": 20,
    "start_time": "2023-08-10T06:08:45.428Z"
   },
   {
    "duration": 13,
    "start_time": "2023-08-10T06:08:45.450Z"
   },
   {
    "duration": 14,
    "start_time": "2023-08-10T06:08:45.465Z"
   },
   {
    "duration": 6,
    "start_time": "2023-08-10T06:08:45.481Z"
   },
   {
    "duration": 10,
    "start_time": "2023-08-10T06:08:45.489Z"
   },
   {
    "duration": 5,
    "start_time": "2023-08-10T06:08:45.501Z"
   },
   {
    "duration": 9,
    "start_time": "2023-08-10T06:08:45.509Z"
   },
   {
    "duration": 6,
    "start_time": "2023-08-10T06:08:45.538Z"
   },
   {
    "duration": 13,
    "start_time": "2023-08-10T06:08:45.545Z"
   },
   {
    "duration": 5,
    "start_time": "2023-08-10T06:08:45.560Z"
   },
   {
    "duration": 11,
    "start_time": "2023-08-10T06:08:45.568Z"
   },
   {
    "duration": 26,
    "start_time": "2023-08-10T06:08:45.581Z"
   },
   {
    "duration": 9,
    "start_time": "2023-08-10T06:08:45.609Z"
   },
   {
    "duration": 8,
    "start_time": "2023-08-10T06:08:45.620Z"
   },
   {
    "duration": 4,
    "start_time": "2023-08-10T06:08:52.931Z"
   },
   {
    "duration": 6,
    "start_time": "2023-08-10T06:08:55.834Z"
   },
   {
    "duration": 148,
    "start_time": "2023-08-10T17:45:13.586Z"
   },
   {
    "duration": 109,
    "start_time": "2023-08-10T18:07:59.544Z"
   },
   {
    "duration": 1178,
    "start_time": "2023-08-10T18:08:14.721Z"
   },
   {
    "duration": 3,
    "start_time": "2023-08-10T18:08:15.902Z"
   },
   {
    "duration": 126,
    "start_time": "2023-08-10T18:08:15.907Z"
   },
   {
    "duration": 20,
    "start_time": "2023-08-10T18:08:16.036Z"
   },
   {
    "duration": 12,
    "start_time": "2023-08-10T18:08:16.059Z"
   },
   {
    "duration": 7,
    "start_time": "2023-08-10T18:08:16.072Z"
   },
   {
    "duration": 5,
    "start_time": "2023-08-10T18:08:16.080Z"
   },
   {
    "duration": 11,
    "start_time": "2023-08-10T18:08:16.087Z"
   },
   {
    "duration": 3,
    "start_time": "2023-08-10T18:08:16.100Z"
   },
   {
    "duration": 8,
    "start_time": "2023-08-10T18:08:16.104Z"
   },
   {
    "duration": 8,
    "start_time": "2023-08-10T18:08:16.115Z"
   },
   {
    "duration": 10,
    "start_time": "2023-08-10T18:08:16.159Z"
   },
   {
    "duration": 5,
    "start_time": "2023-08-10T18:08:16.171Z"
   },
   {
    "duration": 11,
    "start_time": "2023-08-10T18:08:16.178Z"
   },
   {
    "duration": 22,
    "start_time": "2023-08-10T18:08:16.191Z"
   },
   {
    "duration": 3,
    "start_time": "2023-08-10T18:08:16.215Z"
   },
   {
    "duration": 6,
    "start_time": "2023-08-10T18:08:16.220Z"
   },
   {
    "duration": 6,
    "start_time": "2023-08-10T18:08:16.228Z"
   },
   {
    "duration": 7,
    "start_time": "2023-08-10T18:08:16.236Z"
   },
   {
    "duration": 10,
    "start_time": "2023-08-10T18:08:16.260Z"
   },
   {
    "duration": 6,
    "start_time": "2023-08-10T18:08:16.272Z"
   },
   {
    "duration": 7,
    "start_time": "2023-08-10T18:08:16.280Z"
   },
   {
    "duration": 107,
    "start_time": "2023-08-10T18:09:23.516Z"
   },
   {
    "duration": 4,
    "start_time": "2023-08-10T18:09:47.541Z"
   },
   {
    "duration": 6,
    "start_time": "2023-08-10T18:09:54.292Z"
   },
   {
    "duration": 4,
    "start_time": "2023-08-10T18:10:10.634Z"
   },
   {
    "duration": 1089,
    "start_time": "2023-08-10T18:10:21.289Z"
   },
   {
    "duration": 3,
    "start_time": "2023-08-10T18:10:22.380Z"
   },
   {
    "duration": 57,
    "start_time": "2023-08-10T18:10:22.385Z"
   },
   {
    "duration": 16,
    "start_time": "2023-08-10T18:10:22.444Z"
   },
   {
    "duration": 11,
    "start_time": "2023-08-10T18:10:22.462Z"
   },
   {
    "duration": 27,
    "start_time": "2023-08-10T18:10:22.475Z"
   },
   {
    "duration": 28,
    "start_time": "2023-08-10T18:10:22.504Z"
   },
   {
    "duration": 16,
    "start_time": "2023-08-10T18:10:22.534Z"
   },
   {
    "duration": 4,
    "start_time": "2023-08-10T18:10:22.552Z"
   },
   {
    "duration": 14,
    "start_time": "2023-08-10T18:10:22.557Z"
   },
   {
    "duration": 7,
    "start_time": "2023-08-10T18:10:22.572Z"
   },
   {
    "duration": 9,
    "start_time": "2023-08-10T18:10:22.581Z"
   },
   {
    "duration": 9,
    "start_time": "2023-08-10T18:10:22.591Z"
   },
   {
    "duration": 4,
    "start_time": "2023-08-10T18:10:22.603Z"
   },
   {
    "duration": 10,
    "start_time": "2023-08-10T18:10:22.608Z"
   },
   {
    "duration": 16,
    "start_time": "2023-08-10T18:10:22.620Z"
   },
   {
    "duration": 4,
    "start_time": "2023-08-10T18:10:22.637Z"
   },
   {
    "duration": 20,
    "start_time": "2023-08-10T18:10:22.642Z"
   },
   {
    "duration": 13,
    "start_time": "2023-08-10T18:10:22.663Z"
   },
   {
    "duration": 7,
    "start_time": "2023-08-10T18:10:22.678Z"
   },
   {
    "duration": 8,
    "start_time": "2023-08-10T18:10:22.686Z"
   },
   {
    "duration": 11,
    "start_time": "2023-08-10T18:10:22.695Z"
   },
   {
    "duration": 8,
    "start_time": "2023-08-10T18:10:22.708Z"
   },
   {
    "duration": 8,
    "start_time": "2023-08-10T18:10:22.718Z"
   },
   {
    "duration": 1120,
    "start_time": "2023-08-10T18:13:37.684Z"
   },
   {
    "duration": 3,
    "start_time": "2023-08-10T18:13:38.806Z"
   },
   {
    "duration": 34,
    "start_time": "2023-08-10T18:13:38.810Z"
   },
   {
    "duration": 17,
    "start_time": "2023-08-10T18:13:38.845Z"
   },
   {
    "duration": 13,
    "start_time": "2023-08-10T18:13:38.864Z"
   },
   {
    "duration": 6,
    "start_time": "2023-08-10T18:13:38.880Z"
   },
   {
    "duration": 8,
    "start_time": "2023-08-10T18:13:38.888Z"
   },
   {
    "duration": 7,
    "start_time": "2023-08-10T18:13:38.898Z"
   },
   {
    "duration": 3,
    "start_time": "2023-08-10T18:13:38.906Z"
   },
   {
    "duration": 5,
    "start_time": "2023-08-10T18:13:38.911Z"
   },
   {
    "duration": 46,
    "start_time": "2023-08-10T18:13:38.918Z"
   },
   {
    "duration": 5,
    "start_time": "2023-08-10T18:13:38.965Z"
   },
   {
    "duration": 11,
    "start_time": "2023-08-10T18:13:38.972Z"
   },
   {
    "duration": 4,
    "start_time": "2023-08-10T18:13:38.985Z"
   },
   {
    "duration": 4,
    "start_time": "2023-08-10T18:13:38.991Z"
   },
   {
    "duration": 6,
    "start_time": "2023-08-10T18:13:38.997Z"
   },
   {
    "duration": 2,
    "start_time": "2023-08-10T18:13:39.005Z"
   },
   {
    "duration": 6,
    "start_time": "2023-08-10T18:13:39.009Z"
   },
   {
    "duration": 5,
    "start_time": "2023-08-10T18:13:39.059Z"
   },
   {
    "duration": 13,
    "start_time": "2023-08-10T18:13:39.066Z"
   },
   {
    "duration": 7,
    "start_time": "2023-08-10T18:13:39.080Z"
   },
   {
    "duration": 9,
    "start_time": "2023-08-10T18:13:39.088Z"
   },
   {
    "duration": 8,
    "start_time": "2023-08-10T18:13:39.098Z"
   },
   {
    "duration": 54,
    "start_time": "2023-08-10T18:13:39.107Z"
   }
  ],
  "kernelspec": {
   "display_name": "Python 3 (ipykernel)",
   "language": "python",
   "name": "python3"
  },
  "language_info": {
   "codemirror_mode": {
    "name": "ipython",
    "version": 3
   },
   "file_extension": ".py",
   "mimetype": "text/x-python",
   "name": "python",
   "nbconvert_exporter": "python",
   "pygments_lexer": "ipython3",
   "version": "3.10.9"
  },
  "toc": {
   "base_numbering": 1,
   "nav_menu": {},
   "number_sections": true,
   "sideBar": true,
   "skip_h1_title": true,
   "title_cell": "Содержание",
   "title_sidebar": "Contents",
   "toc_cell": true,
   "toc_position": {},
   "toc_section_display": true,
   "toc_window_display": false
  }
 },
 "nbformat": 4,
 "nbformat_minor": 2
}
