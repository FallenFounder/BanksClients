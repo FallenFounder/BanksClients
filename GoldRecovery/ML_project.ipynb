{
 "cells": [
  {
   "cell_type": "markdown",
   "metadata": {},
   "source": [
    "# Проект: Восстановление золота из руды"
   ]
  },
  {
   "cell_type": "markdown",
   "metadata": {
    "toc": true
   },
   "source": [
    "<h1>Содержание<span class=\"tocSkip\"></span></h1>\n",
    "<div class=\"toc\"><ul class=\"toc-item\"><li><span><a href=\"#Работа-с-данными\" data-toc-modified-id=\"Работа-с-данными-1\"><span class=\"toc-item-num\">1&nbsp;&nbsp;</span>Работа с данными</a></span><ul class=\"toc-item\"><li><span><a href=\"#Подготовка\" data-toc-modified-id=\"Подготовка-1.1\"><span class=\"toc-item-num\">1.1&nbsp;&nbsp;</span>Подготовка</a></span></li><li><span><a href=\"#Знакомимся-с-данными\" data-toc-modified-id=\"Знакомимся-с-данными-1.2\"><span class=\"toc-item-num\">1.2&nbsp;&nbsp;</span>Знакомимся с данными</a></span></li><li><span><a href=\"#Проверяем-с-МАЕ\" data-toc-modified-id=\"Проверяем-с-МАЕ-1.3\"><span class=\"toc-item-num\">1.3&nbsp;&nbsp;</span>Проверяем с МАЕ</a></span></li><li><span><a href=\"#Смотрим-на-признаки\" data-toc-modified-id=\"Смотрим-на-признаки-1.4\"><span class=\"toc-item-num\">1.4&nbsp;&nbsp;</span>Смотрим на признаки</a></span></li><li><span><a href=\"#Предобработка\" data-toc-modified-id=\"Предобработка-1.5\"><span class=\"toc-item-num\">1.5&nbsp;&nbsp;</span>Предобработка</a></span></li></ul></li><li><span><a href=\"#Анализ-данных\" data-toc-modified-id=\"Анализ-данных-2\"><span class=\"toc-item-num\">2&nbsp;&nbsp;</span>Анализ данных</a></span><ul class=\"toc-item\"><li><span><a href=\"#Исследуем-распределение-концетрации-металлов-на-каждой-стадии-обработки\" data-toc-modified-id=\"Исследуем-распределение-концетрации-металлов-на-каждой-стадии-обработки-2.1\"><span class=\"toc-item-num\">2.1&nbsp;&nbsp;</span>Исследуем распределение концетрации металлов на каждой стадии обработки</a></span></li><li><span><a href=\"#Распределение-размеров-гранул-сырья-в-тренирвочной-и-тествоой-выборках\" data-toc-modified-id=\"Распределение-размеров-гранул-сырья-в-тренирвочной-и-тествоой-выборках-2.2\"><span class=\"toc-item-num\">2.2&nbsp;&nbsp;</span>Распределение размеров гранул сырья в тренирвочной и тествоой выборках</a></span></li><li><span><a href=\"#Суммарная-концентрация-металлов\" data-toc-modified-id=\"Суммарная-концентрация-металлов-2.3\"><span class=\"toc-item-num\">2.3&nbsp;&nbsp;</span>Суммарная концентрация металлов</a></span></li></ul></li><li><span><a href=\"#Модель\" data-toc-modified-id=\"Модель-3\"><span class=\"toc-item-num\">3&nbsp;&nbsp;</span>Модель</a></span><ul class=\"toc-item\"><li><span><a href=\"#Функции-для-подсчета-sMAPE\" data-toc-modified-id=\"Функции-для-подсчета-sMAPE-3.1\"><span class=\"toc-item-num\">3.1&nbsp;&nbsp;</span>Функции для подсчета sMAPE</a></span></li><li><span><a href=\"#Обучим-модeли\" data-toc-modified-id=\"Обучим-модeли-3.2\"><span class=\"toc-item-num\">3.2&nbsp;&nbsp;</span>Обучим модeли</a></span></li></ul></li><li><span><a href=\"#Тест-и-выводы\" data-toc-modified-id=\"Тест-и-выводы-4\"><span class=\"toc-item-num\">4&nbsp;&nbsp;</span>Тест и выводы</a></span><ul class=\"toc-item\"><li><span><a href=\"#Тест\" data-toc-modified-id=\"Тест-4.1\"><span class=\"toc-item-num\">4.1&nbsp;&nbsp;</span>Тест</a></span></li><li><span><a href=\"#Вывод\" data-toc-modified-id=\"Вывод-4.2\"><span class=\"toc-item-num\">4.2&nbsp;&nbsp;</span>Вывод</a></span></li></ul></li></ul></div>"
   ]
  },
  {
   "cell_type": "markdown",
   "metadata": {},
   "source": [
    "# Задача\n",
    "Построить модель, которая  должна предсказать коэффициент восстановления золота из золотосодержащей руды.\n",
    "Желаемый результат: Модель должна помочь оптимизировать производство, чтобы не запускать предприятие с убыточными характеристиками."
   ]
  },
  {
   "cell_type": "markdown",
   "metadata": {},
   "source": [
    "# План\n",
    "1. Подготовить данные;\n",
    "2. Провести исследовательский анализ данных;\n",
    "3. Построить и обучить модель."
   ]
  },
  {
   "cell_type": "markdown",
   "metadata": {},
   "source": [
    "# Стек\n",
    "pandas, numpy, matplotlib и sklearn."
   ]
  },
  {
   "cell_type": "markdown",
   "metadata": {},
   "source": [
    "## Работа с данными"
   ]
  },
  {
   "cell_type": "markdown",
   "metadata": {},
   "source": [
    "### Подготовка"
   ]
  },
  {
   "cell_type": "code",
   "execution_count": 1,
   "metadata": {},
   "outputs": [],
   "source": [
    "import pandas as pd\n",
    "import matplotlib.pyplot as plt\n",
    "import numpy as np\n",
    "\n",
    "from sklearn.metrics import mean_absolute_error, make_scorer\n",
    "from sklearn.model_selection import train_test_split\n",
    "from sklearn.tree import DecisionTreeRegressor\n",
    "from sklearn.ensemble import RandomForestRegressor\n",
    "from sklearn.linear_model import LinearRegression\n",
    "from sklearn.preprocessing import StandardScaler, normalize\n",
    "from sklearn.model_selection import cross_val_score, cross_val_predict\n",
    "from sklearn.utils import shuffle"
   ]
  },
  {
   "cell_type": "code",
   "execution_count": 2,
   "metadata": {},
   "outputs": [],
   "source": [
    "pd.options.display.float_format ='{:,.6f}'.format"
   ]
  },
  {
   "cell_type": "code",
   "execution_count": 3,
   "metadata": {},
   "outputs": [],
   "source": [
    "state = 12345"
   ]
  },
  {
   "cell_type": "markdown",
   "metadata": {},
   "source": [
    "### Знакомимся с данными "
   ]
  },
  {
   "cell_type": "code",
   "execution_count": 4,
   "metadata": {},
   "outputs": [],
   "source": [
    "try:\n",
    "    gold_train = pd.read_csv('/datasets/gold_industry_train.csv')\n",
    "    gold_test = pd.read_csv('/datasets/gold_industry_test.csv')\n",
    "    gold_full = pd.read_csv('/datasets/gold_industry_full.csv')\n",
    "except: \n",
    "    gold_train = pd.read_csv(\"C:/Users/gorok/Desktop/datasets/gold_industry_train.csv\")\n",
    "    gold_test = pd.read_csv(\"C:/Users/gorok/Desktop/datasets/gold_industry_test.csv\")\n",
    "    gold_full = pd.read_csv(\"C:/Users/gorok/Desktop/datasets/gold_industry_full.csv\")"
   ]
  },
  {
   "cell_type": "code",
   "execution_count": 5,
   "metadata": {
    "scrolled": true
   },
   "outputs": [
    {
     "name": "stdout",
     "output_type": "stream",
     "text": [
      "<class 'pandas.core.frame.DataFrame'>\n",
      "RangeIndex: 14579 entries, 0 to 14578\n",
      "Data columns (total 87 columns):\n",
      " #   Column                                              Non-Null Count  Dtype  \n",
      "---  ------                                              --------------  -----  \n",
      " 0   date                                                14579 non-null  object \n",
      " 1   rougher.input.feed_au                               14579 non-null  float64\n",
      " 2   rougher.input.feed_ag                               14579 non-null  float64\n",
      " 3   rougher.input.feed_pb                               14507 non-null  float64\n",
      " 4   rougher.input.feed_sol                              14502 non-null  float64\n",
      " 5   rougher.input.feed_rate                             14572 non-null  float64\n",
      " 6   rougher.input.feed_size                             14478 non-null  float64\n",
      " 7   rougher.input.floatbank10_sulfate                   14548 non-null  float64\n",
      " 8   rougher.input.floatbank10_xanthate                  14572 non-null  float64\n",
      " 9   rougher.state.floatbank10_a_air                     14579 non-null  float64\n",
      " 10  rougher.state.floatbank10_a_level                   14579 non-null  float64\n",
      " 11  rougher.state.floatbank10_b_air                     14579 non-null  float64\n",
      " 12  rougher.state.floatbank10_b_level                   14579 non-null  float64\n",
      " 13  rougher.state.floatbank10_c_air                     14579 non-null  float64\n",
      " 14  rougher.state.floatbank10_c_level                   14579 non-null  float64\n",
      " 15  rougher.state.floatbank10_d_air                     14579 non-null  float64\n",
      " 16  rougher.state.floatbank10_d_level                   14579 non-null  float64\n",
      " 17  rougher.state.floatbank10_e_air                     14150 non-null  float64\n",
      " 18  rougher.state.floatbank10_e_level                   14579 non-null  float64\n",
      " 19  rougher.state.floatbank10_f_air                     14579 non-null  float64\n",
      " 20  rougher.state.floatbank10_f_level                   14579 non-null  float64\n",
      " 21  rougher.input.floatbank11_sulfate                   14543 non-null  float64\n",
      " 22  rougher.input.floatbank11_xanthate                  14172 non-null  float64\n",
      " 23  rougher.calculation.sulfate_to_au_concentrate       14578 non-null  float64\n",
      " 24  rougher.calculation.floatbank10_sulfate_to_au_feed  14578 non-null  float64\n",
      " 25  rougher.calculation.floatbank11_sulfate_to_au_feed  14578 non-null  float64\n",
      " 26  rougher.calculation.au_pb_ratio                     14579 non-null  float64\n",
      " 27  rougher.output.concentrate_au                       14579 non-null  float64\n",
      " 28  rougher.output.concentrate_ag                       14579 non-null  float64\n",
      " 29  rougher.output.concentrate_pb                       14579 non-null  float64\n",
      " 30  rougher.output.concentrate_sol                      14561 non-null  float64\n",
      " 31  rougher.output.recovery                             14579 non-null  float64\n",
      " 32  rougher.output.tail_au                              14579 non-null  float64\n",
      " 33  rougher.output.tail_ag                              14578 non-null  float64\n",
      " 34  rougher.output.tail_pb                              14579 non-null  float64\n",
      " 35  rougher.output.tail_sol                             14579 non-null  float64\n",
      " 36  primary_cleaner.input.sulfate                       14556 non-null  float64\n",
      " 37  primary_cleaner.input.depressant                    14551 non-null  float64\n",
      " 38  primary_cleaner.input.feed_size                     14579 non-null  float64\n",
      " 39  primary_cleaner.input.xanthate                      14518 non-null  float64\n",
      " 40  primary_cleaner.state.floatbank8_a_air              14576 non-null  float64\n",
      " 41  primary_cleaner.state.floatbank8_a_level            14579 non-null  float64\n",
      " 42  primary_cleaner.state.floatbank8_b_air              14576 non-null  float64\n",
      " 43  primary_cleaner.state.floatbank8_b_level            14579 non-null  float64\n",
      " 44  primary_cleaner.state.floatbank8_c_air              14579 non-null  float64\n",
      " 45  primary_cleaner.state.floatbank8_c_level            14579 non-null  float64\n",
      " 46  primary_cleaner.state.floatbank8_d_air              14578 non-null  float64\n",
      " 47  primary_cleaner.state.floatbank8_d_level            14579 non-null  float64\n",
      " 48  primary_cleaner.output.concentrate_au               14579 non-null  float64\n",
      " 49  primary_cleaner.output.concentrate_ag               14579 non-null  float64\n",
      " 50  primary_cleaner.output.concentrate_pb               14491 non-null  float64\n",
      " 51  primary_cleaner.output.concentrate_sol              14314 non-null  float64\n",
      " 52  primary_cleaner.output.tail_au                      14579 non-null  float64\n",
      " 53  primary_cleaner.output.tail_ag                      14575 non-null  float64\n",
      " 54  primary_cleaner.output.tail_pb                      14573 non-null  float64\n",
      " 55  primary_cleaner.output.tail_sol                     14534 non-null  float64\n",
      " 56  secondary_cleaner.state.floatbank2_a_air            14485 non-null  float64\n",
      " 57  secondary_cleaner.state.floatbank2_a_level          14579 non-null  float64\n",
      " 58  secondary_cleaner.state.floatbank2_b_air            14557 non-null  float64\n",
      " 59  secondary_cleaner.state.floatbank2_b_level          14579 non-null  float64\n",
      " 60  secondary_cleaner.state.floatbank3_a_air            14567 non-null  float64\n",
      " 61  secondary_cleaner.state.floatbank3_a_level          14579 non-null  float64\n",
      " 62  secondary_cleaner.state.floatbank3_b_air            14579 non-null  float64\n",
      " 63  secondary_cleaner.state.floatbank3_b_level          14579 non-null  float64\n",
      " 64  secondary_cleaner.state.floatbank4_a_air            14574 non-null  float64\n",
      " 65  secondary_cleaner.state.floatbank4_a_level          14579 non-null  float64\n",
      " 66  secondary_cleaner.state.floatbank4_b_air            14579 non-null  float64\n",
      " 67  secondary_cleaner.state.floatbank4_b_level          14579 non-null  float64\n",
      " 68  secondary_cleaner.state.floatbank5_a_air            14579 non-null  float64\n",
      " 69  secondary_cleaner.state.floatbank5_a_level          14579 non-null  float64\n",
      " 70  secondary_cleaner.state.floatbank5_b_air            14579 non-null  float64\n",
      " 71  secondary_cleaner.state.floatbank5_b_level          14579 non-null  float64\n",
      " 72  secondary_cleaner.state.floatbank6_a_air            14578 non-null  float64\n",
      " 73  secondary_cleaner.state.floatbank6_a_level          14579 non-null  float64\n",
      " 74  secondary_cleaner.output.tail_au                    14579 non-null  float64\n",
      " 75  secondary_cleaner.output.tail_ag                    14578 non-null  float64\n",
      " 76  secondary_cleaner.output.tail_pb                    14575 non-null  float64\n",
      " 77  secondary_cleaner.output.tail_sol                   13659 non-null  float64\n",
      " 78  final.output.concentrate_au                         14579 non-null  float64\n",
      " 79  final.output.concentrate_ag                         14578 non-null  float64\n",
      " 80  final.output.concentrate_pb                         14578 non-null  float64\n",
      " 81  final.output.concentrate_sol                        14387 non-null  float64\n",
      " 82  final.output.recovery                               14579 non-null  float64\n",
      " 83  final.output.tail_au                                14579 non-null  float64\n",
      " 84  final.output.tail_ag                                14578 non-null  float64\n",
      " 85  final.output.tail_pb                                14504 non-null  float64\n",
      " 86  final.output.tail_sol                               14574 non-null  float64\n",
      "dtypes: float64(86), object(1)\n",
      "memory usage: 9.7+ MB\n",
      "None\n"
     ]
    },
    {
     "data": {
      "text/html": [
       "<div>\n",
       "<style scoped>\n",
       "    .dataframe tbody tr th:only-of-type {\n",
       "        vertical-align: middle;\n",
       "    }\n",
       "\n",
       "    .dataframe tbody tr th {\n",
       "        vertical-align: top;\n",
       "    }\n",
       "\n",
       "    .dataframe thead th {\n",
       "        text-align: right;\n",
       "    }\n",
       "</style>\n",
       "<table border=\"1\" class=\"dataframe\">\n",
       "  <thead>\n",
       "    <tr style=\"text-align: right;\">\n",
       "      <th></th>\n",
       "      <th>rougher.input.feed_au</th>\n",
       "      <th>rougher.input.feed_ag</th>\n",
       "      <th>rougher.input.feed_pb</th>\n",
       "      <th>rougher.input.feed_sol</th>\n",
       "      <th>rougher.input.feed_rate</th>\n",
       "      <th>rougher.input.feed_size</th>\n",
       "      <th>rougher.input.floatbank10_sulfate</th>\n",
       "      <th>rougher.input.floatbank10_xanthate</th>\n",
       "      <th>rougher.state.floatbank10_a_air</th>\n",
       "      <th>rougher.state.floatbank10_a_level</th>\n",
       "      <th>...</th>\n",
       "      <th>secondary_cleaner.output.tail_sol</th>\n",
       "      <th>final.output.concentrate_au</th>\n",
       "      <th>final.output.concentrate_ag</th>\n",
       "      <th>final.output.concentrate_pb</th>\n",
       "      <th>final.output.concentrate_sol</th>\n",
       "      <th>final.output.recovery</th>\n",
       "      <th>final.output.tail_au</th>\n",
       "      <th>final.output.tail_ag</th>\n",
       "      <th>final.output.tail_pb</th>\n",
       "      <th>final.output.tail_sol</th>\n",
       "    </tr>\n",
       "    <tr>\n",
       "      <th>date</th>\n",
       "      <th></th>\n",
       "      <th></th>\n",
       "      <th></th>\n",
       "      <th></th>\n",
       "      <th></th>\n",
       "      <th></th>\n",
       "      <th></th>\n",
       "      <th></th>\n",
       "      <th></th>\n",
       "      <th></th>\n",
       "      <th></th>\n",
       "      <th></th>\n",
       "      <th></th>\n",
       "      <th></th>\n",
       "      <th></th>\n",
       "      <th></th>\n",
       "      <th></th>\n",
       "      <th></th>\n",
       "      <th></th>\n",
       "      <th></th>\n",
       "      <th></th>\n",
       "    </tr>\n",
       "  </thead>\n",
       "  <tbody>\n",
       "    <tr>\n",
       "      <th>2016-01-15 00:00:00</th>\n",
       "      <td>6.486150</td>\n",
       "      <td>6.100378</td>\n",
       "      <td>2.284912</td>\n",
       "      <td>36.808594</td>\n",
       "      <td>523.546326</td>\n",
       "      <td>55.486599</td>\n",
       "      <td>11.986616</td>\n",
       "      <td>6.007990</td>\n",
       "      <td>999.706909</td>\n",
       "      <td>-404.066986</td>\n",
       "      <td>...</td>\n",
       "      <td>8.764648</td>\n",
       "      <td>42.192020</td>\n",
       "      <td>6.055403</td>\n",
       "      <td>9.889648</td>\n",
       "      <td>5.507324</td>\n",
       "      <td>70.541216</td>\n",
       "      <td>2.143149</td>\n",
       "      <td>10.411962</td>\n",
       "      <td>0.895447</td>\n",
       "      <td>16.904297</td>\n",
       "    </tr>\n",
       "    <tr>\n",
       "      <th>2016-01-15 01:00:00</th>\n",
       "      <td>6.478583</td>\n",
       "      <td>6.161113</td>\n",
       "      <td>2.266033</td>\n",
       "      <td>35.753385</td>\n",
       "      <td>525.290581</td>\n",
       "      <td>57.278666</td>\n",
       "      <td>11.971193</td>\n",
       "      <td>6.005766</td>\n",
       "      <td>1,000.286398</td>\n",
       "      <td>-400.065196</td>\n",
       "      <td>...</td>\n",
       "      <td>9.001494</td>\n",
       "      <td>42.701629</td>\n",
       "      <td>6.029369</td>\n",
       "      <td>9.968944</td>\n",
       "      <td>5.257781</td>\n",
       "      <td>69.266198</td>\n",
       "      <td>2.224930</td>\n",
       "      <td>10.462676</td>\n",
       "      <td>0.927452</td>\n",
       "      <td>16.634514</td>\n",
       "    </tr>\n",
       "    <tr>\n",
       "      <th>2016-01-15 02:00:00</th>\n",
       "      <td>6.362222</td>\n",
       "      <td>6.116455</td>\n",
       "      <td>2.159622</td>\n",
       "      <td>35.971630</td>\n",
       "      <td>530.026610</td>\n",
       "      <td>57.510649</td>\n",
       "      <td>11.920603</td>\n",
       "      <td>6.197377</td>\n",
       "      <td>999.719565</td>\n",
       "      <td>-400.074028</td>\n",
       "      <td>...</td>\n",
       "      <td>8.842896</td>\n",
       "      <td>42.657501</td>\n",
       "      <td>6.055926</td>\n",
       "      <td>10.213995</td>\n",
       "      <td>5.383759</td>\n",
       "      <td>68.116445</td>\n",
       "      <td>2.257889</td>\n",
       "      <td>10.507046</td>\n",
       "      <td>0.953716</td>\n",
       "      <td>16.208849</td>\n",
       "    </tr>\n",
       "    <tr>\n",
       "      <th>2016-01-15 03:00:00</th>\n",
       "      <td>6.118189</td>\n",
       "      <td>6.043309</td>\n",
       "      <td>2.037807</td>\n",
       "      <td>36.862241</td>\n",
       "      <td>542.590390</td>\n",
       "      <td>57.792734</td>\n",
       "      <td>11.630094</td>\n",
       "      <td>6.203177</td>\n",
       "      <td>999.814770</td>\n",
       "      <td>-400.200179</td>\n",
       "      <td>...</td>\n",
       "      <td>9.122857</td>\n",
       "      <td>42.689819</td>\n",
       "      <td>6.047977</td>\n",
       "      <td>9.977019</td>\n",
       "      <td>4.858634</td>\n",
       "      <td>68.347543</td>\n",
       "      <td>2.146849</td>\n",
       "      <td>10.422762</td>\n",
       "      <td>0.883763</td>\n",
       "      <td>16.532835</td>\n",
       "    </tr>\n",
       "    <tr>\n",
       "      <th>2016-01-15 04:00:00</th>\n",
       "      <td>5.663707</td>\n",
       "      <td>6.060915</td>\n",
       "      <td>1.786875</td>\n",
       "      <td>34.347666</td>\n",
       "      <td>540.531893</td>\n",
       "      <td>56.047189</td>\n",
       "      <td>10.957755</td>\n",
       "      <td>6.198826</td>\n",
       "      <td>999.678690</td>\n",
       "      <td>-399.752729</td>\n",
       "      <td>...</td>\n",
       "      <td>8.871028</td>\n",
       "      <td>42.774141</td>\n",
       "      <td>6.148599</td>\n",
       "      <td>10.142511</td>\n",
       "      <td>4.939416</td>\n",
       "      <td>66.927016</td>\n",
       "      <td>2.055292</td>\n",
       "      <td>10.360302</td>\n",
       "      <td>0.792826</td>\n",
       "      <td>16.525686</td>\n",
       "    </tr>\n",
       "    <tr>\n",
       "      <th>2016-01-15 05:00:00</th>\n",
       "      <td>5.687168</td>\n",
       "      <td>5.801920</td>\n",
       "      <td>1.879351</td>\n",
       "      <td>35.470082</td>\n",
       "      <td>546.173470</td>\n",
       "      <td>57.469578</td>\n",
       "      <td>11.072517</td>\n",
       "      <td>6.200383</td>\n",
       "      <td>999.934134</td>\n",
       "      <td>-400.599524</td>\n",
       "      <td>...</td>\n",
       "      <td>9.302669</td>\n",
       "      <td>41.633678</td>\n",
       "      <td>6.482968</td>\n",
       "      <td>10.049416</td>\n",
       "      <td>5.480257</td>\n",
       "      <td>69.465816</td>\n",
       "      <td>1.918586</td>\n",
       "      <td>10.182708</td>\n",
       "      <td>0.664118</td>\n",
       "      <td>16.999638</td>\n",
       "    </tr>\n",
       "    <tr>\n",
       "      <th>2016-01-15 06:00:00</th>\n",
       "      <td>6.038436</td>\n",
       "      <td>6.056253</td>\n",
       "      <td>2.105501</td>\n",
       "      <td>34.920570</td>\n",
       "      <td>523.376439</td>\n",
       "      <td>56.674647</td>\n",
       "      <td>11.535899</td>\n",
       "      <td>6.204974</td>\n",
       "      <td>999.832373</td>\n",
       "      <td>-399.353521</td>\n",
       "      <td>...</td>\n",
       "      <td>9.103047</td>\n",
       "      <td>41.995316</td>\n",
       "      <td>6.533849</td>\n",
       "      <td>10.058141</td>\n",
       "      <td>4.569100</td>\n",
       "      <td>69.300835</td>\n",
       "      <td>2.058913</td>\n",
       "      <td>10.304598</td>\n",
       "      <td>0.807342</td>\n",
       "      <td>16.723575</td>\n",
       "    </tr>\n",
       "    <tr>\n",
       "      <th>2016-01-15 07:00:00</th>\n",
       "      <td>6.433854</td>\n",
       "      <td>5.955053</td>\n",
       "      <td>2.310432</td>\n",
       "      <td>36.091386</td>\n",
       "      <td>549.842749</td>\n",
       "      <td>56.730325</td>\n",
       "      <td>12.557906</td>\n",
       "      <td>6.799275</td>\n",
       "      <td>1,000.166602</td>\n",
       "      <td>-400.556601</td>\n",
       "      <td>...</td>\n",
       "      <td>9.369209</td>\n",
       "      <td>42.452727</td>\n",
       "      <td>6.130823</td>\n",
       "      <td>9.935481</td>\n",
       "      <td>4.389813</td>\n",
       "      <td>70.230976</td>\n",
       "      <td>2.143437</td>\n",
       "      <td>10.443288</td>\n",
       "      <td>0.949346</td>\n",
       "      <td>16.689959</td>\n",
       "    </tr>\n",
       "    <tr>\n",
       "      <th>2016-01-15 08:00:00</th>\n",
       "      <td>6.526612</td>\n",
       "      <td>5.878084</td>\n",
       "      <td>2.391713</td>\n",
       "      <td>35.753879</td>\n",
       "      <td>560.115242</td>\n",
       "      <td>56.649893</td>\n",
       "      <td>13.166128</td>\n",
       "      <td>6.798659</td>\n",
       "      <td>1,000.026864</td>\n",
       "      <td>-399.968583</td>\n",
       "      <td>...</td>\n",
       "      <td>9.437044</td>\n",
       "      <td>43.404078</td>\n",
       "      <td>5.834140</td>\n",
       "      <td>10.071156</td>\n",
       "      <td>4.876389</td>\n",
       "      <td>69.688595</td>\n",
       "      <td>2.209881</td>\n",
       "      <td>10.420140</td>\n",
       "      <td>1.065453</td>\n",
       "      <td>17.201948</td>\n",
       "    </tr>\n",
       "    <tr>\n",
       "      <th>2016-01-15 09:00:00</th>\n",
       "      <td>6.747693</td>\n",
       "      <td>5.974832</td>\n",
       "      <td>2.539114</td>\n",
       "      <td>38.553938</td>\n",
       "      <td>566.616045</td>\n",
       "      <td>60.308763</td>\n",
       "      <td>13.996130</td>\n",
       "      <td>6.800263</td>\n",
       "      <td>1,000.332327</td>\n",
       "      <td>-400.149341</td>\n",
       "      <td>...</td>\n",
       "      <td>9.582874</td>\n",
       "      <td>43.487291</td>\n",
       "      <td>5.706261</td>\n",
       "      <td>10.242511</td>\n",
       "      <td>5.214161</td>\n",
       "      <td>70.973641</td>\n",
       "      <td>2.200997</td>\n",
       "      <td>10.473539</td>\n",
       "      <td>1.171183</td>\n",
       "      <td>17.717049</td>\n",
       "    </tr>\n",
       "  </tbody>\n",
       "</table>\n",
       "<p>10 rows × 86 columns</p>\n",
       "</div>"
      ],
      "text/plain": [
       "                     rougher.input.feed_au  rougher.input.feed_ag  \\\n",
       "date                                                                \n",
       "2016-01-15 00:00:00               6.486150               6.100378   \n",
       "2016-01-15 01:00:00               6.478583               6.161113   \n",
       "2016-01-15 02:00:00               6.362222               6.116455   \n",
       "2016-01-15 03:00:00               6.118189               6.043309   \n",
       "2016-01-15 04:00:00               5.663707               6.060915   \n",
       "2016-01-15 05:00:00               5.687168               5.801920   \n",
       "2016-01-15 06:00:00               6.038436               6.056253   \n",
       "2016-01-15 07:00:00               6.433854               5.955053   \n",
       "2016-01-15 08:00:00               6.526612               5.878084   \n",
       "2016-01-15 09:00:00               6.747693               5.974832   \n",
       "\n",
       "                     rougher.input.feed_pb  rougher.input.feed_sol  \\\n",
       "date                                                                 \n",
       "2016-01-15 00:00:00               2.284912               36.808594   \n",
       "2016-01-15 01:00:00               2.266033               35.753385   \n",
       "2016-01-15 02:00:00               2.159622               35.971630   \n",
       "2016-01-15 03:00:00               2.037807               36.862241   \n",
       "2016-01-15 04:00:00               1.786875               34.347666   \n",
       "2016-01-15 05:00:00               1.879351               35.470082   \n",
       "2016-01-15 06:00:00               2.105501               34.920570   \n",
       "2016-01-15 07:00:00               2.310432               36.091386   \n",
       "2016-01-15 08:00:00               2.391713               35.753879   \n",
       "2016-01-15 09:00:00               2.539114               38.553938   \n",
       "\n",
       "                     rougher.input.feed_rate  rougher.input.feed_size  \\\n",
       "date                                                                    \n",
       "2016-01-15 00:00:00               523.546326                55.486599   \n",
       "2016-01-15 01:00:00               525.290581                57.278666   \n",
       "2016-01-15 02:00:00               530.026610                57.510649   \n",
       "2016-01-15 03:00:00               542.590390                57.792734   \n",
       "2016-01-15 04:00:00               540.531893                56.047189   \n",
       "2016-01-15 05:00:00               546.173470                57.469578   \n",
       "2016-01-15 06:00:00               523.376439                56.674647   \n",
       "2016-01-15 07:00:00               549.842749                56.730325   \n",
       "2016-01-15 08:00:00               560.115242                56.649893   \n",
       "2016-01-15 09:00:00               566.616045                60.308763   \n",
       "\n",
       "                     rougher.input.floatbank10_sulfate  \\\n",
       "date                                                     \n",
       "2016-01-15 00:00:00                          11.986616   \n",
       "2016-01-15 01:00:00                          11.971193   \n",
       "2016-01-15 02:00:00                          11.920603   \n",
       "2016-01-15 03:00:00                          11.630094   \n",
       "2016-01-15 04:00:00                          10.957755   \n",
       "2016-01-15 05:00:00                          11.072517   \n",
       "2016-01-15 06:00:00                          11.535899   \n",
       "2016-01-15 07:00:00                          12.557906   \n",
       "2016-01-15 08:00:00                          13.166128   \n",
       "2016-01-15 09:00:00                          13.996130   \n",
       "\n",
       "                     rougher.input.floatbank10_xanthate  \\\n",
       "date                                                      \n",
       "2016-01-15 00:00:00                            6.007990   \n",
       "2016-01-15 01:00:00                            6.005766   \n",
       "2016-01-15 02:00:00                            6.197377   \n",
       "2016-01-15 03:00:00                            6.203177   \n",
       "2016-01-15 04:00:00                            6.198826   \n",
       "2016-01-15 05:00:00                            6.200383   \n",
       "2016-01-15 06:00:00                            6.204974   \n",
       "2016-01-15 07:00:00                            6.799275   \n",
       "2016-01-15 08:00:00                            6.798659   \n",
       "2016-01-15 09:00:00                            6.800263   \n",
       "\n",
       "                     rougher.state.floatbank10_a_air  \\\n",
       "date                                                   \n",
       "2016-01-15 00:00:00                       999.706909   \n",
       "2016-01-15 01:00:00                     1,000.286398   \n",
       "2016-01-15 02:00:00                       999.719565   \n",
       "2016-01-15 03:00:00                       999.814770   \n",
       "2016-01-15 04:00:00                       999.678690   \n",
       "2016-01-15 05:00:00                       999.934134   \n",
       "2016-01-15 06:00:00                       999.832373   \n",
       "2016-01-15 07:00:00                     1,000.166602   \n",
       "2016-01-15 08:00:00                     1,000.026864   \n",
       "2016-01-15 09:00:00                     1,000.332327   \n",
       "\n",
       "                     rougher.state.floatbank10_a_level  ...  \\\n",
       "date                                                    ...   \n",
       "2016-01-15 00:00:00                        -404.066986  ...   \n",
       "2016-01-15 01:00:00                        -400.065196  ...   \n",
       "2016-01-15 02:00:00                        -400.074028  ...   \n",
       "2016-01-15 03:00:00                        -400.200179  ...   \n",
       "2016-01-15 04:00:00                        -399.752729  ...   \n",
       "2016-01-15 05:00:00                        -400.599524  ...   \n",
       "2016-01-15 06:00:00                        -399.353521  ...   \n",
       "2016-01-15 07:00:00                        -400.556601  ...   \n",
       "2016-01-15 08:00:00                        -399.968583  ...   \n",
       "2016-01-15 09:00:00                        -400.149341  ...   \n",
       "\n",
       "                     secondary_cleaner.output.tail_sol  \\\n",
       "date                                                     \n",
       "2016-01-15 00:00:00                           8.764648   \n",
       "2016-01-15 01:00:00                           9.001494   \n",
       "2016-01-15 02:00:00                           8.842896   \n",
       "2016-01-15 03:00:00                           9.122857   \n",
       "2016-01-15 04:00:00                           8.871028   \n",
       "2016-01-15 05:00:00                           9.302669   \n",
       "2016-01-15 06:00:00                           9.103047   \n",
       "2016-01-15 07:00:00                           9.369209   \n",
       "2016-01-15 08:00:00                           9.437044   \n",
       "2016-01-15 09:00:00                           9.582874   \n",
       "\n",
       "                     final.output.concentrate_au  final.output.concentrate_ag  \\\n",
       "date                                                                            \n",
       "2016-01-15 00:00:00                    42.192020                     6.055403   \n",
       "2016-01-15 01:00:00                    42.701629                     6.029369   \n",
       "2016-01-15 02:00:00                    42.657501                     6.055926   \n",
       "2016-01-15 03:00:00                    42.689819                     6.047977   \n",
       "2016-01-15 04:00:00                    42.774141                     6.148599   \n",
       "2016-01-15 05:00:00                    41.633678                     6.482968   \n",
       "2016-01-15 06:00:00                    41.995316                     6.533849   \n",
       "2016-01-15 07:00:00                    42.452727                     6.130823   \n",
       "2016-01-15 08:00:00                    43.404078                     5.834140   \n",
       "2016-01-15 09:00:00                    43.487291                     5.706261   \n",
       "\n",
       "                     final.output.concentrate_pb  \\\n",
       "date                                               \n",
       "2016-01-15 00:00:00                     9.889648   \n",
       "2016-01-15 01:00:00                     9.968944   \n",
       "2016-01-15 02:00:00                    10.213995   \n",
       "2016-01-15 03:00:00                     9.977019   \n",
       "2016-01-15 04:00:00                    10.142511   \n",
       "2016-01-15 05:00:00                    10.049416   \n",
       "2016-01-15 06:00:00                    10.058141   \n",
       "2016-01-15 07:00:00                     9.935481   \n",
       "2016-01-15 08:00:00                    10.071156   \n",
       "2016-01-15 09:00:00                    10.242511   \n",
       "\n",
       "                     final.output.concentrate_sol  final.output.recovery  \\\n",
       "date                                                                       \n",
       "2016-01-15 00:00:00                      5.507324              70.541216   \n",
       "2016-01-15 01:00:00                      5.257781              69.266198   \n",
       "2016-01-15 02:00:00                      5.383759              68.116445   \n",
       "2016-01-15 03:00:00                      4.858634              68.347543   \n",
       "2016-01-15 04:00:00                      4.939416              66.927016   \n",
       "2016-01-15 05:00:00                      5.480257              69.465816   \n",
       "2016-01-15 06:00:00                      4.569100              69.300835   \n",
       "2016-01-15 07:00:00                      4.389813              70.230976   \n",
       "2016-01-15 08:00:00                      4.876389              69.688595   \n",
       "2016-01-15 09:00:00                      5.214161              70.973641   \n",
       "\n",
       "                     final.output.tail_au  final.output.tail_ag  \\\n",
       "date                                                              \n",
       "2016-01-15 00:00:00              2.143149             10.411962   \n",
       "2016-01-15 01:00:00              2.224930             10.462676   \n",
       "2016-01-15 02:00:00              2.257889             10.507046   \n",
       "2016-01-15 03:00:00              2.146849             10.422762   \n",
       "2016-01-15 04:00:00              2.055292             10.360302   \n",
       "2016-01-15 05:00:00              1.918586             10.182708   \n",
       "2016-01-15 06:00:00              2.058913             10.304598   \n",
       "2016-01-15 07:00:00              2.143437             10.443288   \n",
       "2016-01-15 08:00:00              2.209881             10.420140   \n",
       "2016-01-15 09:00:00              2.200997             10.473539   \n",
       "\n",
       "                     final.output.tail_pb  final.output.tail_sol  \n",
       "date                                                              \n",
       "2016-01-15 00:00:00              0.895447              16.904297  \n",
       "2016-01-15 01:00:00              0.927452              16.634514  \n",
       "2016-01-15 02:00:00              0.953716              16.208849  \n",
       "2016-01-15 03:00:00              0.883763              16.532835  \n",
       "2016-01-15 04:00:00              0.792826              16.525686  \n",
       "2016-01-15 05:00:00              0.664118              16.999638  \n",
       "2016-01-15 06:00:00              0.807342              16.723575  \n",
       "2016-01-15 07:00:00              0.949346              16.689959  \n",
       "2016-01-15 08:00:00              1.065453              17.201948  \n",
       "2016-01-15 09:00:00              1.171183              17.717049  \n",
       "\n",
       "[10 rows x 86 columns]"
      ]
     },
     "execution_count": 5,
     "metadata": {},
     "output_type": "execute_result"
    }
   ],
   "source": [
    "print(gold_train.info())\n",
    "gold_train.set_index('date', inplace=True)\n",
    "gold_train.head(10)"
   ]
  },
  {
   "cell_type": "code",
   "execution_count": 6,
   "metadata": {
    "scrolled": true
   },
   "outputs": [
    {
     "name": "stdout",
     "output_type": "stream",
     "text": [
      "<class 'pandas.core.frame.DataFrame'>\n",
      "RangeIndex: 4860 entries, 0 to 4859\n",
      "Data columns (total 53 columns):\n",
      " #   Column                                      Non-Null Count  Dtype  \n",
      "---  ------                                      --------------  -----  \n",
      " 0   date                                        4860 non-null   object \n",
      " 1   rougher.input.feed_au                       4860 non-null   float64\n",
      " 2   rougher.input.feed_ag                       4860 non-null   float64\n",
      " 3   rougher.input.feed_pb                       4832 non-null   float64\n",
      " 4   rougher.input.feed_sol                      4838 non-null   float64\n",
      " 5   rougher.input.feed_rate                     4856 non-null   float64\n",
      " 6   rougher.input.feed_size                     4816 non-null   float64\n",
      " 7   rougher.input.floatbank10_sulfate           4857 non-null   float64\n",
      " 8   rougher.input.floatbank10_xanthate          4859 non-null   float64\n",
      " 9   rougher.state.floatbank10_a_air             4859 non-null   float64\n",
      " 10  rougher.state.floatbank10_a_level           4859 non-null   float64\n",
      " 11  rougher.state.floatbank10_b_air             4859 non-null   float64\n",
      " 12  rougher.state.floatbank10_b_level           4859 non-null   float64\n",
      " 13  rougher.state.floatbank10_c_air             4859 non-null   float64\n",
      " 14  rougher.state.floatbank10_c_level           4859 non-null   float64\n",
      " 15  rougher.state.floatbank10_d_air             4860 non-null   float64\n",
      " 16  rougher.state.floatbank10_d_level           4860 non-null   float64\n",
      " 17  rougher.state.floatbank10_e_air             4853 non-null   float64\n",
      " 18  rougher.state.floatbank10_e_level           4860 non-null   float64\n",
      " 19  rougher.state.floatbank10_f_air             4860 non-null   float64\n",
      " 20  rougher.state.floatbank10_f_level           4860 non-null   float64\n",
      " 21  rougher.input.floatbank11_sulfate           4852 non-null   float64\n",
      " 22  rougher.input.floatbank11_xanthate          4814 non-null   float64\n",
      " 23  primary_cleaner.input.sulfate               4859 non-null   float64\n",
      " 24  primary_cleaner.input.depressant            4851 non-null   float64\n",
      " 25  primary_cleaner.input.feed_size             4860 non-null   float64\n",
      " 26  primary_cleaner.input.xanthate              4817 non-null   float64\n",
      " 27  primary_cleaner.state.floatbank8_a_air      4859 non-null   float64\n",
      " 28  primary_cleaner.state.floatbank8_a_level    4859 non-null   float64\n",
      " 29  primary_cleaner.state.floatbank8_b_air      4859 non-null   float64\n",
      " 30  primary_cleaner.state.floatbank8_b_level    4859 non-null   float64\n",
      " 31  primary_cleaner.state.floatbank8_c_air      4858 non-null   float64\n",
      " 32  primary_cleaner.state.floatbank8_c_level    4859 non-null   float64\n",
      " 33  primary_cleaner.state.floatbank8_d_air      4858 non-null   float64\n",
      " 34  primary_cleaner.state.floatbank8_d_level    4859 non-null   float64\n",
      " 35  secondary_cleaner.state.floatbank2_a_air    4734 non-null   float64\n",
      " 36  secondary_cleaner.state.floatbank2_a_level  4859 non-null   float64\n",
      " 37  secondary_cleaner.state.floatbank2_b_air    4859 non-null   float64\n",
      " 38  secondary_cleaner.state.floatbank2_b_level  4859 non-null   float64\n",
      " 39  secondary_cleaner.state.floatbank3_a_air    4859 non-null   float64\n",
      " 40  secondary_cleaner.state.floatbank3_a_level  4859 non-null   float64\n",
      " 41  secondary_cleaner.state.floatbank3_b_air    4859 non-null   float64\n",
      " 42  secondary_cleaner.state.floatbank3_b_level  4859 non-null   float64\n",
      " 43  secondary_cleaner.state.floatbank4_a_air    4859 non-null   float64\n",
      " 44  secondary_cleaner.state.floatbank4_a_level  4859 non-null   float64\n",
      " 45  secondary_cleaner.state.floatbank4_b_air    4859 non-null   float64\n",
      " 46  secondary_cleaner.state.floatbank4_b_level  4859 non-null   float64\n",
      " 47  secondary_cleaner.state.floatbank5_a_air    4859 non-null   float64\n",
      " 48  secondary_cleaner.state.floatbank5_a_level  4859 non-null   float64\n",
      " 49  secondary_cleaner.state.floatbank5_b_air    4859 non-null   float64\n",
      " 50  secondary_cleaner.state.floatbank5_b_level  4859 non-null   float64\n",
      " 51  secondary_cleaner.state.floatbank6_a_air    4859 non-null   float64\n",
      " 52  secondary_cleaner.state.floatbank6_a_level  4859 non-null   float64\n",
      "dtypes: float64(52), object(1)\n",
      "memory usage: 2.0+ MB\n",
      "None\n"
     ]
    },
    {
     "data": {
      "text/html": [
       "<div>\n",
       "<style scoped>\n",
       "    .dataframe tbody tr th:only-of-type {\n",
       "        vertical-align: middle;\n",
       "    }\n",
       "\n",
       "    .dataframe tbody tr th {\n",
       "        vertical-align: top;\n",
       "    }\n",
       "\n",
       "    .dataframe thead th {\n",
       "        text-align: right;\n",
       "    }\n",
       "</style>\n",
       "<table border=\"1\" class=\"dataframe\">\n",
       "  <thead>\n",
       "    <tr style=\"text-align: right;\">\n",
       "      <th></th>\n",
       "      <th>rougher.input.feed_au</th>\n",
       "      <th>rougher.input.feed_ag</th>\n",
       "      <th>rougher.input.feed_pb</th>\n",
       "      <th>rougher.input.feed_sol</th>\n",
       "      <th>rougher.input.feed_rate</th>\n",
       "      <th>rougher.input.feed_size</th>\n",
       "      <th>rougher.input.floatbank10_sulfate</th>\n",
       "      <th>rougher.input.floatbank10_xanthate</th>\n",
       "      <th>rougher.state.floatbank10_a_air</th>\n",
       "      <th>rougher.state.floatbank10_a_level</th>\n",
       "      <th>...</th>\n",
       "      <th>secondary_cleaner.state.floatbank4_a_air</th>\n",
       "      <th>secondary_cleaner.state.floatbank4_a_level</th>\n",
       "      <th>secondary_cleaner.state.floatbank4_b_air</th>\n",
       "      <th>secondary_cleaner.state.floatbank4_b_level</th>\n",
       "      <th>secondary_cleaner.state.floatbank5_a_air</th>\n",
       "      <th>secondary_cleaner.state.floatbank5_a_level</th>\n",
       "      <th>secondary_cleaner.state.floatbank5_b_air</th>\n",
       "      <th>secondary_cleaner.state.floatbank5_b_level</th>\n",
       "      <th>secondary_cleaner.state.floatbank6_a_air</th>\n",
       "      <th>secondary_cleaner.state.floatbank6_a_level</th>\n",
       "    </tr>\n",
       "    <tr>\n",
       "      <th>date</th>\n",
       "      <th></th>\n",
       "      <th></th>\n",
       "      <th></th>\n",
       "      <th></th>\n",
       "      <th></th>\n",
       "      <th></th>\n",
       "      <th></th>\n",
       "      <th></th>\n",
       "      <th></th>\n",
       "      <th></th>\n",
       "      <th></th>\n",
       "      <th></th>\n",
       "      <th></th>\n",
       "      <th></th>\n",
       "      <th></th>\n",
       "      <th></th>\n",
       "      <th></th>\n",
       "      <th></th>\n",
       "      <th></th>\n",
       "      <th></th>\n",
       "      <th></th>\n",
       "    </tr>\n",
       "  </thead>\n",
       "  <tbody>\n",
       "    <tr>\n",
       "      <th>2017-12-09 14:59:59</th>\n",
       "      <td>4.365491</td>\n",
       "      <td>6.158718</td>\n",
       "      <td>3.875727</td>\n",
       "      <td>39.135119</td>\n",
       "      <td>555.820208</td>\n",
       "      <td>94.544358</td>\n",
       "      <td>6.146982</td>\n",
       "      <td>9.308612</td>\n",
       "      <td>1,196.238112</td>\n",
       "      <td>-299.862743</td>\n",
       "      <td>...</td>\n",
       "      <td>23.018622</td>\n",
       "      <td>-500.492702</td>\n",
       "      <td>20.020205</td>\n",
       "      <td>-500.220296</td>\n",
       "      <td>17.963512</td>\n",
       "      <td>-499.939490</td>\n",
       "      <td>12.990306</td>\n",
       "      <td>-500.080993</td>\n",
       "      <td>19.990336</td>\n",
       "      <td>-499.191575</td>\n",
       "    </tr>\n",
       "    <tr>\n",
       "      <th>2017-12-09 15:59:59</th>\n",
       "      <td>4.362781</td>\n",
       "      <td>6.048130</td>\n",
       "      <td>3.902537</td>\n",
       "      <td>39.713906</td>\n",
       "      <td>544.731687</td>\n",
       "      <td>123.742430</td>\n",
       "      <td>6.210119</td>\n",
       "      <td>9.297709</td>\n",
       "      <td>1,201.904177</td>\n",
       "      <td>-299.907308</td>\n",
       "      <td>...</td>\n",
       "      <td>23.024963</td>\n",
       "      <td>-501.153409</td>\n",
       "      <td>20.054122</td>\n",
       "      <td>-500.314711</td>\n",
       "      <td>17.979515</td>\n",
       "      <td>-499.272871</td>\n",
       "      <td>12.992404</td>\n",
       "      <td>-499.976268</td>\n",
       "      <td>20.013986</td>\n",
       "      <td>-500.625471</td>\n",
       "    </tr>\n",
       "    <tr>\n",
       "      <th>2017-12-09 16:59:59</th>\n",
       "      <td>5.081681</td>\n",
       "      <td>6.082745</td>\n",
       "      <td>4.564078</td>\n",
       "      <td>37.208683</td>\n",
       "      <td>558.155110</td>\n",
       "      <td>82.610855</td>\n",
       "      <td>7.363824</td>\n",
       "      <td>9.003562</td>\n",
       "      <td>1,200.826926</td>\n",
       "      <td>-300.124116</td>\n",
       "      <td>...</td>\n",
       "      <td>22.993827</td>\n",
       "      <td>-501.559663</td>\n",
       "      <td>20.029144</td>\n",
       "      <td>-500.000662</td>\n",
       "      <td>18.012723</td>\n",
       "      <td>-500.024764</td>\n",
       "      <td>13.016445</td>\n",
       "      <td>-500.058432</td>\n",
       "      <td>19.973767</td>\n",
       "      <td>-501.394155</td>\n",
       "    </tr>\n",
       "    <tr>\n",
       "      <th>2017-12-09 17:59:59</th>\n",
       "      <td>5.145949</td>\n",
       "      <td>6.084374</td>\n",
       "      <td>4.768124</td>\n",
       "      <td>36.808874</td>\n",
       "      <td>539.713765</td>\n",
       "      <td>77.984784</td>\n",
       "      <td>6.927072</td>\n",
       "      <td>8.955597</td>\n",
       "      <td>1,199.292489</td>\n",
       "      <td>-299.778385</td>\n",
       "      <td>...</td>\n",
       "      <td>23.032807</td>\n",
       "      <td>-501.287889</td>\n",
       "      <td>19.977466</td>\n",
       "      <td>-500.159903</td>\n",
       "      <td>17.980463</td>\n",
       "      <td>-500.504602</td>\n",
       "      <td>12.949071</td>\n",
       "      <td>-500.009937</td>\n",
       "      <td>20.010332</td>\n",
       "      <td>-508.337973</td>\n",
       "    </tr>\n",
       "    <tr>\n",
       "      <th>2017-12-09 18:59:59</th>\n",
       "      <td>5.735249</td>\n",
       "      <td>6.165220</td>\n",
       "      <td>4.512346</td>\n",
       "      <td>37.810642</td>\n",
       "      <td>558.713584</td>\n",
       "      <td>86.434874</td>\n",
       "      <td>7.823471</td>\n",
       "      <td>7.490356</td>\n",
       "      <td>1,198.005449</td>\n",
       "      <td>-300.283401</td>\n",
       "      <td>...</td>\n",
       "      <td>23.001911</td>\n",
       "      <td>-499.947838</td>\n",
       "      <td>20.023735</td>\n",
       "      <td>-499.713680</td>\n",
       "      <td>17.990955</td>\n",
       "      <td>-500.334769</td>\n",
       "      <td>13.007523</td>\n",
       "      <td>-499.968459</td>\n",
       "      <td>19.995999</td>\n",
       "      <td>-499.788805</td>\n",
       "    </tr>\n",
       "    <tr>\n",
       "      <th>2017-12-09 19:59:59</th>\n",
       "      <td>5.848338</td>\n",
       "      <td>6.234198</td>\n",
       "      <td>4.468803</td>\n",
       "      <td>37.816555</td>\n",
       "      <td>547.515088</td>\n",
       "      <td>85.875864</td>\n",
       "      <td>8.040386</td>\n",
       "      <td>7.500718</td>\n",
       "      <td>1,201.408796</td>\n",
       "      <td>-299.647294</td>\n",
       "      <td>...</td>\n",
       "      <td>22.977833</td>\n",
       "      <td>-499.910098</td>\n",
       "      <td>20.000113</td>\n",
       "      <td>-500.584093</td>\n",
       "      <td>18.003899</td>\n",
       "      <td>-500.326371</td>\n",
       "      <td>12.978611</td>\n",
       "      <td>-499.966502</td>\n",
       "      <td>19.988673</td>\n",
       "      <td>-500.742891</td>\n",
       "    </tr>\n",
       "    <tr>\n",
       "      <th>2017-12-09 20:59:59</th>\n",
       "      <td>6.172839</td>\n",
       "      <td>6.213598</td>\n",
       "      <td>4.458071</td>\n",
       "      <td>36.829223</td>\n",
       "      <td>518.363800</td>\n",
       "      <td>73.426294</td>\n",
       "      <td>7.641859</td>\n",
       "      <td>7.498470</td>\n",
       "      <td>1,198.551240</td>\n",
       "      <td>-300.152108</td>\n",
       "      <td>...</td>\n",
       "      <td>22.964590</td>\n",
       "      <td>-500.083299</td>\n",
       "      <td>20.010567</td>\n",
       "      <td>-500.545746</td>\n",
       "      <td>18.040164</td>\n",
       "      <td>-498.936442</td>\n",
       "      <td>12.988702</td>\n",
       "      <td>-499.985412</td>\n",
       "      <td>20.014155</td>\n",
       "      <td>-499.443855</td>\n",
       "    </tr>\n",
       "    <tr>\n",
       "      <th>2017-12-09 21:59:59</th>\n",
       "      <td>5.743825</td>\n",
       "      <td>6.264367</td>\n",
       "      <td>4.428267</td>\n",
       "      <td>37.170131</td>\n",
       "      <td>500.494798</td>\n",
       "      <td>75.915232</td>\n",
       "      <td>7.230213</td>\n",
       "      <td>7.496599</td>\n",
       "      <td>1,201.172468</td>\n",
       "      <td>-300.089700</td>\n",
       "      <td>...</td>\n",
       "      <td>23.010484</td>\n",
       "      <td>-500.498525</td>\n",
       "      <td>20.043525</td>\n",
       "      <td>-499.701442</td>\n",
       "      <td>17.991164</td>\n",
       "      <td>-500.324632</td>\n",
       "      <td>13.000809</td>\n",
       "      <td>-500.181711</td>\n",
       "      <td>20.001605</td>\n",
       "      <td>-500.229965</td>\n",
       "    </tr>\n",
       "    <tr>\n",
       "      <th>2017-12-09 22:59:59</th>\n",
       "      <td>5.558520</td>\n",
       "      <td>6.167472</td>\n",
       "      <td>4.370640</td>\n",
       "      <td>37.356892</td>\n",
       "      <td>540.990643</td>\n",
       "      <td>79.668503</td>\n",
       "      <td>7.089240</td>\n",
       "      <td>7.524634</td>\n",
       "      <td>1,195.305111</td>\n",
       "      <td>-300.229149</td>\n",
       "      <td>...</td>\n",
       "      <td>22.979813</td>\n",
       "      <td>-500.451722</td>\n",
       "      <td>19.995022</td>\n",
       "      <td>-500.415107</td>\n",
       "      <td>18.057379</td>\n",
       "      <td>-499.238503</td>\n",
       "      <td>13.011922</td>\n",
       "      <td>-500.067255</td>\n",
       "      <td>20.002796</td>\n",
       "      <td>-504.347015</td>\n",
       "    </tr>\n",
       "    <tr>\n",
       "      <th>2017-12-09 23:59:59</th>\n",
       "      <td>5.473143</td>\n",
       "      <td>6.076597</td>\n",
       "      <td>4.274908</td>\n",
       "      <td>38.631317</td>\n",
       "      <td>492.146649</td>\n",
       "      <td>90.792119</td>\n",
       "      <td>7.367698</td>\n",
       "      <td>6.543369</td>\n",
       "      <td>1,203.076302</td>\n",
       "      <td>-299.896920</td>\n",
       "      <td>...</td>\n",
       "      <td>23.050901</td>\n",
       "      <td>-501.185001</td>\n",
       "      <td>20.016755</td>\n",
       "      <td>-499.840744</td>\n",
       "      <td>17.991566</td>\n",
       "      <td>-500.303770</td>\n",
       "      <td>13.023215</td>\n",
       "      <td>-500.018271</td>\n",
       "      <td>20.015115</td>\n",
       "      <td>-515.537548</td>\n",
       "    </tr>\n",
       "  </tbody>\n",
       "</table>\n",
       "<p>10 rows × 52 columns</p>\n",
       "</div>"
      ],
      "text/plain": [
       "                     rougher.input.feed_au  rougher.input.feed_ag  \\\n",
       "date                                                                \n",
       "2017-12-09 14:59:59               4.365491               6.158718   \n",
       "2017-12-09 15:59:59               4.362781               6.048130   \n",
       "2017-12-09 16:59:59               5.081681               6.082745   \n",
       "2017-12-09 17:59:59               5.145949               6.084374   \n",
       "2017-12-09 18:59:59               5.735249               6.165220   \n",
       "2017-12-09 19:59:59               5.848338               6.234198   \n",
       "2017-12-09 20:59:59               6.172839               6.213598   \n",
       "2017-12-09 21:59:59               5.743825               6.264367   \n",
       "2017-12-09 22:59:59               5.558520               6.167472   \n",
       "2017-12-09 23:59:59               5.473143               6.076597   \n",
       "\n",
       "                     rougher.input.feed_pb  rougher.input.feed_sol  \\\n",
       "date                                                                 \n",
       "2017-12-09 14:59:59               3.875727               39.135119   \n",
       "2017-12-09 15:59:59               3.902537               39.713906   \n",
       "2017-12-09 16:59:59               4.564078               37.208683   \n",
       "2017-12-09 17:59:59               4.768124               36.808874   \n",
       "2017-12-09 18:59:59               4.512346               37.810642   \n",
       "2017-12-09 19:59:59               4.468803               37.816555   \n",
       "2017-12-09 20:59:59               4.458071               36.829223   \n",
       "2017-12-09 21:59:59               4.428267               37.170131   \n",
       "2017-12-09 22:59:59               4.370640               37.356892   \n",
       "2017-12-09 23:59:59               4.274908               38.631317   \n",
       "\n",
       "                     rougher.input.feed_rate  rougher.input.feed_size  \\\n",
       "date                                                                    \n",
       "2017-12-09 14:59:59               555.820208                94.544358   \n",
       "2017-12-09 15:59:59               544.731687               123.742430   \n",
       "2017-12-09 16:59:59               558.155110                82.610855   \n",
       "2017-12-09 17:59:59               539.713765                77.984784   \n",
       "2017-12-09 18:59:59               558.713584                86.434874   \n",
       "2017-12-09 19:59:59               547.515088                85.875864   \n",
       "2017-12-09 20:59:59               518.363800                73.426294   \n",
       "2017-12-09 21:59:59               500.494798                75.915232   \n",
       "2017-12-09 22:59:59               540.990643                79.668503   \n",
       "2017-12-09 23:59:59               492.146649                90.792119   \n",
       "\n",
       "                     rougher.input.floatbank10_sulfate  \\\n",
       "date                                                     \n",
       "2017-12-09 14:59:59                           6.146982   \n",
       "2017-12-09 15:59:59                           6.210119   \n",
       "2017-12-09 16:59:59                           7.363824   \n",
       "2017-12-09 17:59:59                           6.927072   \n",
       "2017-12-09 18:59:59                           7.823471   \n",
       "2017-12-09 19:59:59                           8.040386   \n",
       "2017-12-09 20:59:59                           7.641859   \n",
       "2017-12-09 21:59:59                           7.230213   \n",
       "2017-12-09 22:59:59                           7.089240   \n",
       "2017-12-09 23:59:59                           7.367698   \n",
       "\n",
       "                     rougher.input.floatbank10_xanthate  \\\n",
       "date                                                      \n",
       "2017-12-09 14:59:59                            9.308612   \n",
       "2017-12-09 15:59:59                            9.297709   \n",
       "2017-12-09 16:59:59                            9.003562   \n",
       "2017-12-09 17:59:59                            8.955597   \n",
       "2017-12-09 18:59:59                            7.490356   \n",
       "2017-12-09 19:59:59                            7.500718   \n",
       "2017-12-09 20:59:59                            7.498470   \n",
       "2017-12-09 21:59:59                            7.496599   \n",
       "2017-12-09 22:59:59                            7.524634   \n",
       "2017-12-09 23:59:59                            6.543369   \n",
       "\n",
       "                     rougher.state.floatbank10_a_air  \\\n",
       "date                                                   \n",
       "2017-12-09 14:59:59                     1,196.238112   \n",
       "2017-12-09 15:59:59                     1,201.904177   \n",
       "2017-12-09 16:59:59                     1,200.826926   \n",
       "2017-12-09 17:59:59                     1,199.292489   \n",
       "2017-12-09 18:59:59                     1,198.005449   \n",
       "2017-12-09 19:59:59                     1,201.408796   \n",
       "2017-12-09 20:59:59                     1,198.551240   \n",
       "2017-12-09 21:59:59                     1,201.172468   \n",
       "2017-12-09 22:59:59                     1,195.305111   \n",
       "2017-12-09 23:59:59                     1,203.076302   \n",
       "\n",
       "                     rougher.state.floatbank10_a_level  ...  \\\n",
       "date                                                    ...   \n",
       "2017-12-09 14:59:59                        -299.862743  ...   \n",
       "2017-12-09 15:59:59                        -299.907308  ...   \n",
       "2017-12-09 16:59:59                        -300.124116  ...   \n",
       "2017-12-09 17:59:59                        -299.778385  ...   \n",
       "2017-12-09 18:59:59                        -300.283401  ...   \n",
       "2017-12-09 19:59:59                        -299.647294  ...   \n",
       "2017-12-09 20:59:59                        -300.152108  ...   \n",
       "2017-12-09 21:59:59                        -300.089700  ...   \n",
       "2017-12-09 22:59:59                        -300.229149  ...   \n",
       "2017-12-09 23:59:59                        -299.896920  ...   \n",
       "\n",
       "                     secondary_cleaner.state.floatbank4_a_air  \\\n",
       "date                                                            \n",
       "2017-12-09 14:59:59                                 23.018622   \n",
       "2017-12-09 15:59:59                                 23.024963   \n",
       "2017-12-09 16:59:59                                 22.993827   \n",
       "2017-12-09 17:59:59                                 23.032807   \n",
       "2017-12-09 18:59:59                                 23.001911   \n",
       "2017-12-09 19:59:59                                 22.977833   \n",
       "2017-12-09 20:59:59                                 22.964590   \n",
       "2017-12-09 21:59:59                                 23.010484   \n",
       "2017-12-09 22:59:59                                 22.979813   \n",
       "2017-12-09 23:59:59                                 23.050901   \n",
       "\n",
       "                     secondary_cleaner.state.floatbank4_a_level  \\\n",
       "date                                                              \n",
       "2017-12-09 14:59:59                                 -500.492702   \n",
       "2017-12-09 15:59:59                                 -501.153409   \n",
       "2017-12-09 16:59:59                                 -501.559663   \n",
       "2017-12-09 17:59:59                                 -501.287889   \n",
       "2017-12-09 18:59:59                                 -499.947838   \n",
       "2017-12-09 19:59:59                                 -499.910098   \n",
       "2017-12-09 20:59:59                                 -500.083299   \n",
       "2017-12-09 21:59:59                                 -500.498525   \n",
       "2017-12-09 22:59:59                                 -500.451722   \n",
       "2017-12-09 23:59:59                                 -501.185001   \n",
       "\n",
       "                     secondary_cleaner.state.floatbank4_b_air  \\\n",
       "date                                                            \n",
       "2017-12-09 14:59:59                                 20.020205   \n",
       "2017-12-09 15:59:59                                 20.054122   \n",
       "2017-12-09 16:59:59                                 20.029144   \n",
       "2017-12-09 17:59:59                                 19.977466   \n",
       "2017-12-09 18:59:59                                 20.023735   \n",
       "2017-12-09 19:59:59                                 20.000113   \n",
       "2017-12-09 20:59:59                                 20.010567   \n",
       "2017-12-09 21:59:59                                 20.043525   \n",
       "2017-12-09 22:59:59                                 19.995022   \n",
       "2017-12-09 23:59:59                                 20.016755   \n",
       "\n",
       "                     secondary_cleaner.state.floatbank4_b_level  \\\n",
       "date                                                              \n",
       "2017-12-09 14:59:59                                 -500.220296   \n",
       "2017-12-09 15:59:59                                 -500.314711   \n",
       "2017-12-09 16:59:59                                 -500.000662   \n",
       "2017-12-09 17:59:59                                 -500.159903   \n",
       "2017-12-09 18:59:59                                 -499.713680   \n",
       "2017-12-09 19:59:59                                 -500.584093   \n",
       "2017-12-09 20:59:59                                 -500.545746   \n",
       "2017-12-09 21:59:59                                 -499.701442   \n",
       "2017-12-09 22:59:59                                 -500.415107   \n",
       "2017-12-09 23:59:59                                 -499.840744   \n",
       "\n",
       "                     secondary_cleaner.state.floatbank5_a_air  \\\n",
       "date                                                            \n",
       "2017-12-09 14:59:59                                 17.963512   \n",
       "2017-12-09 15:59:59                                 17.979515   \n",
       "2017-12-09 16:59:59                                 18.012723   \n",
       "2017-12-09 17:59:59                                 17.980463   \n",
       "2017-12-09 18:59:59                                 17.990955   \n",
       "2017-12-09 19:59:59                                 18.003899   \n",
       "2017-12-09 20:59:59                                 18.040164   \n",
       "2017-12-09 21:59:59                                 17.991164   \n",
       "2017-12-09 22:59:59                                 18.057379   \n",
       "2017-12-09 23:59:59                                 17.991566   \n",
       "\n",
       "                     secondary_cleaner.state.floatbank5_a_level  \\\n",
       "date                                                              \n",
       "2017-12-09 14:59:59                                 -499.939490   \n",
       "2017-12-09 15:59:59                                 -499.272871   \n",
       "2017-12-09 16:59:59                                 -500.024764   \n",
       "2017-12-09 17:59:59                                 -500.504602   \n",
       "2017-12-09 18:59:59                                 -500.334769   \n",
       "2017-12-09 19:59:59                                 -500.326371   \n",
       "2017-12-09 20:59:59                                 -498.936442   \n",
       "2017-12-09 21:59:59                                 -500.324632   \n",
       "2017-12-09 22:59:59                                 -499.238503   \n",
       "2017-12-09 23:59:59                                 -500.303770   \n",
       "\n",
       "                     secondary_cleaner.state.floatbank5_b_air  \\\n",
       "date                                                            \n",
       "2017-12-09 14:59:59                                 12.990306   \n",
       "2017-12-09 15:59:59                                 12.992404   \n",
       "2017-12-09 16:59:59                                 13.016445   \n",
       "2017-12-09 17:59:59                                 12.949071   \n",
       "2017-12-09 18:59:59                                 13.007523   \n",
       "2017-12-09 19:59:59                                 12.978611   \n",
       "2017-12-09 20:59:59                                 12.988702   \n",
       "2017-12-09 21:59:59                                 13.000809   \n",
       "2017-12-09 22:59:59                                 13.011922   \n",
       "2017-12-09 23:59:59                                 13.023215   \n",
       "\n",
       "                     secondary_cleaner.state.floatbank5_b_level  \\\n",
       "date                                                              \n",
       "2017-12-09 14:59:59                                 -500.080993   \n",
       "2017-12-09 15:59:59                                 -499.976268   \n",
       "2017-12-09 16:59:59                                 -500.058432   \n",
       "2017-12-09 17:59:59                                 -500.009937   \n",
       "2017-12-09 18:59:59                                 -499.968459   \n",
       "2017-12-09 19:59:59                                 -499.966502   \n",
       "2017-12-09 20:59:59                                 -499.985412   \n",
       "2017-12-09 21:59:59                                 -500.181711   \n",
       "2017-12-09 22:59:59                                 -500.067255   \n",
       "2017-12-09 23:59:59                                 -500.018271   \n",
       "\n",
       "                     secondary_cleaner.state.floatbank6_a_air  \\\n",
       "date                                                            \n",
       "2017-12-09 14:59:59                                 19.990336   \n",
       "2017-12-09 15:59:59                                 20.013986   \n",
       "2017-12-09 16:59:59                                 19.973767   \n",
       "2017-12-09 17:59:59                                 20.010332   \n",
       "2017-12-09 18:59:59                                 19.995999   \n",
       "2017-12-09 19:59:59                                 19.988673   \n",
       "2017-12-09 20:59:59                                 20.014155   \n",
       "2017-12-09 21:59:59                                 20.001605   \n",
       "2017-12-09 22:59:59                                 20.002796   \n",
       "2017-12-09 23:59:59                                 20.015115   \n",
       "\n",
       "                     secondary_cleaner.state.floatbank6_a_level  \n",
       "date                                                             \n",
       "2017-12-09 14:59:59                                 -499.191575  \n",
       "2017-12-09 15:59:59                                 -500.625471  \n",
       "2017-12-09 16:59:59                                 -501.394155  \n",
       "2017-12-09 17:59:59                                 -508.337973  \n",
       "2017-12-09 18:59:59                                 -499.788805  \n",
       "2017-12-09 19:59:59                                 -500.742891  \n",
       "2017-12-09 20:59:59                                 -499.443855  \n",
       "2017-12-09 21:59:59                                 -500.229965  \n",
       "2017-12-09 22:59:59                                 -504.347015  \n",
       "2017-12-09 23:59:59                                 -515.537548  \n",
       "\n",
       "[10 rows x 52 columns]"
      ]
     },
     "execution_count": 6,
     "metadata": {},
     "output_type": "execute_result"
    }
   ],
   "source": [
    "print(gold_test.info())\n",
    "gold_test.set_index('date', inplace=True)\n",
    "gold_test.head(10)"
   ]
  },
  {
   "cell_type": "code",
   "execution_count": 7,
   "metadata": {},
   "outputs": [
    {
     "name": "stdout",
     "output_type": "stream",
     "text": [
      "<class 'pandas.core.frame.DataFrame'>\n",
      "RangeIndex: 19439 entries, 0 to 19438\n",
      "Data columns (total 87 columns):\n",
      " #   Column                                              Non-Null Count  Dtype  \n",
      "---  ------                                              --------------  -----  \n",
      " 0   date                                                19439 non-null  object \n",
      " 1   rougher.input.feed_au                               19439 non-null  float64\n",
      " 2   rougher.input.feed_ag                               19439 non-null  float64\n",
      " 3   rougher.input.feed_pb                               19339 non-null  float64\n",
      " 4   rougher.input.feed_sol                              19340 non-null  float64\n",
      " 5   rougher.input.feed_rate                             19428 non-null  float64\n",
      " 6   rougher.input.feed_size                             19294 non-null  float64\n",
      " 7   rougher.input.floatbank10_sulfate                   19405 non-null  float64\n",
      " 8   rougher.input.floatbank10_xanthate                  19431 non-null  float64\n",
      " 9   rougher.state.floatbank10_a_air                     19438 non-null  float64\n",
      " 10  rougher.state.floatbank10_a_level                   19438 non-null  float64\n",
      " 11  rougher.state.floatbank10_b_air                     19438 non-null  float64\n",
      " 12  rougher.state.floatbank10_b_level                   19438 non-null  float64\n",
      " 13  rougher.state.floatbank10_c_air                     19438 non-null  float64\n",
      " 14  rougher.state.floatbank10_c_level                   19438 non-null  float64\n",
      " 15  rougher.state.floatbank10_d_air                     19439 non-null  float64\n",
      " 16  rougher.state.floatbank10_d_level                   19439 non-null  float64\n",
      " 17  rougher.state.floatbank10_e_air                     19003 non-null  float64\n",
      " 18  rougher.state.floatbank10_e_level                   19439 non-null  float64\n",
      " 19  rougher.state.floatbank10_f_air                     19439 non-null  float64\n",
      " 20  rougher.state.floatbank10_f_level                   19439 non-null  float64\n",
      " 21  rougher.input.floatbank11_sulfate                   19395 non-null  float64\n",
      " 22  rougher.input.floatbank11_xanthate                  18986 non-null  float64\n",
      " 23  rougher.calculation.sulfate_to_au_concentrate       19437 non-null  float64\n",
      " 24  rougher.calculation.floatbank10_sulfate_to_au_feed  19437 non-null  float64\n",
      " 25  rougher.calculation.floatbank11_sulfate_to_au_feed  19437 non-null  float64\n",
      " 26  rougher.calculation.au_pb_ratio                     19439 non-null  float64\n",
      " 27  rougher.output.concentrate_au                       19439 non-null  float64\n",
      " 28  rougher.output.concentrate_ag                       19439 non-null  float64\n",
      " 29  rougher.output.concentrate_pb                       19439 non-null  float64\n",
      " 30  rougher.output.concentrate_sol                      19416 non-null  float64\n",
      " 31  rougher.output.recovery                             19439 non-null  float64\n",
      " 32  rougher.output.tail_au                              19439 non-null  float64\n",
      " 33  rougher.output.tail_ag                              19438 non-null  float64\n",
      " 34  rougher.output.tail_pb                              19439 non-null  float64\n",
      " 35  rougher.output.tail_sol                             19439 non-null  float64\n",
      " 36  primary_cleaner.input.sulfate                       19415 non-null  float64\n",
      " 37  primary_cleaner.input.depressant                    19402 non-null  float64\n",
      " 38  primary_cleaner.input.feed_size                     19439 non-null  float64\n",
      " 39  primary_cleaner.input.xanthate                      19335 non-null  float64\n",
      " 40  primary_cleaner.state.floatbank8_a_air              19435 non-null  float64\n",
      " 41  primary_cleaner.state.floatbank8_a_level            19438 non-null  float64\n",
      " 42  primary_cleaner.state.floatbank8_b_air              19435 non-null  float64\n",
      " 43  primary_cleaner.state.floatbank8_b_level            19438 non-null  float64\n",
      " 44  primary_cleaner.state.floatbank8_c_air              19437 non-null  float64\n",
      " 45  primary_cleaner.state.floatbank8_c_level            19438 non-null  float64\n",
      " 46  primary_cleaner.state.floatbank8_d_air              19436 non-null  float64\n",
      " 47  primary_cleaner.state.floatbank8_d_level            19438 non-null  float64\n",
      " 48  primary_cleaner.output.concentrate_au               19439 non-null  float64\n",
      " 49  primary_cleaner.output.concentrate_ag               19439 non-null  float64\n",
      " 50  primary_cleaner.output.concentrate_pb               19323 non-null  float64\n",
      " 51  primary_cleaner.output.concentrate_sol              19069 non-null  float64\n",
      " 52  primary_cleaner.output.tail_au                      19439 non-null  float64\n",
      " 53  primary_cleaner.output.tail_ag                      19435 non-null  float64\n",
      " 54  primary_cleaner.output.tail_pb                      19418 non-null  float64\n",
      " 55  primary_cleaner.output.tail_sol                     19377 non-null  float64\n",
      " 56  secondary_cleaner.state.floatbank2_a_air            19219 non-null  float64\n",
      " 57  secondary_cleaner.state.floatbank2_a_level          19438 non-null  float64\n",
      " 58  secondary_cleaner.state.floatbank2_b_air            19416 non-null  float64\n",
      " 59  secondary_cleaner.state.floatbank2_b_level          19438 non-null  float64\n",
      " 60  secondary_cleaner.state.floatbank3_a_air            19426 non-null  float64\n",
      " 61  secondary_cleaner.state.floatbank3_a_level          19438 non-null  float64\n",
      " 62  secondary_cleaner.state.floatbank3_b_air            19438 non-null  float64\n",
      " 63  secondary_cleaner.state.floatbank3_b_level          19438 non-null  float64\n",
      " 64  secondary_cleaner.state.floatbank4_a_air            19433 non-null  float64\n",
      " 65  secondary_cleaner.state.floatbank4_a_level          19438 non-null  float64\n",
      " 66  secondary_cleaner.state.floatbank4_b_air            19438 non-null  float64\n",
      " 67  secondary_cleaner.state.floatbank4_b_level          19438 non-null  float64\n",
      " 68  secondary_cleaner.state.floatbank5_a_air            19438 non-null  float64\n",
      " 69  secondary_cleaner.state.floatbank5_a_level          19438 non-null  float64\n",
      " 70  secondary_cleaner.state.floatbank5_b_air            19438 non-null  float64\n",
      " 71  secondary_cleaner.state.floatbank5_b_level          19438 non-null  float64\n",
      " 72  secondary_cleaner.state.floatbank6_a_air            19437 non-null  float64\n",
      " 73  secondary_cleaner.state.floatbank6_a_level          19438 non-null  float64\n",
      " 74  secondary_cleaner.output.tail_au                    19439 non-null  float64\n",
      " 75  secondary_cleaner.output.tail_ag                    19437 non-null  float64\n",
      " 76  secondary_cleaner.output.tail_pb                    19427 non-null  float64\n",
      " 77  secondary_cleaner.output.tail_sol                   17691 non-null  float64\n",
      " 78  final.output.concentrate_au                         19439 non-null  float64\n",
      " 79  final.output.concentrate_ag                         19438 non-null  float64\n",
      " 80  final.output.concentrate_pb                         19438 non-null  float64\n",
      " 81  final.output.concentrate_sol                        19228 non-null  float64\n",
      " 82  final.output.recovery                               19439 non-null  float64\n",
      " 83  final.output.tail_au                                19439 non-null  float64\n",
      " 84  final.output.tail_ag                                19438 non-null  float64\n",
      " 85  final.output.tail_pb                                19338 non-null  float64\n",
      " 86  final.output.tail_sol                               19433 non-null  float64\n",
      "dtypes: float64(86), object(1)\n",
      "memory usage: 12.9+ MB\n",
      "None\n"
     ]
    },
    {
     "data": {
      "text/html": [
       "<div>\n",
       "<style scoped>\n",
       "    .dataframe tbody tr th:only-of-type {\n",
       "        vertical-align: middle;\n",
       "    }\n",
       "\n",
       "    .dataframe tbody tr th {\n",
       "        vertical-align: top;\n",
       "    }\n",
       "\n",
       "    .dataframe thead th {\n",
       "        text-align: right;\n",
       "    }\n",
       "</style>\n",
       "<table border=\"1\" class=\"dataframe\">\n",
       "  <thead>\n",
       "    <tr style=\"text-align: right;\">\n",
       "      <th></th>\n",
       "      <th>rougher.input.feed_au</th>\n",
       "      <th>rougher.input.feed_ag</th>\n",
       "      <th>rougher.input.feed_pb</th>\n",
       "      <th>rougher.input.feed_sol</th>\n",
       "      <th>rougher.input.feed_rate</th>\n",
       "      <th>rougher.input.feed_size</th>\n",
       "      <th>rougher.input.floatbank10_sulfate</th>\n",
       "      <th>rougher.input.floatbank10_xanthate</th>\n",
       "      <th>rougher.state.floatbank10_a_air</th>\n",
       "      <th>rougher.state.floatbank10_a_level</th>\n",
       "      <th>...</th>\n",
       "      <th>secondary_cleaner.output.tail_sol</th>\n",
       "      <th>final.output.concentrate_au</th>\n",
       "      <th>final.output.concentrate_ag</th>\n",
       "      <th>final.output.concentrate_pb</th>\n",
       "      <th>final.output.concentrate_sol</th>\n",
       "      <th>final.output.recovery</th>\n",
       "      <th>final.output.tail_au</th>\n",
       "      <th>final.output.tail_ag</th>\n",
       "      <th>final.output.tail_pb</th>\n",
       "      <th>final.output.tail_sol</th>\n",
       "    </tr>\n",
       "    <tr>\n",
       "      <th>date</th>\n",
       "      <th></th>\n",
       "      <th></th>\n",
       "      <th></th>\n",
       "      <th></th>\n",
       "      <th></th>\n",
       "      <th></th>\n",
       "      <th></th>\n",
       "      <th></th>\n",
       "      <th></th>\n",
       "      <th></th>\n",
       "      <th></th>\n",
       "      <th></th>\n",
       "      <th></th>\n",
       "      <th></th>\n",
       "      <th></th>\n",
       "      <th></th>\n",
       "      <th></th>\n",
       "      <th></th>\n",
       "      <th></th>\n",
       "      <th></th>\n",
       "      <th></th>\n",
       "    </tr>\n",
       "  </thead>\n",
       "  <tbody>\n",
       "    <tr>\n",
       "      <th>2016-01-15 00:00:00</th>\n",
       "      <td>6.486150</td>\n",
       "      <td>6.100378</td>\n",
       "      <td>2.284912</td>\n",
       "      <td>36.808594</td>\n",
       "      <td>523.546326</td>\n",
       "      <td>55.486599</td>\n",
       "      <td>11.986616</td>\n",
       "      <td>6.007990</td>\n",
       "      <td>999.706909</td>\n",
       "      <td>-404.066986</td>\n",
       "      <td>...</td>\n",
       "      <td>8.764648</td>\n",
       "      <td>42.192020</td>\n",
       "      <td>6.055403</td>\n",
       "      <td>9.889648</td>\n",
       "      <td>5.507324</td>\n",
       "      <td>70.541216</td>\n",
       "      <td>2.143149</td>\n",
       "      <td>10.411962</td>\n",
       "      <td>0.895447</td>\n",
       "      <td>16.904297</td>\n",
       "    </tr>\n",
       "    <tr>\n",
       "      <th>2016-01-15 01:00:00</th>\n",
       "      <td>6.478583</td>\n",
       "      <td>6.161113</td>\n",
       "      <td>2.266033</td>\n",
       "      <td>35.753385</td>\n",
       "      <td>525.290581</td>\n",
       "      <td>57.278666</td>\n",
       "      <td>11.971193</td>\n",
       "      <td>6.005766</td>\n",
       "      <td>1,000.286398</td>\n",
       "      <td>-400.065196</td>\n",
       "      <td>...</td>\n",
       "      <td>9.001494</td>\n",
       "      <td>42.701629</td>\n",
       "      <td>6.029369</td>\n",
       "      <td>9.968944</td>\n",
       "      <td>5.257781</td>\n",
       "      <td>69.266198</td>\n",
       "      <td>2.224930</td>\n",
       "      <td>10.462676</td>\n",
       "      <td>0.927452</td>\n",
       "      <td>16.634514</td>\n",
       "    </tr>\n",
       "    <tr>\n",
       "      <th>2016-01-15 02:00:00</th>\n",
       "      <td>6.362222</td>\n",
       "      <td>6.116455</td>\n",
       "      <td>2.159622</td>\n",
       "      <td>35.971630</td>\n",
       "      <td>530.026610</td>\n",
       "      <td>57.510649</td>\n",
       "      <td>11.920603</td>\n",
       "      <td>6.197377</td>\n",
       "      <td>999.719565</td>\n",
       "      <td>-400.074028</td>\n",
       "      <td>...</td>\n",
       "      <td>8.842896</td>\n",
       "      <td>42.657501</td>\n",
       "      <td>6.055926</td>\n",
       "      <td>10.213995</td>\n",
       "      <td>5.383759</td>\n",
       "      <td>68.116445</td>\n",
       "      <td>2.257889</td>\n",
       "      <td>10.507046</td>\n",
       "      <td>0.953716</td>\n",
       "      <td>16.208849</td>\n",
       "    </tr>\n",
       "    <tr>\n",
       "      <th>2016-01-15 03:00:00</th>\n",
       "      <td>6.118189</td>\n",
       "      <td>6.043309</td>\n",
       "      <td>2.037807</td>\n",
       "      <td>36.862241</td>\n",
       "      <td>542.590390</td>\n",
       "      <td>57.792734</td>\n",
       "      <td>11.630094</td>\n",
       "      <td>6.203177</td>\n",
       "      <td>999.814770</td>\n",
       "      <td>-400.200179</td>\n",
       "      <td>...</td>\n",
       "      <td>9.122857</td>\n",
       "      <td>42.689819</td>\n",
       "      <td>6.047977</td>\n",
       "      <td>9.977019</td>\n",
       "      <td>4.858634</td>\n",
       "      <td>68.347543</td>\n",
       "      <td>2.146849</td>\n",
       "      <td>10.422762</td>\n",
       "      <td>0.883763</td>\n",
       "      <td>16.532835</td>\n",
       "    </tr>\n",
       "    <tr>\n",
       "      <th>2016-01-15 04:00:00</th>\n",
       "      <td>5.663707</td>\n",
       "      <td>6.060915</td>\n",
       "      <td>1.786875</td>\n",
       "      <td>34.347666</td>\n",
       "      <td>540.531893</td>\n",
       "      <td>56.047189</td>\n",
       "      <td>10.957755</td>\n",
       "      <td>6.198826</td>\n",
       "      <td>999.678690</td>\n",
       "      <td>-399.752729</td>\n",
       "      <td>...</td>\n",
       "      <td>8.871028</td>\n",
       "      <td>42.774141</td>\n",
       "      <td>6.148599</td>\n",
       "      <td>10.142511</td>\n",
       "      <td>4.939416</td>\n",
       "      <td>66.927016</td>\n",
       "      <td>2.055292</td>\n",
       "      <td>10.360302</td>\n",
       "      <td>0.792826</td>\n",
       "      <td>16.525686</td>\n",
       "    </tr>\n",
       "    <tr>\n",
       "      <th>2016-01-15 05:00:00</th>\n",
       "      <td>5.687168</td>\n",
       "      <td>5.801920</td>\n",
       "      <td>1.879351</td>\n",
       "      <td>35.470082</td>\n",
       "      <td>546.173470</td>\n",
       "      <td>57.469578</td>\n",
       "      <td>11.072517</td>\n",
       "      <td>6.200383</td>\n",
       "      <td>999.934134</td>\n",
       "      <td>-400.599524</td>\n",
       "      <td>...</td>\n",
       "      <td>9.302669</td>\n",
       "      <td>41.633678</td>\n",
       "      <td>6.482968</td>\n",
       "      <td>10.049416</td>\n",
       "      <td>5.480257</td>\n",
       "      <td>69.465816</td>\n",
       "      <td>1.918586</td>\n",
       "      <td>10.182708</td>\n",
       "      <td>0.664118</td>\n",
       "      <td>16.999638</td>\n",
       "    </tr>\n",
       "    <tr>\n",
       "      <th>2016-01-15 06:00:00</th>\n",
       "      <td>6.038436</td>\n",
       "      <td>6.056253</td>\n",
       "      <td>2.105501</td>\n",
       "      <td>34.920570</td>\n",
       "      <td>523.376439</td>\n",
       "      <td>56.674647</td>\n",
       "      <td>11.535899</td>\n",
       "      <td>6.204974</td>\n",
       "      <td>999.832373</td>\n",
       "      <td>-399.353521</td>\n",
       "      <td>...</td>\n",
       "      <td>9.103047</td>\n",
       "      <td>41.995316</td>\n",
       "      <td>6.533849</td>\n",
       "      <td>10.058141</td>\n",
       "      <td>4.569100</td>\n",
       "      <td>69.300835</td>\n",
       "      <td>2.058913</td>\n",
       "      <td>10.304598</td>\n",
       "      <td>0.807342</td>\n",
       "      <td>16.723575</td>\n",
       "    </tr>\n",
       "    <tr>\n",
       "      <th>2016-01-15 07:00:00</th>\n",
       "      <td>6.433854</td>\n",
       "      <td>5.955053</td>\n",
       "      <td>2.310432</td>\n",
       "      <td>36.091386</td>\n",
       "      <td>549.842749</td>\n",
       "      <td>56.730325</td>\n",
       "      <td>12.557906</td>\n",
       "      <td>6.799275</td>\n",
       "      <td>1,000.166602</td>\n",
       "      <td>-400.556601</td>\n",
       "      <td>...</td>\n",
       "      <td>9.369209</td>\n",
       "      <td>42.452727</td>\n",
       "      <td>6.130823</td>\n",
       "      <td>9.935481</td>\n",
       "      <td>4.389813</td>\n",
       "      <td>70.230976</td>\n",
       "      <td>2.143437</td>\n",
       "      <td>10.443288</td>\n",
       "      <td>0.949346</td>\n",
       "      <td>16.689959</td>\n",
       "    </tr>\n",
       "    <tr>\n",
       "      <th>2016-01-15 08:00:00</th>\n",
       "      <td>6.526612</td>\n",
       "      <td>5.878084</td>\n",
       "      <td>2.391713</td>\n",
       "      <td>35.753879</td>\n",
       "      <td>560.115242</td>\n",
       "      <td>56.649893</td>\n",
       "      <td>13.166128</td>\n",
       "      <td>6.798659</td>\n",
       "      <td>1,000.026864</td>\n",
       "      <td>-399.968583</td>\n",
       "      <td>...</td>\n",
       "      <td>9.437044</td>\n",
       "      <td>43.404078</td>\n",
       "      <td>5.834140</td>\n",
       "      <td>10.071156</td>\n",
       "      <td>4.876389</td>\n",
       "      <td>69.688595</td>\n",
       "      <td>2.209881</td>\n",
       "      <td>10.420140</td>\n",
       "      <td>1.065453</td>\n",
       "      <td>17.201948</td>\n",
       "    </tr>\n",
       "    <tr>\n",
       "      <th>2016-01-15 09:00:00</th>\n",
       "      <td>6.747693</td>\n",
       "      <td>5.974832</td>\n",
       "      <td>2.539114</td>\n",
       "      <td>38.553938</td>\n",
       "      <td>566.616045</td>\n",
       "      <td>60.308763</td>\n",
       "      <td>13.996130</td>\n",
       "      <td>6.800263</td>\n",
       "      <td>1,000.332327</td>\n",
       "      <td>-400.149341</td>\n",
       "      <td>...</td>\n",
       "      <td>9.582874</td>\n",
       "      <td>43.487291</td>\n",
       "      <td>5.706261</td>\n",
       "      <td>10.242511</td>\n",
       "      <td>5.214161</td>\n",
       "      <td>70.973641</td>\n",
       "      <td>2.200997</td>\n",
       "      <td>10.473539</td>\n",
       "      <td>1.171183</td>\n",
       "      <td>17.717049</td>\n",
       "    </tr>\n",
       "  </tbody>\n",
       "</table>\n",
       "<p>10 rows × 86 columns</p>\n",
       "</div>"
      ],
      "text/plain": [
       "                     rougher.input.feed_au  rougher.input.feed_ag  \\\n",
       "date                                                                \n",
       "2016-01-15 00:00:00               6.486150               6.100378   \n",
       "2016-01-15 01:00:00               6.478583               6.161113   \n",
       "2016-01-15 02:00:00               6.362222               6.116455   \n",
       "2016-01-15 03:00:00               6.118189               6.043309   \n",
       "2016-01-15 04:00:00               5.663707               6.060915   \n",
       "2016-01-15 05:00:00               5.687168               5.801920   \n",
       "2016-01-15 06:00:00               6.038436               6.056253   \n",
       "2016-01-15 07:00:00               6.433854               5.955053   \n",
       "2016-01-15 08:00:00               6.526612               5.878084   \n",
       "2016-01-15 09:00:00               6.747693               5.974832   \n",
       "\n",
       "                     rougher.input.feed_pb  rougher.input.feed_sol  \\\n",
       "date                                                                 \n",
       "2016-01-15 00:00:00               2.284912               36.808594   \n",
       "2016-01-15 01:00:00               2.266033               35.753385   \n",
       "2016-01-15 02:00:00               2.159622               35.971630   \n",
       "2016-01-15 03:00:00               2.037807               36.862241   \n",
       "2016-01-15 04:00:00               1.786875               34.347666   \n",
       "2016-01-15 05:00:00               1.879351               35.470082   \n",
       "2016-01-15 06:00:00               2.105501               34.920570   \n",
       "2016-01-15 07:00:00               2.310432               36.091386   \n",
       "2016-01-15 08:00:00               2.391713               35.753879   \n",
       "2016-01-15 09:00:00               2.539114               38.553938   \n",
       "\n",
       "                     rougher.input.feed_rate  rougher.input.feed_size  \\\n",
       "date                                                                    \n",
       "2016-01-15 00:00:00               523.546326                55.486599   \n",
       "2016-01-15 01:00:00               525.290581                57.278666   \n",
       "2016-01-15 02:00:00               530.026610                57.510649   \n",
       "2016-01-15 03:00:00               542.590390                57.792734   \n",
       "2016-01-15 04:00:00               540.531893                56.047189   \n",
       "2016-01-15 05:00:00               546.173470                57.469578   \n",
       "2016-01-15 06:00:00               523.376439                56.674647   \n",
       "2016-01-15 07:00:00               549.842749                56.730325   \n",
       "2016-01-15 08:00:00               560.115242                56.649893   \n",
       "2016-01-15 09:00:00               566.616045                60.308763   \n",
       "\n",
       "                     rougher.input.floatbank10_sulfate  \\\n",
       "date                                                     \n",
       "2016-01-15 00:00:00                          11.986616   \n",
       "2016-01-15 01:00:00                          11.971193   \n",
       "2016-01-15 02:00:00                          11.920603   \n",
       "2016-01-15 03:00:00                          11.630094   \n",
       "2016-01-15 04:00:00                          10.957755   \n",
       "2016-01-15 05:00:00                          11.072517   \n",
       "2016-01-15 06:00:00                          11.535899   \n",
       "2016-01-15 07:00:00                          12.557906   \n",
       "2016-01-15 08:00:00                          13.166128   \n",
       "2016-01-15 09:00:00                          13.996130   \n",
       "\n",
       "                     rougher.input.floatbank10_xanthate  \\\n",
       "date                                                      \n",
       "2016-01-15 00:00:00                            6.007990   \n",
       "2016-01-15 01:00:00                            6.005766   \n",
       "2016-01-15 02:00:00                            6.197377   \n",
       "2016-01-15 03:00:00                            6.203177   \n",
       "2016-01-15 04:00:00                            6.198826   \n",
       "2016-01-15 05:00:00                            6.200383   \n",
       "2016-01-15 06:00:00                            6.204974   \n",
       "2016-01-15 07:00:00                            6.799275   \n",
       "2016-01-15 08:00:00                            6.798659   \n",
       "2016-01-15 09:00:00                            6.800263   \n",
       "\n",
       "                     rougher.state.floatbank10_a_air  \\\n",
       "date                                                   \n",
       "2016-01-15 00:00:00                       999.706909   \n",
       "2016-01-15 01:00:00                     1,000.286398   \n",
       "2016-01-15 02:00:00                       999.719565   \n",
       "2016-01-15 03:00:00                       999.814770   \n",
       "2016-01-15 04:00:00                       999.678690   \n",
       "2016-01-15 05:00:00                       999.934134   \n",
       "2016-01-15 06:00:00                       999.832373   \n",
       "2016-01-15 07:00:00                     1,000.166602   \n",
       "2016-01-15 08:00:00                     1,000.026864   \n",
       "2016-01-15 09:00:00                     1,000.332327   \n",
       "\n",
       "                     rougher.state.floatbank10_a_level  ...  \\\n",
       "date                                                    ...   \n",
       "2016-01-15 00:00:00                        -404.066986  ...   \n",
       "2016-01-15 01:00:00                        -400.065196  ...   \n",
       "2016-01-15 02:00:00                        -400.074028  ...   \n",
       "2016-01-15 03:00:00                        -400.200179  ...   \n",
       "2016-01-15 04:00:00                        -399.752729  ...   \n",
       "2016-01-15 05:00:00                        -400.599524  ...   \n",
       "2016-01-15 06:00:00                        -399.353521  ...   \n",
       "2016-01-15 07:00:00                        -400.556601  ...   \n",
       "2016-01-15 08:00:00                        -399.968583  ...   \n",
       "2016-01-15 09:00:00                        -400.149341  ...   \n",
       "\n",
       "                     secondary_cleaner.output.tail_sol  \\\n",
       "date                                                     \n",
       "2016-01-15 00:00:00                           8.764648   \n",
       "2016-01-15 01:00:00                           9.001494   \n",
       "2016-01-15 02:00:00                           8.842896   \n",
       "2016-01-15 03:00:00                           9.122857   \n",
       "2016-01-15 04:00:00                           8.871028   \n",
       "2016-01-15 05:00:00                           9.302669   \n",
       "2016-01-15 06:00:00                           9.103047   \n",
       "2016-01-15 07:00:00                           9.369209   \n",
       "2016-01-15 08:00:00                           9.437044   \n",
       "2016-01-15 09:00:00                           9.582874   \n",
       "\n",
       "                     final.output.concentrate_au  final.output.concentrate_ag  \\\n",
       "date                                                                            \n",
       "2016-01-15 00:00:00                    42.192020                     6.055403   \n",
       "2016-01-15 01:00:00                    42.701629                     6.029369   \n",
       "2016-01-15 02:00:00                    42.657501                     6.055926   \n",
       "2016-01-15 03:00:00                    42.689819                     6.047977   \n",
       "2016-01-15 04:00:00                    42.774141                     6.148599   \n",
       "2016-01-15 05:00:00                    41.633678                     6.482968   \n",
       "2016-01-15 06:00:00                    41.995316                     6.533849   \n",
       "2016-01-15 07:00:00                    42.452727                     6.130823   \n",
       "2016-01-15 08:00:00                    43.404078                     5.834140   \n",
       "2016-01-15 09:00:00                    43.487291                     5.706261   \n",
       "\n",
       "                     final.output.concentrate_pb  \\\n",
       "date                                               \n",
       "2016-01-15 00:00:00                     9.889648   \n",
       "2016-01-15 01:00:00                     9.968944   \n",
       "2016-01-15 02:00:00                    10.213995   \n",
       "2016-01-15 03:00:00                     9.977019   \n",
       "2016-01-15 04:00:00                    10.142511   \n",
       "2016-01-15 05:00:00                    10.049416   \n",
       "2016-01-15 06:00:00                    10.058141   \n",
       "2016-01-15 07:00:00                     9.935481   \n",
       "2016-01-15 08:00:00                    10.071156   \n",
       "2016-01-15 09:00:00                    10.242511   \n",
       "\n",
       "                     final.output.concentrate_sol  final.output.recovery  \\\n",
       "date                                                                       \n",
       "2016-01-15 00:00:00                      5.507324              70.541216   \n",
       "2016-01-15 01:00:00                      5.257781              69.266198   \n",
       "2016-01-15 02:00:00                      5.383759              68.116445   \n",
       "2016-01-15 03:00:00                      4.858634              68.347543   \n",
       "2016-01-15 04:00:00                      4.939416              66.927016   \n",
       "2016-01-15 05:00:00                      5.480257              69.465816   \n",
       "2016-01-15 06:00:00                      4.569100              69.300835   \n",
       "2016-01-15 07:00:00                      4.389813              70.230976   \n",
       "2016-01-15 08:00:00                      4.876389              69.688595   \n",
       "2016-01-15 09:00:00                      5.214161              70.973641   \n",
       "\n",
       "                     final.output.tail_au  final.output.tail_ag  \\\n",
       "date                                                              \n",
       "2016-01-15 00:00:00              2.143149             10.411962   \n",
       "2016-01-15 01:00:00              2.224930             10.462676   \n",
       "2016-01-15 02:00:00              2.257889             10.507046   \n",
       "2016-01-15 03:00:00              2.146849             10.422762   \n",
       "2016-01-15 04:00:00              2.055292             10.360302   \n",
       "2016-01-15 05:00:00              1.918586             10.182708   \n",
       "2016-01-15 06:00:00              2.058913             10.304598   \n",
       "2016-01-15 07:00:00              2.143437             10.443288   \n",
       "2016-01-15 08:00:00              2.209881             10.420140   \n",
       "2016-01-15 09:00:00              2.200997             10.473539   \n",
       "\n",
       "                     final.output.tail_pb  final.output.tail_sol  \n",
       "date                                                              \n",
       "2016-01-15 00:00:00              0.895447              16.904297  \n",
       "2016-01-15 01:00:00              0.927452              16.634514  \n",
       "2016-01-15 02:00:00              0.953716              16.208849  \n",
       "2016-01-15 03:00:00              0.883763              16.532835  \n",
       "2016-01-15 04:00:00              0.792826              16.525686  \n",
       "2016-01-15 05:00:00              0.664118              16.999638  \n",
       "2016-01-15 06:00:00              0.807342              16.723575  \n",
       "2016-01-15 07:00:00              0.949346              16.689959  \n",
       "2016-01-15 08:00:00              1.065453              17.201948  \n",
       "2016-01-15 09:00:00              1.171183              17.717049  \n",
       "\n",
       "[10 rows x 86 columns]"
      ]
     },
     "execution_count": 7,
     "metadata": {},
     "output_type": "execute_result"
    }
   ],
   "source": [
    "print(gold_full.info())\n",
    "gold_full.set_index('date', inplace=True)\n",
    "gold_full.head(10)"
   ]
  },
  {
   "cell_type": "markdown",
   "metadata": {},
   "source": [
    "### Проверяем с МАЕ"
   ]
  },
  {
   "cell_type": "code",
   "execution_count": 8,
   "metadata": {},
   "outputs": [
    {
     "data": {
      "text/plain": [
       "9.83758577644259e-15"
      ]
     },
     "execution_count": 8,
     "metadata": {},
     "output_type": "execute_result"
    }
   ],
   "source": [
    "top = gold_train['rougher.output.concentrate_au']*(gold_train['rougher.input.feed_au']-gold_train['rougher.output.tail_au'])\n",
    "bot = gold_train['rougher.input.feed_au']*(gold_train['rougher.output.concentrate_au']-gold_train['rougher.output.tail_au'])\n",
    "       \n",
    "mean_absolute_error(gold_train['rougher.output.recovery'],top/bot*100)"
   ]
  },
  {
   "cell_type": "markdown",
   "metadata": {},
   "source": [
    "Срдняя абсолютная ошибка очень маленькая, можно смело сказаать - пренебрежимо мала"
   ]
  },
  {
   "cell_type": "markdown",
   "metadata": {},
   "source": [
    "### Смотрим на признаки"
   ]
  },
  {
   "cell_type": "markdown",
   "metadata": {},
   "source": [
    "В пункте 1.1 видно, что в тестовом датасете нет колонок с типами параметра: calculation - некоторого рода промежуточные ответы, output - выходные данные. Эти параметры могут послужить поводом утечки целового признака, поэтому их исключили из тестовой выборки"
   ]
  },
  {
   "cell_type": "markdown",
   "metadata": {},
   "source": [
    "### Предобработка"
   ]
  },
  {
   "cell_type": "markdown",
   "metadata": {},
   "source": [
    "В тренировочном датасете не очень много пропусков, поэтому их можно заменить медианами значений данных признаков "
   ]
  },
  {
   "cell_type": "code",
   "execution_count": 9,
   "metadata": {},
   "outputs": [
    {
     "data": {
      "text/plain": [
       "rougher.input.feed_au       0\n",
       "rougher.input.feed_ag       0\n",
       "rougher.input.feed_pb      72\n",
       "rougher.input.feed_sol     77\n",
       "rougher.input.feed_rate     7\n",
       "                           ..\n",
       "final.output.recovery       0\n",
       "final.output.tail_au        0\n",
       "final.output.tail_ag        1\n",
       "final.output.tail_pb       75\n",
       "final.output.tail_sol       5\n",
       "Length: 86, dtype: int64"
      ]
     },
     "execution_count": 9,
     "metadata": {},
     "output_type": "execute_result"
    }
   ],
   "source": [
    "gold_train.isna().sum()"
   ]
  },
  {
   "cell_type": "code",
   "execution_count": 10,
   "metadata": {},
   "outputs": [],
   "source": [
    "name = gold_train.columns\n",
    "for i in name:\n",
    "    gold_train[i].fillna(method='bfill', inplace=True)"
   ]
  },
  {
   "cell_type": "code",
   "execution_count": 11,
   "metadata": {},
   "outputs": [
    {
     "data": {
      "text/plain": [
       "rougher.input.feed_au      0\n",
       "rougher.input.feed_ag      0\n",
       "rougher.input.feed_pb      0\n",
       "rougher.input.feed_sol     0\n",
       "rougher.input.feed_rate    0\n",
       "                          ..\n",
       "final.output.recovery      0\n",
       "final.output.tail_au       0\n",
       "final.output.tail_ag       0\n",
       "final.output.tail_pb       0\n",
       "final.output.tail_sol      0\n",
       "Length: 86, dtype: int64"
      ]
     },
     "execution_count": 11,
     "metadata": {},
     "output_type": "execute_result"
    }
   ],
   "source": [
    "gold_train.isna().sum()"
   ]
  },
  {
   "cell_type": "markdown",
   "metadata": {},
   "source": [
    "В тестовых данных пропусков всего 5-6%, их вполне можно было бы удалить потому что предсказание на таких данных может сильно отличаться от дейтсвительности, что повлияет на оценку метрики, хотя общая картина может быть совершенно другой, но у нас есть третий датафрейм, который велючает в себя первый и второй датафреймы, для корректного исправления пропусков стоит выбрать один из подходов, поэтому заменить пустые значения медианными "
   ]
  },
  {
   "cell_type": "code",
   "execution_count": 12,
   "metadata": {},
   "outputs": [],
   "source": [
    "name = gold_test.columns\n",
    "for i in name:\n",
    "    gold_test[i].fillna(method='bfill', inplace=True)"
   ]
  },
  {
   "cell_type": "markdown",
   "metadata": {},
   "source": [
    "Сделаем то же самое и для третьего датасета"
   ]
  },
  {
   "cell_type": "code",
   "execution_count": 13,
   "metadata": {},
   "outputs": [],
   "source": [
    "name = gold_full.columns\n",
    "for i in name:\n",
    "    gold_full[i].fillna(method='bfill', inplace=True)"
   ]
  },
  {
   "cell_type": "markdown",
   "metadata": {},
   "source": [
    "Создадим переменную test_target, которая будет содержать в себе ответы на тестовые задания, создаем ее сейчас, так как дальше будем редактировать тренировочную выборку"
   ]
  },
  {
   "cell_type": "code",
   "execution_count": 14,
   "metadata": {},
   "outputs": [],
   "source": [
    "test_target = gold_full\n",
    "test_target.drop(index=gold_train.index, axis=1, inplace=True)"
   ]
  },
  {
   "cell_type": "markdown",
   "metadata": {},
   "source": [
    "## Анализ данных"
   ]
  },
  {
   "cell_type": "markdown",
   "metadata": {},
   "source": [
    "### Исследуем распределение концетрации металлов на каждой стадии обработки "
   ]
  },
  {
   "cell_type": "code",
   "execution_count": 15,
   "metadata": {},
   "outputs": [],
   "source": [
    "our_list = {1:['rougher.input.feed_au',\n",
    "               'rougher.output.concentrate_au',\n",
    "               'primary_cleaner.output.concentrate_au',\n",
    "               'final.output.concentrate_au'],\n",
    "            \n",
    "            2:['rougher.input.feed_ag',\n",
    "               'rougher.output.concentrate_ag',\n",
    "               'primary_cleaner.output.concentrate_ag',\n",
    "               'final.output.concentrate_ag'],\n",
    "            \n",
    "            3:['rougher.input.feed_pb',\n",
    "               'rougher.output.concentrate_pb',\n",
    "               'primary_cleaner.output.concentrate_pb',\n",
    "               'final.output.concentrate_pb']\n",
    "           }"
   ]
  },
  {
   "cell_type": "code",
   "execution_count": 16,
   "metadata": {},
   "outputs": [
    {
     "data": {
      "text/plain": [
       "<matplotlib.legend.Legend at 0x1dc62a6a5b0>"
      ]
     },
     "execution_count": 16,
     "metadata": {},
     "output_type": "execute_result"
    },
    {
     "data": {
      "image/png": "[encoded data removed]",
      "text/plain": [
       "<Figure size 1500x800 with 1 Axes>"
      ]
     },
     "metadata": {},
     "output_type": "display_data"
    }
   ],
   "source": [
    "plt.figtext(0.5, 0.9, 'AU', fontsize=20)\n",
    "gold_full[our_list[1][0]].plot(kind='hist', bins=60)\n",
    "gold_full[our_list[1][1]].plot(kind='hist', bins=60)\n",
    "gold_full[our_list[1][2]].plot(kind='hist', bins=60)\n",
    "gold_full[our_list[1][3]].plot(kind='hist', bins=60, figsize=(15,8))\n",
    "plt.legend(['сырье', 'черновой концентрат', 'после первой очистки', 'финальный концентрат'],fontsize=(8))"
   ]
  },
  {
   "cell_type": "code",
   "execution_count": 17,
   "metadata": {},
   "outputs": [],
   "source": [
    "gold_train = gold_train[gold_train['rougher.input.feed_au']>2]\n",
    "gold_train = gold_train[gold_train['rougher.output.concentrate_au']>2]\n",
    "gold_train = gold_train[gold_train['primary_cleaner.output.concentrate_au']>2]\n",
    "gold_train = gold_train[gold_train['final.output.concentrate_au']>2]"
   ]
  },
  {
   "cell_type": "markdown",
   "metadata": {},
   "source": [
    "    ЗОЛОТО\n",
    "Все распределния похожи на нормальные, но с некоторыми инетресностями, распределния золота в сырье - 2 пика, в остальных выбросы возле 0. Заметна тенденция на увеличение концетрации золота после каждой стадии обработки."
   ]
  },
  {
   "cell_type": "code",
   "execution_count": 18,
   "metadata": {},
   "outputs": [
    {
     "data": {
      "text/plain": [
       "<matplotlib.legend.Legend at 0x1dc626893a0>"
      ]
     },
     "execution_count": 18,
     "metadata": {},
     "output_type": "execute_result"
    },
    {
     "data": {
      "image/png": "[encoded data removed]",
      "text/plain": [
       "<Figure size 1500x800 with 1 Axes>"
      ]
     },
     "metadata": {},
     "output_type": "display_data"
    }
   ],
   "source": [
    "plt.figtext(0.5, 0.9, 'AG', fontsize=20)\n",
    "\n",
    "gold_full[our_list[2][0]].plot(kind='hist', bins=30)\n",
    "gold_full[our_list[2][1]].plot(kind='hist', bins=30, alpha=0.7)\n",
    "gold_full[our_list[2][2]].plot(kind='hist', bins=30, alpha=0.5)\n",
    "gold_full[our_list[2][3]].plot(kind='hist', bins=30, figsize=(15,8), alpha=0.7)\n",
    "plt.legend(['сырье', 'черновой концентрат', 'после первой очистки', 'финальный концентрат'],fontsize=(8))"
   ]
  },
  {
   "cell_type": "code",
   "execution_count": 19,
   "metadata": {},
   "outputs": [],
   "source": [
    "gold_train = gold_train[gold_train['rougher.input.feed_ag']>2]\n",
    "gold_train = gold_train[gold_train['rougher.output.concentrate_ag']>2]\n",
    "gold_train = gold_train[gold_train['primary_cleaner.output.concentrate_ag']>2]\n",
    "gold_train = gold_train[gold_train['final.output.concentrate_ag']>2]"
   ]
  },
  {
   "cell_type": "markdown",
   "metadata": {},
   "source": [
    "    СЕРЕБРО\n",
    "Аналогичная с золотом ситуация по распределениям. Здесь нет такой явной тенденции, как с золотом, тут можно заметить, что концетрация серебра в сырье крайне похожа на концетрацию в готовом продукте "
   ]
  },
  {
   "cell_type": "code",
   "execution_count": 20,
   "metadata": {},
   "outputs": [
    {
     "data": {
      "text/plain": [
       "<matplotlib.legend.Legend at 0x1dc62fd3160>"
      ]
     },
     "execution_count": 20,
     "metadata": {},
     "output_type": "execute_result"
    },
    {
     "data": {
      "image/png": "[encoded data removed]",
      "text/plain": [
       "<Figure size 1500x800 with 1 Axes>"
      ]
     },
     "metadata": {},
     "output_type": "display_data"
    }
   ],
   "source": [
    "plt.figtext(0.5, 0.9, 'PB', fontsize=20)\n",
    "\n",
    "gold_full[our_list[3][0]].plot(kind='hist', bins=30)\n",
    "gold_full[our_list[3][1]].plot(kind='hist', bins=30)\n",
    "gold_full[our_list[3][2]].plot(kind='hist', bins=30)\n",
    "gold_full[our_list[3][3]].plot(kind='hist', bins=30, figsize=(15,8), alpha=0.6)\n",
    "plt.legend(['сырье', 'черновой концентрат', 'после первой очистки', 'финальный концентрат'],fontsize=(8))"
   ]
  },
  {
   "cell_type": "code",
   "execution_count": 21,
   "metadata": {},
   "outputs": [],
   "source": [
    "gold_train = gold_train[gold_train['rougher.input.feed_pb']>2]\n",
    "gold_train = gold_train[gold_train['rougher.output.concentrate_pb']>2]\n",
    "gold_train = gold_train[gold_train['primary_cleaner.output.concentrate_pb']>2]\n",
    "gold_train = gold_train[gold_train['final.output.concentrate_pb']>2]"
   ]
  },
  {
   "cell_type": "markdown",
   "metadata": {},
   "source": [
    "    СВИНЕЦ\n",
    "Первое распределение явное нормальное, без каких-либо но. Три оставшихся распределния, как и у других металлов имеют выбросы возле нуля. Здесь, как и с золотом, проглядывается явная тенденция на увеличение концетрации с каждым ходом обработки "
   ]
  },
  {
   "cell_type": "markdown",
   "metadata": {},
   "source": [
    "### Распределение размеров гранул сырья в тренирвочной и тествоой выборках "
   ]
  },
  {
   "cell_type": "code",
   "execution_count": 22,
   "metadata": {},
   "outputs": [
    {
     "data": {
      "text/plain": [
       "<matplotlib.legend.Legend at 0x1dc62ac7e80>"
      ]
     },
     "execution_count": 22,
     "metadata": {},
     "output_type": "execute_result"
    },
    {
     "data": {
      "image/png": "[encoded data removed]",
      "text/plain": [
       "<Figure size 1500x800 with 1 Axes>"
      ]
     },
     "metadata": {},
     "output_type": "display_data"
    }
   ],
   "source": [
    "gold_train['rougher.input.feed_size'].plot(kind='hist', bins=100, density=True, figsize=(15,8))\n",
    "gold_test['rougher.input.feed_size'].plot(kind='hist', bins=100,density=True, figsize=(15,8))\n",
    "plt.legend(['тренировочная выборка', 'тестовая выборка'])"
   ]
  },
  {
   "cell_type": "markdown",
   "metadata": {},
   "source": [
    "Как можем заметить, распределения очень похожи, хотя в тестовой выборке есть какие то шумы, вполне вероятно, что это все из-за сильно меньшего числа наблюдений, чем в тренировочной "
   ]
  },
  {
   "cell_type": "markdown",
   "metadata": {},
   "source": [
    "### Суммарная концентрация металлов"
   ]
  },
  {
   "cell_type": "code",
   "execution_count": 23,
   "metadata": {},
   "outputs": [],
   "source": [
    "sum_conc_au = (gold_full['rougher.input.feed_au'] + gold_full['rougher.output.concentrate_au'] +\n",
    "gold_full['primary_cleaner.output.concentrate_au'] + gold_full['final.output.concentrate_au'])\n",
    "\n",
    "sum_conc_ag = (gold_full['rougher.input.feed_ag'] + gold_full['rougher.output.concentrate_ag'] +\n",
    "gold_full['primary_cleaner.output.concentrate_ag'] + gold_full['final.output.concentrate_ag'])\n",
    "\n",
    "sum_conc_pb = (gold_full['rougher.input.feed_pb'] + gold_full['rougher.output.concentrate_pb'] +\n",
    "gold_full['primary_cleaner.output.concentrate_pb'] + gold_full['final.output.concentrate_pb'])"
   ]
  },
  {
   "cell_type": "code",
   "execution_count": 24,
   "metadata": {},
   "outputs": [
    {
     "data": {
      "text/plain": [
       "Text(0, 0.5, '')"
      ]
     },
     "execution_count": 24,
     "metadata": {},
     "output_type": "execute_result"
    },
    {
     "data": {
      "image/png": "[encoded data removed]",
      "text/plain": [
       "<Figure size 1000x800 with 3 Axes>"
      ]
     },
     "metadata": {},
     "output_type": "display_data"
    }
   ],
   "source": [
    "plt.figtext(0.23, 0.9, 'AU', fontsize=14)\n",
    "plt.subplot(1,3,1)\n",
    "sum_conc_au.plot(kind='hist', bins=100, figsize=(10,8))\n",
    "plt.ylabel('частота')\n",
    "plt.subplots_adjust(wspace=0.3)\n",
    "\n",
    "plt.figtext(0.5, 0.9, 'AG', fontsize=14)\n",
    "plt.subplot(1,3,2)\n",
    "sum_conc_ag.plot(kind='hist', bins=100, figsize=(10,8))\n",
    "plt.xlabel(\"суммарная концентрация\")\n",
    "plt.ylabel('')\n",
    "\n",
    "plt.figtext(0.78, 0.9, 'PB', fontsize=14)\n",
    "plt.subplot(1,3,3)\n",
    "sum_conc_pb.plot(kind='hist', bins=100, figsize=(10,8))\n",
    "plt.ylabel('')"
   ]
  },
  {
   "cell_type": "markdown",
   "metadata": {},
   "source": [
    "Графики, в общем и целом, похожи на нормальное распредление, но у серебра есть особенность - не слишком ярко выраженный пик, рядом с ним очень много значений, \"догоняющих его\", золота и свинца все немного проще. Средняя суммарная концентрация золота примерно в пять раз больше чем аналогичная сумма у серебра, у свинца"
   ]
  },
  {
   "cell_type": "markdown",
   "metadata": {},
   "source": [
    "## Модель"
   ]
  },
  {
   "cell_type": "markdown",
   "metadata": {},
   "source": [
    "### Функции для подсчета sMAPE"
   ]
  },
  {
   "cell_type": "markdown",
   "metadata": {},
   "source": [
    "    Промежуточная"
   ]
  },
  {
   "cell_type": "code",
   "execution_count": 25,
   "metadata": {},
   "outputs": [],
   "source": [
    "def sMAPE(target, predict):\n",
    "    \n",
    "    top = np.abs(target-predict)\n",
    "    bot = (np.abs(target)+np.abs(predict))/2\n",
    "        \n",
    "    return np.mean(top/bot)*100"
   ]
  },
  {
   "cell_type": "markdown",
   "metadata": {},
   "source": [
    "    Итоговая"
   ]
  },
  {
   "cell_type": "code",
   "execution_count": 26,
   "metadata": {},
   "outputs": [],
   "source": [
    "def FINAL_sMAPE(rougher, final):\n",
    "    res = 0.25*rougher + 0.75*final\n",
    "    return res"
   ]
  },
  {
   "cell_type": "markdown",
   "metadata": {},
   "source": [
    "### Обучим модeли "
   ]
  },
  {
   "cell_type": "code",
   "execution_count": 27,
   "metadata": {},
   "outputs": [],
   "source": [
    "features = gold_train[gold_test.columns]\n",
    "target_final = gold_train['final.output.recovery']\n",
    "target_rougher = gold_train['rougher.output.recovery']"
   ]
  },
  {
   "cell_type": "markdown",
   "metadata": {},
   "source": [
    "features_train, features_valid, target_train, target_valid = train_test_split(\n",
    "    features, target, test_size=0.25, random_state=state)"
   ]
  },
  {
   "cell_type": "code",
   "execution_count": 28,
   "metadata": {},
   "outputs": [],
   "source": [
    "scaler = StandardScaler()\n",
    "\n",
    "features = scaler.fit_transform(features)\n",
    "\n",
    "features = shuffle(features, random_state=state)\n",
    "target_final = shuffle(target_final, random_state=state)\n",
    "target_rougher = shuffle(target_rougher, random_state=state)"
   ]
  },
  {
   "cell_type": "markdown",
   "metadata": {},
   "source": [
    "Находим целевые признаки final.output.recovery и 'rougher.output.recovery' по очереди "
   ]
  },
  {
   "cell_type": "code",
   "execution_count": 29,
   "metadata": {
    "scrolled": false
   },
   "outputs": [
    {
     "name": "stdout",
     "output_type": "stream",
     "text": [
      "7.384522208689451\n"
     ]
    },
    {
     "data": {
      "text/plain": [
       "4.155764076445311"
      ]
     },
     "execution_count": 29,
     "metadata": {},
     "output_type": "execute_result"
    }
   ],
   "source": [
    "model_linear = LinearRegression()\n",
    "\n",
    "my_scorer = make_scorer(sMAPE, greater_is_better=False)\n",
    "scores_final = cross_val_score(estimator=model_linear, X=features,\n",
    "                         y=target_final, scoring=my_scorer, cv=5)\n",
    "\n",
    "scores_rougher = cross_val_score(estimator=model_linear, X=features,\n",
    "                         y=target_rougher, scoring=my_scorer, cv=5)\n",
    "\n",
    "print(scores_final.mean()*(-1))\n",
    "scores_rougher.mean()*(-1)"
   ]
  },
  {
   "cell_type": "markdown",
   "metadata": {},
   "source": [
    "Находим лучшие показатели для final.output.recovery с помощью РЕШАЮЩЕГО ДЕРЕВА"
   ]
  },
  {
   "cell_type": "code",
   "execution_count": 30,
   "metadata": {},
   "outputs": [
    {
     "name": "stdout",
     "output_type": "stream",
     "text": [
      "1 8.299227335210357\n",
      "2 7.985600096955247\n",
      "3 7.616482589166455\n",
      "4 7.4152985743593955\n",
      "5 7.208310057961548\n",
      "6 6.965520468423175\n",
      "7 6.894307809433704\n",
      "8 6.867393921807749\n",
      "9 6.899792944569432\n",
      "10 6.924363406689075\n",
      "11 6.90566778877074\n",
      "12 6.879910971737829\n",
      "13 6.930731280132315\n",
      "14 7.0423806984341555\n",
      "15 7.0155981343299585\n",
      "16 7.091343659796098\n",
      "17 7.128718833785529\n",
      "18 7.150607436450864\n",
      "19 7.158312142218378\n"
     ]
    }
   ],
   "source": [
    "dec_tree_min = 100\n",
    "min_depth_DT_f = 0 \n",
    "for depth in range(1,20):\n",
    "    model_dec_tree = DecisionTreeRegressor(max_depth=depth, random_state=state)\n",
    "    \n",
    "    scores_final = cross_val_score(estimator=model_dec_tree, X=features,\n",
    "                            y=target_final, scoring=my_scorer, cv=5)\n",
    "    print(depth, scores_final.mean()*(-1))"
   ]
  },
  {
   "cell_type": "markdown",
   "metadata": {},
   "source": [
    "Находим лучшие показатели для rougher.output.recovery с помощью РЕШАЮЩЕГО ДЕРЕВА"
   ]
  },
  {
   "cell_type": "code",
   "execution_count": 31,
   "metadata": {},
   "outputs": [
    {
     "name": "stdout",
     "output_type": "stream",
     "text": [
      "1 5.717022943432166\n",
      "2 4.965211407697382\n",
      "3 4.618308310391401\n",
      "4 4.228882424238134\n",
      "5 4.029219308997544\n",
      "6 3.792687515270731\n",
      "7 3.597579894004263\n",
      "8 3.4420436208658614\n",
      "9 3.327597252010618\n",
      "10 3.2351051481038007\n",
      "11 3.1936785479517757\n",
      "12 3.155613118671422\n",
      "13 3.1227698738865204\n",
      "14 3.118163697877618\n",
      "15 3.125331435342987\n",
      "16 3.155624970557761\n",
      "17 3.1751894287866196\n",
      "18 3.1954571816887247\n",
      "19 3.2178526342926688\n"
     ]
    }
   ],
   "source": [
    "dec_tree_min = 100\n",
    "min_depth_DT_r = 0 \n",
    "for depth in range(1,20):\n",
    "    model_dec_tree = DecisionTreeRegressor(max_depth=depth, random_state=state)\n",
    "    \n",
    "    scores_rougher = cross_val_score(estimator=model_dec_tree, X=features,\n",
    "                        y=target_rougher, scoring=my_scorer, cv=5)\n",
    "    print(depth, scores_rougher.mean()*(-1))"
   ]
  },
  {
   "cell_type": "markdown",
   "metadata": {},
   "source": [
    "Находим лучшие показатели для final.output.recovery с помощью СЛУЧАЙНОГО ЛЕСА"
   ]
  },
  {
   "cell_type": "code",
   "execution_count": 32,
   "metadata": {},
   "outputs": [
    {
     "name": "stdout",
     "output_type": "stream",
     "text": [
      "25 5 6.86380569186816\n",
      "25 10 5.936940978467357\n",
      "50 5 6.874106719132928\n",
      "50 10 5.902903060383813\n",
      "50 10 5.902903060383813\n"
     ]
    }
   ],
   "source": [
    "est_min_RF_f = 0 \n",
    "depth_min_RF_f = 0\n",
    "our_min = 100\n",
    "for est in [25,50]:\n",
    "    for depth in [5,10]:\n",
    "        model_rnd_forest = RandomForestRegressor(max_depth=depth, n_estimators=est, random_state=state, n_jobs=-1)\n",
    "        \n",
    "        scores_final = cross_val_score(estimator=model_rnd_forest, X=features,\n",
    "                                       y=target_final, scoring=my_scorer, cv=5)\n",
    "        print(est, depth, scores_final.mean()*(-1))\n",
    "        if scores_final.mean()*(-1)<our_min:\n",
    "            our_min = scores_final.mean()*(-1)\n",
    "            est_min_RF_f = est\n",
    "            depth_min_RF_f = depth\n",
    "print(est_min_RF_f, depth_min_RF_f, our_min)"
   ]
  },
  {
   "cell_type": "markdown",
   "metadata": {},
   "source": [
    "Находим лучшие показатели для rougher.output.recovery с помощью СЛУЧАЙНОГО ЛЕСА"
   ]
  },
  {
   "cell_type": "code",
   "execution_count": 33,
   "metadata": {},
   "outputs": [
    {
     "name": "stdout",
     "output_type": "stream",
     "text": [
      "25 5 3.6762036001601373\n",
      "25 10 2.705811597890245\n",
      "50 5 3.665257026575312\n",
      "50 10 2.6943337800102674\n",
      "50 10 2.6943337800102674\n"
     ]
    }
   ],
   "source": [
    "est_min_RF_r = 0 \n",
    "depth_min_RF_r = 0\n",
    "our_min = 100\n",
    "for est in [25,50]:\n",
    "    for depth in [5,10]:\n",
    "        model_rnd_forest = RandomForestRegressor(max_depth=depth, n_estimators=est, random_state=state, n_jobs=-1)\n",
    "        \n",
    "        scores_rougher = cross_val_score(estimator=model_rnd_forest, X=features,\n",
    "                                       y=target_rougher, scoring=my_scorer, cv=5)\n",
    "        print(est, depth, scores_rougher.mean()*(-1))\n",
    "        if scores_rougher.mean()*(-1)<our_min:\n",
    "            our_min = scores_rougher.mean()*(-1)\n",
    "            est_min_RF_r = est\n",
    "            depth_min_RF_r = depth\n",
    "print(est_min_RF_r, depth_min_RF_r, our_min)"
   ]
  },
  {
   "cell_type": "markdown",
   "metadata": {},
   "source": [
    "## Тест и выводы"
   ]
  },
  {
   "cell_type": "markdown",
   "metadata": {},
   "source": [
    "### Тест"
   ]
  },
  {
   "cell_type": "markdown",
   "metadata": {},
   "source": [
    "* Для теста я решил создать отдельные переменные, чтобы не запутаться"
   ]
  },
  {
   "cell_type": "code",
   "execution_count": 34,
   "metadata": {},
   "outputs": [],
   "source": [
    "features = gold_train[gold_test.columns]\n",
    "target_final = gold_train['final.output.recovery']\n",
    "target_rougher = gold_train['rougher.output.recovery']\n",
    "test_final = test_target['final.output.recovery']\n",
    "test_rougher = test_target['rougher.output.recovery']"
   ]
  },
  {
   "cell_type": "markdown",
   "metadata": {},
   "source": [
    "Переменная test_target - результаты для тестовой выборки, полученные исключение тренировчных индексов из общего датасета"
   ]
  },
  {
   "cell_type": "markdown",
   "metadata": {},
   "source": [
    "Для целевого признака final.output.recovery наилучшим образом себя проявил СЛУЧАНЫЙ ЛЕС с гиперпараметрами\n",
    "* количество деревье - 45 \n",
    "* количество ветвей - 6\n",
    "\n",
    "Сетка для нахождения параметров: 25-49 для поиска деревьев, 5-10 для поиска ветвей "
   ]
  },
  {
   "cell_type": "code",
   "execution_count": 35,
   "metadata": {},
   "outputs": [],
   "source": [
    "model = RandomForestRegressor(max_depth=depth_min_RF_f, n_estimators=est_min_RF_f, random_state=state, n_jobs=-1)\n",
    "model.fit(features, target_final)\n",
    "result_final = model.predict(gold_test)"
   ]
  },
  {
   "cell_type": "markdown",
   "metadata": {},
   "source": [
    "* Получаем sMAPE оценку для предсказанных значений столбца final.output.recovery"
   ]
  },
  {
   "cell_type": "code",
   "execution_count": 36,
   "metadata": {},
   "outputs": [
    {
     "data": {
      "text/plain": [
       "6.825815283052113"
      ]
     },
     "execution_count": 36,
     "metadata": {},
     "output_type": "execute_result"
    }
   ],
   "source": [
    "f_smape = sMAPE(result_final, test_final)\n",
    "f_smape"
   ]
  },
  {
   "cell_type": "markdown",
   "metadata": {},
   "source": [
    "Для целевого признака rougher.output.recovery наилучшим образом себя проявил СЛУЧАНЫЙ ЛЕС с гиперпараметрами\n",
    "* количество деревье - 31 \n",
    "* количество ветвей - 9\n",
    "\n",
    "Сетка для нахождения параметров: 25-49 для поиска деревьев, 5-10 для поиска ветвей "
   ]
  },
  {
   "cell_type": "code",
   "execution_count": 37,
   "metadata": {},
   "outputs": [],
   "source": [
    "model = RandomForestRegressor(max_depth=depth_min_RF_r, n_estimators=est_min_RF_r, random_state=state, n_jobs=-1)\n",
    "model.fit(features, target_rougher)\n",
    "result_rougher = model.predict(gold_test)"
   ]
  },
  {
   "cell_type": "markdown",
   "metadata": {},
   "source": [
    "* Получаем sMAPE оценку для предсказанных значений столбца rougher.output.recovery"
   ]
  },
  {
   "cell_type": "code",
   "execution_count": 38,
   "metadata": {},
   "outputs": [
    {
     "data": {
      "text/plain": [
       "3.073299026734325"
      ]
     },
     "execution_count": 38,
     "metadata": {},
     "output_type": "execute_result"
    }
   ],
   "source": [
    "r_smape = sMAPE(result_rougher, test_rougher)\n",
    "r_smape"
   ]
  },
  {
   "cell_type": "markdown",
   "metadata": {},
   "source": [
    "* Получаем итоговую sMAPE оцекну для двух пресказанных значений"
   ]
  },
  {
   "cell_type": "code",
   "execution_count": 39,
   "metadata": {},
   "outputs": [
    {
     "data": {
      "text/plain": [
       "5.887686218972666"
      ]
     },
     "execution_count": 39,
     "metadata": {},
     "output_type": "execute_result"
    }
   ],
   "source": [
    "end_smape = FINAL_sMAPE(r_smape, f_smape)\n",
    "end_smape"
   ]
  },
  {
   "cell_type": "markdown",
   "metadata": {},
   "source": [
    "Проверим полученное нами значение итоговой метрики на адекватность \n",
    "\n",
    "Сравним его с результами, полученными при сравнении результатов со средним значение"
   ]
  },
  {
   "cell_type": "code",
   "execution_count": 40,
   "metadata": {},
   "outputs": [],
   "source": [
    "avg_fin = gold_train['final.output.recovery'].mean()\n",
    "avg_fin = pd.Series(avg_fin, index=test_final.index)"
   ]
  },
  {
   "cell_type": "code",
   "execution_count": 41,
   "metadata": {},
   "outputs": [],
   "source": [
    "avg_roug = gold_train['rougher.output.recovery'].mean()\n",
    "avg_roug = pd.Series(avg_roug, index=test_rougher.index)"
   ]
  },
  {
   "cell_type": "code",
   "execution_count": 42,
   "metadata": {},
   "outputs": [
    {
     "data": {
      "text/plain": [
       "8.386347014441817"
      ]
     },
     "execution_count": 42,
     "metadata": {},
     "output_type": "execute_result"
    }
   ],
   "source": [
    "FINAL_sMAPE(sMAPE(test_rougher, avg_roug), sMAPE(test_final, avg_fin))"
   ]
  },
  {
   "cell_type": "markdown",
   "metadata": {},
   "source": [
    "### Вывод"
   ]
  },
  {
   "cell_type": "markdown",
   "metadata": {},
   "source": [
    "Результат итоговой метрики sMAPE для предсказанных значений более чем на 2% лучше, чем для случайных, вполне возможно, перебирая дальше оптимальные показатели случайного леса, результат был бы еще лучше, но по итогу мы имее, что наша модель предсказывает значения с погрешность в среднем равному чуть меньше 6%, это означает что ответ, предсказанный модель лежит в пределеах +-6% от реального значения"
   ]
  },
  {
   "cell_type": "markdown",
   "metadata": {},
   "source": [
    "ВЫВОД: При помощи данной модели можно предсказывать эффективность обогащения чернового концентрата и эффективность обогащения финального концентрата, что в свою очередь поможет команде тщательнее отбирать исходное сырье и при правильной трактовке результатов можем повлечь за собой прибыль "
   ]
  }
 ],
 "metadata": {
  "ExecuteTimeLog": [
   {
    "duration": 481,
    "start_time": "2023-07-19T12:51:42.490Z"
   },
   {
    "duration": 67,
    "start_time": "2023-07-19T12:53:27.250Z"
   },
   {
    "duration": 2116,
    "start_time": "2023-07-19T12:53:31.578Z"
   },
   {
    "duration": 31,
    "start_time": "2023-07-19T12:53:33.696Z"
   },
   {
    "duration": 28,
    "start_time": "2023-07-19T12:53:37.943Z"
   },
   {
    "duration": 43,
    "start_time": "2023-07-19T12:54:23.866Z"
   },
   {
    "duration": 35,
    "start_time": "2023-07-19T12:55:29.253Z"
   },
   {
    "duration": 46,
    "start_time": "2023-07-19T12:55:47.253Z"
   },
   {
    "duration": 33,
    "start_time": "2023-07-19T13:16:07.741Z"
   },
   {
    "duration": 34,
    "start_time": "2023-07-19T13:16:27.460Z"
   },
   {
    "duration": 38,
    "start_time": "2023-07-19T13:16:37.630Z"
   },
   {
    "duration": 883,
    "start_time": "2023-07-19T13:17:46.331Z"
   },
   {
    "duration": 46,
    "start_time": "2023-07-19T13:18:06.437Z"
   },
   {
    "duration": 11,
    "start_time": "2023-07-19T13:18:24.817Z"
   },
   {
    "duration": 97,
    "start_time": "2023-07-19T13:51:11.920Z"
   },
   {
    "duration": 290,
    "start_time": "2023-07-19T13:52:52.978Z"
   },
   {
    "duration": 15,
    "start_time": "2023-07-19T13:53:33.496Z"
   },
   {
    "duration": 12,
    "start_time": "2023-07-19T13:53:53.794Z"
   },
   {
    "duration": 7,
    "start_time": "2023-07-19T13:54:32.145Z"
   },
   {
    "duration": 6,
    "start_time": "2023-07-19T13:54:49.944Z"
   },
   {
    "duration": 122,
    "start_time": "2023-07-19T13:55:06.998Z"
   },
   {
    "duration": 93,
    "start_time": "2023-07-19T13:55:12.035Z"
   },
   {
    "duration": 101,
    "start_time": "2023-07-19T13:55:29.743Z"
   },
   {
    "duration": 5,
    "start_time": "2023-07-19T13:55:41.104Z"
   },
   {
    "duration": 110,
    "start_time": "2023-07-19T13:56:20.479Z"
   },
   {
    "duration": 6,
    "start_time": "2023-07-19T13:56:32.643Z"
   },
   {
    "duration": 10,
    "start_time": "2023-07-19T13:58:05.890Z"
   },
   {
    "duration": 3,
    "start_time": "2023-07-19T13:59:07.260Z"
   },
   {
    "duration": 10,
    "start_time": "2023-07-19T13:59:11.986Z"
   },
   {
    "duration": 10,
    "start_time": "2023-07-19T13:59:15.659Z"
   },
   {
    "duration": 4,
    "start_time": "2023-07-19T14:00:21.619Z"
   },
   {
    "duration": 9,
    "start_time": "2023-07-19T14:00:24.831Z"
   },
   {
    "duration": 7,
    "start_time": "2023-07-19T14:01:06.833Z"
   },
   {
    "duration": 18,
    "start_time": "2023-07-19T14:16:45.124Z"
   },
   {
    "duration": 35,
    "start_time": "2023-07-19T14:52:32.472Z"
   },
   {
    "duration": 13,
    "start_time": "2023-07-19T14:52:38.670Z"
   },
   {
    "duration": 10,
    "start_time": "2023-07-19T14:53:42.947Z"
   },
   {
    "duration": 139,
    "start_time": "2023-07-19T14:53:47.747Z"
   },
   {
    "duration": 138,
    "start_time": "2023-07-19T14:53:55.288Z"
   },
   {
    "duration": 13,
    "start_time": "2023-07-19T14:53:59.011Z"
   },
   {
    "duration": 21,
    "start_time": "2023-07-19T14:54:19.234Z"
   },
   {
    "duration": 36,
    "start_time": "2023-07-19T14:54:31.221Z"
   },
   {
    "duration": 6,
    "start_time": "2023-07-19T15:08:34.552Z"
   },
   {
    "duration": 57,
    "start_time": "2023-07-19T15:09:36.887Z"
   },
   {
    "duration": 4059,
    "start_time": "2023-07-19T15:09:53.716Z"
   },
   {
    "duration": 4021,
    "start_time": "2023-07-19T15:10:01.513Z"
   },
   {
    "duration": 3,
    "start_time": "2023-07-19T15:11:25.820Z"
   },
   {
    "duration": 4101,
    "start_time": "2023-07-19T15:11:30.877Z"
   },
   {
    "duration": 4,
    "start_time": "2023-07-19T15:11:44.766Z"
   },
   {
    "duration": 3808,
    "start_time": "2023-07-19T15:11:51.120Z"
   },
   {
    "duration": 28,
    "start_time": "2023-07-19T15:11:59.959Z"
   },
   {
    "duration": 25,
    "start_time": "2023-07-19T15:12:57.462Z"
   },
   {
    "duration": 9,
    "start_time": "2023-07-19T15:13:01.937Z"
   },
   {
    "duration": 9,
    "start_time": "2023-07-19T15:14:31.567Z"
   },
   {
    "duration": 12,
    "start_time": "2023-07-19T15:14:43.810Z"
   },
   {
    "duration": 8,
    "start_time": "2023-07-19T15:15:00.487Z"
   },
   {
    "duration": 10,
    "start_time": "2023-07-19T15:17:42.562Z"
   },
   {
    "duration": 6,
    "start_time": "2023-07-19T15:17:47.109Z"
   },
   {
    "duration": 5,
    "start_time": "2023-07-19T15:17:54.721Z"
   },
   {
    "duration": 757,
    "start_time": "2023-07-19T15:18:28.103Z"
   },
   {
    "duration": 7,
    "start_time": "2023-07-19T15:18:31.272Z"
   },
   {
    "duration": 3,
    "start_time": "2023-07-19T15:18:38.952Z"
   },
   {
    "duration": 30,
    "start_time": "2023-07-19T15:18:38.957Z"
   },
   {
    "duration": 836,
    "start_time": "2023-07-19T15:18:38.989Z"
   },
   {
    "duration": 743,
    "start_time": "2023-07-19T15:18:44.283Z"
   },
   {
    "duration": 5,
    "start_time": "2023-07-19T15:18:45.028Z"
   },
   {
    "duration": 1531,
    "start_time": "2023-07-19T19:59:39.944Z"
   },
   {
    "duration": 92,
    "start_time": "2023-07-19T20:20:50.663Z"
   },
   {
    "duration": 2,
    "start_time": "2023-07-19T20:21:04.500Z"
   },
   {
    "duration": 11,
    "start_time": "2023-07-19T20:21:04.504Z"
   },
   {
    "duration": 2191,
    "start_time": "2023-07-19T20:21:04.516Z"
   },
   {
    "duration": 35,
    "start_time": "2023-07-19T20:21:06.709Z"
   },
   {
    "duration": 27,
    "start_time": "2023-07-19T20:21:06.747Z"
   },
   {
    "duration": 30,
    "start_time": "2023-07-19T20:21:06.776Z"
   },
   {
    "duration": 9,
    "start_time": "2023-07-19T20:21:06.832Z"
   },
   {
    "duration": 4260,
    "start_time": "2023-07-19T20:21:06.843Z"
   },
   {
    "duration": 780,
    "start_time": "2023-07-19T20:21:11.104Z"
   },
   {
    "duration": 3941,
    "start_time": "2023-07-19T20:21:21.722Z"
   },
   {
    "duration": 771,
    "start_time": "2023-07-19T20:21:25.666Z"
   },
   {
    "duration": 4720,
    "start_time": "2023-07-19T20:21:26.438Z"
   },
   {
    "duration": 93,
    "start_time": "2023-07-19T20:30:05.351Z"
   },
   {
    "duration": 4,
    "start_time": "2023-07-19T20:30:15.113Z"
   },
   {
    "duration": 9,
    "start_time": "2023-07-19T20:30:28.595Z"
   },
   {
    "duration": 10,
    "start_time": "2023-07-19T20:30:35.403Z"
   },
   {
    "duration": 10,
    "start_time": "2023-07-19T20:30:41.290Z"
   },
   {
    "duration": 9,
    "start_time": "2023-07-19T20:30:47.917Z"
   },
   {
    "duration": 9,
    "start_time": "2023-07-19T20:33:51.196Z"
   },
   {
    "duration": 5,
    "start_time": "2023-07-19T20:35:23.689Z"
   },
   {
    "duration": 5,
    "start_time": "2023-07-19T20:35:27.774Z"
   },
   {
    "duration": 3,
    "start_time": "2023-07-19T20:35:34.542Z"
   },
   {
    "duration": 86,
    "start_time": "2023-07-19T20:37:36.989Z"
   },
   {
    "duration": 79,
    "start_time": "2023-07-19T20:41:15.806Z"
   },
   {
    "duration": 373,
    "start_time": "2023-07-19T20:41:39.345Z"
   },
   {
    "duration": 415,
    "start_time": "2023-07-19T20:42:06.484Z"
   },
   {
    "duration": 217,
    "start_time": "2023-07-19T20:42:12.921Z"
   },
   {
    "duration": 130,
    "start_time": "2023-07-19T20:42:28.657Z"
   },
   {
    "duration": 15,
    "start_time": "2023-07-19T20:42:39.281Z"
   },
   {
    "duration": 144,
    "start_time": "2023-07-19T20:42:47.049Z"
   },
   {
    "duration": 128,
    "start_time": "2023-07-19T20:42:58.297Z"
   },
   {
    "duration": 130,
    "start_time": "2023-07-19T20:43:03.671Z"
   },
   {
    "duration": 129,
    "start_time": "2023-07-19T20:43:08.181Z"
   },
   {
    "duration": 134,
    "start_time": "2023-07-19T20:43:20.001Z"
   },
   {
    "duration": 144,
    "start_time": "2023-07-19T20:44:01.927Z"
   },
   {
    "duration": 222,
    "start_time": "2023-07-19T20:44:14.626Z"
   },
   {
    "duration": 208,
    "start_time": "2023-07-19T20:44:29.724Z"
   },
   {
    "duration": 206,
    "start_time": "2023-07-19T20:45:01.073Z"
   },
   {
    "duration": 275,
    "start_time": "2023-07-19T20:45:29.942Z"
   },
   {
    "duration": 335,
    "start_time": "2023-07-19T20:45:40.592Z"
   },
   {
    "duration": 342,
    "start_time": "2023-07-19T20:45:53.924Z"
   },
   {
    "duration": 556,
    "start_time": "2023-07-19T20:47:34.568Z"
   },
   {
    "duration": 491,
    "start_time": "2023-07-19T20:47:45.257Z"
   },
   {
    "duration": 113,
    "start_time": "2023-07-19T20:47:59.721Z"
   },
   {
    "duration": 91,
    "start_time": "2023-07-19T20:48:03.593Z"
   },
   {
    "duration": 94,
    "start_time": "2023-07-19T20:48:08.794Z"
   },
   {
    "duration": 359,
    "start_time": "2023-07-19T20:48:24.752Z"
   },
   {
    "duration": 447,
    "start_time": "2023-07-19T20:48:29.199Z"
   },
   {
    "duration": 520,
    "start_time": "2023-07-19T20:48:46.556Z"
   },
   {
    "duration": 509,
    "start_time": "2023-07-19T20:49:01.068Z"
   },
   {
    "duration": 515,
    "start_time": "2023-07-19T20:49:06.166Z"
   },
   {
    "duration": 464,
    "start_time": "2023-07-19T20:49:31.650Z"
   },
   {
    "duration": 298,
    "start_time": "2023-07-19T20:49:49.211Z"
   },
   {
    "duration": 371,
    "start_time": "2023-07-19T20:49:56.915Z"
   },
   {
    "duration": 861,
    "start_time": "2023-07-19T20:50:36.621Z"
   },
   {
    "duration": 459,
    "start_time": "2023-07-19T20:50:45.689Z"
   },
   {
    "duration": 474,
    "start_time": "2023-07-19T20:50:57.252Z"
   },
   {
    "duration": 422,
    "start_time": "2023-07-19T20:51:21.584Z"
   },
   {
    "duration": 459,
    "start_time": "2023-07-19T20:51:27.320Z"
   },
   {
    "duration": 695,
    "start_time": "2023-07-19T20:51:31.630Z"
   },
   {
    "duration": 484,
    "start_time": "2023-07-19T20:51:46.622Z"
   },
   {
    "duration": 603,
    "start_time": "2023-07-19T20:52:06.712Z"
   },
   {
    "duration": 553,
    "start_time": "2023-07-19T20:58:47.050Z"
   },
   {
    "duration": 699,
    "start_time": "2023-07-19T20:59:18.768Z"
   },
   {
    "duration": 535,
    "start_time": "2023-07-19T20:59:27.271Z"
   },
   {
    "duration": 568,
    "start_time": "2023-07-19T20:59:47.332Z"
   },
   {
    "duration": 671,
    "start_time": "2023-07-19T21:00:01.205Z"
   },
   {
    "duration": 792,
    "start_time": "2023-07-19T21:00:40.450Z"
   },
   {
    "duration": 565,
    "start_time": "2023-07-19T21:00:49.460Z"
   },
   {
    "duration": 634,
    "start_time": "2023-07-19T21:00:54.631Z"
   },
   {
    "duration": 617,
    "start_time": "2023-07-19T21:01:03.674Z"
   },
   {
    "duration": 568,
    "start_time": "2023-07-19T21:01:12.641Z"
   },
   {
    "duration": 848,
    "start_time": "2023-07-19T21:01:17.486Z"
   },
   {
    "duration": 568,
    "start_time": "2023-07-19T21:01:22.385Z"
   },
   {
    "duration": 570,
    "start_time": "2023-07-19T21:10:42.802Z"
   },
   {
    "duration": 587,
    "start_time": "2023-07-19T21:11:52.794Z"
   },
   {
    "duration": 611,
    "start_time": "2023-07-19T21:12:08.821Z"
   },
   {
    "duration": 553,
    "start_time": "2023-07-19T21:12:15.929Z"
   },
   {
    "duration": 861,
    "start_time": "2023-07-19T21:12:21.407Z"
   },
   {
    "duration": 530,
    "start_time": "2023-07-19T21:12:28.214Z"
   },
   {
    "duration": 544,
    "start_time": "2023-07-19T21:12:36.188Z"
   },
   {
    "duration": 575,
    "start_time": "2023-07-19T21:12:43.283Z"
   },
   {
    "duration": 95,
    "start_time": "2023-07-19T21:12:48.961Z"
   },
   {
    "duration": 100,
    "start_time": "2023-07-19T21:12:52.984Z"
   },
   {
    "duration": 914,
    "start_time": "2023-07-19T21:12:57.894Z"
   },
   {
    "duration": 562,
    "start_time": "2023-07-19T21:13:05.550Z"
   },
   {
    "duration": 544,
    "start_time": "2023-07-19T21:13:15.923Z"
   },
   {
    "duration": 932,
    "start_time": "2023-07-19T21:13:20.987Z"
   },
   {
    "duration": 560,
    "start_time": "2023-07-19T21:13:29.952Z"
   },
   {
    "duration": 539,
    "start_time": "2023-07-19T21:13:34.858Z"
   },
   {
    "duration": 613,
    "start_time": "2023-07-19T21:13:40.128Z"
   },
   {
    "duration": 537,
    "start_time": "2023-07-19T21:13:45.817Z"
   },
   {
    "duration": 579,
    "start_time": "2023-07-19T21:14:42.331Z"
   },
   {
    "duration": 528,
    "start_time": "2023-07-19T21:14:54.089Z"
   },
   {
    "duration": 536,
    "start_time": "2023-07-19T21:15:04.016Z"
   },
   {
    "duration": 509,
    "start_time": "2023-07-19T21:15:12.017Z"
   },
   {
    "duration": 961,
    "start_time": "2023-07-19T21:15:35.518Z"
   },
   {
    "duration": 3,
    "start_time": "2023-07-19T21:15:42.146Z"
   },
   {
    "duration": 2,
    "start_time": "2023-07-19T21:16:12.781Z"
   },
   {
    "duration": 3,
    "start_time": "2023-07-19T21:16:59.874Z"
   },
   {
    "duration": 549,
    "start_time": "2023-07-19T21:17:31.249Z"
   },
   {
    "duration": 579,
    "start_time": "2023-07-19T21:18:06.141Z"
   },
   {
    "duration": 52,
    "start_time": "2023-07-20T20:42:32.330Z"
   },
   {
    "duration": 1652,
    "start_time": "2023-07-20T20:42:40.072Z"
   },
   {
    "duration": 3,
    "start_time": "2023-07-20T20:42:41.727Z"
   },
   {
    "duration": 3187,
    "start_time": "2023-07-20T20:42:41.732Z"
   },
   {
    "duration": 39,
    "start_time": "2023-07-20T20:42:44.921Z"
   },
   {
    "duration": 30,
    "start_time": "2023-07-20T20:42:44.962Z"
   },
   {
    "duration": 32,
    "start_time": "2023-07-20T20:42:44.994Z"
   },
   {
    "duration": 29,
    "start_time": "2023-07-20T20:42:45.028Z"
   },
   {
    "duration": 4392,
    "start_time": "2023-07-20T20:42:45.059Z"
   },
   {
    "duration": 832,
    "start_time": "2023-07-20T20:42:49.452Z"
   },
   {
    "duration": 5114,
    "start_time": "2023-07-20T20:42:50.285Z"
   },
   {
    "duration": 3,
    "start_time": "2023-07-20T20:42:55.401Z"
   },
   {
    "duration": 592,
    "start_time": "2023-07-20T20:42:55.405Z"
   },
   {
    "duration": 542,
    "start_time": "2023-07-20T20:42:55.999Z"
   },
   {
    "duration": 633,
    "start_time": "2023-07-20T20:42:56.543Z"
   },
   {
    "duration": 1971,
    "start_time": "2023-07-20T20:43:01.899Z"
   },
   {
    "duration": 246,
    "start_time": "2023-07-20T20:43:41.189Z"
   },
   {
    "duration": 209,
    "start_time": "2023-07-20T20:43:48.431Z"
   },
   {
    "duration": 315,
    "start_time": "2023-07-20T20:43:50.803Z"
   },
   {
    "duration": 354,
    "start_time": "2023-07-20T20:44:03.848Z"
   },
   {
    "duration": 559,
    "start_time": "2023-07-20T20:44:16.536Z"
   },
   {
    "duration": 507,
    "start_time": "2023-07-20T20:45:30.948Z"
   },
   {
    "duration": 458,
    "start_time": "2023-07-20T20:45:35.886Z"
   },
   {
    "duration": 636,
    "start_time": "2023-07-20T20:45:44.766Z"
   },
   {
    "duration": 490,
    "start_time": "2023-07-20T20:45:56.613Z"
   },
   {
    "duration": 113,
    "start_time": "2023-07-20T21:05:44.876Z"
   },
   {
    "duration": 4,
    "start_time": "2023-07-20T21:05:56.771Z"
   },
   {
    "duration": 7,
    "start_time": "2023-07-20T21:07:28.853Z"
   },
   {
    "duration": 127,
    "start_time": "2023-07-20T21:08:02.336Z"
   },
   {
    "duration": 133,
    "start_time": "2023-07-20T21:08:14.519Z"
   },
   {
    "duration": 122,
    "start_time": "2023-07-20T21:08:19.680Z"
   },
   {
    "duration": 112,
    "start_time": "2023-07-20T21:08:23.815Z"
   },
   {
    "duration": 133,
    "start_time": "2023-07-20T21:08:31.003Z"
   },
   {
    "duration": 123,
    "start_time": "2023-07-20T21:08:35.498Z"
   },
   {
    "duration": 241,
    "start_time": "2023-07-20T21:08:47.307Z"
   },
   {
    "duration": 221,
    "start_time": "2023-07-20T21:09:02.716Z"
   },
   {
    "duration": 416,
    "start_time": "2023-07-20T21:09:07.698Z"
   },
   {
    "duration": 222,
    "start_time": "2023-07-20T21:09:10.479Z"
   },
   {
    "duration": 215,
    "start_time": "2023-07-20T21:09:13.219Z"
   },
   {
    "duration": 614,
    "start_time": "2023-07-20T21:10:06.356Z"
   },
   {
    "duration": 840,
    "start_time": "2023-07-20T21:10:16.573Z"
   },
   {
    "duration": 617,
    "start_time": "2023-07-20T21:10:21.328Z"
   },
   {
    "duration": 672,
    "start_time": "2023-07-20T21:10:30.274Z"
   },
   {
    "duration": 876,
    "start_time": "2023-07-20T21:10:34.866Z"
   },
   {
    "duration": 222,
    "start_time": "2023-07-20T21:12:29.724Z"
   },
   {
    "duration": 610,
    "start_time": "2023-07-20T21:12:35.240Z"
   },
   {
    "duration": 220,
    "start_time": "2023-07-20T21:14:26.449Z"
   },
   {
    "duration": 232,
    "start_time": "2023-07-20T21:14:32.001Z"
   },
   {
    "duration": 905,
    "start_time": "2023-07-20T21:14:50.809Z"
   },
   {
    "duration": 615,
    "start_time": "2023-07-20T21:15:38.588Z"
   },
   {
    "duration": 653,
    "start_time": "2023-07-20T21:16:18.892Z"
   },
   {
    "duration": 599,
    "start_time": "2023-07-20T21:16:38.980Z"
   },
   {
    "duration": 929,
    "start_time": "2023-07-20T21:17:28.728Z"
   },
   {
    "duration": 648,
    "start_time": "2023-07-20T21:17:34.254Z"
   },
   {
    "duration": 628,
    "start_time": "2023-07-20T21:17:38.249Z"
   },
   {
    "duration": 119,
    "start_time": "2023-07-20T21:17:46.000Z"
   },
   {
    "duration": 625,
    "start_time": "2023-07-20T21:17:52.561Z"
   },
   {
    "duration": 592,
    "start_time": "2023-07-20T21:17:59.427Z"
   },
   {
    "duration": 1073,
    "start_time": "2023-07-20T21:18:38.230Z"
   },
   {
    "duration": 1696,
    "start_time": "2023-07-21T14:49:29.762Z"
   },
   {
    "duration": 163,
    "start_time": "2023-07-21T14:49:48.333Z"
   },
   {
    "duration": 15,
    "start_time": "2023-07-21T14:50:11.893Z"
   },
   {
    "duration": 5,
    "start_time": "2023-07-21T14:50:16.819Z"
   },
   {
    "duration": 22,
    "start_time": "2023-07-21T14:51:40.254Z"
   },
   {
    "duration": 3,
    "start_time": "2023-07-21T14:51:54.365Z"
   },
   {
    "duration": 4,
    "start_time": "2023-07-21T14:52:04.473Z"
   },
   {
    "duration": 35,
    "start_time": "2023-07-21T14:52:04.480Z"
   },
   {
    "duration": 3689,
    "start_time": "2023-07-21T14:52:04.517Z"
   },
   {
    "duration": 45,
    "start_time": "2023-07-21T14:52:08.208Z"
   },
   {
    "duration": 38,
    "start_time": "2023-07-21T14:52:08.255Z"
   },
   {
    "duration": 43,
    "start_time": "2023-07-21T14:52:08.295Z"
   },
   {
    "duration": 35,
    "start_time": "2023-07-21T14:52:08.340Z"
   },
   {
    "duration": 4493,
    "start_time": "2023-07-21T14:52:08.376Z"
   },
   {
    "duration": 1031,
    "start_time": "2023-07-21T14:52:12.872Z"
   },
   {
    "duration": 5583,
    "start_time": "2023-07-21T14:52:13.905Z"
   },
   {
    "duration": 4,
    "start_time": "2023-07-21T14:52:19.490Z"
   },
   {
    "duration": 687,
    "start_time": "2023-07-21T14:52:19.495Z"
   },
   {
    "duration": 735,
    "start_time": "2023-07-21T14:52:20.184Z"
   },
   {
    "duration": 645,
    "start_time": "2023-07-21T14:52:20.922Z"
   },
   {
    "duration": 571,
    "start_time": "2023-07-21T14:52:21.569Z"
   },
   {
    "duration": 7,
    "start_time": "2023-07-21T14:52:22.142Z"
   },
   {
    "duration": 919,
    "start_time": "2023-07-21T14:52:22.151Z"
   },
   {
    "duration": 4,
    "start_time": "2023-07-21T15:07:06.572Z"
   },
   {
    "duration": 4,
    "start_time": "2023-07-21T15:09:20.103Z"
   },
   {
    "duration": 4,
    "start_time": "2023-07-21T15:09:29.367Z"
   },
   {
    "duration": 52,
    "start_time": "2023-07-22T12:38:26.311Z"
   },
   {
    "duration": 1745,
    "start_time": "2023-07-22T12:38:30.431Z"
   },
   {
    "duration": 3,
    "start_time": "2023-07-22T12:38:32.178Z"
   },
   {
    "duration": 3294,
    "start_time": "2023-07-22T12:38:32.183Z"
   },
   {
    "duration": 41,
    "start_time": "2023-07-22T12:38:35.479Z"
   },
   {
    "duration": 32,
    "start_time": "2023-07-22T12:38:35.522Z"
   },
   {
    "duration": 29,
    "start_time": "2023-07-22T12:38:35.556Z"
   },
   {
    "duration": 37,
    "start_time": "2023-07-22T12:38:35.587Z"
   },
   {
    "duration": 4329,
    "start_time": "2023-07-22T12:38:35.626Z"
   },
   {
    "duration": 883,
    "start_time": "2023-07-22T12:38:39.957Z"
   },
   {
    "duration": 5062,
    "start_time": "2023-07-22T12:38:40.842Z"
   },
   {
    "duration": 8,
    "start_time": "2023-07-22T12:38:45.906Z"
   },
   {
    "duration": 637,
    "start_time": "2023-07-22T12:38:45.916Z"
   },
   {
    "duration": 653,
    "start_time": "2023-07-22T12:38:46.555Z"
   },
   {
    "duration": 600,
    "start_time": "2023-07-22T12:38:47.213Z"
   },
   {
    "duration": 559,
    "start_time": "2023-07-22T12:38:47.815Z"
   },
   {
    "duration": 7,
    "start_time": "2023-07-22T12:38:48.376Z"
   },
   {
    "duration": 829,
    "start_time": "2023-07-22T12:38:48.384Z"
   },
   {
    "duration": 3,
    "start_time": "2023-07-22T12:38:49.215Z"
   },
   {
    "duration": 5,
    "start_time": "2023-07-22T12:38:49.220Z"
   },
   {
    "duration": 9,
    "start_time": "2023-07-22T12:40:47.147Z"
   },
   {
    "duration": 1937,
    "start_time": "2023-07-22T12:41:27.838Z"
   },
   {
    "duration": 981,
    "start_time": "2023-07-22T12:42:42.646Z"
   },
   {
    "duration": 7,
    "start_time": "2023-07-22T12:42:57.660Z"
   },
   {
    "duration": 2,
    "start_time": "2023-07-22T12:44:38.360Z"
   },
   {
    "duration": 11,
    "start_time": "2023-07-22T12:45:38.460Z"
   },
   {
    "duration": 4,
    "start_time": "2023-07-22T12:48:32.213Z"
   },
   {
    "duration": 4,
    "start_time": "2023-07-22T12:48:49.843Z"
   },
   {
    "duration": 72,
    "start_time": "2023-07-22T12:50:46.209Z"
   },
   {
    "duration": 7,
    "start_time": "2023-07-22T12:51:34.782Z"
   },
   {
    "duration": 11,
    "start_time": "2023-07-22T12:51:37.136Z"
   },
   {
    "duration": 28,
    "start_time": "2023-07-22T12:51:39.436Z"
   },
   {
    "duration": 2,
    "start_time": "2023-07-22T12:52:41.569Z"
   },
   {
    "duration": 18,
    "start_time": "2023-07-22T12:53:46.252Z"
   },
   {
    "duration": 3,
    "start_time": "2023-07-22T12:54:07.655Z"
   },
   {
    "duration": 15,
    "start_time": "2023-07-22T12:55:08.360Z"
   },
   {
    "duration": 3,
    "start_time": "2023-07-22T12:55:18.700Z"
   },
   {
    "duration": 15,
    "start_time": "2023-07-22T12:55:27.357Z"
   },
   {
    "duration": 6,
    "start_time": "2023-07-22T12:57:44.654Z"
   },
   {
    "duration": 41,
    "start_time": "2023-07-22T12:57:47.465Z"
   },
   {
    "duration": 8,
    "start_time": "2023-07-22T12:57:56.511Z"
   },
   {
    "duration": 20,
    "start_time": "2023-07-22T12:57:59.838Z"
   },
   {
    "duration": 19,
    "start_time": "2023-07-22T12:58:01.195Z"
   },
   {
    "duration": 14,
    "start_time": "2023-07-22T12:58:07.159Z"
   },
   {
    "duration": 15,
    "start_time": "2023-07-22T12:58:58.720Z"
   },
   {
    "duration": 14,
    "start_time": "2023-07-22T12:59:06.822Z"
   },
   {
    "duration": 36,
    "start_time": "2023-07-22T13:03:28.899Z"
   },
   {
    "duration": 15,
    "start_time": "2023-07-22T13:10:54.736Z"
   },
   {
    "duration": 16,
    "start_time": "2023-07-22T13:11:22.454Z"
   },
   {
    "duration": 16,
    "start_time": "2023-07-22T13:16:21.729Z"
   },
   {
    "duration": 22,
    "start_time": "2023-07-22T13:18:16.518Z"
   },
   {
    "duration": 15,
    "start_time": "2023-07-22T13:18:34.426Z"
   },
   {
    "duration": 20,
    "start_time": "2023-07-22T13:18:59.637Z"
   },
   {
    "duration": 14,
    "start_time": "2023-07-22T13:19:15.364Z"
   },
   {
    "duration": 16,
    "start_time": "2023-07-22T13:19:43.079Z"
   },
   {
    "duration": 4,
    "start_time": "2023-07-22T14:03:42.420Z"
   },
   {
    "duration": 7,
    "start_time": "2023-07-22T14:03:42.426Z"
   },
   {
    "duration": 34,
    "start_time": "2023-07-22T14:03:42.435Z"
   },
   {
    "duration": 803,
    "start_time": "2023-07-22T14:03:42.471Z"
   },
   {
    "duration": 41,
    "start_time": "2023-07-22T14:03:43.276Z"
   },
   {
    "duration": 28,
    "start_time": "2023-07-22T14:03:43.318Z"
   },
   {
    "duration": 38,
    "start_time": "2023-07-22T14:03:43.348Z"
   },
   {
    "duration": 31,
    "start_time": "2023-07-22T14:03:43.388Z"
   },
   {
    "duration": 4015,
    "start_time": "2023-07-22T14:03:43.421Z"
   },
   {
    "duration": 1023,
    "start_time": "2023-07-22T14:03:47.438Z"
   },
   {
    "duration": 5604,
    "start_time": "2023-07-22T14:03:48.463Z"
   },
   {
    "duration": 4,
    "start_time": "2023-07-22T14:03:54.069Z"
   },
   {
    "duration": 712,
    "start_time": "2023-07-22T14:03:54.074Z"
   },
   {
    "duration": 722,
    "start_time": "2023-07-22T14:03:54.788Z"
   },
   {
    "duration": 866,
    "start_time": "2023-07-22T14:03:55.513Z"
   },
   {
    "duration": 581,
    "start_time": "2023-07-22T14:03:56.381Z"
   },
   {
    "duration": 7,
    "start_time": "2023-07-22T14:03:56.964Z"
   },
   {
    "duration": 772,
    "start_time": "2023-07-22T14:03:56.973Z"
   },
   {
    "duration": 5,
    "start_time": "2023-07-22T14:03:57.747Z"
   },
   {
    "duration": 7,
    "start_time": "2023-07-22T14:03:57.753Z"
   },
   {
    "duration": 17,
    "start_time": "2023-07-22T14:03:57.762Z"
   },
   {
    "duration": 32,
    "start_time": "2023-07-22T14:03:57.781Z"
   },
   {
    "duration": 17,
    "start_time": "2023-07-22T14:04:02.655Z"
   },
   {
    "duration": 17,
    "start_time": "2023-07-22T14:04:03.427Z"
   },
   {
    "duration": 10,
    "start_time": "2023-07-22T14:05:04.178Z"
   },
   {
    "duration": 10,
    "start_time": "2023-07-22T14:05:39.282Z"
   },
   {
    "duration": 20,
    "start_time": "2023-07-22T14:05:42.066Z"
   },
   {
    "duration": 14,
    "start_time": "2023-07-22T14:05:44.552Z"
   },
   {
    "duration": 7,
    "start_time": "2023-07-22T14:05:54.209Z"
   },
   {
    "duration": 42,
    "start_time": "2023-07-22T14:05:56.355Z"
   },
   {
    "duration": 9,
    "start_time": "2023-07-22T14:06:00.707Z"
   },
   {
    "duration": 23,
    "start_time": "2023-07-22T14:06:01.449Z"
   },
   {
    "duration": 16,
    "start_time": "2023-07-22T14:06:01.833Z"
   },
   {
    "duration": 108,
    "start_time": "2023-07-22T14:06:14.870Z"
   },
   {
    "duration": 6,
    "start_time": "2023-07-22T14:06:18.736Z"
   },
   {
    "duration": 23,
    "start_time": "2023-07-22T14:06:20.071Z"
   },
   {
    "duration": 17,
    "start_time": "2023-07-22T14:06:20.530Z"
   },
   {
    "duration": 15,
    "start_time": "2023-07-22T14:06:24.553Z"
   },
   {
    "duration": 8,
    "start_time": "2023-07-22T14:06:43.079Z"
   },
   {
    "duration": 24,
    "start_time": "2023-07-22T14:06:43.972Z"
   },
   {
    "duration": 21,
    "start_time": "2023-07-22T14:06:45.774Z"
   },
   {
    "duration": 29,
    "start_time": "2023-07-22T14:07:29.360Z"
   },
   {
    "duration": 15,
    "start_time": "2023-07-22T14:07:54.935Z"
   },
   {
    "duration": 8,
    "start_time": "2023-07-22T14:33:32.836Z"
   },
   {
    "duration": 12,
    "start_time": "2023-07-22T14:33:40.044Z"
   },
   {
    "duration": 117,
    "start_time": "2023-07-22T14:41:05.397Z"
   },
   {
    "duration": 193,
    "start_time": "2023-07-22T14:41:07.821Z"
   },
   {
    "duration": 10,
    "start_time": "2023-07-22T14:41:15.282Z"
   },
   {
    "duration": 26,
    "start_time": "2023-07-22T15:04:25.852Z"
   },
   {
    "duration": 39,
    "start_time": "2023-07-22T15:04:28.806Z"
   },
   {
    "duration": 45,
    "start_time": "2023-07-22T15:05:23.388Z"
   },
   {
    "duration": 3,
    "start_time": "2023-07-22T15:06:46.689Z"
   },
   {
    "duration": 46,
    "start_time": "2023-07-22T15:07:01.885Z"
   },
   {
    "duration": 41,
    "start_time": "2023-07-22T15:07:46.259Z"
   },
   {
    "duration": 40,
    "start_time": "2023-07-22T15:07:51.329Z"
   },
   {
    "duration": 40,
    "start_time": "2023-07-22T15:07:57.692Z"
   },
   {
    "duration": 44,
    "start_time": "2023-07-22T15:08:01.475Z"
   },
   {
    "duration": 2347,
    "start_time": "2023-07-22T15:10:34.009Z"
   },
   {
    "duration": 256,
    "start_time": "2023-07-22T15:10:39.968Z"
   },
   {
    "duration": 42,
    "start_time": "2023-07-22T15:10:46.184Z"
   },
   {
    "duration": 17,
    "start_time": "2023-07-22T15:12:18.204Z"
   },
   {
    "duration": 9,
    "start_time": "2023-07-22T15:14:22.371Z"
   },
   {
    "duration": 43,
    "start_time": "2023-07-22T15:14:26.072Z"
   },
   {
    "duration": 9,
    "start_time": "2023-07-22T15:15:40.056Z"
   },
   {
    "duration": 37,
    "start_time": "2023-07-22T15:15:46.961Z"
   },
   {
    "duration": 39,
    "start_time": "2023-07-22T15:16:03.800Z"
   },
   {
    "duration": 10,
    "start_time": "2023-07-22T15:16:08.188Z"
   },
   {
    "duration": 36,
    "start_time": "2023-07-22T15:16:11.527Z"
   },
   {
    "duration": 17,
    "start_time": "2023-07-22T15:21:24.408Z"
   },
   {
    "duration": 10,
    "start_time": "2023-07-22T15:21:50.688Z"
   },
   {
    "duration": 10,
    "start_time": "2023-07-22T15:21:56.999Z"
   },
   {
    "duration": 10,
    "start_time": "2023-07-22T15:22:47.951Z"
   },
   {
    "duration": 10,
    "start_time": "2023-07-22T15:22:59.088Z"
   },
   {
    "duration": 11,
    "start_time": "2023-07-22T15:23:16.000Z"
   },
   {
    "duration": 4,
    "start_time": "2023-07-22T15:23:24.701Z"
   },
   {
    "duration": 4,
    "start_time": "2023-07-22T15:23:32.015Z"
   },
   {
    "duration": 49,
    "start_time": "2023-07-22T15:23:52.281Z"
   },
   {
    "duration": 45,
    "start_time": "2023-07-22T15:23:55.763Z"
   },
   {
    "duration": 38,
    "start_time": "2023-07-22T15:24:08.045Z"
   },
   {
    "duration": 18,
    "start_time": "2023-07-22T15:24:28.958Z"
   },
   {
    "duration": 14,
    "start_time": "2023-07-22T15:24:46.729Z"
   },
   {
    "duration": 7,
    "start_time": "2023-07-22T15:24:55.157Z"
   },
   {
    "duration": 36,
    "start_time": "2023-07-22T15:25:01.482Z"
   },
   {
    "duration": 6,
    "start_time": "2023-07-22T15:28:17.111Z"
   },
   {
    "duration": 37,
    "start_time": "2023-07-22T15:28:18.939Z"
   },
   {
    "duration": 44,
    "start_time": "2023-07-22T15:28:24.688Z"
   },
   {
    "duration": 36,
    "start_time": "2023-07-22T15:28:33.143Z"
   },
   {
    "duration": 39,
    "start_time": "2023-07-22T15:28:43.934Z"
   },
   {
    "duration": 9,
    "start_time": "2023-07-22T15:31:35.934Z"
   },
   {
    "duration": 40,
    "start_time": "2023-07-22T15:31:48.788Z"
   },
   {
    "duration": 10,
    "start_time": "2023-07-22T15:31:53.780Z"
   },
   {
    "duration": 13,
    "start_time": "2023-07-22T15:32:12.549Z"
   },
   {
    "duration": 14,
    "start_time": "2023-07-22T15:32:33.134Z"
   },
   {
    "duration": 14,
    "start_time": "2023-07-22T15:32:35.784Z"
   },
   {
    "duration": 14,
    "start_time": "2023-07-22T15:32:37.559Z"
   },
   {
    "duration": 36,
    "start_time": "2023-07-22T15:32:42.112Z"
   },
   {
    "duration": 45,
    "start_time": "2023-07-22T15:33:30.762Z"
   },
   {
    "duration": 10,
    "start_time": "2023-07-22T15:33:52.510Z"
   },
   {
    "duration": 14,
    "start_time": "2023-07-22T15:33:56.774Z"
   },
   {
    "duration": 38,
    "start_time": "2023-07-22T15:35:17.140Z"
   },
   {
    "duration": 3,
    "start_time": "2023-07-22T15:35:36.390Z"
   },
   {
    "duration": 3,
    "start_time": "2023-07-22T15:35:41.275Z"
   },
   {
    "duration": 32,
    "start_time": "2023-07-22T15:35:50.768Z"
   },
   {
    "duration": 32,
    "start_time": "2023-07-22T15:35:57.607Z"
   },
   {
    "duration": 26,
    "start_time": "2023-07-22T15:36:53.536Z"
   },
   {
    "duration": 24,
    "start_time": "2023-07-22T15:37:11.977Z"
   },
   {
    "duration": 27,
    "start_time": "2023-07-22T15:37:25.131Z"
   },
   {
    "duration": 26,
    "start_time": "2023-07-22T15:37:31.037Z"
   },
   {
    "duration": 42,
    "start_time": "2023-07-22T15:38:01.629Z"
   },
   {
    "duration": 6,
    "start_time": "2023-07-22T15:38:18.156Z"
   },
   {
    "duration": 29,
    "start_time": "2023-07-22T15:38:18.876Z"
   },
   {
    "duration": 44,
    "start_time": "2023-07-22T15:38:19.237Z"
   },
   {
    "duration": 1945,
    "start_time": "2023-07-23T10:53:26.804Z"
   },
   {
    "duration": 3,
    "start_time": "2023-07-23T10:53:28.751Z"
   },
   {
    "duration": 19,
    "start_time": "2023-07-23T10:53:28.755Z"
   },
   {
    "duration": 2220,
    "start_time": "2023-07-23T10:53:28.776Z"
   },
   {
    "duration": 40,
    "start_time": "2023-07-23T10:53:30.998Z"
   },
   {
    "duration": 52,
    "start_time": "2023-07-23T10:53:31.039Z"
   },
   {
    "duration": 50,
    "start_time": "2023-07-23T10:53:31.093Z"
   },
   {
    "duration": 13,
    "start_time": "2023-07-23T10:53:31.145Z"
   },
   {
    "duration": 4276,
    "start_time": "2023-07-23T10:53:31.160Z"
   },
   {
    "duration": 801,
    "start_time": "2023-07-23T10:53:35.437Z"
   },
   {
    "duration": 4895,
    "start_time": "2023-07-23T10:53:36.240Z"
   },
   {
    "duration": 3,
    "start_time": "2023-07-23T10:53:41.136Z"
   },
   {
    "duration": 634,
    "start_time": "2023-07-23T10:53:41.140Z"
   },
   {
    "duration": 631,
    "start_time": "2023-07-23T10:53:41.776Z"
   },
   {
    "duration": 659,
    "start_time": "2023-07-23T10:53:42.409Z"
   },
   {
    "duration": 522,
    "start_time": "2023-07-23T10:53:43.071Z"
   },
   {
    "duration": 7,
    "start_time": "2023-07-23T10:53:43.595Z"
   },
   {
    "duration": 807,
    "start_time": "2023-07-23T10:53:43.603Z"
   },
   {
    "duration": 9,
    "start_time": "2023-07-23T10:53:44.411Z"
   },
   {
    "duration": 21,
    "start_time": "2023-07-23T10:53:44.421Z"
   },
   {
    "duration": 11,
    "start_time": "2023-07-23T10:53:44.443Z"
   },
   {
    "duration": 32,
    "start_time": "2023-07-23T10:53:44.455Z"
   },
   {
    "duration": 22,
    "start_time": "2023-07-23T10:54:12.955Z"
   },
   {
    "duration": 54,
    "start_time": "2023-07-23T10:54:15.378Z"
   },
   {
    "duration": 38,
    "start_time": "2023-07-23T10:54:23.787Z"
   },
   {
    "duration": 42,
    "start_time": "2023-07-23T10:54:30.912Z"
   },
   {
    "duration": 31,
    "start_time": "2023-07-23T10:54:35.337Z"
   },
   {
    "duration": 11,
    "start_time": "2023-07-23T11:10:45.590Z"
   },
   {
    "duration": 12,
    "start_time": "2023-07-23T11:11:02.741Z"
   },
   {
    "duration": 8,
    "start_time": "2023-07-23T11:11:09.892Z"
   },
   {
    "duration": 12,
    "start_time": "2023-07-23T11:11:29.294Z"
   },
   {
    "duration": 13,
    "start_time": "2023-07-23T11:11:40.322Z"
   },
   {
    "duration": 1892,
    "start_time": "2023-07-23T11:12:07.037Z"
   },
   {
    "duration": 14,
    "start_time": "2023-07-23T11:12:14.285Z"
   },
   {
    "duration": 4476,
    "start_time": "2023-07-23T11:13:08.338Z"
   },
   {
    "duration": 4021,
    "start_time": "2023-07-23T11:13:24.895Z"
   },
   {
    "duration": 4527,
    "start_time": "2023-07-23T11:14:27.197Z"
   },
   {
    "duration": 4415,
    "start_time": "2023-07-23T11:15:36.586Z"
   },
   {
    "duration": 3381,
    "start_time": "2023-07-23T11:15:53.401Z"
   },
   {
    "duration": 11,
    "start_time": "2023-07-23T11:17:15.655Z"
   },
   {
    "duration": 8,
    "start_time": "2023-07-23T11:17:41.645Z"
   },
   {
    "duration": 3,
    "start_time": "2023-07-23T11:17:48.816Z"
   },
   {
    "duration": 54,
    "start_time": "2023-07-23T11:17:48.821Z"
   },
   {
    "duration": 35,
    "start_time": "2023-07-23T11:17:48.877Z"
   },
   {
    "duration": 789,
    "start_time": "2023-07-23T11:17:48.913Z"
   },
   {
    "duration": 41,
    "start_time": "2023-07-23T11:17:49.705Z"
   },
   {
    "duration": 32,
    "start_time": "2023-07-23T11:17:49.748Z"
   },
   {
    "duration": 40,
    "start_time": "2023-07-23T11:17:49.781Z"
   },
   {
    "duration": 8,
    "start_time": "2023-07-23T11:17:49.823Z"
   },
   {
    "duration": 11,
    "start_time": "2023-07-23T11:17:53.960Z"
   },
   {
    "duration": 3449,
    "start_time": "2023-07-23T11:17:56.602Z"
   },
   {
    "duration": 9,
    "start_time": "2023-07-23T11:18:00.950Z"
   },
   {
    "duration": 19,
    "start_time": "2023-07-23T11:18:49.184Z"
   },
   {
    "duration": 3,
    "start_time": "2023-07-23T11:19:08.797Z"
   },
   {
    "duration": 9,
    "start_time": "2023-07-23T11:19:08.802Z"
   },
   {
    "duration": 11,
    "start_time": "2023-07-23T11:19:08.812Z"
   },
   {
    "duration": 771,
    "start_time": "2023-07-23T11:19:08.824Z"
   },
   {
    "duration": 34,
    "start_time": "2023-07-23T11:19:09.598Z"
   },
   {
    "duration": 21,
    "start_time": "2023-07-23T11:19:09.634Z"
   },
   {
    "duration": 28,
    "start_time": "2023-07-23T11:19:09.656Z"
   },
   {
    "duration": 6,
    "start_time": "2023-07-23T11:19:09.686Z"
   },
   {
    "duration": 8,
    "start_time": "2023-07-23T11:19:09.720Z"
   },
   {
    "duration": 10,
    "start_time": "2023-07-23T11:19:12.636Z"
   },
   {
    "duration": 16,
    "start_time": "2023-07-23T11:19:13.207Z"
   },
   {
    "duration": 5,
    "start_time": "2023-07-23T11:19:39.881Z"
   },
   {
    "duration": 18,
    "start_time": "2023-07-23T11:20:13.660Z"
   },
   {
    "duration": 2554,
    "start_time": "2023-07-23T11:21:00.786Z"
   },
   {
    "duration": 19,
    "start_time": "2023-07-23T11:21:12.652Z"
   },
   {
    "duration": 16,
    "start_time": "2023-07-23T11:22:10.684Z"
   },
   {
    "duration": 54,
    "start_time": "2023-07-23T11:22:19.918Z"
   },
   {
    "duration": 10,
    "start_time": "2023-07-23T11:22:27.387Z"
   },
   {
    "duration": 738,
    "start_time": "2023-07-23T11:22:51.257Z"
   },
   {
    "duration": 22,
    "start_time": "2023-07-23T11:22:58.260Z"
   },
   {
    "duration": 75,
    "start_time": "2023-07-23T11:23:22.318Z"
   },
   {
    "duration": 3,
    "start_time": "2023-07-23T11:23:34.059Z"
   },
   {
    "duration": 19,
    "start_time": "2023-07-23T11:23:34.064Z"
   },
   {
    "duration": 6,
    "start_time": "2023-07-23T11:23:34.085Z"
   },
   {
    "duration": 728,
    "start_time": "2023-07-23T11:23:34.094Z"
   },
   {
    "duration": 25,
    "start_time": "2023-07-23T11:23:34.824Z"
   },
   {
    "duration": 31,
    "start_time": "2023-07-23T11:23:34.851Z"
   },
   {
    "duration": 61,
    "start_time": "2023-07-23T11:23:34.884Z"
   },
   {
    "duration": 7,
    "start_time": "2023-07-23T11:23:34.947Z"
   },
   {
    "duration": 56,
    "start_time": "2023-07-23T11:23:34.955Z"
   },
   {
    "duration": 103,
    "start_time": "2023-07-23T11:23:35.014Z"
   },
   {
    "duration": 16,
    "start_time": "2023-07-23T11:23:35.119Z"
   },
   {
    "duration": 62,
    "start_time": "2023-07-23T11:23:35.137Z"
   },
   {
    "duration": 86,
    "start_time": "2023-07-23T11:23:35.201Z"
   },
   {
    "duration": 6,
    "start_time": "2023-07-23T11:23:35.289Z"
   },
   {
    "duration": 680,
    "start_time": "2023-07-23T11:23:35.296Z"
   },
   {
    "duration": 492,
    "start_time": "2023-07-23T11:23:35.978Z"
   },
   {
    "duration": 503,
    "start_time": "2023-07-23T11:23:36.472Z"
   },
   {
    "duration": 443,
    "start_time": "2023-07-23T11:23:36.977Z"
   },
   {
    "duration": 5,
    "start_time": "2023-07-23T11:23:37.422Z"
   },
   {
    "duration": 737,
    "start_time": "2023-07-23T11:23:37.429Z"
   },
   {
    "duration": 4,
    "start_time": "2023-07-23T11:23:38.167Z"
   },
   {
    "duration": 54,
    "start_time": "2023-07-23T11:23:38.173Z"
   },
   {
    "duration": 22,
    "start_time": "2023-07-23T11:23:42.850Z"
   },
   {
    "duration": 8,
    "start_time": "2023-07-23T11:23:50.096Z"
   },
   {
    "duration": 20,
    "start_time": "2023-07-23T11:23:51.563Z"
   },
   {
    "duration": 2213,
    "start_time": "2023-07-23T11:23:52.420Z"
   },
   {
    "duration": 1834,
    "start_time": "2023-07-23T11:24:00.993Z"
   },
   {
    "duration": 7,
    "start_time": "2023-07-23T11:26:17.461Z"
   },
   {
    "duration": 27,
    "start_time": "2023-07-23T11:26:18.362Z"
   },
   {
    "duration": 2621,
    "start_time": "2023-07-23T11:26:18.700Z"
   },
   {
    "duration": 1694,
    "start_time": "2023-07-23T11:26:27.840Z"
   },
   {
    "duration": 2656,
    "start_time": "2023-07-23T11:27:23.272Z"
   },
   {
    "duration": 2033,
    "start_time": "2023-07-23T11:28:05.093Z"
   },
   {
    "duration": 1728,
    "start_time": "2023-07-23T11:30:01.901Z"
   },
   {
    "duration": 2261,
    "start_time": "2023-07-23T11:30:25.563Z"
   },
   {
    "duration": 1891,
    "start_time": "2023-07-23T11:30:32.038Z"
   },
   {
    "duration": 9,
    "start_time": "2023-07-23T11:34:27.141Z"
   },
   {
    "duration": 10,
    "start_time": "2023-07-23T11:34:36.182Z"
   },
   {
    "duration": 2588,
    "start_time": "2023-07-23T11:34:51.734Z"
   },
   {
    "duration": 9,
    "start_time": "2023-07-23T11:34:59.687Z"
   },
   {
    "duration": 2042,
    "start_time": "2023-07-23T11:35:08.785Z"
   },
   {
    "duration": 2492,
    "start_time": "2023-07-23T11:35:15.842Z"
   },
   {
    "duration": 1911,
    "start_time": "2023-07-23T11:35:29.919Z"
   },
   {
    "duration": 9,
    "start_time": "2023-07-23T11:41:29.945Z"
   },
   {
    "duration": 10,
    "start_time": "2023-07-23T11:59:33.947Z"
   },
   {
    "duration": 11,
    "start_time": "2023-07-23T11:59:39.022Z"
   },
   {
    "duration": 8,
    "start_time": "2023-07-23T11:59:59.502Z"
   },
   {
    "duration": 1219,
    "start_time": "2023-07-23T12:00:02.004Z"
   },
   {
    "duration": 1820,
    "start_time": "2023-07-23T12:00:09.606Z"
   },
   {
    "duration": 4,
    "start_time": "2023-07-23T12:04:33.605Z"
   },
   {
    "duration": 6,
    "start_time": "2023-07-23T12:07:36.302Z"
   },
   {
    "duration": 2213,
    "start_time": "2023-07-23T12:10:38.255Z"
   },
   {
    "duration": 2213,
    "start_time": "2023-07-23T12:10:49.803Z"
   },
   {
    "duration": 3140,
    "start_time": "2023-07-23T12:12:49.834Z"
   },
   {
    "duration": 3,
    "start_time": "2023-07-23T12:21:35.648Z"
   },
   {
    "duration": 3,
    "start_time": "2023-07-23T12:22:20.871Z"
   },
   {
    "duration": 3213,
    "start_time": "2023-07-23T12:22:24.006Z"
   },
   {
    "duration": 2358,
    "start_time": "2023-07-23T12:28:07.467Z"
   },
   {
    "duration": 3,
    "start_time": "2023-07-23T12:29:06.902Z"
   },
   {
    "duration": 4,
    "start_time": "2023-07-23T12:37:49.815Z"
   },
   {
    "duration": 2064,
    "start_time": "2023-07-23T12:37:55.562Z"
   },
   {
    "duration": 2064,
    "start_time": "2023-07-23T12:38:27.706Z"
   },
   {
    "duration": 4343,
    "start_time": "2023-07-23T12:40:27.206Z"
   },
   {
    "duration": 2421,
    "start_time": "2023-07-23T12:43:26.946Z"
   },
   {
    "duration": 3,
    "start_time": "2023-07-23T12:44:52.044Z"
   },
   {
    "duration": 30,
    "start_time": "2023-07-23T12:44:52.049Z"
   },
   {
    "duration": 15,
    "start_time": "2023-07-23T12:44:52.080Z"
   },
   {
    "duration": 848,
    "start_time": "2023-07-23T12:44:52.097Z"
   },
   {
    "duration": 30,
    "start_time": "2023-07-23T12:44:52.947Z"
   },
   {
    "duration": 44,
    "start_time": "2023-07-23T12:44:52.978Z"
   },
   {
    "duration": 32,
    "start_time": "2023-07-23T12:44:53.023Z"
   },
   {
    "duration": 38,
    "start_time": "2023-07-23T12:44:53.056Z"
   },
   {
    "duration": 56,
    "start_time": "2023-07-23T12:44:53.096Z"
   },
   {
    "duration": 72,
    "start_time": "2023-07-23T12:44:53.154Z"
   },
   {
    "duration": 22,
    "start_time": "2023-07-23T12:44:53.228Z"
   },
   {
    "duration": 32,
    "start_time": "2023-07-23T12:44:53.252Z"
   },
   {
    "duration": 68,
    "start_time": "2023-07-23T12:44:53.287Z"
   },
   {
    "duration": 7,
    "start_time": "2023-07-23T12:44:53.356Z"
   },
   {
    "duration": 620,
    "start_time": "2023-07-23T12:44:53.364Z"
   },
   {
    "duration": 486,
    "start_time": "2023-07-23T12:44:53.985Z"
   },
   {
    "duration": 770,
    "start_time": "2023-07-23T12:44:54.473Z"
   },
   {
    "duration": 441,
    "start_time": "2023-07-23T12:44:55.244Z"
   },
   {
    "duration": 6,
    "start_time": "2023-07-23T12:44:55.687Z"
   },
   {
    "duration": 610,
    "start_time": "2023-07-23T12:44:55.694Z"
   },
   {
    "duration": 3,
    "start_time": "2023-07-23T12:44:56.305Z"
   },
   {
    "duration": 21,
    "start_time": "2023-07-23T12:44:56.310Z"
   },
   {
    "duration": 17,
    "start_time": "2023-07-23T12:44:56.332Z"
   },
   {
    "duration": 26,
    "start_time": "2023-07-23T12:44:56.350Z"
   },
   {
    "duration": 17,
    "start_time": "2023-07-23T12:44:59.448Z"
   },
   {
    "duration": 3540,
    "start_time": "2023-07-23T12:45:00.121Z"
   },
   {
    "duration": 4,
    "start_time": "2023-07-23T12:46:23.553Z"
   },
   {
    "duration": 2365,
    "start_time": "2023-07-23T12:46:27.516Z"
   },
   {
    "duration": 28,
    "start_time": "2023-07-23T12:47:35.044Z"
   },
   {
    "duration": 157,
    "start_time": "2023-07-23T12:48:09.165Z"
   },
   {
    "duration": 21,
    "start_time": "2023-07-23T12:49:15.345Z"
   },
   {
    "duration": 17,
    "start_time": "2023-07-23T13:01:03.315Z"
   },
   {
    "duration": 791,
    "start_time": "2023-07-23T13:01:16.369Z"
   },
   {
    "duration": 15,
    "start_time": "2023-07-23T13:18:09.370Z"
   },
   {
    "duration": 6,
    "start_time": "2023-07-23T13:18:23.553Z"
   },
   {
    "duration": 7,
    "start_time": "2023-07-23T13:18:28.244Z"
   },
   {
    "duration": 17,
    "start_time": "2023-07-23T13:19:06.406Z"
   },
   {
    "duration": 737,
    "start_time": "2023-07-23T13:19:07.060Z"
   },
   {
    "duration": 2242,
    "start_time": "2023-07-23T13:19:15.342Z"
   },
   {
    "duration": 10,
    "start_time": "2023-07-23T13:23:37.001Z"
   },
   {
    "duration": 1670,
    "start_time": "2023-07-23T13:23:40.690Z"
   },
   {
    "duration": 1505,
    "start_time": "2023-07-23T13:26:48.600Z"
   },
   {
    "duration": 4,
    "start_time": "2023-07-23T13:28:42.317Z"
   },
   {
    "duration": 1372,
    "start_time": "2023-07-23T13:28:51.971Z"
   },
   {
    "duration": 1613,
    "start_time": "2023-07-23T13:31:08.205Z"
   },
   {
    "duration": 1214,
    "start_time": "2023-07-23T13:31:18.708Z"
   },
   {
    "duration": 1412,
    "start_time": "2023-07-23T13:31:27.014Z"
   },
   {
    "duration": 115,
    "start_time": "2023-07-23T13:34:09.468Z"
   },
   {
    "duration": 86,
    "start_time": "2023-07-23T13:34:14.001Z"
   },
   {
    "duration": 1032,
    "start_time": "2023-07-23T13:34:18.789Z"
   },
   {
    "duration": 1208,
    "start_time": "2023-07-23T13:34:27.718Z"
   },
   {
    "duration": 1251,
    "start_time": "2023-07-23T13:34:38.470Z"
   },
   {
    "duration": 1479,
    "start_time": "2023-07-23T13:38:33.546Z"
   },
   {
    "duration": 1380,
    "start_time": "2023-07-23T13:39:40.046Z"
   },
   {
    "duration": 989,
    "start_time": "2023-07-23T13:39:51.838Z"
   },
   {
    "duration": 921,
    "start_time": "2023-07-23T13:40:12.302Z"
   },
   {
    "duration": 5,
    "start_time": "2023-07-23T13:40:30.337Z"
   },
   {
    "duration": 1258,
    "start_time": "2023-07-23T13:40:34.466Z"
   },
   {
    "duration": 4,
    "start_time": "2023-07-23T13:40:51.046Z"
   },
   {
    "duration": 766,
    "start_time": "2023-07-23T13:40:56.067Z"
   },
   {
    "duration": 6,
    "start_time": "2023-07-23T13:41:15.739Z"
   },
   {
    "duration": 8,
    "start_time": "2023-07-23T13:41:18.637Z"
   },
   {
    "duration": 17,
    "start_time": "2023-07-23T13:41:19.307Z"
   },
   {
    "duration": 1016,
    "start_time": "2023-07-23T13:41:19.706Z"
   },
   {
    "duration": 13,
    "start_time": "2023-07-23T13:41:29.819Z"
   },
   {
    "duration": 961,
    "start_time": "2023-07-23T13:41:30.267Z"
   },
   {
    "duration": 4,
    "start_time": "2023-07-23T13:41:39.906Z"
   },
   {
    "duration": 8,
    "start_time": "2023-07-23T13:41:39.912Z"
   },
   {
    "duration": 5,
    "start_time": "2023-07-23T13:41:39.921Z"
   },
   {
    "duration": 722,
    "start_time": "2023-07-23T13:41:39.928Z"
   },
   {
    "duration": 40,
    "start_time": "2023-07-23T13:41:40.652Z"
   },
   {
    "duration": 39,
    "start_time": "2023-07-23T13:41:40.694Z"
   },
   {
    "duration": 32,
    "start_time": "2023-07-23T13:41:40.735Z"
   },
   {
    "duration": 8,
    "start_time": "2023-07-23T13:41:40.769Z"
   },
   {
    "duration": 43,
    "start_time": "2023-07-23T13:41:40.779Z"
   },
   {
    "duration": 61,
    "start_time": "2023-07-23T13:41:40.823Z"
   },
   {
    "duration": 10,
    "start_time": "2023-07-23T13:41:40.886Z"
   },
   {
    "duration": 50,
    "start_time": "2023-07-23T13:41:40.898Z"
   },
   {
    "duration": 88,
    "start_time": "2023-07-23T13:41:40.951Z"
   },
   {
    "duration": 3,
    "start_time": "2023-07-23T13:41:41.042Z"
   },
   {
    "duration": 825,
    "start_time": "2023-07-23T13:41:41.046Z"
   },
   {
    "duration": 550,
    "start_time": "2023-07-23T13:41:41.872Z"
   },
   {
    "duration": 611,
    "start_time": "2023-07-23T13:41:42.424Z"
   },
   {
    "duration": 504,
    "start_time": "2023-07-23T13:41:43.037Z"
   },
   {
    "duration": 6,
    "start_time": "2023-07-23T13:41:43.543Z"
   },
   {
    "duration": 686,
    "start_time": "2023-07-23T13:41:43.551Z"
   },
   {
    "duration": 3,
    "start_time": "2023-07-23T13:41:44.238Z"
   },
   {
    "duration": 50,
    "start_time": "2023-07-23T13:41:44.243Z"
   },
   {
    "duration": 1030,
    "start_time": "2023-07-23T13:41:44.294Z"
   },
   {
    "duration": 8,
    "start_time": "2023-07-23T13:42:14.546Z"
   },
   {
    "duration": 898,
    "start_time": "2023-07-23T13:42:16.036Z"
   },
   {
    "duration": 15,
    "start_time": "2023-07-23T13:42:26.739Z"
   },
   {
    "duration": 1255,
    "start_time": "2023-07-23T13:42:27.169Z"
   },
   {
    "duration": 156,
    "start_time": "2023-07-23T13:44:26.033Z"
   },
   {
    "duration": 167,
    "start_time": "2023-07-23T13:44:42.238Z"
   },
   {
    "duration": 3,
    "start_time": "2023-07-23T13:44:57.641Z"
   },
   {
    "duration": 4,
    "start_time": "2023-07-23T13:45:28.366Z"
   },
   {
    "duration": 1014,
    "start_time": "2023-07-23T13:45:38.308Z"
   },
   {
    "duration": 4,
    "start_time": "2023-07-23T13:46:38.205Z"
   },
   {
    "duration": 880,
    "start_time": "2023-07-23T13:46:41.345Z"
   },
   {
    "duration": 3,
    "start_time": "2023-07-23T13:47:23.636Z"
   },
   {
    "duration": 4,
    "start_time": "2023-07-23T13:47:44.619Z"
   },
   {
    "duration": 909,
    "start_time": "2023-07-23T13:47:48.814Z"
   },
   {
    "duration": 4,
    "start_time": "2023-07-23T13:48:18.565Z"
   },
   {
    "duration": 44,
    "start_time": "2023-07-23T13:48:18.572Z"
   },
   {
    "duration": 18,
    "start_time": "2023-07-23T13:48:18.617Z"
   },
   {
    "duration": 921,
    "start_time": "2023-07-23T13:48:18.636Z"
   },
   {
    "duration": 31,
    "start_time": "2023-07-23T13:48:19.560Z"
   },
   {
    "duration": 60,
    "start_time": "2023-07-23T13:48:19.593Z"
   },
   {
    "duration": 31,
    "start_time": "2023-07-23T13:48:19.654Z"
   },
   {
    "duration": 9,
    "start_time": "2023-07-23T13:48:19.687Z"
   },
   {
    "duration": 29,
    "start_time": "2023-07-23T13:48:19.722Z"
   },
   {
    "duration": 77,
    "start_time": "2023-07-23T13:48:19.753Z"
   },
   {
    "duration": 10,
    "start_time": "2023-07-23T13:48:19.832Z"
   },
   {
    "duration": 55,
    "start_time": "2023-07-23T13:48:19.844Z"
   },
   {
    "duration": 73,
    "start_time": "2023-07-23T13:48:19.900Z"
   },
   {
    "duration": 4,
    "start_time": "2023-07-23T13:48:19.975Z"
   },
   {
    "duration": 841,
    "start_time": "2023-07-23T13:48:19.981Z"
   },
   {
    "duration": 522,
    "start_time": "2023-07-23T13:48:20.824Z"
   },
   {
    "duration": 540,
    "start_time": "2023-07-23T13:48:21.347Z"
   },
   {
    "duration": 434,
    "start_time": "2023-07-23T13:48:21.889Z"
   },
   {
    "duration": 6,
    "start_time": "2023-07-23T13:48:22.325Z"
   },
   {
    "duration": 649,
    "start_time": "2023-07-23T13:48:22.332Z"
   },
   {
    "duration": 4,
    "start_time": "2023-07-23T13:48:22.982Z"
   },
   {
    "duration": 70,
    "start_time": "2023-07-23T13:48:22.987Z"
   },
   {
    "duration": 78,
    "start_time": "2023-07-23T13:48:23.059Z"
   },
   {
    "duration": 14,
    "start_time": "2023-07-23T13:48:33.256Z"
   },
   {
    "duration": 918,
    "start_time": "2023-07-23T13:48:33.807Z"
   },
   {
    "duration": 4,
    "start_time": "2023-07-23T13:55:47.998Z"
   },
   {
    "duration": 858,
    "start_time": "2023-07-23T13:55:50.965Z"
   },
   {
    "duration": 3,
    "start_time": "2023-07-23T13:56:04.036Z"
   },
   {
    "duration": 894,
    "start_time": "2023-07-23T13:56:07.238Z"
   },
   {
    "duration": 1477,
    "start_time": "2023-07-23T13:57:45.249Z"
   },
   {
    "duration": 4,
    "start_time": "2023-07-23T14:01:21.163Z"
   },
   {
    "duration": 1315,
    "start_time": "2023-07-23T14:01:23.613Z"
   },
   {
    "duration": 3,
    "start_time": "2023-07-23T14:01:40.169Z"
   },
   {
    "duration": 1178,
    "start_time": "2023-07-23T14:01:42.445Z"
   },
   {
    "duration": 3,
    "start_time": "2023-07-23T14:02:21.743Z"
   },
   {
    "duration": 1382,
    "start_time": "2023-07-23T14:02:25.146Z"
   },
   {
    "duration": 3,
    "start_time": "2023-07-23T14:05:00.689Z"
   },
   {
    "duration": 1119,
    "start_time": "2023-07-23T14:06:49.501Z"
   },
   {
    "duration": 1278,
    "start_time": "2023-07-23T14:07:06.548Z"
   },
   {
    "duration": 1083,
    "start_time": "2023-07-23T14:07:11.639Z"
   },
   {
    "duration": 1727,
    "start_time": "2023-07-23T14:07:18.297Z"
   },
   {
    "duration": 1386,
    "start_time": "2023-07-23T14:08:13.739Z"
   },
   {
    "duration": 1239,
    "start_time": "2023-07-23T14:10:16.485Z"
   },
   {
    "duration": 3,
    "start_time": "2023-07-23T14:12:30.499Z"
   },
   {
    "duration": 45050,
    "start_time": "2023-07-23T14:14:57.175Z"
   },
   {
    "duration": 11,
    "start_time": "2023-07-23T14:18:17.685Z"
   },
   {
    "duration": 0,
    "start_time": "2023-07-23T14:19:30.895Z"
   },
   {
    "duration": 0,
    "start_time": "2023-07-23T14:22:55.626Z"
   },
   {
    "duration": 0,
    "start_time": "2023-07-23T14:25:41.297Z"
   },
   {
    "duration": 140707,
    "start_time": "2023-07-23T14:25:45.053Z"
   },
   {
    "duration": 0,
    "start_time": "2023-07-23T14:29:01.197Z"
   },
   {
    "duration": 90726,
    "start_time": "2023-07-23T14:29:05.813Z"
   },
   {
    "duration": 45456,
    "start_time": "2023-07-23T14:33:00.461Z"
   },
   {
    "duration": 46544,
    "start_time": "2023-07-23T14:34:18.104Z"
   },
   {
    "duration": 2,
    "start_time": "2023-07-23T14:35:37.949Z"
   },
   {
    "duration": 2975,
    "start_time": "2023-07-23T14:36:06.551Z"
   },
   {
    "duration": 2940,
    "start_time": "2023-07-23T14:36:28.386Z"
   },
   {
    "duration": 2913,
    "start_time": "2023-07-23T14:36:51.215Z"
   },
   {
    "duration": 2637,
    "start_time": "2023-07-23T14:37:01.692Z"
   },
   {
    "duration": 2674,
    "start_time": "2023-07-23T14:37:22.148Z"
   },
   {
    "duration": 3,
    "start_time": "2023-07-23T14:38:49.421Z"
   },
   {
    "duration": 2242,
    "start_time": "2023-07-23T14:38:52.380Z"
   },
   {
    "duration": 17,
    "start_time": "2023-07-23T14:41:03.572Z"
   },
   {
    "duration": 2805,
    "start_time": "2023-07-23T14:41:52.520Z"
   },
   {
    "duration": 0,
    "start_time": "2023-07-23T14:46:28.830Z"
   },
   {
    "duration": 0,
    "start_time": "2023-07-23T14:46:28.832Z"
   },
   {
    "duration": 12640,
    "start_time": "2023-07-23T14:49:39.231Z"
   },
   {
    "duration": 90306,
    "start_time": "2023-07-23T14:50:10.114Z"
   },
   {
    "duration": 465,
    "start_time": "2023-07-23T14:51:46.450Z"
   },
   {
    "duration": 1281,
    "start_time": "2023-07-23T14:51:55.770Z"
   },
   {
    "duration": 12145,
    "start_time": "2023-07-23T14:52:03.540Z"
   },
   {
    "duration": 20,
    "start_time": "2023-07-23T14:52:32.124Z"
   },
   {
    "duration": 2713,
    "start_time": "2023-07-23T14:52:32.709Z"
   },
   {
    "duration": 6139,
    "start_time": "2023-07-23T14:55:03.037Z"
   },
   {
    "duration": 25542,
    "start_time": "2023-07-23T14:55:15.770Z"
   },
   {
    "duration": 72655,
    "start_time": "2023-07-23T14:55:59.746Z"
   },
   {
    "duration": 197769,
    "start_time": "2023-07-23T14:58:44.424Z"
   },
   {
    "duration": 430974,
    "start_time": "2023-07-23T15:03:09.149Z"
   },
   {
    "duration": 75377,
    "start_time": "2023-07-23T15:11:40.843Z"
   },
   {
    "duration": 57884,
    "start_time": "2023-07-23T15:13:13.962Z"
   },
   {
    "duration": 60604,
    "start_time": "2023-07-23T15:15:11.291Z"
   },
   {
    "duration": 4405,
    "start_time": "2023-07-23T15:18:40.744Z"
   },
   {
    "duration": 122947,
    "start_time": "2023-07-23T15:18:48.102Z"
   },
   {
    "duration": 166971,
    "start_time": "2023-07-23T15:21:43.562Z"
   },
   {
    "duration": 181703,
    "start_time": "2023-07-23T15:25:15.798Z"
   },
   {
    "duration": 213758,
    "start_time": "2023-07-23T15:29:47.518Z"
   },
   {
    "duration": 236168,
    "start_time": "2023-07-23T15:35:09.883Z"
   },
   {
    "duration": 269319,
    "start_time": "2023-07-23T15:39:29.149Z"
   },
   {
    "duration": 22,
    "start_time": "2023-07-23T15:53:27.778Z"
   },
   {
    "duration": 80,
    "start_time": "2023-07-23T15:53:30.568Z"
   },
   {
    "duration": 12,
    "start_time": "2023-07-23T16:02:53.504Z"
   },
   {
    "duration": 14,
    "start_time": "2023-07-23T16:08:39.940Z"
   },
   {
    "duration": 2043,
    "start_time": "2023-07-23T16:17:06.361Z"
   },
   {
    "duration": 9,
    "start_time": "2023-07-23T16:17:18.160Z"
   },
   {
    "duration": 46,
    "start_time": "2023-07-23T21:16:20.837Z"
   },
   {
    "duration": 1718,
    "start_time": "2023-07-23T21:16:27.222Z"
   },
   {
    "duration": 3,
    "start_time": "2023-07-23T21:16:28.942Z"
   },
   {
    "duration": 12,
    "start_time": "2023-07-23T21:16:28.946Z"
   },
   {
    "duration": 2562,
    "start_time": "2023-07-23T21:16:28.959Z"
   },
   {
    "duration": 34,
    "start_time": "2023-07-23T21:16:31.527Z"
   },
   {
    "duration": 88,
    "start_time": "2023-07-23T21:16:31.563Z"
   },
   {
    "duration": 67,
    "start_time": "2023-07-23T21:16:31.652Z"
   },
   {
    "duration": 26,
    "start_time": "2023-07-23T21:16:31.723Z"
   },
   {
    "duration": 42,
    "start_time": "2023-07-23T21:16:31.750Z"
   },
   {
    "duration": 99,
    "start_time": "2023-07-23T21:16:31.794Z"
   },
   {
    "duration": 29,
    "start_time": "2023-07-23T21:16:31.895Z"
   },
   {
    "duration": 129,
    "start_time": "2023-07-23T21:16:31.925Z"
   },
   {
    "duration": 71,
    "start_time": "2023-07-23T21:16:32.055Z"
   },
   {
    "duration": 3,
    "start_time": "2023-07-23T21:16:32.129Z"
   },
   {
    "duration": 756,
    "start_time": "2023-07-23T21:16:32.133Z"
   },
   {
    "duration": 739,
    "start_time": "2023-07-23T21:16:32.890Z"
   },
   {
    "duration": 636,
    "start_time": "2023-07-23T21:16:33.631Z"
   },
   {
    "duration": 539,
    "start_time": "2023-07-23T21:16:34.268Z"
   },
   {
    "duration": 16,
    "start_time": "2023-07-23T21:16:34.808Z"
   },
   {
    "duration": 896,
    "start_time": "2023-07-23T21:16:34.826Z"
   },
   {
    "duration": 4,
    "start_time": "2023-07-23T21:16:35.727Z"
   },
   {
    "duration": 13,
    "start_time": "2023-07-23T21:16:35.733Z"
   },
   {
    "duration": 32,
    "start_time": "2023-07-23T21:16:35.747Z"
   },
   {
    "duration": 23,
    "start_time": "2023-07-23T21:16:41.641Z"
   },
   {
    "duration": 10,
    "start_time": "2023-07-23T21:17:12.089Z"
   },
   {
    "duration": 94,
    "start_time": "2023-07-23T21:18:57.589Z"
   },
   {
    "duration": 15,
    "start_time": "2023-07-23T21:19:09.827Z"
   },
   {
    "duration": 34,
    "start_time": "2023-07-23T21:19:13.999Z"
   },
   {
    "duration": 21,
    "start_time": "2023-07-23T21:19:20.948Z"
   },
   {
    "duration": 15,
    "start_time": "2023-07-23T21:19:54.855Z"
   },
   {
    "duration": 7,
    "start_time": "2023-07-23T21:20:01.726Z"
   },
   {
    "duration": 13,
    "start_time": "2023-07-23T21:20:07.157Z"
   },
   {
    "duration": 17,
    "start_time": "2023-07-23T21:20:09.252Z"
   },
   {
    "duration": 40,
    "start_time": "2023-07-23T21:21:14.892Z"
   },
   {
    "duration": 18,
    "start_time": "2023-07-23T21:21:22.496Z"
   },
   {
    "duration": 4,
    "start_time": "2023-07-23T21:21:25.487Z"
   },
   {
    "duration": 11,
    "start_time": "2023-07-23T21:22:05.636Z"
   },
   {
    "duration": 9,
    "start_time": "2023-07-23T21:22:26.776Z"
   },
   {
    "duration": 11,
    "start_time": "2023-07-23T21:23:47.772Z"
   },
   {
    "duration": 6,
    "start_time": "2023-07-23T21:23:57.513Z"
   },
   {
    "duration": 28,
    "start_time": "2023-07-23T21:23:57.520Z"
   },
   {
    "duration": 5,
    "start_time": "2023-07-23T21:23:57.550Z"
   },
   {
    "duration": 814,
    "start_time": "2023-07-23T21:23:57.556Z"
   },
   {
    "duration": 51,
    "start_time": "2023-07-23T21:23:58.372Z"
   },
   {
    "duration": 32,
    "start_time": "2023-07-23T21:23:58.426Z"
   },
   {
    "duration": 28,
    "start_time": "2023-07-23T21:23:58.460Z"
   },
   {
    "duration": 23,
    "start_time": "2023-07-23T21:23:58.489Z"
   },
   {
    "duration": 47,
    "start_time": "2023-07-23T21:23:58.513Z"
   },
   {
    "duration": 61,
    "start_time": "2023-07-23T21:23:58.561Z"
   },
   {
    "duration": 8,
    "start_time": "2023-07-23T21:23:58.630Z"
   },
   {
    "duration": 27,
    "start_time": "2023-07-23T21:23:58.640Z"
   },
   {
    "duration": 71,
    "start_time": "2023-07-23T21:23:58.669Z"
   },
   {
    "duration": 3,
    "start_time": "2023-07-23T21:23:58.742Z"
   },
   {
    "duration": 601,
    "start_time": "2023-07-23T21:23:58.747Z"
   },
   {
    "duration": 544,
    "start_time": "2023-07-23T21:23:59.349Z"
   },
   {
    "duration": 804,
    "start_time": "2023-07-23T21:23:59.894Z"
   },
   {
    "duration": 511,
    "start_time": "2023-07-23T21:24:00.708Z"
   },
   {
    "duration": 7,
    "start_time": "2023-07-23T21:24:01.221Z"
   },
   {
    "duration": 781,
    "start_time": "2023-07-23T21:24:01.229Z"
   },
   {
    "duration": 11,
    "start_time": "2023-07-23T21:24:02.018Z"
   },
   {
    "duration": 107,
    "start_time": "2023-07-23T21:24:02.030Z"
   },
   {
    "duration": 20,
    "start_time": "2023-07-23T21:24:06.102Z"
   },
   {
    "duration": 18,
    "start_time": "2023-07-23T21:24:15.308Z"
   },
   {
    "duration": 4,
    "start_time": "2023-07-23T21:24:26.633Z"
   },
   {
    "duration": 7,
    "start_time": "2023-07-23T21:24:26.639Z"
   },
   {
    "duration": 15,
    "start_time": "2023-07-23T21:24:26.648Z"
   },
   {
    "duration": 822,
    "start_time": "2023-07-23T21:24:26.664Z"
   },
   {
    "duration": 43,
    "start_time": "2023-07-23T21:24:27.488Z"
   },
   {
    "duration": 26,
    "start_time": "2023-07-23T21:24:27.533Z"
   },
   {
    "duration": 55,
    "start_time": "2023-07-23T21:24:27.560Z"
   },
   {
    "duration": 13,
    "start_time": "2023-07-23T21:24:27.621Z"
   },
   {
    "duration": 25,
    "start_time": "2023-07-23T21:24:27.636Z"
   },
   {
    "duration": 77,
    "start_time": "2023-07-23T21:24:27.662Z"
   },
   {
    "duration": 9,
    "start_time": "2023-07-23T21:24:27.741Z"
   },
   {
    "duration": 28,
    "start_time": "2023-07-23T21:24:27.751Z"
   },
   {
    "duration": 80,
    "start_time": "2023-07-23T21:24:27.781Z"
   },
   {
    "duration": 3,
    "start_time": "2023-07-23T21:24:27.864Z"
   },
   {
    "duration": 806,
    "start_time": "2023-07-23T21:24:27.869Z"
   },
   {
    "duration": 577,
    "start_time": "2023-07-23T21:24:28.677Z"
   },
   {
    "duration": 626,
    "start_time": "2023-07-23T21:24:29.256Z"
   },
   {
    "duration": 555,
    "start_time": "2023-07-23T21:24:29.884Z"
   },
   {
    "duration": 9,
    "start_time": "2023-07-23T21:24:30.441Z"
   },
   {
    "duration": 1026,
    "start_time": "2023-07-23T21:24:30.452Z"
   },
   {
    "duration": 3,
    "start_time": "2023-07-23T21:24:31.480Z"
   },
   {
    "duration": 48,
    "start_time": "2023-07-23T21:24:31.484Z"
   },
   {
    "duration": 6,
    "start_time": "2023-07-23T21:24:35.670Z"
   },
   {
    "duration": 33,
    "start_time": "2023-07-23T21:24:57.597Z"
   },
   {
    "duration": 39,
    "start_time": "2023-07-23T21:25:37.890Z"
   },
   {
    "duration": 9,
    "start_time": "2023-07-23T21:25:52.041Z"
   },
   {
    "duration": 31,
    "start_time": "2023-07-23T21:26:00.294Z"
   },
   {
    "duration": 15,
    "start_time": "2023-07-23T21:26:09.371Z"
   },
   {
    "duration": 0,
    "start_time": "2023-07-23T21:26:09.388Z"
   },
   {
    "duration": 26,
    "start_time": "2023-07-23T21:26:09.426Z"
   },
   {
    "duration": 3964,
    "start_time": "2023-07-23T21:26:09.454Z"
   },
   {
    "duration": 0,
    "start_time": "2023-07-23T21:26:13.421Z"
   },
   {
    "duration": 0,
    "start_time": "2023-07-23T21:26:13.422Z"
   },
   {
    "duration": 0,
    "start_time": "2023-07-23T21:26:13.423Z"
   },
   {
    "duration": 0,
    "start_time": "2023-07-23T21:26:13.424Z"
   },
   {
    "duration": 4,
    "start_time": "2023-07-23T21:26:23.974Z"
   },
   {
    "duration": 19,
    "start_time": "2023-07-23T21:26:23.979Z"
   },
   {
    "duration": 33,
    "start_time": "2023-07-23T21:26:23.999Z"
   },
   {
    "duration": 781,
    "start_time": "2023-07-23T21:26:24.034Z"
   },
   {
    "duration": 37,
    "start_time": "2023-07-23T21:26:24.820Z"
   },
   {
    "duration": 26,
    "start_time": "2023-07-23T21:26:24.858Z"
   },
   {
    "duration": 51,
    "start_time": "2023-07-23T21:26:24.886Z"
   },
   {
    "duration": 7,
    "start_time": "2023-07-23T21:26:24.938Z"
   },
   {
    "duration": 9,
    "start_time": "2023-07-23T21:26:24.946Z"
   },
   {
    "duration": 80,
    "start_time": "2023-07-23T21:26:24.956Z"
   },
   {
    "duration": 10,
    "start_time": "2023-07-23T21:26:25.038Z"
   },
   {
    "duration": 27,
    "start_time": "2023-07-23T21:26:25.050Z"
   },
   {
    "duration": 82,
    "start_time": "2023-07-23T21:26:25.078Z"
   },
   {
    "duration": 3,
    "start_time": "2023-07-23T21:26:25.163Z"
   },
   {
    "duration": 603,
    "start_time": "2023-07-23T21:26:25.167Z"
   },
   {
    "duration": 565,
    "start_time": "2023-07-23T21:26:25.771Z"
   },
   {
    "duration": 587,
    "start_time": "2023-07-23T21:26:26.337Z"
   },
   {
    "duration": 509,
    "start_time": "2023-07-23T21:26:26.926Z"
   },
   {
    "duration": 6,
    "start_time": "2023-07-23T21:26:27.436Z"
   },
   {
    "duration": 1070,
    "start_time": "2023-07-23T21:26:27.443Z"
   },
   {
    "duration": 9,
    "start_time": "2023-07-23T21:26:28.520Z"
   },
   {
    "duration": 5,
    "start_time": "2023-07-23T21:26:28.530Z"
   },
   {
    "duration": 8,
    "start_time": "2023-07-23T21:26:28.537Z"
   },
   {
    "duration": 11,
    "start_time": "2023-07-23T21:26:30.531Z"
   },
   {
    "duration": 39,
    "start_time": "2023-07-23T21:26:31.724Z"
   },
   {
    "duration": 24,
    "start_time": "2023-07-23T21:28:28.402Z"
   },
   {
    "duration": 16,
    "start_time": "2023-07-23T21:28:47.091Z"
   },
   {
    "duration": 4,
    "start_time": "2023-07-23T21:29:04.494Z"
   },
   {
    "duration": 47,
    "start_time": "2023-07-23T21:29:04.500Z"
   },
   {
    "duration": 8,
    "start_time": "2023-07-23T21:29:04.549Z"
   },
   {
    "duration": 825,
    "start_time": "2023-07-23T21:29:04.560Z"
   },
   {
    "duration": 52,
    "start_time": "2023-07-23T21:29:05.388Z"
   },
   {
    "duration": 30,
    "start_time": "2023-07-23T21:29:05.443Z"
   },
   {
    "duration": 61,
    "start_time": "2023-07-23T21:29:05.475Z"
   },
   {
    "duration": 7,
    "start_time": "2023-07-23T21:29:05.539Z"
   },
   {
    "duration": 9,
    "start_time": "2023-07-23T21:29:05.547Z"
   },
   {
    "duration": 80,
    "start_time": "2023-07-23T21:29:05.558Z"
   },
   {
    "duration": 10,
    "start_time": "2023-07-23T21:29:05.639Z"
   },
   {
    "duration": 28,
    "start_time": "2023-07-23T21:29:05.650Z"
   },
   {
    "duration": 91,
    "start_time": "2023-07-23T21:29:05.680Z"
   },
   {
    "duration": 4,
    "start_time": "2023-07-23T21:29:05.774Z"
   },
   {
    "duration": 659,
    "start_time": "2023-07-23T21:29:05.779Z"
   },
   {
    "duration": 605,
    "start_time": "2023-07-23T21:29:06.442Z"
   },
   {
    "duration": 630,
    "start_time": "2023-07-23T21:29:07.049Z"
   },
   {
    "duration": 608,
    "start_time": "2023-07-23T21:29:07.682Z"
   },
   {
    "duration": 24,
    "start_time": "2023-07-23T21:29:08.292Z"
   },
   {
    "duration": 1068,
    "start_time": "2023-07-23T21:29:08.319Z"
   },
   {
    "duration": 4,
    "start_time": "2023-07-23T21:29:09.388Z"
   },
   {
    "duration": 14,
    "start_time": "2023-07-23T21:29:09.403Z"
   },
   {
    "duration": 12,
    "start_time": "2023-07-23T21:29:09.418Z"
   },
   {
    "duration": 19,
    "start_time": "2023-07-23T21:29:09.431Z"
   },
   {
    "duration": 36,
    "start_time": "2023-07-23T21:29:09.452Z"
   },
   {
    "duration": 0,
    "start_time": "2023-07-23T21:29:09.491Z"
   },
   {
    "duration": 14,
    "start_time": "2023-07-23T21:29:17.337Z"
   },
   {
    "duration": 18,
    "start_time": "2023-07-23T21:29:17.975Z"
   },
   {
    "duration": 4,
    "start_time": "2023-07-23T21:29:28.975Z"
   },
   {
    "duration": 11,
    "start_time": "2023-07-23T21:29:28.981Z"
   },
   {
    "duration": 37,
    "start_time": "2023-07-23T21:29:28.993Z"
   },
   {
    "duration": 780,
    "start_time": "2023-07-23T21:29:29.032Z"
   },
   {
    "duration": 48,
    "start_time": "2023-07-23T21:29:29.815Z"
   },
   {
    "duration": 60,
    "start_time": "2023-07-23T21:29:29.865Z"
   },
   {
    "duration": 32,
    "start_time": "2023-07-23T21:29:29.931Z"
   },
   {
    "duration": 7,
    "start_time": "2023-07-23T21:29:29.965Z"
   },
   {
    "duration": 24,
    "start_time": "2023-07-23T21:29:29.973Z"
   },
   {
    "duration": 62,
    "start_time": "2023-07-23T21:29:29.998Z"
   },
   {
    "duration": 10,
    "start_time": "2023-07-23T21:29:30.062Z"
   },
   {
    "duration": 52,
    "start_time": "2023-07-23T21:29:30.073Z"
   },
   {
    "duration": 105,
    "start_time": "2023-07-23T21:29:30.128Z"
   },
   {
    "duration": 36,
    "start_time": "2023-07-23T21:29:30.236Z"
   },
   {
    "duration": 792,
    "start_time": "2023-07-23T21:29:30.274Z"
   },
   {
    "duration": 660,
    "start_time": "2023-07-23T21:29:31.069Z"
   },
   {
    "duration": 659,
    "start_time": "2023-07-23T21:29:31.735Z"
   },
   {
    "duration": 593,
    "start_time": "2023-07-23T21:29:32.396Z"
   },
   {
    "duration": 10,
    "start_time": "2023-07-23T21:29:32.991Z"
   },
   {
    "duration": 997,
    "start_time": "2023-07-23T21:29:33.003Z"
   },
   {
    "duration": 19,
    "start_time": "2023-07-23T21:29:34.008Z"
   },
   {
    "duration": 16,
    "start_time": "2023-07-23T21:29:34.030Z"
   },
   {
    "duration": 8,
    "start_time": "2023-07-23T21:29:36.648Z"
   },
   {
    "duration": 13,
    "start_time": "2023-07-23T21:29:39.773Z"
   },
   {
    "duration": 13,
    "start_time": "2023-07-23T21:29:42.531Z"
   },
   {
    "duration": 18,
    "start_time": "2023-07-23T21:29:50.521Z"
   },
   {
    "duration": 5,
    "start_time": "2023-07-23T21:29:56.844Z"
   },
   {
    "duration": 8,
    "start_time": "2023-07-23T21:29:56.851Z"
   },
   {
    "duration": 11,
    "start_time": "2023-07-23T21:29:56.861Z"
   },
   {
    "duration": 805,
    "start_time": "2023-07-23T21:29:56.873Z"
   },
   {
    "duration": 44,
    "start_time": "2023-07-23T21:29:57.681Z"
   },
   {
    "duration": 35,
    "start_time": "2023-07-23T21:29:57.727Z"
   },
   {
    "duration": 50,
    "start_time": "2023-07-23T21:29:57.764Z"
   },
   {
    "duration": 11,
    "start_time": "2023-07-23T21:29:57.816Z"
   },
   {
    "duration": 22,
    "start_time": "2023-07-23T21:29:57.829Z"
   },
   {
    "duration": 65,
    "start_time": "2023-07-23T21:29:57.853Z"
   },
   {
    "duration": 16,
    "start_time": "2023-07-23T21:29:57.920Z"
   },
   {
    "duration": 33,
    "start_time": "2023-07-23T21:29:57.938Z"
   },
   {
    "duration": 71,
    "start_time": "2023-07-23T21:29:57.973Z"
   },
   {
    "duration": 3,
    "start_time": "2023-07-23T21:29:58.048Z"
   },
   {
    "duration": 1084,
    "start_time": "2023-07-23T21:29:58.052Z"
   },
   {
    "duration": 650,
    "start_time": "2023-07-23T21:29:59.142Z"
   },
   {
    "duration": 737,
    "start_time": "2023-07-23T21:29:59.794Z"
   },
   {
    "duration": 669,
    "start_time": "2023-07-23T21:30:00.535Z"
   },
   {
    "duration": 14,
    "start_time": "2023-07-23T21:30:01.216Z"
   },
   {
    "duration": 787,
    "start_time": "2023-07-23T21:30:01.231Z"
   },
   {
    "duration": 3,
    "start_time": "2023-07-23T21:30:02.020Z"
   },
   {
    "duration": 2,
    "start_time": "2023-07-23T21:30:02.025Z"
   },
   {
    "duration": 6,
    "start_time": "2023-07-23T21:30:02.028Z"
   },
   {
    "duration": 206,
    "start_time": "2023-07-23T21:30:02.038Z"
   },
   {
    "duration": 14,
    "start_time": "2023-07-23T21:30:05.850Z"
   },
   {
    "duration": 12,
    "start_time": "2023-07-23T21:30:43.377Z"
   },
   {
    "duration": 24,
    "start_time": "2023-07-23T21:33:26.791Z"
   },
   {
    "duration": 14,
    "start_time": "2023-07-23T21:34:08.384Z"
   },
   {
    "duration": 15,
    "start_time": "2023-07-23T21:36:06.517Z"
   },
   {
    "duration": 5,
    "start_time": "2023-07-23T21:36:17.728Z"
   },
   {
    "duration": 9,
    "start_time": "2023-07-23T21:36:17.735Z"
   },
   {
    "duration": 23,
    "start_time": "2023-07-23T21:36:17.745Z"
   },
   {
    "duration": 866,
    "start_time": "2023-07-23T21:36:17.770Z"
   },
   {
    "duration": 32,
    "start_time": "2023-07-23T21:36:18.638Z"
   },
   {
    "duration": 52,
    "start_time": "2023-07-23T21:36:18.672Z"
   },
   {
    "duration": 35,
    "start_time": "2023-07-23T21:36:18.726Z"
   },
   {
    "duration": 8,
    "start_time": "2023-07-23T21:36:18.763Z"
   },
   {
    "duration": 40,
    "start_time": "2023-07-23T21:36:18.773Z"
   },
   {
    "duration": 13,
    "start_time": "2023-07-23T21:36:18.824Z"
   },
   {
    "duration": 0,
    "start_time": "2023-07-23T21:36:18.839Z"
   },
   {
    "duration": 0,
    "start_time": "2023-07-23T21:36:18.840Z"
   },
   {
    "duration": 17,
    "start_time": "2023-07-23T21:36:23.153Z"
   },
   {
    "duration": 15,
    "start_time": "2023-07-23T21:36:37.418Z"
   },
   {
    "duration": 7,
    "start_time": "2023-07-23T21:36:43.822Z"
   },
   {
    "duration": 13,
    "start_time": "2023-07-23T21:36:43.832Z"
   },
   {
    "duration": 5,
    "start_time": "2023-07-23T21:36:43.847Z"
   },
   {
    "duration": 774,
    "start_time": "2023-07-23T21:36:43.853Z"
   },
   {
    "duration": 34,
    "start_time": "2023-07-23T21:36:44.629Z"
   },
   {
    "duration": 54,
    "start_time": "2023-07-23T21:36:44.665Z"
   },
   {
    "duration": 34,
    "start_time": "2023-07-23T21:36:44.721Z"
   },
   {
    "duration": 8,
    "start_time": "2023-07-23T21:36:44.757Z"
   },
   {
    "duration": 15,
    "start_time": "2023-07-23T21:36:44.766Z"
   },
   {
    "duration": 43,
    "start_time": "2023-07-23T21:36:44.782Z"
   },
   {
    "duration": 0,
    "start_time": "2023-07-23T21:36:44.828Z"
   },
   {
    "duration": 0,
    "start_time": "2023-07-23T21:36:44.830Z"
   },
   {
    "duration": 0,
    "start_time": "2023-07-23T21:36:44.831Z"
   },
   {
    "duration": 4,
    "start_time": "2023-07-23T21:37:01.849Z"
   },
   {
    "duration": 78,
    "start_time": "2023-07-23T21:37:01.855Z"
   },
   {
    "duration": 107,
    "start_time": "2023-07-23T21:37:01.934Z"
   },
   {
    "duration": 835,
    "start_time": "2023-07-23T21:37:02.042Z"
   },
   {
    "duration": 54,
    "start_time": "2023-07-23T21:37:02.879Z"
   },
   {
    "duration": 139,
    "start_time": "2023-07-23T21:37:02.935Z"
   },
   {
    "duration": 51,
    "start_time": "2023-07-23T21:37:03.076Z"
   },
   {
    "duration": 9,
    "start_time": "2023-07-23T21:37:03.129Z"
   },
   {
    "duration": 29,
    "start_time": "2023-07-23T21:37:03.139Z"
   },
   {
    "duration": 17,
    "start_time": "2023-07-23T21:37:03.170Z"
   },
   {
    "duration": 0,
    "start_time": "2023-07-23T21:37:03.190Z"
   },
   {
    "duration": 0,
    "start_time": "2023-07-23T21:37:03.191Z"
   },
   {
    "duration": 0,
    "start_time": "2023-07-23T21:37:03.193Z"
   },
   {
    "duration": 0,
    "start_time": "2023-07-23T21:37:03.206Z"
   },
   {
    "duration": 0,
    "start_time": "2023-07-23T21:37:03.207Z"
   },
   {
    "duration": 0,
    "start_time": "2023-07-23T21:37:03.208Z"
   },
   {
    "duration": 0,
    "start_time": "2023-07-23T21:37:03.208Z"
   },
   {
    "duration": 0,
    "start_time": "2023-07-23T21:37:03.209Z"
   },
   {
    "duration": 0,
    "start_time": "2023-07-23T21:37:03.209Z"
   },
   {
    "duration": 0,
    "start_time": "2023-07-23T21:37:03.210Z"
   },
   {
    "duration": 0,
    "start_time": "2023-07-23T21:37:03.213Z"
   },
   {
    "duration": 1,
    "start_time": "2023-07-23T21:37:03.214Z"
   },
   {
    "duration": 0,
    "start_time": "2023-07-23T21:37:03.216Z"
   },
   {
    "duration": 0,
    "start_time": "2023-07-23T21:37:03.217Z"
   },
   {
    "duration": 0,
    "start_time": "2023-07-23T21:37:03.219Z"
   },
   {
    "duration": 2,
    "start_time": "2023-07-23T21:37:58.651Z"
   },
   {
    "duration": 23,
    "start_time": "2023-07-23T21:38:06.639Z"
   },
   {
    "duration": 2,
    "start_time": "2023-07-23T21:38:11.431Z"
   },
   {
    "duration": 24,
    "start_time": "2023-07-23T21:38:14.025Z"
   },
   {
    "duration": 13,
    "start_time": "2023-07-23T21:38:20.861Z"
   },
   {
    "duration": 6,
    "start_time": "2023-07-23T21:38:26.399Z"
   },
   {
    "duration": 32,
    "start_time": "2023-07-23T21:38:26.407Z"
   },
   {
    "duration": 9,
    "start_time": "2023-07-23T21:38:26.441Z"
   },
   {
    "duration": 791,
    "start_time": "2023-07-23T21:38:26.451Z"
   },
   {
    "duration": 34,
    "start_time": "2023-07-23T21:38:27.244Z"
   },
   {
    "duration": 56,
    "start_time": "2023-07-23T21:38:27.280Z"
   },
   {
    "duration": 32,
    "start_time": "2023-07-23T21:38:27.338Z"
   },
   {
    "duration": 7,
    "start_time": "2023-07-23T21:38:27.372Z"
   },
   {
    "duration": 32,
    "start_time": "2023-07-23T21:38:27.380Z"
   },
   {
    "duration": 19,
    "start_time": "2023-07-23T21:38:27.414Z"
   },
   {
    "duration": 0,
    "start_time": "2023-07-23T21:38:27.436Z"
   },
   {
    "duration": 0,
    "start_time": "2023-07-23T21:38:27.438Z"
   },
   {
    "duration": 0,
    "start_time": "2023-07-23T21:38:27.439Z"
   },
   {
    "duration": 0,
    "start_time": "2023-07-23T21:38:27.441Z"
   },
   {
    "duration": 0,
    "start_time": "2023-07-23T21:38:27.443Z"
   },
   {
    "duration": 0,
    "start_time": "2023-07-23T21:38:27.444Z"
   },
   {
    "duration": 0,
    "start_time": "2023-07-23T21:38:27.445Z"
   },
   {
    "duration": 0,
    "start_time": "2023-07-23T21:38:27.447Z"
   },
   {
    "duration": 0,
    "start_time": "2023-07-23T21:38:27.448Z"
   },
   {
    "duration": 0,
    "start_time": "2023-07-23T21:38:27.449Z"
   },
   {
    "duration": 0,
    "start_time": "2023-07-23T21:38:27.450Z"
   },
   {
    "duration": 0,
    "start_time": "2023-07-23T21:38:27.451Z"
   },
   {
    "duration": 0,
    "start_time": "2023-07-23T21:38:27.452Z"
   },
   {
    "duration": 0,
    "start_time": "2023-07-23T21:38:27.452Z"
   },
   {
    "duration": 0,
    "start_time": "2023-07-23T21:38:27.454Z"
   },
   {
    "duration": 24,
    "start_time": "2023-07-23T21:39:56.875Z"
   },
   {
    "duration": 4,
    "start_time": "2023-07-23T21:40:12.454Z"
   },
   {
    "duration": 11,
    "start_time": "2023-07-23T21:40:12.459Z"
   },
   {
    "duration": 11,
    "start_time": "2023-07-23T21:40:12.472Z"
   },
   {
    "duration": 805,
    "start_time": "2023-07-23T21:40:12.485Z"
   },
   {
    "duration": 51,
    "start_time": "2023-07-23T21:40:13.292Z"
   },
   {
    "duration": 43,
    "start_time": "2023-07-23T21:40:30.636Z"
   },
   {
    "duration": 35,
    "start_time": "2023-07-23T21:40:45.730Z"
   },
   {
    "duration": 26,
    "start_time": "2023-07-23T21:40:51.205Z"
   },
   {
    "duration": 9,
    "start_time": "2023-07-23T21:40:55.691Z"
   },
   {
    "duration": 64,
    "start_time": "2023-07-23T21:40:59.055Z"
   },
   {
    "duration": 12,
    "start_time": "2023-07-23T21:41:01.726Z"
   },
   {
    "duration": 41,
    "start_time": "2023-07-23T21:41:04.266Z"
   },
   {
    "duration": 85,
    "start_time": "2023-07-23T21:41:05.212Z"
   },
   {
    "duration": 4,
    "start_time": "2023-07-23T21:41:09.696Z"
   },
   {
    "duration": 648,
    "start_time": "2023-07-23T21:41:10.132Z"
   },
   {
    "duration": 554,
    "start_time": "2023-07-23T21:41:11.428Z"
   },
   {
    "duration": 661,
    "start_time": "2023-07-23T21:41:13.099Z"
   },
   {
    "duration": 1090,
    "start_time": "2023-07-23T21:41:15.760Z"
   },
   {
    "duration": 8,
    "start_time": "2023-07-23T21:41:18.732Z"
   },
   {
    "duration": 708,
    "start_time": "2023-07-23T21:41:19.329Z"
   },
   {
    "duration": 4,
    "start_time": "2023-07-23T21:41:22.726Z"
   },
   {
    "duration": 6,
    "start_time": "2023-07-23T21:41:23.630Z"
   },
   {
    "duration": 3,
    "start_time": "2023-07-23T21:41:28.557Z"
   },
   {
    "duration": 12,
    "start_time": "2023-07-23T21:41:30.668Z"
   },
   {
    "duration": 7,
    "start_time": "2023-07-23T21:41:38.832Z"
   },
   {
    "duration": 36,
    "start_time": "2023-07-23T21:41:41.786Z"
   },
   {
    "duration": 5293,
    "start_time": "2023-07-23T21:41:44.224Z"
   },
   {
    "duration": 7,
    "start_time": "2023-07-23T21:42:00.032Z"
   },
   {
    "duration": 6,
    "start_time": "2023-07-23T21:43:02.835Z"
   },
   {
    "duration": 7903,
    "start_time": "2023-07-23T21:43:51.817Z"
   },
   {
    "duration": 7899,
    "start_time": "2023-07-23T21:44:22.652Z"
   },
   {
    "duration": 20,
    "start_time": "2023-07-23T21:45:24.818Z"
   },
   {
    "duration": 2009,
    "start_time": "2023-07-23T21:46:37.258Z"
   },
   {
    "duration": 2721,
    "start_time": "2023-07-23T21:48:11.850Z"
   },
   {
    "duration": 8347,
    "start_time": "2023-07-23T21:48:31.477Z"
   },
   {
    "duration": 435,
    "start_time": "2023-07-23T21:49:13.058Z"
   },
   {
    "duration": 8066,
    "start_time": "2023-07-23T21:49:43.055Z"
   },
   {
    "duration": 7989,
    "start_time": "2023-07-23T21:50:02.386Z"
   },
   {
    "duration": 9,
    "start_time": "2023-07-23T21:50:14.279Z"
   },
   {
    "duration": 4,
    "start_time": "2023-07-23T21:50:25.419Z"
   },
   {
    "duration": 17,
    "start_time": "2023-07-23T21:50:34.972Z"
   },
   {
    "duration": 11,
    "start_time": "2023-07-23T21:50:39.487Z"
   },
   {
    "duration": 4,
    "start_time": "2023-07-23T21:50:45.431Z"
   },
   {
    "duration": 18,
    "start_time": "2023-07-23T21:50:47.118Z"
   },
   {
    "duration": 121,
    "start_time": "2023-07-23T21:50:53.032Z"
   },
   {
    "duration": 993,
    "start_time": "2023-07-23T21:50:55.886Z"
   },
   {
    "duration": 10,
    "start_time": "2023-07-23T21:51:03.564Z"
   },
   {
    "duration": 9,
    "start_time": "2023-07-23T21:51:10.595Z"
   },
   {
    "duration": 11,
    "start_time": "2023-07-23T21:51:14.900Z"
   },
   {
    "duration": 15,
    "start_time": "2023-07-23T21:51:26.562Z"
   },
   {
    "duration": 7,
    "start_time": "2023-07-23T21:53:13.742Z"
   },
   {
    "duration": 7222,
    "start_time": "2023-07-23T21:53:23.139Z"
   },
   {
    "duration": 8,
    "start_time": "2023-07-23T21:53:44.837Z"
   },
   {
    "duration": 7415,
    "start_time": "2023-07-23T21:54:18.619Z"
   },
   {
    "duration": 5,
    "start_time": "2023-07-23T21:54:54.190Z"
   },
   {
    "duration": 6,
    "start_time": "2023-07-23T21:55:08.539Z"
   },
   {
    "duration": 7385,
    "start_time": "2023-07-23T21:55:23.230Z"
   },
   {
    "duration": 9,
    "start_time": "2023-07-23T21:55:39.194Z"
   },
   {
    "duration": 8133,
    "start_time": "2023-07-23T21:55:39.885Z"
   },
   {
    "duration": 6,
    "start_time": "2023-07-23T21:55:48.685Z"
   },
   {
    "duration": 8,
    "start_time": "2023-07-23T21:56:23.197Z"
   },
   {
    "duration": 4,
    "start_time": "2023-07-23T21:56:25.487Z"
   },
   {
    "duration": 3,
    "start_time": "2023-07-23T21:57:21.844Z"
   },
   {
    "duration": 3,
    "start_time": "2023-07-23T21:57:37.623Z"
   },
   {
    "duration": 4,
    "start_time": "2023-07-23T21:57:44.224Z"
   },
   {
    "duration": 5,
    "start_time": "2023-07-23T22:05:51.648Z"
   },
   {
    "duration": 9,
    "start_time": "2023-07-23T22:06:48.124Z"
   },
   {
    "duration": 7,
    "start_time": "2023-07-23T22:06:53.291Z"
   },
   {
    "duration": 7,
    "start_time": "2023-07-23T22:07:28.089Z"
   },
   {
    "duration": 14,
    "start_time": "2023-07-23T22:08:15.832Z"
   },
   {
    "duration": 8,
    "start_time": "2023-07-23T22:08:31.437Z"
   },
   {
    "duration": 17,
    "start_time": "2023-07-23T22:09:09.592Z"
   },
   {
    "duration": 5,
    "start_time": "2023-07-23T22:21:19.655Z"
   },
   {
    "duration": 10,
    "start_time": "2023-07-23T22:21:19.662Z"
   },
   {
    "duration": 7,
    "start_time": "2023-07-23T22:21:19.674Z"
   },
   {
    "duration": 877,
    "start_time": "2023-07-23T22:21:19.683Z"
   },
   {
    "duration": 75,
    "start_time": "2023-07-23T22:21:20.564Z"
   },
   {
    "duration": 47,
    "start_time": "2023-07-23T22:21:20.645Z"
   },
   {
    "duration": 54,
    "start_time": "2023-07-23T22:21:20.695Z"
   },
   {
    "duration": 18,
    "start_time": "2023-07-23T22:21:20.751Z"
   },
   {
    "duration": 10,
    "start_time": "2023-07-23T22:21:20.771Z"
   },
   {
    "duration": 111,
    "start_time": "2023-07-23T22:21:20.783Z"
   },
   {
    "duration": 12,
    "start_time": "2023-07-23T22:21:20.896Z"
   },
   {
    "duration": 61,
    "start_time": "2023-07-23T22:21:20.912Z"
   },
   {
    "duration": 77,
    "start_time": "2023-07-23T22:21:20.975Z"
   },
   {
    "duration": 3,
    "start_time": "2023-07-23T22:21:21.056Z"
   },
   {
    "duration": 707,
    "start_time": "2023-07-23T22:21:21.061Z"
   },
   {
    "duration": 648,
    "start_time": "2023-07-23T22:21:21.770Z"
   },
   {
    "duration": 667,
    "start_time": "2023-07-23T22:21:22.419Z"
   },
   {
    "duration": 675,
    "start_time": "2023-07-23T22:21:23.089Z"
   },
   {
    "duration": 8,
    "start_time": "2023-07-23T22:21:23.766Z"
   },
   {
    "duration": 900,
    "start_time": "2023-07-23T22:21:23.776Z"
   },
   {
    "duration": 4,
    "start_time": "2023-07-23T22:21:24.678Z"
   },
   {
    "duration": 57,
    "start_time": "2023-07-23T22:21:24.684Z"
   },
   {
    "duration": 8,
    "start_time": "2023-07-23T22:21:24.743Z"
   },
   {
    "duration": 17,
    "start_time": "2023-07-23T22:21:24.752Z"
   },
   {
    "duration": 18,
    "start_time": "2023-07-23T22:21:24.771Z"
   },
   {
    "duration": 48,
    "start_time": "2023-07-23T22:21:24.791Z"
   },
   {
    "duration": 7871,
    "start_time": "2023-07-23T22:21:24.842Z"
   },
   {
    "duration": 85069,
    "start_time": "2023-07-23T22:21:32.715Z"
   },
   {
    "duration": 13827,
    "start_time": "2023-07-23T22:22:57.787Z"
   },
   {
    "duration": 13,
    "start_time": "2023-07-23T22:23:11.615Z"
   },
   {
    "duration": 8235,
    "start_time": "2023-07-23T22:23:11.630Z"
   },
   {
    "duration": 5,
    "start_time": "2023-07-23T22:23:19.867Z"
   },
   {
    "duration": 8250,
    "start_time": "2023-07-23T22:23:19.874Z"
   },
   {
    "duration": 10,
    "start_time": "2023-07-23T22:23:28.130Z"
   },
   {
    "duration": 10,
    "start_time": "2023-07-23T22:23:28.147Z"
   },
   {
    "duration": 22,
    "start_time": "2023-07-23T22:23:28.159Z"
   },
   {
    "duration": 25,
    "start_time": "2023-07-23T22:23:28.183Z"
   },
   {
    "duration": 56,
    "start_time": "2023-07-23T22:23:28.211Z"
   },
   {
    "duration": 1623,
    "start_time": "2023-07-23T22:23:56.132Z"
   },
   {
    "duration": 3,
    "start_time": "2023-07-23T22:23:57.758Z"
   },
   {
    "duration": 4,
    "start_time": "2023-07-23T22:23:57.765Z"
   },
   {
    "duration": 880,
    "start_time": "2023-07-23T22:23:57.771Z"
   },
   {
    "duration": 50,
    "start_time": "2023-07-23T22:23:58.653Z"
   },
   {
    "duration": 43,
    "start_time": "2023-07-23T22:23:58.705Z"
   },
   {
    "duration": 63,
    "start_time": "2023-07-23T22:23:58.750Z"
   },
   {
    "duration": 19,
    "start_time": "2023-07-23T22:23:58.815Z"
   },
   {
    "duration": 28,
    "start_time": "2023-07-23T22:23:58.840Z"
   },
   {
    "duration": 65,
    "start_time": "2023-07-23T22:23:58.870Z"
   },
   {
    "duration": 14,
    "start_time": "2023-07-23T22:23:58.940Z"
   },
   {
    "duration": 38,
    "start_time": "2023-07-23T22:23:58.958Z"
   },
   {
    "duration": 90,
    "start_time": "2023-07-23T22:23:58.997Z"
   },
   {
    "duration": 4,
    "start_time": "2023-07-23T22:23:59.089Z"
   },
   {
    "duration": 691,
    "start_time": "2023-07-23T22:23:59.106Z"
   },
   {
    "duration": 837,
    "start_time": "2023-07-23T22:23:59.799Z"
   },
   {
    "duration": 780,
    "start_time": "2023-07-23T22:24:00.639Z"
   },
   {
    "duration": 637,
    "start_time": "2023-07-23T22:24:01.421Z"
   },
   {
    "duration": 8,
    "start_time": "2023-07-23T22:24:02.060Z"
   },
   {
    "duration": 1243,
    "start_time": "2023-07-23T22:24:02.069Z"
   },
   {
    "duration": 10,
    "start_time": "2023-07-23T22:24:03.321Z"
   },
   {
    "duration": 36,
    "start_time": "2023-07-23T22:24:03.333Z"
   },
   {
    "duration": 26,
    "start_time": "2023-07-23T22:24:03.371Z"
   },
   {
    "duration": 93,
    "start_time": "2023-07-23T22:24:03.400Z"
   },
   {
    "duration": 146,
    "start_time": "2023-07-23T22:24:03.495Z"
   },
   {
    "duration": 74,
    "start_time": "2023-07-23T22:24:03.644Z"
   },
   {
    "duration": 8713,
    "start_time": "2023-07-23T22:24:03.728Z"
   },
   {
    "duration": 83542,
    "start_time": "2023-07-23T22:24:12.444Z"
   },
   {
    "duration": 13586,
    "start_time": "2023-07-23T22:25:35.988Z"
   },
   {
    "duration": 8,
    "start_time": "2023-07-23T22:25:49.577Z"
   },
   {
    "duration": 8130,
    "start_time": "2023-07-23T22:25:49.587Z"
   },
   {
    "duration": 10,
    "start_time": "2023-07-23T22:25:57.719Z"
   },
   {
    "duration": 8258,
    "start_time": "2023-07-23T22:25:57.731Z"
   },
   {
    "duration": 22,
    "start_time": "2023-07-23T22:26:05.991Z"
   },
   {
    "duration": 37,
    "start_time": "2023-07-23T22:26:06.017Z"
   },
   {
    "duration": 16,
    "start_time": "2023-07-23T22:26:06.056Z"
   },
   {
    "duration": 26,
    "start_time": "2023-07-23T22:26:06.074Z"
   },
   {
    "duration": 39,
    "start_time": "2023-07-23T22:26:06.106Z"
   },
   {
    "duration": 1903,
    "start_time": "2023-07-24T19:18:48.184Z"
   },
   {
    "duration": 8,
    "start_time": "2023-07-24T19:18:50.092Z"
   },
   {
    "duration": 4,
    "start_time": "2023-07-24T19:18:50.888Z"
   },
   {
    "duration": 4310,
    "start_time": "2023-07-24T19:19:24.494Z"
   },
   {
    "duration": 53,
    "start_time": "2023-07-24T19:19:28.806Z"
   },
   {
    "duration": 42,
    "start_time": "2023-07-24T19:19:29.461Z"
   },
   {
    "duration": 47,
    "start_time": "2023-07-24T19:19:30.116Z"
   },
   {
    "duration": 10,
    "start_time": "2023-07-24T19:19:32.590Z"
   },
   {
    "duration": 6,
    "start_time": "2023-07-24T19:20:02.515Z"
   },
   {
    "duration": 23,
    "start_time": "2023-07-24T19:21:00.457Z"
   },
   {
    "duration": 72,
    "start_time": "2023-07-24T19:21:01.279Z"
   },
   {
    "duration": 8,
    "start_time": "2023-07-24T19:21:23.107Z"
   },
   {
    "duration": 42,
    "start_time": "2023-07-24T19:21:24.313Z"
   },
   {
    "duration": 99,
    "start_time": "2023-07-24T19:21:24.928Z"
   },
   {
    "duration": 11,
    "start_time": "2023-07-24T19:47:37.052Z"
   },
   {
    "duration": 1071,
    "start_time": "2023-07-24T19:47:37.399Z"
   },
   {
    "duration": 1080,
    "start_time": "2023-07-24T19:47:38.473Z"
   },
   {
    "duration": 926,
    "start_time": "2023-07-24T19:47:39.561Z"
   },
   {
    "duration": 725,
    "start_time": "2023-07-24T19:47:40.505Z"
   },
   {
    "duration": 21,
    "start_time": "2023-07-24T19:47:41.233Z"
   },
   {
    "duration": 1263,
    "start_time": "2023-07-24T19:47:41.262Z"
   },
   {
    "duration": 25,
    "start_time": "2023-07-24T19:48:15.555Z"
   },
   {
    "duration": 5,
    "start_time": "2023-07-24T19:48:43.597Z"
   },
   {
    "duration": 4335,
    "start_time": "2023-07-24T19:48:51.724Z"
   },
   {
    "duration": 22,
    "start_time": "2023-07-24T19:49:04.928Z"
   },
   {
    "duration": 17,
    "start_time": "2023-07-24T19:49:15.284Z"
   },
   {
    "duration": 19,
    "start_time": "2023-07-24T19:50:34.712Z"
   },
   {
    "duration": 31,
    "start_time": "2023-07-24T20:07:54.892Z"
   },
   {
    "duration": 6,
    "start_time": "2023-07-24T20:08:02.510Z"
   },
   {
    "duration": 13,
    "start_time": "2023-07-24T20:08:59.591Z"
   },
   {
    "duration": 60,
    "start_time": "2023-07-24T20:09:49.120Z"
   },
   {
    "duration": 37,
    "start_time": "2023-07-24T20:10:01.617Z"
   },
   {
    "duration": 21,
    "start_time": "2023-07-24T20:10:22.259Z"
   },
   {
    "duration": 3,
    "start_time": "2023-07-24T20:10:24.793Z"
   },
   {
    "duration": 57,
    "start_time": "2023-07-24T20:10:26.668Z"
   },
   {
    "duration": 27,
    "start_time": "2023-07-24T20:11:44.632Z"
   },
   {
    "duration": 14,
    "start_time": "2023-07-24T20:11:53.505Z"
   },
   {
    "duration": 14,
    "start_time": "2023-07-24T20:12:03.900Z"
   },
   {
    "duration": 18,
    "start_time": "2023-07-24T20:12:09.577Z"
   },
   {
    "duration": 1984,
    "start_time": "2023-07-25T17:06:06.291Z"
   },
   {
    "duration": 5,
    "start_time": "2023-07-25T17:06:08.278Z"
   },
   {
    "duration": 36,
    "start_time": "2023-07-25T17:06:08.285Z"
   },
   {
    "duration": 847,
    "start_time": "2023-07-25T17:06:08.323Z"
   },
   {
    "duration": 52,
    "start_time": "2023-07-25T17:06:09.172Z"
   },
   {
    "duration": 51,
    "start_time": "2023-07-25T17:06:09.226Z"
   },
   {
    "duration": 79,
    "start_time": "2023-07-25T17:06:09.279Z"
   },
   {
    "duration": 13,
    "start_time": "2023-07-25T17:06:09.360Z"
   },
   {
    "duration": 34,
    "start_time": "2023-07-25T17:06:09.375Z"
   },
   {
    "duration": 35,
    "start_time": "2023-07-25T17:06:09.412Z"
   },
   {
    "duration": 66,
    "start_time": "2023-07-25T17:06:09.449Z"
   },
   {
    "duration": 9,
    "start_time": "2023-07-25T17:06:10.051Z"
   },
   {
    "duration": 16,
    "start_time": "2023-07-25T17:06:10.346Z"
   },
   {
    "duration": 27,
    "start_time": "2023-07-25T17:06:10.696Z"
   },
   {
    "duration": 20,
    "start_time": "2023-07-25T17:06:10.962Z"
   },
   {
    "duration": 3,
    "start_time": "2023-07-25T17:06:11.431Z"
   },
   {
    "duration": 528,
    "start_time": "2023-07-25T17:06:11.890Z"
   },
   {
    "duration": 25,
    "start_time": "2023-07-25T17:06:13.013Z"
   },
   {
    "duration": 462,
    "start_time": "2023-07-25T17:06:13.702Z"
   },
   {
    "duration": 31,
    "start_time": "2023-07-25T17:06:14.166Z"
   },
   {
    "duration": 577,
    "start_time": "2023-07-25T17:06:14.497Z"
   },
   {
    "duration": 24,
    "start_time": "2023-07-25T17:06:15.076Z"
   },
   {
    "duration": 4,
    "start_time": "2023-07-25T17:06:15.821Z"
   },
   {
    "duration": 1039,
    "start_time": "2023-07-25T17:07:30.342Z"
   },
   {
    "duration": 301,
    "start_time": "2023-07-25T17:07:50.719Z"
   },
   {
    "duration": 1331,
    "start_time": "2023-07-25T17:08:01.695Z"
   },
   {
    "duration": 1478,
    "start_time": "2023-07-25T17:08:19.123Z"
   },
   {
    "duration": 583,
    "start_time": "2023-07-25T17:08:31.449Z"
   },
   {
    "duration": 303,
    "start_time": "2023-07-25T17:08:59.831Z"
   },
   {
    "duration": 412,
    "start_time": "2023-07-25T17:09:09.325Z"
   },
   {
    "duration": 1439,
    "start_time": "2023-07-25T17:09:37.306Z"
   },
   {
    "duration": 1610,
    "start_time": "2023-07-25T17:09:54.097Z"
   },
   {
    "duration": 1503,
    "start_time": "2023-07-25T17:10:00.036Z"
   },
   {
    "duration": 1927,
    "start_time": "2023-07-25T17:15:46.905Z"
   },
   {
    "duration": 3,
    "start_time": "2023-07-25T17:15:48.835Z"
   },
   {
    "duration": 34,
    "start_time": "2023-07-25T17:15:48.840Z"
   },
   {
    "duration": 949,
    "start_time": "2023-07-25T17:15:48.877Z"
   },
   {
    "duration": 35,
    "start_time": "2023-07-25T17:15:49.828Z"
   },
   {
    "duration": 44,
    "start_time": "2023-07-25T17:15:49.871Z"
   },
   {
    "duration": 56,
    "start_time": "2023-07-25T17:15:49.917Z"
   },
   {
    "duration": 13,
    "start_time": "2023-07-25T17:15:49.975Z"
   },
   {
    "duration": 22,
    "start_time": "2023-07-25T17:15:49.990Z"
   },
   {
    "duration": 15,
    "start_time": "2023-07-25T17:15:50.014Z"
   },
   {
    "duration": 43,
    "start_time": "2023-07-25T17:15:50.031Z"
   },
   {
    "duration": 48,
    "start_time": "2023-07-25T17:15:50.077Z"
   },
   {
    "duration": 19,
    "start_time": "2023-07-25T17:15:50.126Z"
   },
   {
    "duration": 32,
    "start_time": "2023-07-25T17:15:50.148Z"
   },
   {
    "duration": 17,
    "start_time": "2023-07-25T17:15:50.183Z"
   },
   {
    "duration": 6,
    "start_time": "2023-07-25T17:15:50.203Z"
   },
   {
    "duration": 524,
    "start_time": "2023-07-25T17:15:50.211Z"
   },
   {
    "duration": 25,
    "start_time": "2023-07-25T17:15:50.736Z"
   },
   {
    "duration": 516,
    "start_time": "2023-07-25T17:15:50.763Z"
   },
   {
    "duration": 24,
    "start_time": "2023-07-25T17:15:51.282Z"
   },
   {
    "duration": 549,
    "start_time": "2023-07-25T17:15:51.309Z"
   },
   {
    "duration": 42,
    "start_time": "2023-07-25T17:15:51.860Z"
   },
   {
    "duration": 4,
    "start_time": "2023-07-25T17:15:51.904Z"
   },
   {
    "duration": 1345,
    "start_time": "2023-07-25T17:15:51.909Z"
   },
   {
    "duration": 5,
    "start_time": "2023-07-25T17:15:53.256Z"
   },
   {
    "duration": 835,
    "start_time": "2023-07-25T17:15:53.271Z"
   },
   {
    "duration": 4,
    "start_time": "2023-07-25T17:15:54.108Z"
   },
   {
    "duration": 10,
    "start_time": "2023-07-25T17:15:54.113Z"
   },
   {
    "duration": 14,
    "start_time": "2023-07-25T17:15:54.125Z"
   },
   {
    "duration": 25,
    "start_time": "2023-07-25T17:15:54.141Z"
   },
   {
    "duration": 3834,
    "start_time": "2023-07-25T17:15:54.167Z"
   },
   {
    "duration": 49592,
    "start_time": "2023-07-25T17:15:58.003Z"
   },
   {
    "duration": 47662,
    "start_time": "2023-07-25T17:16:47.598Z"
   },
   {
    "duration": 2849522,
    "start_time": "2023-07-25T17:17:35.262Z"
   },
   {
    "duration": 2610995,
    "start_time": "2023-07-25T18:05:04.787Z"
   },
   {
    "duration": 6,
    "start_time": "2023-07-25T18:48:35.784Z"
   },
   {
    "duration": 11470,
    "start_time": "2023-07-25T18:48:35.792Z"
   },
   {
    "duration": 24,
    "start_time": "2023-07-25T18:48:47.263Z"
   },
   {
    "duration": 10473,
    "start_time": "2023-07-25T18:48:47.290Z"
   },
   {
    "duration": 8,
    "start_time": "2023-07-25T18:48:57.765Z"
   },
   {
    "duration": 21,
    "start_time": "2023-07-25T18:48:57.777Z"
   },
   {
    "duration": 22,
    "start_time": "2023-07-25T18:48:57.800Z"
   },
   {
    "duration": 12,
    "start_time": "2023-07-25T18:48:57.824Z"
   },
   {
    "duration": 14,
    "start_time": "2023-07-25T18:48:57.838Z"
   },
   {
    "duration": 51,
    "start_time": "2023-07-26T17:00:21.223Z"
   },
   {
    "duration": 1714,
    "start_time": "2023-07-26T17:00:29.198Z"
   },
   {
    "duration": 3,
    "start_time": "2023-07-26T17:00:30.914Z"
   },
   {
    "duration": 52,
    "start_time": "2023-07-26T17:00:30.918Z"
   },
   {
    "duration": 2364,
    "start_time": "2023-07-26T17:00:30.973Z"
   },
   {
    "duration": 44,
    "start_time": "2023-07-26T17:00:33.340Z"
   },
   {
    "duration": 76,
    "start_time": "2023-07-26T17:00:33.385Z"
   },
   {
    "duration": 36,
    "start_time": "2023-07-26T17:00:33.464Z"
   },
   {
    "duration": 13,
    "start_time": "2023-07-26T17:00:33.502Z"
   },
   {
    "duration": 9,
    "start_time": "2023-07-26T17:00:33.517Z"
   },
   {
    "duration": 21,
    "start_time": "2023-07-26T17:00:33.529Z"
   },
   {
    "duration": 29,
    "start_time": "2023-07-26T17:00:33.552Z"
   },
   {
    "duration": 10,
    "start_time": "2023-07-26T17:00:33.583Z"
   },
   {
    "duration": 19,
    "start_time": "2023-07-26T17:00:33.609Z"
   },
   {
    "duration": 33,
    "start_time": "2023-07-26T17:00:33.630Z"
   },
   {
    "duration": 16,
    "start_time": "2023-07-26T17:00:33.665Z"
   },
   {
    "duration": 37,
    "start_time": "2023-07-26T17:00:33.683Z"
   },
   {
    "duration": 662,
    "start_time": "2023-07-26T17:00:33.722Z"
   },
   {
    "duration": 39,
    "start_time": "2023-07-26T17:00:34.387Z"
   },
   {
    "duration": 560,
    "start_time": "2023-07-26T17:00:34.428Z"
   },
   {
    "duration": 30,
    "start_time": "2023-07-26T17:00:34.990Z"
   },
   {
    "duration": 539,
    "start_time": "2023-07-26T17:00:35.022Z"
   },
   {
    "duration": 20,
    "start_time": "2023-07-26T17:00:35.563Z"
   },
   {
    "duration": 4,
    "start_time": "2023-07-26T17:00:35.585Z"
   },
   {
    "duration": 1355,
    "start_time": "2023-07-26T17:00:35.591Z"
   },
   {
    "duration": 151,
    "start_time": "2023-07-26T17:00:55.588Z"
   },
   {
    "duration": 166,
    "start_time": "2023-07-26T17:01:34.140Z"
   },
   {
    "duration": 268,
    "start_time": "2023-07-26T17:01:41.830Z"
   },
   {
    "duration": 648,
    "start_time": "2023-07-26T17:02:46.478Z"
   },
   {
    "duration": 5,
    "start_time": "2023-07-26T17:09:21.741Z"
   },
   {
    "duration": 9,
    "start_time": "2023-07-26T17:09:21.749Z"
   },
   {
    "duration": 7,
    "start_time": "2023-07-26T17:09:21.761Z"
   },
   {
    "duration": 808,
    "start_time": "2023-07-26T17:09:21.771Z"
   },
   {
    "duration": 44,
    "start_time": "2023-07-26T17:09:22.581Z"
   },
   {
    "duration": 32,
    "start_time": "2023-07-26T17:09:22.627Z"
   },
   {
    "duration": 78,
    "start_time": "2023-07-26T17:09:22.662Z"
   },
   {
    "duration": 11,
    "start_time": "2023-07-26T17:09:22.744Z"
   },
   {
    "duration": 4,
    "start_time": "2023-07-26T17:09:22.757Z"
   },
   {
    "duration": 14,
    "start_time": "2023-07-26T17:09:22.763Z"
   },
   {
    "duration": 52,
    "start_time": "2023-07-26T17:09:22.779Z"
   },
   {
    "duration": 10,
    "start_time": "2023-07-26T17:09:22.833Z"
   },
   {
    "duration": 21,
    "start_time": "2023-07-26T17:09:22.845Z"
   },
   {
    "duration": 51,
    "start_time": "2023-07-26T17:09:22.868Z"
   },
   {
    "duration": 13,
    "start_time": "2023-07-26T17:09:22.921Z"
   },
   {
    "duration": 22,
    "start_time": "2023-07-26T17:09:22.936Z"
   },
   {
    "duration": 674,
    "start_time": "2023-07-26T17:09:22.960Z"
   },
   {
    "duration": 25,
    "start_time": "2023-07-26T17:09:23.635Z"
   },
   {
    "duration": 471,
    "start_time": "2023-07-26T17:09:23.664Z"
   },
   {
    "duration": 21,
    "start_time": "2023-07-26T17:09:24.137Z"
   },
   {
    "duration": 654,
    "start_time": "2023-07-26T17:09:24.160Z"
   },
   {
    "duration": 21,
    "start_time": "2023-07-26T17:09:24.816Z"
   },
   {
    "duration": 564,
    "start_time": "2023-07-26T17:09:24.839Z"
   },
   {
    "duration": 8,
    "start_time": "2023-07-26T17:09:25.405Z"
   },
   {
    "duration": 959,
    "start_time": "2023-07-26T17:09:25.415Z"
   },
   {
    "duration": 4,
    "start_time": "2023-07-26T17:09:26.375Z"
   },
   {
    "duration": 14,
    "start_time": "2023-07-26T17:09:26.381Z"
   },
   {
    "duration": 28,
    "start_time": "2023-07-26T17:09:26.397Z"
   },
   {
    "duration": 45,
    "start_time": "2023-07-26T17:09:26.427Z"
   },
   {
    "duration": 3539,
    "start_time": "2023-07-26T17:09:26.474Z"
   },
   {
    "duration": 43301,
    "start_time": "2023-07-26T17:09:30.015Z"
   },
   {
    "duration": 41597,
    "start_time": "2023-07-26T17:10:13.319Z"
   },
   {
    "duration": 109,
    "start_time": "2023-07-26T17:10:54.919Z"
   },
   {
    "duration": 168734,
    "start_time": "2023-07-26T17:16:44.032Z"
   },
   {
    "duration": 0,
    "start_time": "2023-07-26T17:22:03.485Z"
   },
   {
    "duration": 40016,
    "start_time": "2023-07-26T17:27:31.825Z"
   },
   {
    "duration": 165464,
    "start_time": "2023-07-26T17:28:11.843Z"
   },
   {
    "duration": 162748,
    "start_time": "2023-07-26T17:30:57.309Z"
   },
   {
    "duration": 6,
    "start_time": "2023-07-26T17:33:40.059Z"
   },
   {
    "duration": 10793,
    "start_time": "2023-07-26T17:33:40.067Z"
   },
   {
    "duration": 6,
    "start_time": "2023-07-26T17:33:50.862Z"
   },
   {
    "duration": 10063,
    "start_time": "2023-07-26T17:33:50.870Z"
   },
   {
    "duration": 8,
    "start_time": "2023-07-26T17:34:00.937Z"
   },
   {
    "duration": 50,
    "start_time": "2023-07-26T17:34:00.947Z"
   },
   {
    "duration": 54,
    "start_time": "2023-07-26T17:34:00.999Z"
   },
   {
    "duration": 68,
    "start_time": "2023-07-26T17:34:01.055Z"
   },
   {
    "duration": 70,
    "start_time": "2023-07-26T17:34:01.125Z"
   },
   {
    "duration": 18815,
    "start_time": "2023-07-26T17:35:32.837Z"
   },
   {
    "duration": 6,
    "start_time": "2023-07-26T17:36:03.080Z"
   },
   {
    "duration": 18321,
    "start_time": "2023-07-26T17:36:06.066Z"
   },
   {
    "duration": 10,
    "start_time": "2023-07-26T17:37:17.322Z"
   },
   {
    "duration": 5,
    "start_time": "2023-07-26T17:37:19.767Z"
   },
   {
    "duration": 4,
    "start_time": "2023-07-26T17:37:22.561Z"
   },
   {
    "duration": 4,
    "start_time": "2023-07-26T17:37:22.946Z"
   },
   {
    "duration": 8,
    "start_time": "2023-07-26T17:37:23.382Z"
   },
   {
    "duration": 1479,
    "start_time": "2023-07-26T17:40:29.772Z"
   },
   {
    "duration": 3,
    "start_time": "2023-07-26T17:40:31.254Z"
   },
   {
    "duration": 51,
    "start_time": "2023-07-26T17:40:31.259Z"
   },
   {
    "duration": 943,
    "start_time": "2023-07-26T17:40:31.315Z"
   },
   {
    "duration": 51,
    "start_time": "2023-07-26T17:40:32.260Z"
   },
   {
    "duration": 44,
    "start_time": "2023-07-26T17:40:32.314Z"
   },
   {
    "duration": 88,
    "start_time": "2023-07-26T17:40:32.360Z"
   },
   {
    "duration": 13,
    "start_time": "2023-07-26T17:40:32.450Z"
   },
   {
    "duration": 19,
    "start_time": "2023-07-26T17:40:32.465Z"
   },
   {
    "duration": 24,
    "start_time": "2023-07-26T17:40:32.488Z"
   },
   {
    "duration": 43,
    "start_time": "2023-07-26T17:40:32.514Z"
   },
   {
    "duration": 11,
    "start_time": "2023-07-26T17:40:32.559Z"
   },
   {
    "duration": 40,
    "start_time": "2023-07-26T17:40:32.572Z"
   },
   {
    "duration": 35,
    "start_time": "2023-07-26T17:40:32.614Z"
   },
   {
    "duration": 22,
    "start_time": "2023-07-26T17:40:32.652Z"
   },
   {
    "duration": 23,
    "start_time": "2023-07-26T17:40:32.676Z"
   },
   {
    "duration": 698,
    "start_time": "2023-07-26T17:40:32.701Z"
   },
   {
    "duration": 36,
    "start_time": "2023-07-26T17:40:33.401Z"
   },
   {
    "duration": 613,
    "start_time": "2023-07-26T17:40:33.439Z"
   },
   {
    "duration": 21,
    "start_time": "2023-07-26T17:40:34.055Z"
   },
   {
    "duration": 525,
    "start_time": "2023-07-26T17:40:34.079Z"
   },
   {
    "duration": 29,
    "start_time": "2023-07-26T17:40:34.609Z"
   },
   {
    "duration": 615,
    "start_time": "2023-07-26T17:40:34.643Z"
   },
   {
    "duration": 6,
    "start_time": "2023-07-26T17:40:35.260Z"
   },
   {
    "duration": 1070,
    "start_time": "2023-07-26T17:40:35.267Z"
   },
   {
    "duration": 4,
    "start_time": "2023-07-26T17:40:36.339Z"
   },
   {
    "duration": 15,
    "start_time": "2023-07-26T17:40:36.346Z"
   },
   {
    "duration": 13,
    "start_time": "2023-07-26T17:40:36.365Z"
   },
   {
    "duration": 40,
    "start_time": "2023-07-26T17:40:36.380Z"
   },
   {
    "duration": 4693,
    "start_time": "2023-07-26T17:40:36.422Z"
   },
   {
    "duration": 44931,
    "start_time": "2023-07-26T17:40:41.118Z"
   },
   {
    "duration": 42985,
    "start_time": "2023-07-26T17:41:26.051Z"
   },
   {
    "duration": 175950,
    "start_time": "2023-07-26T17:42:09.038Z"
   },
   {
    "duration": 170786,
    "start_time": "2023-07-26T17:45:04.990Z"
   },
   {
    "duration": 8,
    "start_time": "2023-07-26T17:47:55.779Z"
   },
   {
    "duration": 19880,
    "start_time": "2023-07-26T17:47:55.788Z"
   },
   {
    "duration": 6,
    "start_time": "2023-07-26T17:48:15.670Z"
   },
   {
    "duration": 19361,
    "start_time": "2023-07-26T17:48:15.678Z"
   },
   {
    "duration": 7,
    "start_time": "2023-07-26T17:48:35.041Z"
   },
   {
    "duration": 23,
    "start_time": "2023-07-26T17:48:35.050Z"
   },
   {
    "duration": 31,
    "start_time": "2023-07-26T17:48:35.074Z"
   },
   {
    "duration": 20,
    "start_time": "2023-07-26T17:48:35.107Z"
   },
   {
    "duration": 22,
    "start_time": "2023-07-26T17:48:35.131Z"
   }
  ],
  "kernelspec": {
   "display_name": "Python 3 (ipykernel)",
   "language": "python",
   "name": "python3"
  },
  "language_info": {
   "codemirror_mode": {
    "name": "ipython",
    "version": 3
   },
   "file_extension": ".py",
   "mimetype": "text/x-python",
   "name": "python",
   "nbconvert_exporter": "python",
   "pygments_lexer": "ipython3",
   "version": "3.9.16"
  },
  "toc": {
   "base_numbering": 1,
   "nav_menu": {},
   "number_sections": true,
   "sideBar": true,
   "skip_h1_title": true,
   "title_cell": "Содержание",
   "title_sidebar": "Contents",
   "toc_cell": true,
   "toc_position": {
    "height": "calc(100% - 180px)",
    "left": "10px",
    "top": "150px",
    "width": "165px"
   },
   "toc_section_display": true,
   "toc_window_display": true
  }
 },
 "nbformat": 4,
 "nbformat_minor": 2
}
